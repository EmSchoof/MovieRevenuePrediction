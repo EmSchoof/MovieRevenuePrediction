{
 "cells": [
  {
   "cell_type": "markdown",
   "metadata": {},
   "source": [
    "## Preparation for Feature Engineer of Movie Data\n",
    "\n",
    "#### Create Sub_dfs for Categorical Columns with Nested Data:\n",
    "   - **genres**\n",
    "   - **keywords**\n",
    "   - **production_companies**\n",
    "   - **production_countries**\n",
    "   - **spoken_languages**\n",
    "- Organize Nested List of Dictionaries by Movie Title\n",
    "- Create feature variables [via pd.dummies] based on Column trends of each Movie Title\n",
    "- Merge column dataframes to movie_df data"
   ]
  },
  {
   "cell_type": "code",
   "execution_count": 1,
   "metadata": {},
   "outputs": [
    {
     "name": "stdout",
     "output_type": "stream",
     "text": [
      "Emily Schoof 2019-08-18 18:23:10 \n",
      "\n",
      "CPython 3.7.3\n",
      "IPython 7.4.0\n",
      "\n",
      "numpy 1.16.2\n",
      "pandas 0.24.2\n",
      "matplotlib 3.0.3\n",
      "seaborn 0.9.0\n"
     ]
    }
   ],
   "source": [
    "%load_ext watermark\n",
    "%watermark -a \"Emily Schoof\" -d -t -v -p numpy,pandas,matplotlib,seaborn"
   ]
  },
  {
   "cell_type": "code",
   "execution_count": 2,
   "metadata": {},
   "outputs": [
    {
     "data": {
      "text/plain": [
       "(4523, 12)"
      ]
     },
     "execution_count": 2,
     "metadata": {},
     "output_type": "execute_result"
    }
   ],
   "source": [
    "# Load the dataset\n",
    "%store -r movie_df\n",
    "movie_df.shape"
   ]
  },
  {
   "cell_type": "code",
   "execution_count": 3,
   "metadata": {},
   "outputs": [
    {
     "data": {
      "text/plain": [
       "(1612, 12)"
      ]
     },
     "execution_count": 3,
     "metadata": {},
     "output_type": "execute_result"
    }
   ],
   "source": [
    "# Define top-earning features within last 10 years (release_datae_dt.year > 2009)\n",
    "movie_recent = movie_df.loc[movie_df.release_date_dt >= '2009-01-01 00:00:00']\n",
    "movie_recent.shape"
   ]
  },
  {
   "cell_type": "markdown",
   "metadata": {},
   "source": [
    "### Create Sub-Dfs for Categorical Columns with Nested Data for NLP Analysis and Data Visualization"
   ]
  },
  {
   "cell_type": "code",
   "execution_count": 4,
   "metadata": {},
   "outputs": [],
   "source": [
    "# Import necessary modules\n",
    "import ast\n",
    "import pandas as pd\n",
    "import numpy as np"
   ]
  },
  {
   "cell_type": "markdown",
   "metadata": {},
   "source": [
    "Create function to convert strings to list of dictionaries "
   ]
  },
  {
   "cell_type": "code",
   "execution_count": 5,
   "metadata": {},
   "outputs": [],
   "source": [
    "def listdictstr_to_listdictkey(data):\n",
    "    \"\"\"Convert Column of Dictionary Strings to Column of Lists of Dictionaries and Return Unique Keys\"\"\"\n",
    "    \n",
    "    dict_list = []\n",
    "    unique_keys = []\n",
    "    \n",
    "    # Convert dictionary string to list of lists of dictionaries\n",
    "    for instance in data:     \n",
    "        dl = ast.literal_eval(instance)\n",
    "        dict_list.append(dl)\n",
    "    \n",
    "    # Select unique keys\n",
    "    for lists in dict_list:\n",
    "        for d in lists:\n",
    "            for key in d:\n",
    "                unique_keys.append(key)\n",
    "    unique_keys = set(unique_keys)\n",
    "    \n",
    "    return dict_list, list(unique_keys)"
   ]
  },
  {
   "cell_type": "markdown",
   "metadata": {},
   "source": [
    "Create a function that produces a dataframe from the column list of dictionaries"
   ]
  },
  {
   "cell_type": "code",
   "execution_count": 6,
   "metadata": {},
   "outputs": [],
   "source": [
    "def dictlist_to_dataframe(dict_list, unique_keys):\n",
    "    \"\"\"Convert Column of Lists of Dictionaries to one Merged Dataframe\"\"\"\n",
    "    \n",
    "    columns = list(unique_keys)\n",
    "    new_df = pd.DataFrame(columns=columns)\n",
    "\n",
    "    for i in range(len(dict_list)):\n",
    "    \n",
    "        # Select movie title by matching index in list\n",
    "        dlist = dict_list[i]\n",
    "        revenue = movie_df.iloc[i, 1]\n",
    "    \n",
    "        # Create dataframe with columns for nested data\n",
    "        df = pd.DataFrame(dlist, columns=columns) \n",
    "        df['revenue'] = revenue\n",
    "    \n",
    "        # Combine column instances into one dataframe\n",
    "        new_df = new_df.append(df, sort=False, ignore_index=True)\n",
    "    \n",
    "    return new_df"
   ]
  },
  {
   "cell_type": "markdown",
   "metadata": {},
   "source": [
    "Create a function that creates a list of values by revenue"
   ]
  },
  {
   "cell_type": "code",
   "execution_count": 38,
   "metadata": {},
   "outputs": [],
   "source": [
    "def list_by_index(cat_list, keys):\n",
    "    \n",
    "    list_index = []\n",
    "    \n",
    "    for entry in cat_list:\n",
    "        if 'iso_' not in ' '.join(keys):\n",
    "            g = [f['name'] for f in entry]\n",
    "            list_index.append(g)\n",
    "        else:\n",
    "            col_name = [item for item in keys if item.startswith('iso_')]\n",
    "            col = ' '.join(col_name)\n",
    "            g = [f[col] for f in entry]\n",
    "            list_index.append(g)\n",
    "        \n",
    "    return list_index"
   ]
  },
  {
   "cell_type": "markdown",
   "metadata": {},
   "source": [
    "Create a function that selects the top 20% of unique column values correlated with high revenue"
   ]
  },
  {
   "cell_type": "code",
   "execution_count": 8,
   "metadata": {},
   "outputs": [],
   "source": [
    "def top_earning_features(df):\n",
    "    \"\"\"Select Features that Earn Top 25% of Movie Revenue in Dataset\"\"\"\n",
    "    \n",
    "    # Group dataframe by name, then sort values by revenue\n",
    "    new_df = df.groupby(['name'], as_index=False).sum().sort_values(by=['revenue'], ascending=False)\n",
    "    \n",
    "    # Select Top 25 \n",
    "    top25 = new_df.head(25)\n",
    "    \n",
    "    return top25"
   ]
  },
  {
   "cell_type": "markdown",
   "metadata": {},
   "source": [
    "## Apply Functions to Nested Columns"
   ]
  },
  {
   "cell_type": "markdown",
   "metadata": {},
   "source": [
    "### Genres"
   ]
  },
  {
   "cell_type": "markdown",
   "metadata": {},
   "source": [
    "Overall"
   ]
  },
  {
   "cell_type": "code",
   "execution_count": 11,
   "metadata": {},
   "outputs": [
    {
     "name": "stdout",
     "output_type": "stream",
     "text": [
      "4523\n"
     ]
    }
   ],
   "source": [
    "# Genres to list/keys\n",
    "genres_list, genres_keys = listdictstr_to_listdictkey(movie_df.genres)\n",
    "print(len(genres_list))\n",
    "\n",
    "# Genre list by index\n",
    "genres_series = list_by_index(genres_list, genres_keys)\n",
    "\n",
    "# Genres Dataframe\n",
    "genres_df = dictlist_to_dataframe(genres_list, genres_keys)"
   ]
  },
  {
   "cell_type": "code",
   "execution_count": 12,
   "metadata": {},
   "outputs": [],
   "source": [
    "# Drop id column\n",
    "genres_df = genres_df.drop(columns='id')\n",
    "\n",
    "# Grab top 25 of unique entries for plotting\n",
    "top_25_genres = top_earning_features(genres_df)"
   ]
  },
  {
   "cell_type": "markdown",
   "metadata": {},
   "source": [
    "Since 2009"
   ]
  },
  {
   "cell_type": "code",
   "execution_count": 13,
   "metadata": {},
   "outputs": [
    {
     "name": "stdout",
     "output_type": "stream",
     "text": [
      "1612\n"
     ]
    }
   ],
   "source": [
    "recent_genres_list, recent_genres_keys = listdictstr_to_listdictkey(movie_recent.genres)\n",
    "print(len(recent_genres_list))\n",
    "\n",
    "# Dataframe\n",
    "recent_genres_df = dictlist_to_dataframe(recent_genres_list, recent_genres_keys)"
   ]
  },
  {
   "cell_type": "code",
   "execution_count": 14,
   "metadata": {},
   "outputs": [],
   "source": [
    "# Drop id column\n",
    "recent_genres_df = recent_genres_df.drop(columns='id')\n",
    "\n",
    "# Grab top 25 of unique entries for plotting\n",
    "recent_top_25_genres = top_earning_features(recent_genres_df)"
   ]
  },
  {
   "cell_type": "markdown",
   "metadata": {},
   "source": [
    "### Keywords"
   ]
  },
  {
   "cell_type": "markdown",
   "metadata": {},
   "source": [
    "Overall"
   ]
  },
  {
   "cell_type": "code",
   "execution_count": 15,
   "metadata": {},
   "outputs": [
    {
     "name": "stdout",
     "output_type": "stream",
     "text": [
      "4523\n"
     ]
    }
   ],
   "source": [
    "# Keywords to list/kets\n",
    "keywords_list, keywords_keys = listdictstr_to_listdictkey(movie_df.keywords)\n",
    "print(len(keywords_list))\n",
    "\n",
    "# Keywords list by index\n",
    "keywords_series = list_by_index(keywords_list, keywords_keys)\n",
    "\n",
    "# Keywords Dataframe\n",
    "keywords_df = dictlist_to_dataframe(keywords_list, keywords_keys)"
   ]
  },
  {
   "cell_type": "code",
   "execution_count": 16,
   "metadata": {},
   "outputs": [],
   "source": [
    "# Drop id column\n",
    "keywords_df = keywords_df.drop(columns='id')\n",
    "\n",
    "# Grab top 25 of unique entries for plotting\n",
    "top_25_keys = top_earning_features(keywords_df)"
   ]
  },
  {
   "cell_type": "markdown",
   "metadata": {},
   "source": [
    "Since 2009"
   ]
  },
  {
   "cell_type": "code",
   "execution_count": 17,
   "metadata": {},
   "outputs": [
    {
     "name": "stdout",
     "output_type": "stream",
     "text": [
      "1612\n"
     ]
    }
   ],
   "source": [
    "# Keywords to list/kets\n",
    "recent_keywords_list, recent_keywords_keys = listdictstr_to_listdictkey(movie_recent.keywords)\n",
    "print(len(recent_keywords_list))\n",
    "\n",
    "# Keywords Dataframe\n",
    "recent_keywords_df = dictlist_to_dataframe(recent_keywords_list, recent_keywords_keys)"
   ]
  },
  {
   "cell_type": "code",
   "execution_count": 18,
   "metadata": {},
   "outputs": [],
   "source": [
    "# Drop id column\n",
    "recent_keywords_df = recent_keywords_df.drop(columns='id')\n",
    "\n",
    "# Grab top 25 of unique entries for plotting\n",
    "recent_top_25_keys = top_earning_features(recent_keywords_df)"
   ]
  },
  {
   "cell_type": "markdown",
   "metadata": {},
   "source": [
    "### Production Companies"
   ]
  },
  {
   "cell_type": "markdown",
   "metadata": {},
   "source": [
    "Overall"
   ]
  },
  {
   "cell_type": "code",
   "execution_count": 19,
   "metadata": {},
   "outputs": [
    {
     "name": "stdout",
     "output_type": "stream",
     "text": [
      "4523\n"
     ]
    }
   ],
   "source": [
    "# Production Companies to list/keys\n",
    "prod_comp_list, prod_comp_keys = listdictstr_to_listdictkey(movie_df.production_companies)\n",
    "print(len(prod_comp_list))\n",
    "\n",
    "# Production Companies by index\n",
    "prod_companies_series = list_by_index(prod_comp_list, prod_comp_keys)\n",
    "\n",
    "# Production Companies Dataframe\n",
    "prod_companies_df = dictlist_to_dataframe(prod_comp_list, prod_comp_keys)"
   ]
  },
  {
   "cell_type": "code",
   "execution_count": 20,
   "metadata": {},
   "outputs": [],
   "source": [
    "# Drop id column\n",
    "prod_companies_df = prod_companies_df.drop(columns='id')\n",
    "\n",
    "# Grab top 25 of unique entries for plotting\n",
    "top_25_prod_companies = top_earning_features(prod_companies_df)"
   ]
  },
  {
   "cell_type": "markdown",
   "metadata": {},
   "source": [
    "Since 2009"
   ]
  },
  {
   "cell_type": "code",
   "execution_count": 21,
   "metadata": {},
   "outputs": [
    {
     "name": "stdout",
     "output_type": "stream",
     "text": [
      "1612\n"
     ]
    }
   ],
   "source": [
    "recent_prod_comp_list, recent_prod_comp_keys = listdictstr_to_listdictkey(movie_recent.production_companies)\n",
    "print(len(recent_prod_comp_list))\n",
    "\n",
    "# Production Companies Dataframe\n",
    "recent_prod_companies_df = dictlist_to_dataframe(recent_prod_comp_list, recent_prod_comp_keys)"
   ]
  },
  {
   "cell_type": "code",
   "execution_count": 22,
   "metadata": {},
   "outputs": [],
   "source": [
    "# Drop id column\n",
    "recent_prod_companies_df = recent_prod_companies_df.drop(columns='id')\n",
    "\n",
    "# Grab top 25 of unique entries for plotting\n",
    "recent_top_25_prod_companies = top_earning_features(recent_prod_companies_df)"
   ]
  },
  {
   "cell_type": "markdown",
   "metadata": {},
   "source": [
    "### Production Countries"
   ]
  },
  {
   "cell_type": "markdown",
   "metadata": {},
   "source": [
    "Overall"
   ]
  },
  {
   "cell_type": "code",
   "execution_count": 33,
   "metadata": {},
   "outputs": [
    {
     "name": "stdout",
     "output_type": "stream",
     "text": [
      "4523\n"
     ]
    }
   ],
   "source": [
    "# Production Countries to list/keys\n",
    "prod_count_list, prod_count_keys = listdictstr_to_listdictkey(movie_df.production_countries)\n",
    "print(len(prod_count_list))\n",
    "\n",
    "# Production countries by revenue\n",
    "prod_countries_series = list_by_index(prod_count_list, prod_count_keys)\n",
    "\n",
    "# Production Countries Dataframe\n",
    "prod_countries_df = dictlist_to_dataframe(prod_count_list, prod_count_keys)"
   ]
  },
  {
   "cell_type": "code",
   "execution_count": 34,
   "metadata": {},
   "outputs": [],
   "source": [
    "# Drop name column\n",
    "prod_countries_df= prod_countries_df.drop(columns='name')\n",
    "\n",
    "# Rename iso column\n",
    "prod_countries_df.columns = ['name', 'revenue']\n",
    "\n",
    "# Grab top 25 of unique entries for plotting\n",
    "top_25_prod_countries = top_earning_features(prod_countries_df)"
   ]
  },
  {
   "cell_type": "markdown",
   "metadata": {},
   "source": [
    "Since 2009"
   ]
  },
  {
   "cell_type": "code",
   "execution_count": 35,
   "metadata": {},
   "outputs": [
    {
     "name": "stdout",
     "output_type": "stream",
     "text": [
      "1612\n"
     ]
    }
   ],
   "source": [
    "# Production Countries to list/keys\n",
    "recent_prod_count_list, recent_prod_count_keys = listdictstr_to_listdictkey(movie_recent.production_countries)\n",
    "print(len(recent_prod_count_list))\n",
    "\n",
    "# Production Countries Dataframe\n",
    "recent_prod_countries_df = dictlist_to_dataframe(recent_prod_count_list, recent_prod_count_keys)"
   ]
  },
  {
   "cell_type": "code",
   "execution_count": 36,
   "metadata": {},
   "outputs": [],
   "source": [
    "# Drop name column\n",
    "recent_prod_countries_df = recent_prod_countries_df.drop(columns='name')\n",
    "\n",
    "# Rename iso column\n",
    "recent_prod_countries_df.columns = ['name', 'revenue']\n",
    "\n",
    "# Grab top 25 of unique entries for plotting\n",
    "recent_top_25_prod_countries = top_earning_features(recent_prod_countries_df)"
   ]
  },
  {
   "cell_type": "markdown",
   "metadata": {},
   "source": [
    "### Spoken Languages"
   ]
  },
  {
   "cell_type": "markdown",
   "metadata": {},
   "source": [
    "Overall"
   ]
  },
  {
   "cell_type": "code",
   "execution_count": 39,
   "metadata": {},
   "outputs": [
    {
     "name": "stdout",
     "output_type": "stream",
     "text": [
      "4523\n"
     ]
    }
   ],
   "source": [
    "# Spoken Languages to list/keys\n",
    "spoken_lang_list, spoken_lang_keys = listdictstr_to_listdictkey(movie_df.spoken_languages)\n",
    "print(len(spoken_lang_list))\n",
    "\n",
    "# Spoken Language by index\n",
    "spoken_lang_series = list_by_index(spoken_lang_list, spoken_lang_keys)\n",
    "\n",
    "# Spoken Languages Dataframe\n",
    "spoken_lang_df = dictlist_to_dataframe(spoken_lang_list, spoken_lang_keys)"
   ]
  },
  {
   "cell_type": "code",
   "execution_count": 40,
   "metadata": {},
   "outputs": [],
   "source": [
    "# Drop name column\n",
    "spoken_lang_df = spoken_lang_df.drop(columns='name')\n",
    "\n",
    "# Rename iso column\n",
    "spoken_lang_df.columns = ['name', 'revenue']\n",
    "\n",
    "# Grab top 25 of unique entries for plotting\n",
    "top_25_unique_language = top_earning_features(spoken_lang_df)"
   ]
  },
  {
   "cell_type": "markdown",
   "metadata": {},
   "source": [
    "Since 2009"
   ]
  },
  {
   "cell_type": "code",
   "execution_count": 41,
   "metadata": {},
   "outputs": [
    {
     "name": "stdout",
     "output_type": "stream",
     "text": [
      "1612\n"
     ]
    }
   ],
   "source": [
    "# Spoken Languages to list/keys\n",
    "recent_spoken_lang_list, recent_spoken_lang_keys = listdictstr_to_listdictkey(movie_recent.spoken_languages)\n",
    "print(len(recent_spoken_lang_list))\n",
    "\n",
    "# Spoken Languages Dataframe\n",
    "recent_spoken_lang_df = dictlist_to_dataframe(recent_spoken_lang_list, recent_spoken_lang_keys)"
   ]
  },
  {
   "cell_type": "code",
   "execution_count": 42,
   "metadata": {},
   "outputs": [],
   "source": [
    "# Drop name column\n",
    "recent_spoken_lang_df = recent_spoken_lang_df.drop(columns='name')\n",
    "\n",
    "# Rename iso column\n",
    "recent_spoken_lang_df.columns = ['name', 'revenue']\n",
    "\n",
    "# Grab top 25 of unique entries for plotting\n",
    "recent_top_25_unique_language = top_earning_features(recent_spoken_lang_df)"
   ]
  },
  {
   "cell_type": "markdown",
   "metadata": {},
   "source": [
    "### Store series list globally for feature engineering"
   ]
  },
  {
   "cell_type": "code",
   "execution_count": 43,
   "metadata": {},
   "outputs": [
    {
     "name": "stdout",
     "output_type": "stream",
     "text": [
      "Stored 'preprocessing_series' (list)\n"
     ]
    }
   ],
   "source": [
    "preprocessing_series = [genres_series, keywords_series, prod_companies_series, prod_countries_series, spoken_lang_series]\n",
    "%store preprocessing_series"
   ]
  },
  {
   "cell_type": "markdown",
   "metadata": {},
   "source": [
    "### Vizualize the Top 25 Features Associated with High Revenue from Nested Categorical Column Features"
   ]
  },
  {
   "cell_type": "code",
   "execution_count": 44,
   "metadata": {},
   "outputs": [],
   "source": [
    "# Import necessary modules\n",
    "import matplotlib.pyplot as plt\n",
    "import seaborn as sns"
   ]
  },
  {
   "cell_type": "code",
   "execution_count": 45,
   "metadata": {},
   "outputs": [],
   "source": [
    "# Create combined lists for visualization of column features\n",
    "columns = ['Genres', 'Keywords', 'Production Companies', 'Production Countries', 'Spoken Languages']\n",
    "value_prefixes = ['genre_', 'key_', 'company_', 'country_', 'lang_']"
   ]
  },
  {
   "cell_type": "code",
   "execution_count": 46,
   "metadata": {},
   "outputs": [],
   "source": [
    "top_25 = [top_25_genres, top_25_keys, \n",
    "          top_25_prod_countries, top_25_prod_companies, \n",
    "          top_25_unique_language]\n",
    "\n",
    "recent_top_25 = [recent_top_25_genres, recent_top_25_keys, \n",
    "                 recent_top_25_prod_countries, recent_top_25_prod_companies,\n",
    "                 recent_top_25_unique_language]"
   ]
  },
  {
   "cell_type": "code",
   "execution_count": 47,
   "metadata": {},
   "outputs": [],
   "source": [
    "def plot_top_25_feature_revene(i):\n",
    "    \n",
    "    # Define Title\n",
    "    title_top10 = 'Overall'\n",
    "    title_rtop10 = 'Since 2009'\n",
    "    \n",
    "    # Select Top 10 and define lables\n",
    "    top10 = top_25[i].iloc[0:10]\n",
    "    rtop10 = recent_top_25[i].iloc[0:10]\n",
    "    labels_top10 = list(top10.head(10)['name'].values)\n",
    "    labels_rtop10 = list(rtop10.head(10)['name'].values)\n",
    "\n",
    "    \n",
    "    # Plot Categorical Column Values by Mean Revenue\n",
    "    fig, ax = plt.subplots(1, 2, figsize=(10,5), sharey=True)\n",
    "    width = 0.35  # the width of the bars  \n",
    "    fig.suptitle('Top 10 Movie '+ columns[i] + ' with Highest Sum Revenue', fontsize=14)\n",
    "                                   \n",
    "    # Top 10 overall \n",
    "    ax[0].bar(x=top10['name'],height=top10['revenue'], width=width)\n",
    "    ax[0].set_title(title_top10)                            \n",
    "    ax[0].set(ylabel='Total Sum Movie Revenue ($)')\n",
    "    plt.setp(ax[0].xaxis.get_majorticklabels(), rotation=45)\n",
    "    \n",
    "    # Top 10 since 2009 \n",
    "    ax[1].bar(x=rtop10['name'],height=rtop10['revenue'], width=width)\n",
    "    ax[1].set_title(title_rtop10)                            \n",
    "    ax[1].set(ylabel='Total Sum Movie Revenue ($)')\n",
    "    plt.setp(ax[1].xaxis.get_majorticklabels(), rotation=45)\n",
    "    \n",
    "    plt.show()"
   ]
  },
  {
   "cell_type": "code",
   "execution_count": 48,
   "metadata": {},
   "outputs": [
    {
     "data": {
      "image/png": "[encoded data removed]",
      "text/plain": [
       "<Figure size 720x360 with 2 Axes>"
      ]
     },
     "metadata": {
      "needs_background": "light"
     },
     "output_type": "display_data"
    }
   ],
   "source": [
    "plot_top_25_feature_revene(0)"
   ]
  },
  {
   "cell_type": "code",
   "execution_count": 49,
   "metadata": {},
   "outputs": [
    {
     "data": {
      "image/png": "[encoded data removed]",
      "text/plain": [
       "<Figure size 720x360 with 2 Axes>"
      ]
     },
     "metadata": {
      "needs_background": "light"
     },
     "output_type": "display_data"
    }
   ],
   "source": [
    "plot_top_25_feature_revene(1)"
   ]
  },
  {
   "cell_type": "code",
   "execution_count": 50,
   "metadata": {},
   "outputs": [
    {
     "data": {
      "image/png": "[encoded data removed]",
      "text/plain": [
       "<Figure size 720x360 with 2 Axes>"
      ]
     },
     "metadata": {
      "needs_background": "light"
     },
     "output_type": "display_data"
    }
   ],
   "source": [
    "plot_top_25_feature_revene(2)"
   ]
  },
  {
   "cell_type": "code",
   "execution_count": 51,
   "metadata": {},
   "outputs": [
    {
     "data": {
      "image/png": "[encoded data removed]",
      "text/plain": [
       "<Figure size 720x360 with 2 Axes>"
      ]
     },
     "metadata": {
      "needs_background": "light"
     },
     "output_type": "display_data"
    }
   ],
   "source": [
    "plot_top_25_feature_revene(3)"
   ]
  },
  {
   "cell_type": "code",
   "execution_count": 52,
   "metadata": {},
   "outputs": [
    {
     "data": {
      "image/png": "[encoded data removed]",
      "text/plain": [
       "<Figure size 720x360 with 2 Axes>"
      ]
     },
     "metadata": {
      "needs_background": "light"
     },
     "output_type": "display_data"
    }
   ],
   "source": [
    "plot_top_25_feature_revene(4)"
   ]
  },
  {
   "cell_type": "markdown",
   "metadata": {},
   "source": [
    "### For each column, the following feature instances most-dramatically associated with highest mean movie revenue:\n",
    "\n",
    "A. Genres (6)\n",
    "- Animation\n",
    "- Adventure\n",
    "- Fantasy\n",
    "- Family\n",
    "- Science Fiction\n",
    "- Action\n",
    "\n",
    "B. Keywords (4)\n",
    "- Steerage\n",
    "- Rich Snob\n",
    "- Rich Woman / Poor Man\n",
    "- Salvage\n",
    "\n",
    "C. Production Companies (4)\n",
    "- Warner Brothers\n",
    "- Universal Pictures\n",
    "- Paramont Pictures\n",
    "- Walt Disney Pictures\n",
    "\n",
    "D. Production Countries (2)\n",
    "- United States (US)\n",
    "\n",
    "E. Spoken Languages (1)\n",
    "- English(en)"
   ]
  }
 ],
 "metadata": {
  "kernelspec": {
   "display_name": "Python 3",
   "language": "python",
   "name": "python3"
  },
  "language_info": {
   "codemirror_mode": {
    "name": "ipython",
    "version": 3
   },
   "file_extension": ".py",
   "mimetype": "text/x-python",
   "name": "python",
   "nbconvert_exporter": "python",
   "pygments_lexer": "ipython3",
   "version": "3.7.3"
  }
 },
 "nbformat": 4,
 "nbformat_minor": 2
}
