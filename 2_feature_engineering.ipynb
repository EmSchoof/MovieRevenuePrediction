{
 "cells": [
  {
   "cell_type": "markdown",
   "metadata": {},
   "source": [
    "## Feature Engineer of Movie Data\n",
    "\n",
    "#### A. Create Variables for Categorical Columns with Nested Data:\n",
    "   - **genres**\n",
    "   - **keywords**\n",
    "   - **production_companies**\n",
    "   - **production_countries**\n",
    "   - **spoken_languages**\n",
    "- Organize Nested List of Dictionaries by Movie Title\n",
    "- Create feature variables [via pd.dummies] based on Column trends of each Movie Title\n",
    "- Merge column dataframes to movie_df data\n",
    "   \n",
    "#### B.  Apply Random Forest for *tagline* column predictions"
   ]
  },
  {
   "cell_type": "code",
   "execution_count": 1,
   "metadata": {},
   "outputs": [
    {
     "name": "stdout",
     "output_type": "stream",
     "text": [
      "Emily Schoof 2019-08-14 21:30:55 \n",
      "\n",
      "CPython 3.7.3\n",
      "IPython 7.4.0\n",
      "\n",
      "numpy 1.16.2\n",
      "pandas 0.24.2\n",
      "matplotlib 3.0.3\n"
     ]
    }
   ],
   "source": [
    "%load_ext watermark\n",
    "%watermark -a \"Emily Schoof\" -d -t -v -p numpy,pandas,matplotlib"
   ]
  },
  {
   "cell_type": "code",
   "execution_count": 2,
   "metadata": {},
   "outputs": [],
   "source": [
    "# Import necessary modules\n",
    "import pandas as pd\n",
    "from pandas import DataFrame\n",
    "import numpy as np\n",
    "import matplotlib.pyplot as plt\n",
    "import datetime\n",
    "import os\n",
    "PROJ_ROOT = os.path.join(os.pardir)"
   ]
  },
  {
   "cell_type": "code",
   "execution_count": 3,
   "metadata": {},
   "outputs": [
    {
     "data": {
      "text/plain": [
       "(4651, 15)"
      ]
     },
     "execution_count": 3,
     "metadata": {},
     "output_type": "execute_result"
    }
   ],
   "source": [
    "# Load the dataset\n",
    "%store -r movie_df\n",
    "movie_df.shape"
   ]
  },
  {
   "cell_type": "markdown",
   "metadata": {},
   "source": [
    "#### Part 1: Organize Nested List of Dictionaries by Movie Title"
   ]
  },
  {
   "cell_type": "code",
   "execution_count": 4,
   "metadata": {},
   "outputs": [],
   "source": [
    "# Import necessary modules\n",
    "import ast"
   ]
  },
  {
   "cell_type": "markdown",
   "metadata": {},
   "source": [
    "Create function to convert strings to list of dictionaries "
   ]
  },
  {
   "cell_type": "code",
   "execution_count": 5,
   "metadata": {},
   "outputs": [],
   "source": [
    "def listdictstr_to_listdictkey(data):\n",
    "    \"\"\"Convert Column of Dictionary Strings to Column of Lists of Dictionaries and Return Unique Keys\"\"\"\n",
    "    \n",
    "    dict_list = []\n",
    "    unique_keys = []\n",
    "    \n",
    "    # Convert dictionary string to list of lists of dictionaries\n",
    "    for instance in data:     \n",
    "        dl = ast.literal_eval(instance)\n",
    "        dict_list.append(dl)\n",
    "    \n",
    "    # Select unique keys\n",
    "    for lists in dict_list:\n",
    "        for d in lists:\n",
    "            for key in d:\n",
    "                unique_keys.append(key)\n",
    "    unique_keys = set(unique_keys)\n",
    "    \n",
    "    return dict_list, unique_keys"
   ]
  },
  {
   "cell_type": "markdown",
   "metadata": {},
   "source": [
    "Create a function that produces a dataframe from the column list of dictionaries"
   ]
  },
  {
   "cell_type": "code",
   "execution_count": 6,
   "metadata": {},
   "outputs": [],
   "source": [
    "def dictlist_to_dataframe(dict_list, unique_keys):\n",
    "    \"\"\"Convert Column of Lists of Dictionaries to one Merged Dataframe\"\"\"\n",
    "    \n",
    "    columns = list(unique_keys)\n",
    "    new_df = pd.DataFrame(columns=columns)\n",
    "\n",
    "    for i in range(len(dict_list)):\n",
    "    \n",
    "        # Select movie title by matching index in list\n",
    "        dlist = dict_list[i]\n",
    "        movie = movie_df.iloc[i, 0]\n",
    "    \n",
    "        # Create dataframe with columns for nested data\n",
    "        df = pd.DataFrame(dlist, columns=columns) \n",
    "        df['title'] = movie\n",
    "    \n",
    "        # Merge movie title instances into one combined dataframe\n",
    "        new_df = new_df.append(df, sort=False, ignore_index=True)\n",
    "    \n",
    "    return new_df"
   ]
  },
  {
   "cell_type": "markdown",
   "metadata": {},
   "source": [
    "Genres"
   ]
  },
  {
   "cell_type": "code",
   "execution_count": 7,
   "metadata": {},
   "outputs": [
    {
     "name": "stdout",
     "output_type": "stream",
     "text": [
      "4651\n",
      "11818\n"
     ]
    }
   ],
   "source": [
    "# Genres to list/keys\n",
    "genres_list, genres_keys = listdictstr_to_listdictkey(movie_df.genres)\n",
    "print(len(genres_list))\n",
    "\n",
    "# Genres Dataframe\n",
    "genres_df = dictlist_to_dataframe(genres_list, genres_keys)\n",
    "print(len(genres_df))"
   ]
  },
  {
   "cell_type": "code",
   "execution_count": 8,
   "metadata": {},
   "outputs": [
    {
     "data": {
      "text/plain": [
       "20"
      ]
     },
     "execution_count": 8,
     "metadata": {},
     "output_type": "execute_result"
    }
   ],
   "source": [
    "# Drop id column\n",
    "genres_df = genres_df.drop(columns='id')\n",
    "\n",
    "# Define unique entries\n",
    "unique_genres = genres_df['name'].unique()\n",
    "len(unique_genres)"
   ]
  },
  {
   "cell_type": "code",
   "execution_count": 9,
   "metadata": {},
   "outputs": [
    {
     "data": {
      "text/plain": [
       "array(['Action', 'Adventure', 'Fantasy', 'Science Fiction', 'Crime',\n",
       "       'Drama', 'Thriller', 'Animation', 'Family', 'Western', 'Comedy',\n",
       "       'Romance', 'Horror', 'Mystery', 'History', 'War', 'Music',\n",
       "       'Documentary', 'Foreign', 'TV Movie'], dtype=object)"
      ]
     },
     "execution_count": 9,
     "metadata": {},
     "output_type": "execute_result"
    }
   ],
   "source": [
    "unique_genres"
   ]
  },
  {
   "cell_type": "markdown",
   "metadata": {},
   "source": [
    "Keywords"
   ]
  },
  {
   "cell_type": "code",
   "execution_count": 10,
   "metadata": {},
   "outputs": [
    {
     "name": "stdout",
     "output_type": "stream",
     "text": [
      "4651\n",
      "35049\n"
     ]
    }
   ],
   "source": [
    "# Keywords to list/kets\n",
    "keywords_list, keywords_keys = listdictstr_to_listdictkey(movie_df.keywords)\n",
    "print(len(keywords_list))\n",
    "\n",
    "# Keywords Dataframe\n",
    "keywords_df = dictlist_to_dataframe(keywords_list, keywords_keys)\n",
    "print(len(keywords_df))"
   ]
  },
  {
   "cell_type": "code",
   "execution_count": 11,
   "metadata": {},
   "outputs": [
    {
     "data": {
      "text/plain": [
       "9595"
      ]
     },
     "execution_count": 11,
     "metadata": {},
     "output_type": "execute_result"
    }
   ],
   "source": [
    "# Drop id column\n",
    "keywords_df = keywords_df.drop(columns='id')\n",
    "\n",
    "# Define unique entries\n",
    "unique_keys = keywords_df['name'].unique()\n",
    "len(unique_keys)"
   ]
  },
  {
   "cell_type": "code",
   "execution_count": 12,
   "metadata": {},
   "outputs": [
    {
     "data": {
      "text/plain": [
       "array(['culture clash', 'future', 'space war', ..., 'paper knife',\n",
       "       'guitar case', 'postal worker'], dtype=object)"
      ]
     },
     "execution_count": 12,
     "metadata": {},
     "output_type": "execute_result"
    }
   ],
   "source": [
    "unique_keys"
   ]
  },
  {
   "cell_type": "markdown",
   "metadata": {},
   "source": [
    "Production Companies"
   ]
  },
  {
   "cell_type": "code",
   "execution_count": 13,
   "metadata": {},
   "outputs": [
    {
     "name": "stdout",
     "output_type": "stream",
     "text": [
      "4651\n",
      "13461\n"
     ]
    }
   ],
   "source": [
    "# Production Companies to list/keys\n",
    "prod_comp_list, prod_comp_keys = listdictstr_to_listdictkey(movie_df.production_companies)\n",
    "print(len(prod_comp_list))\n",
    "\n",
    "# Production Companies Dataframe\n",
    "prod_companies_df = dictlist_to_dataframe(prod_comp_list, prod_comp_keys)\n",
    "print(len(prod_companies_df))"
   ]
  },
  {
   "cell_type": "code",
   "execution_count": 14,
   "metadata": {},
   "outputs": [
    {
     "data": {
      "text/plain": [
       "4931"
      ]
     },
     "execution_count": 14,
     "metadata": {},
     "output_type": "execute_result"
    }
   ],
   "source": [
    "# Drop id column\n",
    "prod_companies_df = prod_companies_df.drop(columns='id')\n",
    "\n",
    "# Define unique entries\n",
    "unique_companies = prod_companies_df['name'].unique()\n",
    "len(unique_companies)"
   ]
  },
  {
   "cell_type": "code",
   "execution_count": 15,
   "metadata": {},
   "outputs": [
    {
     "data": {
      "text/plain": [
       "array(['Ingenious Film Partners',\n",
       "       'Twentieth Century Fox Film Corporation', 'Dune Entertainment',\n",
       "       ..., 'Front Street Pictures', 'rusty bear entertainment',\n",
       "       'lucky crow films'], dtype=object)"
      ]
     },
     "execution_count": 15,
     "metadata": {},
     "output_type": "execute_result"
    }
   ],
   "source": [
    "unique_companies"
   ]
  },
  {
   "cell_type": "markdown",
   "metadata": {},
   "source": [
    "Production Countries"
   ]
  },
  {
   "cell_type": "code",
   "execution_count": 16,
   "metadata": {},
   "outputs": [
    {
     "name": "stdout",
     "output_type": "stream",
     "text": [
      "4651\n",
      "6276\n"
     ]
    },
    {
     "data": {
      "text/html": [
       "<div>\n",
       "<style scoped>\n",
       "    .dataframe tbody tr th:only-of-type {\n",
       "        vertical-align: middle;\n",
       "    }\n",
       "\n",
       "    .dataframe tbody tr th {\n",
       "        vertical-align: top;\n",
       "    }\n",
       "\n",
       "    .dataframe thead th {\n",
       "        text-align: right;\n",
       "    }\n",
       "</style>\n",
       "<table border=\"1\" class=\"dataframe\">\n",
       "  <thead>\n",
       "    <tr style=\"text-align: right;\">\n",
       "      <th></th>\n",
       "      <th>name</th>\n",
       "      <th>iso_3166_1</th>\n",
       "      <th>title</th>\n",
       "    </tr>\n",
       "  </thead>\n",
       "  <tbody>\n",
       "    <tr>\n",
       "      <th>0</th>\n",
       "      <td>United States of America</td>\n",
       "      <td>US</td>\n",
       "      <td>Avatar</td>\n",
       "    </tr>\n",
       "  </tbody>\n",
       "</table>\n",
       "</div>"
      ],
      "text/plain": [
       "                       name iso_3166_1   title\n",
       "0  United States of America         US  Avatar"
      ]
     },
     "execution_count": 16,
     "metadata": {},
     "output_type": "execute_result"
    }
   ],
   "source": [
    "# Production Countries to list/keys\n",
    "prod_count_list, prod_count_keys = listdictstr_to_listdictkey(movie_df.production_countries)\n",
    "print(len(prod_count_list))\n",
    "\n",
    "# Production Countries Dataframe\n",
    "prod_countries_df = dictlist_to_dataframe(prod_count_list, prod_count_keys)\n",
    "print(len(prod_countries_df))\n",
    "prod_countries_df.head(1)"
   ]
  },
  {
   "cell_type": "code",
   "execution_count": 17,
   "metadata": {},
   "outputs": [
    {
     "data": {
      "text/plain": [
       "88"
      ]
     },
     "execution_count": 17,
     "metadata": {},
     "output_type": "execute_result"
    }
   ],
   "source": [
    "# Drop name column\n",
    "prod_countries_df= prod_countries_df.drop(columns='name')\n",
    "\n",
    "# Rename iso column\n",
    "prod_countries_df.columns = ['name', 'title']\n",
    "\n",
    "# Define unique entries\n",
    "unique_countries = prod_countries_df['name'].unique()\n",
    "len(unique_countries)"
   ]
  },
  {
   "cell_type": "code",
   "execution_count": 18,
   "metadata": {},
   "outputs": [
    {
     "data": {
      "text/plain": [
       "array(['US', 'GB', 'JM', 'BS', 'DM', 'CZ', 'PL', 'SI', 'NZ', 'DE', 'CN',\n",
       "       'CA', 'IT', 'JP', 'MT', 'AU', 'FR', 'BE', 'IN', 'NL', 'ES', 'AE',\n",
       "       'HK', 'TW', 'IE', 'MA', 'HU', 'SG', 'NO', 'SE', 'ZA', 'RU', 'RO',\n",
       "       'MX', 'MC', 'CH', 'PK', 'MY', 'FI', 'IS', 'DK', 'TN', 'PH', 'BG',\n",
       "       'KR', 'BR', 'PE', 'LU', 'BA', 'KZ', 'PT', 'AW', 'LY', 'RS', 'UA',\n",
       "       'CL', 'AR', 'PA', 'AT', 'GR', 'LT', 'KH', 'TH', 'SK', 'IL', 'FJ',\n",
       "       'CS', 'TR', 'NG', 'CY', 'JO', 'BO', 'EC', 'CO', 'EG', 'BT', 'LB',\n",
       "       'KG', 'DZ', 'ID', 'GY', 'IR', 'GP', 'AF', 'AO', 'DO', 'CM', 'KE'],\n",
       "      dtype=object)"
      ]
     },
     "execution_count": 18,
     "metadata": {},
     "output_type": "execute_result"
    }
   ],
   "source": [
    "unique_countries"
   ]
  },
  {
   "cell_type": "markdown",
   "metadata": {},
   "source": [
    "Spoken Languages"
   ]
  },
  {
   "cell_type": "code",
   "execution_count": 19,
   "metadata": {},
   "outputs": [
    {
     "name": "stdout",
     "output_type": "stream",
     "text": [
      "4651\n",
      "6742\n"
     ]
    },
    {
     "data": {
      "text/html": [
       "<div>\n",
       "<style scoped>\n",
       "    .dataframe tbody tr th:only-of-type {\n",
       "        vertical-align: middle;\n",
       "    }\n",
       "\n",
       "    .dataframe tbody tr th {\n",
       "        vertical-align: top;\n",
       "    }\n",
       "\n",
       "    .dataframe thead th {\n",
       "        text-align: right;\n",
       "    }\n",
       "</style>\n",
       "<table border=\"1\" class=\"dataframe\">\n",
       "  <thead>\n",
       "    <tr style=\"text-align: right;\">\n",
       "      <th></th>\n",
       "      <th>name</th>\n",
       "      <th>iso_639_1</th>\n",
       "      <th>title</th>\n",
       "    </tr>\n",
       "  </thead>\n",
       "  <tbody>\n",
       "    <tr>\n",
       "      <th>0</th>\n",
       "      <td>English</td>\n",
       "      <td>en</td>\n",
       "      <td>Avatar</td>\n",
       "    </tr>\n",
       "  </tbody>\n",
       "</table>\n",
       "</div>"
      ],
      "text/plain": [
       "      name iso_639_1   title\n",
       "0  English        en  Avatar"
      ]
     },
     "execution_count": 19,
     "metadata": {},
     "output_type": "execute_result"
    }
   ],
   "source": [
    "# Spoken Languages to list/keys\n",
    "spoken_lang_list, spoken_lang_keys = listdictstr_to_listdictkey(movie_df.spoken_languages)\n",
    "print(len(spoken_lang_list))\n",
    "\n",
    "# Spoken Languages Dataframe\n",
    "spoken_lang_df = dictlist_to_dataframe(spoken_lang_list, spoken_lang_keys)\n",
    "print(len(spoken_lang_df))\n",
    "spoken_lang_df.head(1)"
   ]
  },
  {
   "cell_type": "code",
   "execution_count": 20,
   "metadata": {},
   "outputs": [
    {
     "data": {
      "text/plain": [
       "87"
      ]
     },
     "execution_count": 20,
     "metadata": {},
     "output_type": "execute_result"
    }
   ],
   "source": [
    "# Drop name column\n",
    "spoken_lang_df = spoken_lang_df.drop(columns='name')\n",
    "\n",
    "# Rename iso column\n",
    "spoken_lang_df.columns = ['name', 'title']\n",
    "\n",
    "# Define unique entries\n",
    "unique_language = spoken_lang_df['name'].unique()\n",
    "len(unique_language)"
   ]
  },
  {
   "cell_type": "code",
   "execution_count": 21,
   "metadata": {},
   "outputs": [
    {
     "data": {
      "text/plain": [
       "array(['en', 'es', 'fr', 'it', 'de', 'tr', 'el', 'zh', 'th', 'is', 'ru',\n",
       "       'sv', 'ro', 'ja', 'la', 'hi', 'pt', 'bo', 'fa', 'ur', 'ar', 'sa',\n",
       "       'gd', 'cs', 'cn', 'ko', 'no', 'ta', 'nv', 'he', 'da', 'nl', 'af',\n",
       "       'ga', 'so', 'fi', 'sw', 'bg', 'yi', 'vi', 'hu', 'uk', 'eo', 'am',\n",
       "       'km', 'ce', 'pl', 'co', 'pa', 'et', 'sq', 'sr', 'bs', 'hr', 'tl',\n",
       "       'sh', 'sk', 'kk', 'ml', 'te', 'cy', 'hy', 'iu', 'wo', 'xh', 'ny',\n",
       "       'st', 'zu', 'kw', 'si', 'ne', 'ps', 'mn', 'gl', 'xx', 'ka', 'bn',\n",
       "       'ku', 'mi', 'to', 'ca', 'br', 'dz', 'ky', 'id', 'bm', 'sl'],\n",
       "      dtype=object)"
      ]
     },
     "execution_count": 21,
     "metadata": {},
     "output_type": "execute_result"
    }
   ],
   "source": [
    "unique_language"
   ]
  },
  {
   "cell_type": "markdown",
   "metadata": {},
   "source": [
    "#### Part 2: Create feature variables based on Column trends of each Movie Title"
   ]
  },
  {
   "cell_type": "code",
   "execution_count": 35,
   "metadata": {},
   "outputs": [
    {
     "name": "stdout",
     "output_type": "stream",
     "text": [
      "(4651, 10)\n"
     ]
    },
    {
     "data": {
      "text/plain": [
       "Index(['title', 'tagline', 'revenue', 'budget', 'id', 'original_language',\n",
       "       'overview', 'runtime', 'status', 'release_date_dt'],\n",
       "      dtype='object')"
      ]
     },
     "execution_count": 35,
     "metadata": {},
     "output_type": "execute_result"
    }
   ],
   "source": [
    "# Make copy of movie_df\n",
    "movie_df_modified = movie_df.copy()\n",
    "\n",
    "# Drop original columns that have been modified with pd.Dummies\n",
    "movie_df_modified = movie_df_modified.drop(columns=['genres', 'keywords', 'production_companies',\n",
    "                                  'production_countries', 'spoken_languages'])\n",
    "print(movie_df_modified.shape)\n",
    "movie_df_modified.columns"
   ]
  },
  {
   "cell_type": "code",
   "execution_count": 36,
   "metadata": {},
   "outputs": [],
   "source": [
    "# Create combined lists for value prefixes, unique lists, dataframes, and dict_titles\n",
    "value_prefixes = ['genre_', 'key_', 'company_', 'country_', 'lang_']\n",
    "unique_list = [unique_genres, unique_keys, unique_companies, unique_countries, unique_language]\n",
    "dataframes = [genres_df, keywords_df, prod_companies_df, prod_countries_df, spoken_lang_df]\n",
    "dict_title = [{}, {}, {}, {}, {}]"
   ]
  },
  {
   "cell_type": "code",
   "execution_count": 37,
   "metadata": {},
   "outputs": [],
   "source": [
    "# Remove spaces with underscores in all unique_list values\n",
    "for ulist in unique_list:\n",
    "    for idx, val in enumerate(ulist):\n",
    "        ulist[idx] = val.replace(\" \", \"_\")"
   ]
  },
  {
   "cell_type": "code",
   "execution_count": 38,
   "metadata": {},
   "outputs": [
    {
     "data": {
      "text/plain": [
       "(array(['Action', 'Adventure', 'Fantasy', 'Science_Fiction', 'Crime',\n",
       "        'Drama', 'Thriller', 'Animation', 'Family', 'Western', 'Comedy',\n",
       "        'Romance', 'Horror', 'Mystery', 'History', 'War', 'Music',\n",
       "        'Documentary', 'Foreign', 'TV_Movie'], dtype=object),\n",
       " array(['culture_clash', 'future', 'space_war', ..., 'paper_knife',\n",
       "        'guitar_case', 'postal_worker'], dtype=object))"
      ]
     },
     "execution_count": 38,
     "metadata": {},
     "output_type": "execute_result"
    }
   ],
   "source": [
    "# Test output\n",
    "unique_list[0], unique_list[1]"
   ]
  },
  {
   "cell_type": "markdown",
   "metadata": {},
   "source": [
    "Add Feature Columns for Each Unique Value per Categorical Column -- **WARNING: SLOW FUNCTION**"
   ]
  },
  {
   "cell_type": "code",
   "execution_count": 39,
   "metadata": {},
   "outputs": [],
   "source": [
    "# Add dataframe columns for each value in lists\n",
    "for idx in range(0, 5):\n",
    "    \n",
    "    ulist = unique_list[idx]\n",
    "    prefix = value_prefixes[idx]\n",
    "    \n",
    "    # Iterate over each unique value within a categorical columns\n",
    "    for entry in ulist:\n",
    "        col_name = prefix + entry \n",
    "        movie_df_modified[col_name] = 0 #set default to 0"
   ]
  },
  {
   "cell_type": "markdown",
   "metadata": {},
   "source": [
    "Create Title:List_Value Key:Value Pairs -- **WARNING: SLOW FUNCTION**"
   ]
  },
  {
   "cell_type": "code",
   "execution_count": 40,
   "metadata": {},
   "outputs": [],
   "source": [
    "# Add dataframe columns for each value in lists\n",
    "for idx in range(0, 5):\n",
    "    \n",
    "    dfc = dataframes[idx]\n",
    "    dict_t = dict_title[idx]\n",
    "\n",
    "    # Convert dataframe rows to title:valuelist key pairs\n",
    "    for t in dfc['title']:\n",
    "        title_df = dfc.loc[(dfc['title'] == t)]\n",
    "        name_list = list(title_df['name'])\n",
    "        dict_t[t] = name_list"
   ]
  },
  {
   "cell_type": "markdown",
   "metadata": {},
   "source": [
    "Replaces column contents with new values in specific rows/movie instances -- **WARNING: SLOW FUNCTION**"
   ]
  },
  {
   "cell_type": "code",
   "execution_count": 41,
   "metadata": {},
   "outputs": [],
   "source": [
    "for idx in range(0, 5):\n",
    "    \n",
    "    prefix = value_prefixes[idx]\n",
    "    dict_t = dict_title[idx]\n",
    "    \n",
    "    for t, val in dict_t.items():\n",
    "        t_index = movie_df_modified.loc[movie_df_modified['title'] == t].index.astype(int)[0] # Define title index\n",
    "        \n",
    "        for i,v in enumerate(val):\n",
    "            val[i] = v.replace(\" \", \"_\")\n",
    "        \n",
    "        for feature in val:\n",
    "            column_name = prefix + feature # Define column name\n",
    "        \n",
    "            if column_name in movie_df_modified.columns:\n",
    "                # Replace 0 with 1 if present\n",
    "                movie_df_modified.at[t_index, column_name] = 1"
   ]
  },
  {
   "cell_type": "code",
   "execution_count": 29,
   "metadata": {},
   "outputs": [
    {
     "name": "stdout",
     "output_type": "stream",
     "text": [
      "<class 'pandas.core.frame.DataFrame'>\n",
      "Int64Index: 4651 entries, 0 to 4802\n",
      "Columns: 14731 entries, title to lang_sl\n",
      "dtypes: datetime64[ns](1), float64(1), int64(14724), object(5)\n",
      "memory usage: 522.9+ MB\n"
     ]
    }
   ],
   "source": [
    "movie_df_modified.info()"
   ]
  },
  {
   "cell_type": "code",
   "execution_count": 30,
   "metadata": {},
   "outputs": [
    {
     "data": {
      "text/html": [
       "<div>\n",
       "<style scoped>\n",
       "    .dataframe tbody tr th:only-of-type {\n",
       "        vertical-align: middle;\n",
       "    }\n",
       "\n",
       "    .dataframe tbody tr th {\n",
       "        vertical-align: top;\n",
       "    }\n",
       "\n",
       "    .dataframe thead th {\n",
       "        text-align: right;\n",
       "    }\n",
       "</style>\n",
       "<table border=\"1\" class=\"dataframe\">\n",
       "  <thead>\n",
       "    <tr style=\"text-align: right;\">\n",
       "      <th></th>\n",
       "      <th>revenue</th>\n",
       "      <th>budget</th>\n",
       "      <th>id</th>\n",
       "      <th>runtime</th>\n",
       "      <th>genre_Action</th>\n",
       "      <th>genre_Adventure</th>\n",
       "      <th>genre_Fantasy</th>\n",
       "      <th>genre_Science_Fiction</th>\n",
       "      <th>genre_Crime</th>\n",
       "      <th>genre_Drama</th>\n",
       "      <th>...</th>\n",
       "      <th>lang_ku</th>\n",
       "      <th>lang_mi</th>\n",
       "      <th>lang_to</th>\n",
       "      <th>lang_ca</th>\n",
       "      <th>lang_br</th>\n",
       "      <th>lang_dz</th>\n",
       "      <th>lang_ky</th>\n",
       "      <th>lang_id</th>\n",
       "      <th>lang_bm</th>\n",
       "      <th>lang_sl</th>\n",
       "    </tr>\n",
       "  </thead>\n",
       "  <tbody>\n",
       "    <tr>\n",
       "      <th>count</th>\n",
       "      <td>4.651000e+03</td>\n",
       "      <td>4.651000e+03</td>\n",
       "      <td>4651.000000</td>\n",
       "      <td>4651.000000</td>\n",
       "      <td>4651.000000</td>\n",
       "      <td>4651.000000</td>\n",
       "      <td>4651.000000</td>\n",
       "      <td>4651.000000</td>\n",
       "      <td>4651.000000</td>\n",
       "      <td>4651.000000</td>\n",
       "      <td>...</td>\n",
       "      <td>4651.000000</td>\n",
       "      <td>4651.000000</td>\n",
       "      <td>4651.000000</td>\n",
       "      <td>4651.000000</td>\n",
       "      <td>4651.000000</td>\n",
       "      <td>4651.000000</td>\n",
       "      <td>4651.000000</td>\n",
       "      <td>4651.000000</td>\n",
       "      <td>4651.000000</td>\n",
       "      <td>4651.000000</td>\n",
       "    </tr>\n",
       "    <tr>\n",
       "      <th>mean</th>\n",
       "      <td>8.417729e+07</td>\n",
       "      <td>2.987664e+07</td>\n",
       "      <td>57286.919802</td>\n",
       "      <td>106.826059</td>\n",
       "      <td>0.243604</td>\n",
       "      <td>0.165771</td>\n",
       "      <td>0.090088</td>\n",
       "      <td>0.113094</td>\n",
       "      <td>0.146850</td>\n",
       "      <td>0.475167</td>\n",
       "      <td>...</td>\n",
       "      <td>0.000215</td>\n",
       "      <td>0.000430</td>\n",
       "      <td>0.000215</td>\n",
       "      <td>0.000215</td>\n",
       "      <td>0.000215</td>\n",
       "      <td>0.000215</td>\n",
       "      <td>0.000215</td>\n",
       "      <td>0.000430</td>\n",
       "      <td>0.000215</td>\n",
       "      <td>0.000215</td>\n",
       "    </tr>\n",
       "    <tr>\n",
       "      <th>std</th>\n",
       "      <td>1.648804e+08</td>\n",
       "      <td>4.108898e+07</td>\n",
       "      <td>88208.072246</td>\n",
       "      <td>21.115017</td>\n",
       "      <td>0.429302</td>\n",
       "      <td>0.371915</td>\n",
       "      <td>0.286339</td>\n",
       "      <td>0.316742</td>\n",
       "      <td>0.353995</td>\n",
       "      <td>0.499437</td>\n",
       "      <td>...</td>\n",
       "      <td>0.014663</td>\n",
       "      <td>0.020735</td>\n",
       "      <td>0.014663</td>\n",
       "      <td>0.014663</td>\n",
       "      <td>0.014663</td>\n",
       "      <td>0.014663</td>\n",
       "      <td>0.014663</td>\n",
       "      <td>0.020735</td>\n",
       "      <td>0.014663</td>\n",
       "      <td>0.014663</td>\n",
       "    </tr>\n",
       "    <tr>\n",
       "      <th>min</th>\n",
       "      <td>0.000000e+00</td>\n",
       "      <td>0.000000e+00</td>\n",
       "      <td>5.000000</td>\n",
       "      <td>0.000000</td>\n",
       "      <td>0.000000</td>\n",
       "      <td>0.000000</td>\n",
       "      <td>0.000000</td>\n",
       "      <td>0.000000</td>\n",
       "      <td>0.000000</td>\n",
       "      <td>0.000000</td>\n",
       "      <td>...</td>\n",
       "      <td>0.000000</td>\n",
       "      <td>0.000000</td>\n",
       "      <td>0.000000</td>\n",
       "      <td>0.000000</td>\n",
       "      <td>0.000000</td>\n",
       "      <td>0.000000</td>\n",
       "      <td>0.000000</td>\n",
       "      <td>0.000000</td>\n",
       "      <td>0.000000</td>\n",
       "      <td>0.000000</td>\n",
       "    </tr>\n",
       "    <tr>\n",
       "      <th>25%</th>\n",
       "      <td>0.000000e+00</td>\n",
       "      <td>9.000000e+05</td>\n",
       "      <td>9095.500000</td>\n",
       "      <td>94.000000</td>\n",
       "      <td>0.000000</td>\n",
       "      <td>0.000000</td>\n",
       "      <td>0.000000</td>\n",
       "      <td>0.000000</td>\n",
       "      <td>0.000000</td>\n",
       "      <td>0.000000</td>\n",
       "      <td>...</td>\n",
       "      <td>0.000000</td>\n",
       "      <td>0.000000</td>\n",
       "      <td>0.000000</td>\n",
       "      <td>0.000000</td>\n",
       "      <td>0.000000</td>\n",
       "      <td>0.000000</td>\n",
       "      <td>0.000000</td>\n",
       "      <td>0.000000</td>\n",
       "      <td>0.000000</td>\n",
       "      <td>0.000000</td>\n",
       "    </tr>\n",
       "    <tr>\n",
       "      <th>50%</th>\n",
       "      <td>2.021139e+07</td>\n",
       "      <td>1.500000e+07</td>\n",
       "      <td>14635.000000</td>\n",
       "      <td>103.000000</td>\n",
       "      <td>0.000000</td>\n",
       "      <td>0.000000</td>\n",
       "      <td>0.000000</td>\n",
       "      <td>0.000000</td>\n",
       "      <td>0.000000</td>\n",
       "      <td>0.000000</td>\n",
       "      <td>...</td>\n",
       "      <td>0.000000</td>\n",
       "      <td>0.000000</td>\n",
       "      <td>0.000000</td>\n",
       "      <td>0.000000</td>\n",
       "      <td>0.000000</td>\n",
       "      <td>0.000000</td>\n",
       "      <td>0.000000</td>\n",
       "      <td>0.000000</td>\n",
       "      <td>0.000000</td>\n",
       "      <td>0.000000</td>\n",
       "    </tr>\n",
       "    <tr>\n",
       "      <th>75%</th>\n",
       "      <td>9.571167e+07</td>\n",
       "      <td>4.000000e+07</td>\n",
       "      <td>59961.500000</td>\n",
       "      <td>117.000000</td>\n",
       "      <td>0.000000</td>\n",
       "      <td>0.000000</td>\n",
       "      <td>0.000000</td>\n",
       "      <td>0.000000</td>\n",
       "      <td>0.000000</td>\n",
       "      <td>1.000000</td>\n",
       "      <td>...</td>\n",
       "      <td>0.000000</td>\n",
       "      <td>0.000000</td>\n",
       "      <td>0.000000</td>\n",
       "      <td>0.000000</td>\n",
       "      <td>0.000000</td>\n",
       "      <td>0.000000</td>\n",
       "      <td>0.000000</td>\n",
       "      <td>0.000000</td>\n",
       "      <td>0.000000</td>\n",
       "      <td>0.000000</td>\n",
       "    </tr>\n",
       "    <tr>\n",
       "      <th>max</th>\n",
       "      <td>2.787965e+09</td>\n",
       "      <td>3.800000e+08</td>\n",
       "      <td>447027.000000</td>\n",
       "      <td>338.000000</td>\n",
       "      <td>1.000000</td>\n",
       "      <td>1.000000</td>\n",
       "      <td>1.000000</td>\n",
       "      <td>1.000000</td>\n",
       "      <td>1.000000</td>\n",
       "      <td>1.000000</td>\n",
       "      <td>...</td>\n",
       "      <td>1.000000</td>\n",
       "      <td>1.000000</td>\n",
       "      <td>1.000000</td>\n",
       "      <td>1.000000</td>\n",
       "      <td>1.000000</td>\n",
       "      <td>1.000000</td>\n",
       "      <td>1.000000</td>\n",
       "      <td>1.000000</td>\n",
       "      <td>1.000000</td>\n",
       "      <td>1.000000</td>\n",
       "    </tr>\n",
       "  </tbody>\n",
       "</table>\n",
       "<p>8 rows × 14725 columns</p>\n",
       "</div>"
      ],
      "text/plain": [
       "            revenue        budget             id      runtime  genre_Action  \\\n",
       "count  4.651000e+03  4.651000e+03    4651.000000  4651.000000   4651.000000   \n",
       "mean   8.417729e+07  2.987664e+07   57286.919802   106.826059      0.243604   \n",
       "std    1.648804e+08  4.108898e+07   88208.072246    21.115017      0.429302   \n",
       "min    0.000000e+00  0.000000e+00       5.000000     0.000000      0.000000   \n",
       "25%    0.000000e+00  9.000000e+05    9095.500000    94.000000      0.000000   \n",
       "50%    2.021139e+07  1.500000e+07   14635.000000   103.000000      0.000000   \n",
       "75%    9.571167e+07  4.000000e+07   59961.500000   117.000000      0.000000   \n",
       "max    2.787965e+09  3.800000e+08  447027.000000   338.000000      1.000000   \n",
       "\n",
       "       genre_Adventure  genre_Fantasy  genre_Science_Fiction  genre_Crime  \\\n",
       "count      4651.000000    4651.000000            4651.000000  4651.000000   \n",
       "mean          0.165771       0.090088               0.113094     0.146850   \n",
       "std           0.371915       0.286339               0.316742     0.353995   \n",
       "min           0.000000       0.000000               0.000000     0.000000   \n",
       "25%           0.000000       0.000000               0.000000     0.000000   \n",
       "50%           0.000000       0.000000               0.000000     0.000000   \n",
       "75%           0.000000       0.000000               0.000000     0.000000   \n",
       "max           1.000000       1.000000               1.000000     1.000000   \n",
       "\n",
       "       genre_Drama  ...      lang_ku      lang_mi      lang_to      lang_ca  \\\n",
       "count  4651.000000  ...  4651.000000  4651.000000  4651.000000  4651.000000   \n",
       "mean      0.475167  ...     0.000215     0.000430     0.000215     0.000215   \n",
       "std       0.499437  ...     0.014663     0.020735     0.014663     0.014663   \n",
       "min       0.000000  ...     0.000000     0.000000     0.000000     0.000000   \n",
       "25%       0.000000  ...     0.000000     0.000000     0.000000     0.000000   \n",
       "50%       0.000000  ...     0.000000     0.000000     0.000000     0.000000   \n",
       "75%       1.000000  ...     0.000000     0.000000     0.000000     0.000000   \n",
       "max       1.000000  ...     1.000000     1.000000     1.000000     1.000000   \n",
       "\n",
       "           lang_br      lang_dz      lang_ky      lang_id      lang_bm  \\\n",
       "count  4651.000000  4651.000000  4651.000000  4651.000000  4651.000000   \n",
       "mean      0.000215     0.000215     0.000215     0.000430     0.000215   \n",
       "std       0.014663     0.014663     0.014663     0.020735     0.014663   \n",
       "min       0.000000     0.000000     0.000000     0.000000     0.000000   \n",
       "25%       0.000000     0.000000     0.000000     0.000000     0.000000   \n",
       "50%       0.000000     0.000000     0.000000     0.000000     0.000000   \n",
       "75%       0.000000     0.000000     0.000000     0.000000     0.000000   \n",
       "max       1.000000     1.000000     1.000000     1.000000     1.000000   \n",
       "\n",
       "           lang_sl  \n",
       "count  4651.000000  \n",
       "mean      0.000215  \n",
       "std       0.014663  \n",
       "min       0.000000  \n",
       "25%       0.000000  \n",
       "50%       0.000000  \n",
       "75%       0.000000  \n",
       "max       1.000000  \n",
       "\n",
       "[8 rows x 14725 columns]"
      ]
     },
     "execution_count": 30,
     "metadata": {},
     "output_type": "execute_result"
    }
   ],
   "source": [
    "movie_df_modified.describe()"
   ]
  },
  {
   "cell_type": "markdown",
   "metadata": {},
   "source": [
    "*Observations*: This snippet of code shows that, now, the maximum in each engineered feature column is 1 while the minimum is 0. This is exactly the goal of this section; thus, feature engineering will be considered a success, then verified via visualization after a Random Forest model is used to predict the tagline column."
   ]
  },
  {
   "cell_type": "code",
   "execution_count": 31,
   "metadata": {},
   "outputs": [
    {
     "data": {
      "text/html": [
       "<div>\n",
       "<style scoped>\n",
       "    .dataframe tbody tr th:only-of-type {\n",
       "        vertical-align: middle;\n",
       "    }\n",
       "\n",
       "    .dataframe tbody tr th {\n",
       "        vertical-align: top;\n",
       "    }\n",
       "\n",
       "    .dataframe thead th {\n",
       "        text-align: right;\n",
       "    }\n",
       "</style>\n",
       "<table border=\"1\" class=\"dataframe\">\n",
       "  <thead>\n",
       "    <tr style=\"text-align: right;\">\n",
       "      <th></th>\n",
       "      <th>title</th>\n",
       "      <th>tagline</th>\n",
       "      <th>revenue</th>\n",
       "      <th>budget</th>\n",
       "      <th>id</th>\n",
       "      <th>original_language</th>\n",
       "      <th>overview</th>\n",
       "      <th>runtime</th>\n",
       "      <th>status</th>\n",
       "      <th>release_date_dt</th>\n",
       "      <th>...</th>\n",
       "      <th>lang_ku</th>\n",
       "      <th>lang_mi</th>\n",
       "      <th>lang_to</th>\n",
       "      <th>lang_ca</th>\n",
       "      <th>lang_br</th>\n",
       "      <th>lang_dz</th>\n",
       "      <th>lang_ky</th>\n",
       "      <th>lang_id</th>\n",
       "      <th>lang_bm</th>\n",
       "      <th>lang_sl</th>\n",
       "    </tr>\n",
       "  </thead>\n",
       "  <tbody>\n",
       "    <tr>\n",
       "      <th>0</th>\n",
       "      <td>Avatar</td>\n",
       "      <td>Enter the World of Pandora.</td>\n",
       "      <td>2787965087</td>\n",
       "      <td>237000000</td>\n",
       "      <td>19995</td>\n",
       "      <td>en</td>\n",
       "      <td>In the 22nd century, a paraplegic Marine is di...</td>\n",
       "      <td>162.0</td>\n",
       "      <td>Released</td>\n",
       "      <td>2009-12-10</td>\n",
       "      <td>...</td>\n",
       "      <td>0</td>\n",
       "      <td>0</td>\n",
       "      <td>0</td>\n",
       "      <td>0</td>\n",
       "      <td>0</td>\n",
       "      <td>0</td>\n",
       "      <td>0</td>\n",
       "      <td>0</td>\n",
       "      <td>0</td>\n",
       "      <td>0</td>\n",
       "    </tr>\n",
       "    <tr>\n",
       "      <th>1</th>\n",
       "      <td>Pirates of the Caribbean: At World's End</td>\n",
       "      <td>At the end of the world, the adventure begins.</td>\n",
       "      <td>961000000</td>\n",
       "      <td>300000000</td>\n",
       "      <td>285</td>\n",
       "      <td>en</td>\n",
       "      <td>Captain Barbossa, long believed to be dead, ha...</td>\n",
       "      <td>169.0</td>\n",
       "      <td>Released</td>\n",
       "      <td>2007-05-19</td>\n",
       "      <td>...</td>\n",
       "      <td>0</td>\n",
       "      <td>0</td>\n",
       "      <td>0</td>\n",
       "      <td>0</td>\n",
       "      <td>0</td>\n",
       "      <td>0</td>\n",
       "      <td>0</td>\n",
       "      <td>0</td>\n",
       "      <td>0</td>\n",
       "      <td>0</td>\n",
       "    </tr>\n",
       "    <tr>\n",
       "      <th>2</th>\n",
       "      <td>Spectre</td>\n",
       "      <td>A Plan No One Escapes</td>\n",
       "      <td>880674609</td>\n",
       "      <td>245000000</td>\n",
       "      <td>206647</td>\n",
       "      <td>en</td>\n",
       "      <td>A cryptic message from Bond’s past sends him o...</td>\n",
       "      <td>148.0</td>\n",
       "      <td>Released</td>\n",
       "      <td>2015-10-26</td>\n",
       "      <td>...</td>\n",
       "      <td>0</td>\n",
       "      <td>0</td>\n",
       "      <td>0</td>\n",
       "      <td>0</td>\n",
       "      <td>0</td>\n",
       "      <td>0</td>\n",
       "      <td>0</td>\n",
       "      <td>0</td>\n",
       "      <td>0</td>\n",
       "      <td>0</td>\n",
       "    </tr>\n",
       "    <tr>\n",
       "      <th>3</th>\n",
       "      <td>The Dark Knight Rises</td>\n",
       "      <td>The Legend Ends</td>\n",
       "      <td>1084939099</td>\n",
       "      <td>250000000</td>\n",
       "      <td>49026</td>\n",
       "      <td>en</td>\n",
       "      <td>Following the death of District Attorney Harve...</td>\n",
       "      <td>165.0</td>\n",
       "      <td>Released</td>\n",
       "      <td>2012-07-16</td>\n",
       "      <td>...</td>\n",
       "      <td>0</td>\n",
       "      <td>0</td>\n",
       "      <td>0</td>\n",
       "      <td>0</td>\n",
       "      <td>0</td>\n",
       "      <td>0</td>\n",
       "      <td>0</td>\n",
       "      <td>0</td>\n",
       "      <td>0</td>\n",
       "      <td>0</td>\n",
       "    </tr>\n",
       "    <tr>\n",
       "      <th>4</th>\n",
       "      <td>John Carter</td>\n",
       "      <td>Lost in our world, found in another.</td>\n",
       "      <td>284139100</td>\n",
       "      <td>260000000</td>\n",
       "      <td>49529</td>\n",
       "      <td>en</td>\n",
       "      <td>John Carter is a war-weary, former military ca...</td>\n",
       "      <td>132.0</td>\n",
       "      <td>Released</td>\n",
       "      <td>2012-03-07</td>\n",
       "      <td>...</td>\n",
       "      <td>0</td>\n",
       "      <td>0</td>\n",
       "      <td>0</td>\n",
       "      <td>0</td>\n",
       "      <td>0</td>\n",
       "      <td>0</td>\n",
       "      <td>0</td>\n",
       "      <td>0</td>\n",
       "      <td>0</td>\n",
       "      <td>0</td>\n",
       "    </tr>\n",
       "  </tbody>\n",
       "</table>\n",
       "<p>5 rows × 14731 columns</p>\n",
       "</div>"
      ],
      "text/plain": [
       "                                      title  \\\n",
       "0                                    Avatar   \n",
       "1  Pirates of the Caribbean: At World's End   \n",
       "2                                   Spectre   \n",
       "3                     The Dark Knight Rises   \n",
       "4                               John Carter   \n",
       "\n",
       "                                          tagline     revenue     budget  \\\n",
       "0                     Enter the World of Pandora.  2787965087  237000000   \n",
       "1  At the end of the world, the adventure begins.   961000000  300000000   \n",
       "2                           A Plan No One Escapes   880674609  245000000   \n",
       "3                                 The Legend Ends  1084939099  250000000   \n",
       "4            Lost in our world, found in another.   284139100  260000000   \n",
       "\n",
       "       id original_language  \\\n",
       "0   19995                en   \n",
       "1     285                en   \n",
       "2  206647                en   \n",
       "3   49026                en   \n",
       "4   49529                en   \n",
       "\n",
       "                                            overview  runtime    status  \\\n",
       "0  In the 22nd century, a paraplegic Marine is di...    162.0  Released   \n",
       "1  Captain Barbossa, long believed to be dead, ha...    169.0  Released   \n",
       "2  A cryptic message from Bond’s past sends him o...    148.0  Released   \n",
       "3  Following the death of District Attorney Harve...    165.0  Released   \n",
       "4  John Carter is a war-weary, former military ca...    132.0  Released   \n",
       "\n",
       "  release_date_dt  ...  lang_ku  lang_mi  lang_to  lang_ca  lang_br  lang_dz  \\\n",
       "0      2009-12-10  ...        0        0        0        0        0        0   \n",
       "1      2007-05-19  ...        0        0        0        0        0        0   \n",
       "2      2015-10-26  ...        0        0        0        0        0        0   \n",
       "3      2012-07-16  ...        0        0        0        0        0        0   \n",
       "4      2012-03-07  ...        0        0        0        0        0        0   \n",
       "\n",
       "   lang_ky  lang_id  lang_bm  lang_sl  \n",
       "0        0        0        0        0  \n",
       "1        0        0        0        0  \n",
       "2        0        0        0        0  \n",
       "3        0        0        0        0  \n",
       "4        0        0        0        0  \n",
       "\n",
       "[5 rows x 14731 columns]"
      ]
     },
     "execution_count": 31,
     "metadata": {},
     "output_type": "execute_result"
    }
   ],
   "source": [
    "movie_df_modified.head()"
   ]
  },
  {
   "cell_type": "code",
   "execution_count": 59,
   "metadata": {},
   "outputs": [],
   "source": [
    "# Make a copy for random forest\n",
    "movie_df_rfc = movie_df_modified.copy()\n",
    "\n",
    "# Convert copy for rcf release_date_dt column to numbers\n",
    "movie_df_rfc['release_date_dt'] = movie_df_rfc['release_date_dt'].astype('datetime64').astype(int).astype(float)"
   ]
  },
  {
   "cell_type": "code",
   "execution_count": 43,
   "metadata": {},
   "outputs": [
    {
     "name": "stdout",
     "output_type": "stream",
     "text": [
      "Stored 'movie_df_modified' (DataFrame)\n"
     ]
    }
   ],
   "source": [
    "# Drop tagline column\n",
    "movie_df_modified = movie_df_modified.drop(columns='tagline')\n",
    "\n",
    "# Store dataframe globally\n",
    "%store movie_df_modified"
   ]
  },
  {
   "cell_type": "markdown",
   "metadata": {},
   "source": [
    "#### Part 4: Apply Random Forest for *tagline* column predictions"
   ]
  },
  {
   "cell_type": "code",
   "execution_count": 44,
   "metadata": {},
   "outputs": [],
   "source": [
    "# Import necessary modules\n",
    "from sklearn.ensemble import RandomForestRegressor"
   ]
  },
  {
   "cell_type": "code",
   "execution_count": 60,
   "metadata": {},
   "outputs": [
    {
     "ename": "KeyError",
     "evalue": "'tagline'",
     "output_type": "error",
     "traceback": [
      "\u001b[0;31m---------------------------------------------------------------------------\u001b[0m",
      "\u001b[0;31mKeyError\u001b[0m                                  Traceback (most recent call last)",
      "\u001b[0;32m/anaconda3/lib/python3.7/site-packages/pandas/core/indexes/base.py\u001b[0m in \u001b[0;36mget_loc\u001b[0;34m(self, key, method, tolerance)\u001b[0m\n\u001b[1;32m   2656\u001b[0m             \u001b[0;32mtry\u001b[0m\u001b[0;34m:\u001b[0m\u001b[0;34m\u001b[0m\u001b[0;34m\u001b[0m\u001b[0m\n\u001b[0;32m-> 2657\u001b[0;31m                 \u001b[0;32mreturn\u001b[0m \u001b[0mself\u001b[0m\u001b[0;34m.\u001b[0m\u001b[0m_engine\u001b[0m\u001b[0;34m.\u001b[0m\u001b[0mget_loc\u001b[0m\u001b[0;34m(\u001b[0m\u001b[0mkey\u001b[0m\u001b[0;34m)\u001b[0m\u001b[0;34m\u001b[0m\u001b[0;34m\u001b[0m\u001b[0m\n\u001b[0m\u001b[1;32m   2658\u001b[0m             \u001b[0;32mexcept\u001b[0m \u001b[0mKeyError\u001b[0m\u001b[0;34m:\u001b[0m\u001b[0;34m\u001b[0m\u001b[0;34m\u001b[0m\u001b[0m\n",
      "\u001b[0;32mpandas/_libs/index.pyx\u001b[0m in \u001b[0;36mpandas._libs.index.IndexEngine.get_loc\u001b[0;34m()\u001b[0m\n",
      "\u001b[0;32mpandas/_libs/index.pyx\u001b[0m in \u001b[0;36mpandas._libs.index.IndexEngine.get_loc\u001b[0;34m()\u001b[0m\n",
      "\u001b[0;32mpandas/_libs/hashtable_class_helper.pxi\u001b[0m in \u001b[0;36mpandas._libs.hashtable.PyObjectHashTable.get_item\u001b[0;34m()\u001b[0m\n",
      "\u001b[0;32mpandas/_libs/hashtable_class_helper.pxi\u001b[0m in \u001b[0;36mpandas._libs.hashtable.PyObjectHashTable.get_item\u001b[0;34m()\u001b[0m\n",
      "\u001b[0;31mKeyError\u001b[0m: 'tagline'",
      "\nDuring handling of the above exception, another exception occurred:\n",
      "\u001b[0;31mKeyError\u001b[0m                                  Traceback (most recent call last)",
      "\u001b[0;32m<ipython-input-60-9f4fa0f3ced1>\u001b[0m in \u001b[0;36m<module>\u001b[0;34m\u001b[0m\n\u001b[1;32m      1\u001b[0m \u001b[0;31m# Separate rows with NaN from rows with taglines\u001b[0m\u001b[0;34m\u001b[0m\u001b[0;34m\u001b[0m\u001b[0;34m\u001b[0m\u001b[0m\n\u001b[0;32m----> 2\u001b[0;31m \u001b[0mtrain_with_tagline\u001b[0m \u001b[0;34m=\u001b[0m \u001b[0mmovie_df_rfc\u001b[0m\u001b[0;34m[\u001b[0m\u001b[0mpd\u001b[0m\u001b[0;34m.\u001b[0m\u001b[0misnull\u001b[0m\u001b[0;34m(\u001b[0m\u001b[0mmovie_df_rfc\u001b[0m\u001b[0;34m[\u001b[0m\u001b[0;34m'tagline'\u001b[0m\u001b[0;34m]\u001b[0m\u001b[0;34m)\u001b[0m \u001b[0;34m==\u001b[0m \u001b[0;32mFalse\u001b[0m\u001b[0;34m]\u001b[0m\u001b[0;34m\u001b[0m\u001b[0;34m\u001b[0m\u001b[0m\n\u001b[0m\u001b[1;32m      3\u001b[0m \u001b[0mprint\u001b[0m\u001b[0;34m(\u001b[0m\u001b[0mtrain_with_tagline\u001b[0m\u001b[0;34m.\u001b[0m\u001b[0mshape\u001b[0m\u001b[0;34m)\u001b[0m\u001b[0;34m\u001b[0m\u001b[0;34m\u001b[0m\u001b[0m\n\u001b[1;32m      4\u001b[0m \u001b[0mtest_with_nan\u001b[0m \u001b[0;34m=\u001b[0m \u001b[0mmovie_df_rfc\u001b[0m\u001b[0;34m[\u001b[0m\u001b[0mpd\u001b[0m\u001b[0;34m.\u001b[0m\u001b[0misnull\u001b[0m\u001b[0;34m(\u001b[0m\u001b[0mmovie_df_rfc\u001b[0m\u001b[0;34m[\u001b[0m\u001b[0;34m'tagline'\u001b[0m\u001b[0;34m]\u001b[0m\u001b[0;34m)\u001b[0m\u001b[0;34m]\u001b[0m\u001b[0;34m\u001b[0m\u001b[0;34m\u001b[0m\u001b[0m\n\u001b[1;32m      5\u001b[0m \u001b[0mprint\u001b[0m\u001b[0;34m(\u001b[0m\u001b[0mtest_with_nan\u001b[0m\u001b[0;34m.\u001b[0m\u001b[0mshape\u001b[0m\u001b[0;34m)\u001b[0m\u001b[0;34m\u001b[0m\u001b[0;34m\u001b[0m\u001b[0m\n",
      "\u001b[0;32m/anaconda3/lib/python3.7/site-packages/pandas/core/frame.py\u001b[0m in \u001b[0;36m__getitem__\u001b[0;34m(self, key)\u001b[0m\n\u001b[1;32m   2925\u001b[0m             \u001b[0;32mif\u001b[0m \u001b[0mself\u001b[0m\u001b[0;34m.\u001b[0m\u001b[0mcolumns\u001b[0m\u001b[0;34m.\u001b[0m\u001b[0mnlevels\u001b[0m \u001b[0;34m>\u001b[0m \u001b[0;36m1\u001b[0m\u001b[0;34m:\u001b[0m\u001b[0;34m\u001b[0m\u001b[0;34m\u001b[0m\u001b[0m\n\u001b[1;32m   2926\u001b[0m                 \u001b[0;32mreturn\u001b[0m \u001b[0mself\u001b[0m\u001b[0;34m.\u001b[0m\u001b[0m_getitem_multilevel\u001b[0m\u001b[0;34m(\u001b[0m\u001b[0mkey\u001b[0m\u001b[0;34m)\u001b[0m\u001b[0;34m\u001b[0m\u001b[0;34m\u001b[0m\u001b[0m\n\u001b[0;32m-> 2927\u001b[0;31m             \u001b[0mindexer\u001b[0m \u001b[0;34m=\u001b[0m \u001b[0mself\u001b[0m\u001b[0;34m.\u001b[0m\u001b[0mcolumns\u001b[0m\u001b[0;34m.\u001b[0m\u001b[0mget_loc\u001b[0m\u001b[0;34m(\u001b[0m\u001b[0mkey\u001b[0m\u001b[0;34m)\u001b[0m\u001b[0;34m\u001b[0m\u001b[0;34m\u001b[0m\u001b[0m\n\u001b[0m\u001b[1;32m   2928\u001b[0m             \u001b[0;32mif\u001b[0m \u001b[0mis_integer\u001b[0m\u001b[0;34m(\u001b[0m\u001b[0mindexer\u001b[0m\u001b[0;34m)\u001b[0m\u001b[0;34m:\u001b[0m\u001b[0;34m\u001b[0m\u001b[0;34m\u001b[0m\u001b[0m\n\u001b[1;32m   2929\u001b[0m                 \u001b[0mindexer\u001b[0m \u001b[0;34m=\u001b[0m \u001b[0;34m[\u001b[0m\u001b[0mindexer\u001b[0m\u001b[0;34m]\u001b[0m\u001b[0;34m\u001b[0m\u001b[0;34m\u001b[0m\u001b[0m\n",
      "\u001b[0;32m/anaconda3/lib/python3.7/site-packages/pandas/core/indexes/base.py\u001b[0m in \u001b[0;36mget_loc\u001b[0;34m(self, key, method, tolerance)\u001b[0m\n\u001b[1;32m   2657\u001b[0m                 \u001b[0;32mreturn\u001b[0m \u001b[0mself\u001b[0m\u001b[0;34m.\u001b[0m\u001b[0m_engine\u001b[0m\u001b[0;34m.\u001b[0m\u001b[0mget_loc\u001b[0m\u001b[0;34m(\u001b[0m\u001b[0mkey\u001b[0m\u001b[0;34m)\u001b[0m\u001b[0;34m\u001b[0m\u001b[0;34m\u001b[0m\u001b[0m\n\u001b[1;32m   2658\u001b[0m             \u001b[0;32mexcept\u001b[0m \u001b[0mKeyError\u001b[0m\u001b[0;34m:\u001b[0m\u001b[0;34m\u001b[0m\u001b[0;34m\u001b[0m\u001b[0m\n\u001b[0;32m-> 2659\u001b[0;31m                 \u001b[0;32mreturn\u001b[0m \u001b[0mself\u001b[0m\u001b[0;34m.\u001b[0m\u001b[0m_engine\u001b[0m\u001b[0;34m.\u001b[0m\u001b[0mget_loc\u001b[0m\u001b[0;34m(\u001b[0m\u001b[0mself\u001b[0m\u001b[0;34m.\u001b[0m\u001b[0m_maybe_cast_indexer\u001b[0m\u001b[0;34m(\u001b[0m\u001b[0mkey\u001b[0m\u001b[0;34m)\u001b[0m\u001b[0;34m)\u001b[0m\u001b[0;34m\u001b[0m\u001b[0;34m\u001b[0m\u001b[0m\n\u001b[0m\u001b[1;32m   2660\u001b[0m         \u001b[0mindexer\u001b[0m \u001b[0;34m=\u001b[0m \u001b[0mself\u001b[0m\u001b[0;34m.\u001b[0m\u001b[0mget_indexer\u001b[0m\u001b[0;34m(\u001b[0m\u001b[0;34m[\u001b[0m\u001b[0mkey\u001b[0m\u001b[0;34m]\u001b[0m\u001b[0;34m,\u001b[0m \u001b[0mmethod\u001b[0m\u001b[0;34m=\u001b[0m\u001b[0mmethod\u001b[0m\u001b[0;34m,\u001b[0m \u001b[0mtolerance\u001b[0m\u001b[0;34m=\u001b[0m\u001b[0mtolerance\u001b[0m\u001b[0;34m)\u001b[0m\u001b[0;34m\u001b[0m\u001b[0;34m\u001b[0m\u001b[0m\n\u001b[1;32m   2661\u001b[0m         \u001b[0;32mif\u001b[0m \u001b[0mindexer\u001b[0m\u001b[0;34m.\u001b[0m\u001b[0mndim\u001b[0m \u001b[0;34m>\u001b[0m \u001b[0;36m1\u001b[0m \u001b[0;32mor\u001b[0m \u001b[0mindexer\u001b[0m\u001b[0;34m.\u001b[0m\u001b[0msize\u001b[0m \u001b[0;34m>\u001b[0m \u001b[0;36m1\u001b[0m\u001b[0;34m:\u001b[0m\u001b[0;34m\u001b[0m\u001b[0;34m\u001b[0m\u001b[0m\n",
      "\u001b[0;32mpandas/_libs/index.pyx\u001b[0m in \u001b[0;36mpandas._libs.index.IndexEngine.get_loc\u001b[0;34m()\u001b[0m\n",
      "\u001b[0;32mpandas/_libs/index.pyx\u001b[0m in \u001b[0;36mpandas._libs.index.IndexEngine.get_loc\u001b[0;34m()\u001b[0m\n",
      "\u001b[0;32mpandas/_libs/hashtable_class_helper.pxi\u001b[0m in \u001b[0;36mpandas._libs.hashtable.PyObjectHashTable.get_item\u001b[0;34m()\u001b[0m\n",
      "\u001b[0;32mpandas/_libs/hashtable_class_helper.pxi\u001b[0m in \u001b[0;36mpandas._libs.hashtable.PyObjectHashTable.get_item\u001b[0;34m()\u001b[0m\n",
      "\u001b[0;31mKeyError\u001b[0m: 'tagline'"
     ]
    }
   ],
   "source": [
    "# Separate rows with NaN from rows with taglines\n",
    "train_with_tagline = movie_df_rfc[pd.isnull(movie_df_rfc['tagline']) == False]\n",
    "print(train_with_tagline.shape)\n",
    "test_with_nan = movie_df_rfc[pd.isnull(movie_df_rfc['tagline'])]\n",
    "print(test_with_nan.shape)"
   ]
  },
  {
   "cell_type": "markdown",
   "metadata": {},
   "source": [
    "Create function to convert column value strings to numeric values"
   ]
  },
  {
   "cell_type": "code",
   "execution_count": 46,
   "metadata": {},
   "outputs": [],
   "source": [
    "def string_to_numeric(data):\n",
    "    \"\"\"Convert Column value strings and dates to a numeric value\"\"\"\n",
    "    \n",
    "    for i, column in enumerate(list([str(d) for d in data.dtypes])):\n",
    "        if column == \"object\":\n",
    "            data.iloc[:,i] = data.iloc[:,i].astype(\"category\").cat.codes\n",
    "        if column == \"<M8[ns]\":\n",
    "            data.iloc[:,i] = data.iloc[:,i].astype(\"category\").cat.codes\n",
    "    return data"
   ]
  },
  {
   "cell_type": "code",
   "execution_count": 47,
   "metadata": {},
   "outputs": [
    {
     "name": "stderr",
     "output_type": "stream",
     "text": [
      "/anaconda3/lib/python3.7/site-packages/pandas/core/indexing.py:543: SettingWithCopyWarning: \n",
      "A value is trying to be set on a copy of a slice from a DataFrame.\n",
      "Try using .loc[row_indexer,col_indexer] = value instead\n",
      "\n",
      "See the caveats in the documentation: http://pandas.pydata.org/pandas-docs/stable/indexing.html#indexing-view-versus-copy\n",
      "  self.obj[item] = s\n"
     ]
    },
    {
     "data": {
      "text/html": [
       "<div>\n",
       "<style scoped>\n",
       "    .dataframe tbody tr th:only-of-type {\n",
       "        vertical-align: middle;\n",
       "    }\n",
       "\n",
       "    .dataframe tbody tr th {\n",
       "        vertical-align: top;\n",
       "    }\n",
       "\n",
       "    .dataframe thead th {\n",
       "        text-align: right;\n",
       "    }\n",
       "</style>\n",
       "<table border=\"1\" class=\"dataframe\">\n",
       "  <thead>\n",
       "    <tr style=\"text-align: right;\">\n",
       "      <th></th>\n",
       "      <th>title</th>\n",
       "      <th>tagline</th>\n",
       "      <th>revenue</th>\n",
       "      <th>budget</th>\n",
       "      <th>id</th>\n",
       "      <th>original_language</th>\n",
       "      <th>overview</th>\n",
       "      <th>runtime</th>\n",
       "      <th>status</th>\n",
       "      <th>release_date_dt</th>\n",
       "      <th>...</th>\n",
       "      <th>lang_ku</th>\n",
       "      <th>lang_mi</th>\n",
       "      <th>lang_to</th>\n",
       "      <th>lang_ca</th>\n",
       "      <th>lang_br</th>\n",
       "      <th>lang_dz</th>\n",
       "      <th>lang_ky</th>\n",
       "      <th>lang_id</th>\n",
       "      <th>lang_bm</th>\n",
       "      <th>lang_sl</th>\n",
       "    </tr>\n",
       "  </thead>\n",
       "  <tbody>\n",
       "    <tr>\n",
       "      <th>0</th>\n",
       "      <td>301</td>\n",
       "      <td>717</td>\n",
       "      <td>2787965087</td>\n",
       "      <td>237000000</td>\n",
       "      <td>19995</td>\n",
       "      <td>7</td>\n",
       "      <td>2020</td>\n",
       "      <td>162.0</td>\n",
       "      <td>1</td>\n",
       "      <td>1.260403e+18</td>\n",
       "      <td>...</td>\n",
       "      <td>0</td>\n",
       "      <td>0</td>\n",
       "      <td>0</td>\n",
       "      <td>0</td>\n",
       "      <td>0</td>\n",
       "      <td>0</td>\n",
       "      <td>0</td>\n",
       "      <td>0</td>\n",
       "      <td>0</td>\n",
       "      <td>0</td>\n",
       "    </tr>\n",
       "    <tr>\n",
       "      <th>1</th>\n",
       "      <td>2117</td>\n",
       "      <td>402</td>\n",
       "      <td>961000000</td>\n",
       "      <td>300000000</td>\n",
       "      <td>285</td>\n",
       "      <td>7</td>\n",
       "      <td>1322</td>\n",
       "      <td>169.0</td>\n",
       "      <td>1</td>\n",
       "      <td>1.179533e+18</td>\n",
       "      <td>...</td>\n",
       "      <td>0</td>\n",
       "      <td>0</td>\n",
       "      <td>0</td>\n",
       "      <td>0</td>\n",
       "      <td>0</td>\n",
       "      <td>0</td>\n",
       "      <td>0</td>\n",
       "      <td>0</td>\n",
       "      <td>0</td>\n",
       "      <td>0</td>\n",
       "    </tr>\n",
       "  </tbody>\n",
       "</table>\n",
       "<p>2 rows × 14731 columns</p>\n",
       "</div>"
      ],
      "text/plain": [
       "   title  tagline     revenue     budget     id  original_language  overview  \\\n",
       "0    301      717  2787965087  237000000  19995                  7      2020   \n",
       "1   2117      402   961000000  300000000    285                  7      1322   \n",
       "\n",
       "   runtime  status  release_date_dt  ...  lang_ku  lang_mi  lang_to  lang_ca  \\\n",
       "0    162.0       1     1.260403e+18  ...        0        0        0        0   \n",
       "1    169.0       1     1.179533e+18  ...        0        0        0        0   \n",
       "\n",
       "   lang_br  lang_dz  lang_ky  lang_id  lang_bm  lang_sl  \n",
       "0        0        0        0        0        0        0  \n",
       "1        0        0        0        0        0        0  \n",
       "\n",
       "[2 rows x 14731 columns]"
      ]
     },
     "execution_count": 47,
     "metadata": {},
     "output_type": "execute_result"
    }
   ],
   "source": [
    "# Training data\n",
    "string_to_numeric(train_with_tagline)\n",
    "train_with_tagline.head(2)"
   ]
  },
  {
   "cell_type": "code",
   "execution_count": 48,
   "metadata": {},
   "outputs": [
    {
     "data": {
      "text/html": [
       "<div>\n",
       "<style scoped>\n",
       "    .dataframe tbody tr th:only-of-type {\n",
       "        vertical-align: middle;\n",
       "    }\n",
       "\n",
       "    .dataframe tbody tr th {\n",
       "        vertical-align: top;\n",
       "    }\n",
       "\n",
       "    .dataframe thead th {\n",
       "        text-align: right;\n",
       "    }\n",
       "</style>\n",
       "<table border=\"1\" class=\"dataframe\">\n",
       "  <thead>\n",
       "    <tr style=\"text-align: right;\">\n",
       "      <th></th>\n",
       "      <th>title</th>\n",
       "      <th>tagline</th>\n",
       "      <th>revenue</th>\n",
       "      <th>budget</th>\n",
       "      <th>id</th>\n",
       "      <th>original_language</th>\n",
       "      <th>overview</th>\n",
       "      <th>runtime</th>\n",
       "      <th>status</th>\n",
       "      <th>release_date_dt</th>\n",
       "      <th>...</th>\n",
       "      <th>lang_ku</th>\n",
       "      <th>lang_mi</th>\n",
       "      <th>lang_to</th>\n",
       "      <th>lang_ca</th>\n",
       "      <th>lang_br</th>\n",
       "      <th>lang_dz</th>\n",
       "      <th>lang_ky</th>\n",
       "      <th>lang_id</th>\n",
       "      <th>lang_bm</th>\n",
       "      <th>lang_sl</th>\n",
       "    </tr>\n",
       "  </thead>\n",
       "  <tbody>\n",
       "    <tr>\n",
       "      <th>10</th>\n",
       "      <td>563</td>\n",
       "      <td>-1</td>\n",
       "      <td>391081192</td>\n",
       "      <td>270000000</td>\n",
       "      <td>1452</td>\n",
       "      <td>5</td>\n",
       "      <td>593</td>\n",
       "      <td>154.0</td>\n",
       "      <td>1</td>\n",
       "      <td>1.151453e+18</td>\n",
       "      <td>...</td>\n",
       "      <td>0</td>\n",
       "      <td>0</td>\n",
       "      <td>0</td>\n",
       "      <td>0</td>\n",
       "      <td>0</td>\n",
       "      <td>0</td>\n",
       "      <td>0</td>\n",
       "      <td>0</td>\n",
       "      <td>0</td>\n",
       "      <td>0</td>\n",
       "    </tr>\n",
       "    <tr>\n",
       "      <th>56</th>\n",
       "      <td>547</td>\n",
       "      <td>-1</td>\n",
       "      <td>343471816</td>\n",
       "      <td>185000000</td>\n",
       "      <td>188927</td>\n",
       "      <td>5</td>\n",
       "      <td>626</td>\n",
       "      <td>122.0</td>\n",
       "      <td>1</td>\n",
       "      <td>1.467850e+18</td>\n",
       "      <td>...</td>\n",
       "      <td>0</td>\n",
       "      <td>0</td>\n",
       "      <td>0</td>\n",
       "      <td>0</td>\n",
       "      <td>0</td>\n",
       "      <td>0</td>\n",
       "      <td>0</td>\n",
       "      <td>0</td>\n",
       "      <td>0</td>\n",
       "      <td>0</td>\n",
       "    </tr>\n",
       "  </tbody>\n",
       "</table>\n",
       "<p>2 rows × 14731 columns</p>\n",
       "</div>"
      ],
      "text/plain": [
       "    title  tagline    revenue     budget      id  original_language  overview  \\\n",
       "10    563       -1  391081192  270000000    1452                  5       593   \n",
       "56    547       -1  343471816  185000000  188927                  5       626   \n",
       "\n",
       "    runtime  status  release_date_dt  ...  lang_ku  lang_mi  lang_to  lang_ca  \\\n",
       "10    154.0       1     1.151453e+18  ...        0        0        0        0   \n",
       "56    122.0       1     1.467850e+18  ...        0        0        0        0   \n",
       "\n",
       "    lang_br  lang_dz  lang_ky  lang_id  lang_bm  lang_sl  \n",
       "10        0        0        0        0        0        0  \n",
       "56        0        0        0        0        0        0  \n",
       "\n",
       "[2 rows x 14731 columns]"
      ]
     },
     "execution_count": 48,
     "metadata": {},
     "output_type": "execute_result"
    }
   ],
   "source": [
    "# Testing Data\n",
    "string_to_numeric(test_with_nan)\n",
    "test_with_nan.head(2)"
   ]
  },
  {
   "cell_type": "markdown",
   "metadata": {},
   "source": [
    "Start Prediction with Random Forest Regressor"
   ]
  },
  {
   "cell_type": "code",
   "execution_count": 49,
   "metadata": {},
   "outputs": [],
   "source": [
    "# Define independent and dependent variables in dataset\n",
    "# Train\n",
    "X_train = train_with_tagline.drop('tagline', axis=1)\n",
    "y_train = train_with_tagline['tagline']\n",
    "\n",
    "# Test\n",
    "X_test = test_with_nan.drop('tagline', axis=1)\n",
    "y_test = test_with_nan['tagline']"
   ]
  },
  {
   "cell_type": "code",
   "execution_count": 50,
   "metadata": {},
   "outputs": [
    {
     "data": {
      "text/plain": [
       "RandomForestRegressor(bootstrap=True, criterion='mse', max_depth=None,\n",
       "           max_features='auto', max_leaf_nodes=None,\n",
       "           min_impurity_decrease=0.0, min_impurity_split=None,\n",
       "           min_samples_leaf=1, min_samples_split=2,\n",
       "           min_weight_fraction_leaf=0.0, n_estimators=50, n_jobs=None,\n",
       "           oob_score=False, random_state=None, verbose=0, warm_start=False)"
      ]
     },
     "execution_count": 50,
     "metadata": {},
     "output_type": "execute_result"
    }
   ],
   "source": [
    "# Create a RFR model instance with half default number of estimators, due to size of dataset\n",
    "rfr_tagline = RandomForestRegressor(n_estimators=50)\n",
    "\n",
    "# Fit to model\n",
    "rfr_tagline.fit(X_train, y_train)"
   ]
  },
  {
   "cell_type": "code",
   "execution_count": 51,
   "metadata": {},
   "outputs": [],
   "source": [
    "# Generate predicted tagline values\n",
    "generated_taglines = rfr_tagline.predict(X_test)"
   ]
  },
  {
   "cell_type": "code",
   "execution_count": 52,
   "metadata": {},
   "outputs": [
    {
     "name": "stderr",
     "output_type": "stream",
     "text": [
      "/anaconda3/lib/python3.7/site-packages/pandas/core/indexing.py:543: SettingWithCopyWarning: \n",
      "A value is trying to be set on a copy of a slice from a DataFrame.\n",
      "Try using .loc[row_indexer,col_indexer] = value instead\n",
      "\n",
      "See the caveats in the documentation: http://pandas.pydata.org/pandas-docs/stable/indexing.html#indexing-view-versus-copy\n",
      "  self.obj[item] = s\n"
     ]
    },
    {
     "data": {
      "text/html": [
       "<div>\n",
       "<style scoped>\n",
       "    .dataframe tbody tr th:only-of-type {\n",
       "        vertical-align: middle;\n",
       "    }\n",
       "\n",
       "    .dataframe tbody tr th {\n",
       "        vertical-align: top;\n",
       "    }\n",
       "\n",
       "    .dataframe thead th {\n",
       "        text-align: right;\n",
       "    }\n",
       "</style>\n",
       "<table border=\"1\" class=\"dataframe\">\n",
       "  <thead>\n",
       "    <tr style=\"text-align: right;\">\n",
       "      <th></th>\n",
       "      <th>index</th>\n",
       "      <th>title</th>\n",
       "      <th>tagline</th>\n",
       "      <th>revenue</th>\n",
       "      <th>budget</th>\n",
       "      <th>id</th>\n",
       "      <th>original_language</th>\n",
       "      <th>overview</th>\n",
       "      <th>runtime</th>\n",
       "      <th>status</th>\n",
       "      <th>...</th>\n",
       "      <th>lang_ku</th>\n",
       "      <th>lang_mi</th>\n",
       "      <th>lang_to</th>\n",
       "      <th>lang_ca</th>\n",
       "      <th>lang_br</th>\n",
       "      <th>lang_dz</th>\n",
       "      <th>lang_ky</th>\n",
       "      <th>lang_id</th>\n",
       "      <th>lang_bm</th>\n",
       "      <th>lang_sl</th>\n",
       "    </tr>\n",
       "  </thead>\n",
       "  <tbody>\n",
       "    <tr>\n",
       "      <th>0</th>\n",
       "      <td>0</td>\n",
       "      <td>301</td>\n",
       "      <td>717</td>\n",
       "      <td>2787965087</td>\n",
       "      <td>237000000</td>\n",
       "      <td>19995</td>\n",
       "      <td>7</td>\n",
       "      <td>2020</td>\n",
       "      <td>162.0</td>\n",
       "      <td>1</td>\n",
       "      <td>...</td>\n",
       "      <td>0</td>\n",
       "      <td>0</td>\n",
       "      <td>0</td>\n",
       "      <td>0</td>\n",
       "      <td>0</td>\n",
       "      <td>0</td>\n",
       "      <td>0</td>\n",
       "      <td>0</td>\n",
       "      <td>0</td>\n",
       "      <td>0</td>\n",
       "    </tr>\n",
       "    <tr>\n",
       "      <th>1</th>\n",
       "      <td>1</td>\n",
       "      <td>2117</td>\n",
       "      <td>402</td>\n",
       "      <td>961000000</td>\n",
       "      <td>300000000</td>\n",
       "      <td>285</td>\n",
       "      <td>7</td>\n",
       "      <td>1322</td>\n",
       "      <td>169.0</td>\n",
       "      <td>1</td>\n",
       "      <td>...</td>\n",
       "      <td>0</td>\n",
       "      <td>0</td>\n",
       "      <td>0</td>\n",
       "      <td>0</td>\n",
       "      <td>0</td>\n",
       "      <td>0</td>\n",
       "      <td>0</td>\n",
       "      <td>0</td>\n",
       "      <td>0</td>\n",
       "      <td>0</td>\n",
       "    </tr>\n",
       "  </tbody>\n",
       "</table>\n",
       "<p>2 rows × 14732 columns</p>\n",
       "</div>"
      ],
      "text/plain": [
       "   index  title  tagline     revenue     budget     id  original_language  \\\n",
       "0      0    301      717  2787965087  237000000  19995                  7   \n",
       "1      1   2117      402   961000000  300000000    285                  7   \n",
       "\n",
       "   overview  runtime  status  ...  lang_ku  lang_mi  lang_to  lang_ca  \\\n",
       "0      2020    162.0       1  ...        0        0        0        0   \n",
       "1      1322    169.0       1  ...        0        0        0        0   \n",
       "\n",
       "   lang_br  lang_dz  lang_ky  lang_id  lang_bm  lang_sl  \n",
       "0        0        0        0        0        0        0  \n",
       "1        0        0        0        0        0        0  \n",
       "\n",
       "[2 rows x 14732 columns]"
      ]
     },
     "execution_count": 52,
     "metadata": {},
     "output_type": "execute_result"
    }
   ],
   "source": [
    "# Replace column contents\n",
    "test_with_nan.loc[:, 'tagline'] = generated_taglines.astype(int)\n",
    "\n",
    "# Create new movie dataframe with generated taglines\n",
    "movie_generated_taglines = train_with_tagline.append(test_with_nan)"
   ]
  },
  {
   "cell_type": "code",
   "execution_count": 53,
   "metadata": {},
   "outputs": [
    {
     "data": {
      "text/html": [
       "<div>\n",
       "<style scoped>\n",
       "    .dataframe tbody tr th:only-of-type {\n",
       "        vertical-align: middle;\n",
       "    }\n",
       "\n",
       "    .dataframe tbody tr th {\n",
       "        vertical-align: top;\n",
       "    }\n",
       "\n",
       "    .dataframe thead th {\n",
       "        text-align: right;\n",
       "    }\n",
       "</style>\n",
       "<table border=\"1\" class=\"dataframe\">\n",
       "  <thead>\n",
       "    <tr style=\"text-align: right;\">\n",
       "      <th></th>\n",
       "      <th>title</th>\n",
       "      <th>tagline</th>\n",
       "      <th>revenue</th>\n",
       "      <th>budget</th>\n",
       "      <th>id</th>\n",
       "      <th>original_language</th>\n",
       "      <th>overview</th>\n",
       "      <th>runtime</th>\n",
       "      <th>status</th>\n",
       "      <th>release_date_dt</th>\n",
       "      <th>...</th>\n",
       "      <th>lang_ku</th>\n",
       "      <th>lang_mi</th>\n",
       "      <th>lang_to</th>\n",
       "      <th>lang_ca</th>\n",
       "      <th>lang_br</th>\n",
       "      <th>lang_dz</th>\n",
       "      <th>lang_ky</th>\n",
       "      <th>lang_id</th>\n",
       "      <th>lang_bm</th>\n",
       "      <th>lang_sl</th>\n",
       "    </tr>\n",
       "  </thead>\n",
       "  <tbody>\n",
       "    <tr>\n",
       "      <th>0</th>\n",
       "      <td>301</td>\n",
       "      <td>717</td>\n",
       "      <td>2787965087</td>\n",
       "      <td>237000000</td>\n",
       "      <td>19995</td>\n",
       "      <td>7</td>\n",
       "      <td>2020</td>\n",
       "      <td>162.0</td>\n",
       "      <td>1</td>\n",
       "      <td>1.260403e+18</td>\n",
       "      <td>...</td>\n",
       "      <td>0</td>\n",
       "      <td>0</td>\n",
       "      <td>0</td>\n",
       "      <td>0</td>\n",
       "      <td>0</td>\n",
       "      <td>0</td>\n",
       "      <td>0</td>\n",
       "      <td>0</td>\n",
       "      <td>0</td>\n",
       "      <td>0</td>\n",
       "    </tr>\n",
       "    <tr>\n",
       "      <th>1</th>\n",
       "      <td>2117</td>\n",
       "      <td>402</td>\n",
       "      <td>961000000</td>\n",
       "      <td>300000000</td>\n",
       "      <td>285</td>\n",
       "      <td>7</td>\n",
       "      <td>1322</td>\n",
       "      <td>169.0</td>\n",
       "      <td>1</td>\n",
       "      <td>1.179533e+18</td>\n",
       "      <td>...</td>\n",
       "      <td>0</td>\n",
       "      <td>0</td>\n",
       "      <td>0</td>\n",
       "      <td>0</td>\n",
       "      <td>0</td>\n",
       "      <td>0</td>\n",
       "      <td>0</td>\n",
       "      <td>0</td>\n",
       "      <td>0</td>\n",
       "      <td>0</td>\n",
       "    </tr>\n",
       "  </tbody>\n",
       "</table>\n",
       "<p>2 rows × 14731 columns</p>\n",
       "</div>"
      ],
      "text/plain": [
       "   title  tagline     revenue     budget     id  original_language  overview  \\\n",
       "0    301      717  2787965087  237000000  19995                  7      2020   \n",
       "1   2117      402   961000000  300000000    285                  7      1322   \n",
       "\n",
       "   runtime  status  release_date_dt  ...  lang_ku  lang_mi  lang_to  lang_ca  \\\n",
       "0    162.0       1     1.260403e+18  ...        0        0        0        0   \n",
       "1    169.0       1     1.179533e+18  ...        0        0        0        0   \n",
       "\n",
       "   lang_br  lang_dz  lang_ky  lang_id  lang_bm  lang_sl  \n",
       "0        0        0        0        0        0        0  \n",
       "1        0        0        0        0        0        0  \n",
       "\n",
       "[2 rows x 14731 columns]"
      ]
     },
     "execution_count": 53,
     "metadata": {},
     "output_type": "execute_result"
    }
   ],
   "source": [
    "# Drop index column\n",
    "movie_generated_taglines.drop('index',inplace=True,axis=1)\n",
    "movie_generated_taglines.head(2)"
   ]
  },
  {
   "cell_type": "code",
   "execution_count": 56,
   "metadata": {},
   "outputs": [
    {
     "data": {
      "text/html": [
       "<div>\n",
       "<style scoped>\n",
       "    .dataframe tbody tr th:only-of-type {\n",
       "        vertical-align: middle;\n",
       "    }\n",
       "\n",
       "    .dataframe tbody tr th {\n",
       "        vertical-align: top;\n",
       "    }\n",
       "\n",
       "    .dataframe thead th {\n",
       "        text-align: right;\n",
       "    }\n",
       "</style>\n",
       "<table border=\"1\" class=\"dataframe\">\n",
       "  <thead>\n",
       "    <tr style=\"text-align: right;\">\n",
       "      <th></th>\n",
       "      <th>title</th>\n",
       "      <th>tagline</th>\n",
       "      <th>revenue</th>\n",
       "      <th>budget</th>\n",
       "      <th>id</th>\n",
       "      <th>original_language</th>\n",
       "      <th>overview</th>\n",
       "      <th>runtime</th>\n",
       "      <th>status</th>\n",
       "      <th>release_date_dt</th>\n",
       "      <th>...</th>\n",
       "      <th>lang_ku</th>\n",
       "      <th>lang_mi</th>\n",
       "      <th>lang_to</th>\n",
       "      <th>lang_ca</th>\n",
       "      <th>lang_br</th>\n",
       "      <th>lang_dz</th>\n",
       "      <th>lang_ky</th>\n",
       "      <th>lang_id</th>\n",
       "      <th>lang_bm</th>\n",
       "      <th>lang_sl</th>\n",
       "    </tr>\n",
       "  </thead>\n",
       "  <tbody>\n",
       "    <tr>\n",
       "      <th>0</th>\n",
       "      <td>301</td>\n",
       "      <td>717</td>\n",
       "      <td>2787965087</td>\n",
       "      <td>237000000</td>\n",
       "      <td>19995</td>\n",
       "      <td>7</td>\n",
       "      <td>2020</td>\n",
       "      <td>162.0</td>\n",
       "      <td>1</td>\n",
       "      <td>1.260403e+18</td>\n",
       "      <td>...</td>\n",
       "      <td>0</td>\n",
       "      <td>0</td>\n",
       "      <td>0</td>\n",
       "      <td>0</td>\n",
       "      <td>0</td>\n",
       "      <td>0</td>\n",
       "      <td>0</td>\n",
       "      <td>0</td>\n",
       "      <td>0</td>\n",
       "      <td>0</td>\n",
       "    </tr>\n",
       "    <tr>\n",
       "      <th>1</th>\n",
       "      <td>2117</td>\n",
       "      <td>402</td>\n",
       "      <td>961000000</td>\n",
       "      <td>300000000</td>\n",
       "      <td>285</td>\n",
       "      <td>7</td>\n",
       "      <td>1322</td>\n",
       "      <td>169.0</td>\n",
       "      <td>1</td>\n",
       "      <td>1.179533e+18</td>\n",
       "      <td>...</td>\n",
       "      <td>0</td>\n",
       "      <td>0</td>\n",
       "      <td>0</td>\n",
       "      <td>0</td>\n",
       "      <td>0</td>\n",
       "      <td>0</td>\n",
       "      <td>0</td>\n",
       "      <td>0</td>\n",
       "      <td>0</td>\n",
       "      <td>0</td>\n",
       "    </tr>\n",
       "    <tr>\n",
       "      <th>2</th>\n",
       "      <td>2536</td>\n",
       "      <td>93</td>\n",
       "      <td>880674609</td>\n",
       "      <td>245000000</td>\n",
       "      <td>206647</td>\n",
       "      <td>7</td>\n",
       "      <td>153</td>\n",
       "      <td>148.0</td>\n",
       "      <td>1</td>\n",
       "      <td>1.445818e+18</td>\n",
       "      <td>...</td>\n",
       "      <td>0</td>\n",
       "      <td>0</td>\n",
       "      <td>0</td>\n",
       "      <td>0</td>\n",
       "      <td>0</td>\n",
       "      <td>0</td>\n",
       "      <td>0</td>\n",
       "      <td>0</td>\n",
       "      <td>0</td>\n",
       "      <td>0</td>\n",
       "    </tr>\n",
       "    <tr>\n",
       "      <th>3</th>\n",
       "      <td>2886</td>\n",
       "      <td>2623</td>\n",
       "      <td>1084939099</td>\n",
       "      <td>250000000</td>\n",
       "      <td>49026</td>\n",
       "      <td>7</td>\n",
       "      <td>1655</td>\n",
       "      <td>165.0</td>\n",
       "      <td>1</td>\n",
       "      <td>1.342397e+18</td>\n",
       "      <td>...</td>\n",
       "      <td>0</td>\n",
       "      <td>0</td>\n",
       "      <td>0</td>\n",
       "      <td>0</td>\n",
       "      <td>0</td>\n",
       "      <td>0</td>\n",
       "      <td>0</td>\n",
       "      <td>0</td>\n",
       "      <td>0</td>\n",
       "      <td>0</td>\n",
       "    </tr>\n",
       "    <tr>\n",
       "      <th>4</th>\n",
       "      <td>1531</td>\n",
       "      <td>1779</td>\n",
       "      <td>284139100</td>\n",
       "      <td>260000000</td>\n",
       "      <td>49529</td>\n",
       "      <td>7</td>\n",
       "      <td>2240</td>\n",
       "      <td>132.0</td>\n",
       "      <td>1</td>\n",
       "      <td>1.331078e+18</td>\n",
       "      <td>...</td>\n",
       "      <td>0</td>\n",
       "      <td>0</td>\n",
       "      <td>0</td>\n",
       "      <td>0</td>\n",
       "      <td>0</td>\n",
       "      <td>0</td>\n",
       "      <td>0</td>\n",
       "      <td>0</td>\n",
       "      <td>0</td>\n",
       "      <td>0</td>\n",
       "    </tr>\n",
       "  </tbody>\n",
       "</table>\n",
       "<p>5 rows × 14731 columns</p>\n",
       "</div>"
      ],
      "text/plain": [
       "   title  tagline     revenue     budget      id  original_language  overview  \\\n",
       "0    301      717  2787965087  237000000   19995                  7      2020   \n",
       "1   2117      402   961000000  300000000     285                  7      1322   \n",
       "2   2536       93   880674609  245000000  206647                  7       153   \n",
       "3   2886     2623  1084939099  250000000   49026                  7      1655   \n",
       "4   1531     1779   284139100  260000000   49529                  7      2240   \n",
       "\n",
       "   runtime  status  release_date_dt  ...  lang_ku  lang_mi  lang_to  lang_ca  \\\n",
       "0    162.0       1     1.260403e+18  ...        0        0        0        0   \n",
       "1    169.0       1     1.179533e+18  ...        0        0        0        0   \n",
       "2    148.0       1     1.445818e+18  ...        0        0        0        0   \n",
       "3    165.0       1     1.342397e+18  ...        0        0        0        0   \n",
       "4    132.0       1     1.331078e+18  ...        0        0        0        0   \n",
       "\n",
       "   lang_br  lang_dz  lang_ky  lang_id  lang_bm  lang_sl  \n",
       "0        0        0        0        0        0        0  \n",
       "1        0        0        0        0        0        0  \n",
       "2        0        0        0        0        0        0  \n",
       "3        0        0        0        0        0        0  \n",
       "4        0        0        0        0        0        0  \n",
       "\n",
       "[5 rows x 14731 columns]"
      ]
     },
     "execution_count": 56,
     "metadata": {},
     "output_type": "execute_result"
    }
   ],
   "source": [
    "movie_generated_taglines.head()"
   ]
  },
  {
   "cell_type": "code",
   "execution_count": 55,
   "metadata": {},
   "outputs": [
    {
     "name": "stdout",
     "output_type": "stream",
     "text": [
      "Stored 'movie_generated_taglines' (DataFrame)\n"
     ]
    }
   ],
   "source": [
    "# Store dataframe globally\n",
    "%store movie_generated_taglines"
   ]
  }
 ],
 "metadata": {
  "kernelspec": {
   "display_name": "Python 3",
   "language": "python",
   "name": "python3"
  },
  "language_info": {
   "codemirror_mode": {
    "name": "ipython",
    "version": 3
   },
   "file_extension": ".py",
   "mimetype": "text/x-python",
   "name": "python",
   "nbconvert_exporter": "python",
   "pygments_lexer": "ipython3",
   "version": "3.7.3"
  }
 },
 "nbformat": 4,
 "nbformat_minor": 2
}
