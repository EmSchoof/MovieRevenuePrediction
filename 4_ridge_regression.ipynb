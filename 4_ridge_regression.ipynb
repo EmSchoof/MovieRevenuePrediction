{
 "cells": [
  {
   "cell_type": "markdown",
   "metadata": {},
   "source": [
    "## Movie Revenue Prediction"
   ]
  },
  {
   "cell_type": "code",
   "execution_count": 1,
   "metadata": {},
   "outputs": [
    {
     "name": "stdout",
     "output_type": "stream",
     "text": [
      "Emily Schoof 2019-08-22 21:07:19 \n",
      "\n",
      "CPython 3.7.3\n",
      "IPython 7.4.0\n",
      "\n",
      "numpy 1.16.2\n",
      "pandas 0.24.2\n",
      "matplotlib 3.0.3\n",
      "sklearn 0.20.3\n",
      "nltk 3.4\n"
     ]
    }
   ],
   "source": [
    "%load_ext watermark\n",
    "%watermark -a \"Emily Schoof\" -d -t -v -p numpy,pandas,matplotlib,sklearn,nltk"
   ]
  },
  {
   "cell_type": "code",
   "execution_count": 2,
   "metadata": {},
   "outputs": [
    {
     "data": {
      "text/plain": [
       "((4641, 121), (4641, 29))"
      ]
     },
     "execution_count": 2,
     "metadata": {},
     "output_type": "execute_result"
    }
   ],
   "source": [
    "# Load the dataset\n",
    "%store -r movie_revenue_ml\n",
    "%store -r movie_revenue_ml_2\n",
    "movie_revenue_ml.shape, movie_revenue_ml_2.shape"
   ]
  },
  {
   "cell_type": "code",
   "execution_count": 3,
   "metadata": {},
   "outputs": [
    {
     "data": {
      "text/html": [
       "<div>\n",
       "<style scoped>\n",
       "    .dataframe tbody tr th:only-of-type {\n",
       "        vertical-align: middle;\n",
       "    }\n",
       "\n",
       "    .dataframe tbody tr th {\n",
       "        vertical-align: top;\n",
       "    }\n",
       "\n",
       "    .dataframe thead th {\n",
       "        text-align: right;\n",
       "    }\n",
       "</style>\n",
       "<table border=\"1\" class=\"dataframe\">\n",
       "  <thead>\n",
       "    <tr style=\"text-align: right;\">\n",
       "      <th></th>\n",
       "      <th>title</th>\n",
       "      <th>revenue</th>\n",
       "      <th>original_language</th>\n",
       "      <th>runtime</th>\n",
       "      <th>release_date</th>\n",
       "      <th>release_day_of_week</th>\n",
       "      <th>release_month</th>\n",
       "      <th>action</th>\n",
       "      <th>adventure</th>\n",
       "      <th>animation</th>\n",
       "      <th>...</th>\n",
       "      <th>gb</th>\n",
       "      <th>germany</th>\n",
       "      <th>kingdom</th>\n",
       "      <th>states</th>\n",
       "      <th>united</th>\n",
       "      <th>deutsch</th>\n",
       "      <th>english</th>\n",
       "      <th>espa</th>\n",
       "      <th>fran</th>\n",
       "      <th>italiano</th>\n",
       "    </tr>\n",
       "  </thead>\n",
       "  <tbody>\n",
       "    <tr>\n",
       "      <th>0</th>\n",
       "      <td>6</td>\n",
       "      <td>2.787965e+09</td>\n",
       "      <td>en</td>\n",
       "      <td>162.0</td>\n",
       "      <td>20091210</td>\n",
       "      <td>Thursday</td>\n",
       "      <td>12</td>\n",
       "      <td>1</td>\n",
       "      <td>1</td>\n",
       "      <td>0</td>\n",
       "      <td>...</td>\n",
       "      <td>1</td>\n",
       "      <td>0</td>\n",
       "      <td>1</td>\n",
       "      <td>1</td>\n",
       "      <td>2</td>\n",
       "      <td>0</td>\n",
       "      <td>1</td>\n",
       "      <td>1</td>\n",
       "      <td>0</td>\n",
       "      <td>0</td>\n",
       "    </tr>\n",
       "    <tr>\n",
       "      <th>1</th>\n",
       "      <td>7</td>\n",
       "      <td>1.845034e+09</td>\n",
       "      <td>en</td>\n",
       "      <td>194.0</td>\n",
       "      <td>19971118</td>\n",
       "      <td>Tuesday</td>\n",
       "      <td>11</td>\n",
       "      <td>0</td>\n",
       "      <td>0</td>\n",
       "      <td>0</td>\n",
       "      <td>...</td>\n",
       "      <td>0</td>\n",
       "      <td>0</td>\n",
       "      <td>0</td>\n",
       "      <td>1</td>\n",
       "      <td>1</td>\n",
       "      <td>1</td>\n",
       "      <td>1</td>\n",
       "      <td>0</td>\n",
       "      <td>1</td>\n",
       "      <td>1</td>\n",
       "    </tr>\n",
       "  </tbody>\n",
       "</table>\n",
       "<p>2 rows × 120 columns</p>\n",
       "</div>"
      ],
      "text/plain": [
       "   title       revenue original_language  runtime  release_date  \\\n",
       "0      6  2.787965e+09                en    162.0      20091210   \n",
       "1      7  1.845034e+09                en    194.0      19971118   \n",
       "\n",
       "  release_day_of_week  release_month  action  adventure  animation  ...  gb  \\\n",
       "0            Thursday             12       1          1          0  ...   1   \n",
       "1             Tuesday             11       0          0          0  ...   0   \n",
       "\n",
       "   germany  kingdom  states  united  deutsch  english  espa  fran  italiano  \n",
       "0        0        1       1       2        0        1     1     0         0  \n",
       "1        0        0       1       1        1        1     0     1         1  \n",
       "\n",
       "[2 rows x 120 columns]"
      ]
     },
     "execution_count": 3,
     "metadata": {},
     "output_type": "execute_result"
    }
   ],
   "source": [
    "movie_revenue_ml = movie_revenue_ml.drop(columns='genres')\n",
    "movie_revenue_ml.head(2)"
   ]
  },
  {
   "cell_type": "markdown",
   "metadata": {},
   "source": [
    "## Create a Step-by-Step Pipeline\n",
    "\n",
    "Case 1: Using only top features (made in 3b_feature_engineering) from the nested columns\n",
    "\n",
    "Case 2: Using all genres, and relying on CountVectorizer (with no labels) to assess other (cleaned) nested columns"
   ]
  },
  {
   "cell_type": "markdown",
   "metadata": {},
   "source": [
    "_____________________________________________________________________________________________________________________"
   ]
  },
  {
   "cell_type": "markdown",
   "metadata": {},
   "source": [
    "## Case 1: Using Only Top Features\n",
    "\n",
    "### Define Target (Movie Revenue *movie_revenue_ml['revenue']*) and Feature Variables"
   ]
  },
  {
   "cell_type": "code",
   "execution_count": 4,
   "metadata": {},
   "outputs": [],
   "source": [
    "# Import relevent modules\n",
    "from sklearn.model_selection import train_test_split"
   ]
  },
  {
   "cell_type": "code",
   "execution_count": 5,
   "metadata": {},
   "outputs": [
    {
     "name": "stdout",
     "output_type": "stream",
     "text": [
      "Target:  (4641,)\n",
      "Features:  (4641, 119)\n"
     ]
    }
   ],
   "source": [
    "# Set up the target variable\n",
    "y_target = movie_revenue_ml['revenue'].values\n",
    "print('Target: ', y_target.shape)\n",
    "\n",
    "# Set the feature variables\n",
    "X_features = movie_revenue_ml.drop(columns=['revenue'], axis = 1)\n",
    "feature_list = X_features.columns\n",
    "print('Features: ', X_features.shape)"
   ]
  },
  {
   "cell_type": "markdown",
   "metadata": {},
   "source": [
    "### Preprocessing Data"
   ]
  },
  {
   "cell_type": "code",
   "execution_count": 6,
   "metadata": {},
   "outputs": [],
   "source": [
    "# Import relevant modules\n",
    "from sklearn.feature_extraction.text import CountVectorizer"
   ]
  },
  {
   "cell_type": "code",
   "execution_count": 7,
   "metadata": {},
   "outputs": [
    {
     "data": {
      "text/plain": [
       "title                    int64\n",
       "revenue                float64\n",
       "original_language       object\n",
       "runtime                float64\n",
       "release_date             int64\n",
       "release_day_of_week     object\n",
       "release_month            int64\n",
       "action                   int64\n",
       "adventure                int64\n",
       "animation                int64\n",
       "comedy                   int64\n",
       "crime                    int64\n",
       "documentary              int64\n",
       "drama                    int64\n",
       "family                   int64\n",
       "fantasy                  int64\n",
       "fiction                  int64\n",
       "history                  int64\n",
       "horror                   int64\n",
       "music                    int64\n",
       "mystery                  int64\n",
       "romance                  int64\n",
       "science                  int64\n",
       "thriller                 int64\n",
       "war                      int64\n",
       "aftercreditsstinger      int64\n",
       "base                     int64\n",
       "biography                int64\n",
       "car                      int64\n",
       "child                    int64\n",
       "                        ...   \n",
       "new                      int64\n",
       "paramount                int64\n",
       "picture                  int64\n",
       "pictures                 int64\n",
       "production               int64\n",
       "productions              int64\n",
       "relativity               int64\n",
       "studio                   int64\n",
       "touchstone               int64\n",
       "twentieth                int64\n",
       "universal                int64\n",
       "walt                     int64\n",
       "warner                   int64\n",
       "america                  int64\n",
       "au                       int64\n",
       "australia                int64\n",
       "ca                       int64\n",
       "canada                   int64\n",
       "fr                       int64\n",
       "france                   int64\n",
       "gb                       int64\n",
       "germany                  int64\n",
       "kingdom                  int64\n",
       "states                   int64\n",
       "united                   int64\n",
       "deutsch                  int64\n",
       "english                  int64\n",
       "espa                     int64\n",
       "fran                     int64\n",
       "italiano                 int64\n",
       "Length: 120, dtype: object"
      ]
     },
     "execution_count": 7,
     "metadata": {},
     "output_type": "execute_result"
    }
   ],
   "source": [
    "movie_revenue_ml.dtypes"
   ]
  },
  {
   "cell_type": "markdown",
   "metadata": {},
   "source": [
    "**Text Columns**"
   ]
  },
  {
   "cell_type": "code",
   "execution_count": 8,
   "metadata": {},
   "outputs": [],
   "source": [
    "def combine_text_columns(df):\n",
    "    \"\"\" Convert All Values in a Column Into One Vector \"\"\"\n",
    "    \n",
    "    # Replace nulls with empty spaces\n",
    "    df.fillna('', inplace=True)\n",
    "    \n",
    "          # Join all columns into unique vectors\n",
    "    return df.apply(lambda col: ' '.join(col), axis=1)"
   ]
  },
  {
   "cell_type": "code",
   "execution_count": 9,
   "metadata": {},
   "outputs": [
    {
     "name": "stderr",
     "output_type": "stream",
     "text": [
      "/anaconda3/lib/python3.7/site-packages/pandas/core/frame.py:4034: SettingWithCopyWarning: \n",
      "A value is trying to be set on a copy of a slice from a DataFrame\n",
      "\n",
      "See the caveats in the documentation: http://pandas.pydata.org/pandas-docs/stable/indexing.html#indexing-view-versus-copy\n",
      "  downcast=downcast, **kwargs)\n"
     ]
    }
   ],
   "source": [
    "text_columns = ['original_language', 'release_day_of_week']\n",
    "token_alphanumeric = '[A-Za-z0-9]+(?=\\\\s+)'\n",
    "X_feature_text = X_features[text_columns]\n",
    "X_feature_text_vector = combine_text_columns(X_feature_text)"
   ]
  },
  {
   "cell_type": "code",
   "execution_count": 10,
   "metadata": {},
   "outputs": [],
   "source": [
    "# Create a vectorizer instance\n",
    "vectorizer = CountVectorizer(binary=False, token_pattern=token_alphanumeric)\n",
    "\n",
    "# build the vocabulary and convert text to a bag of words\n",
    "X_features_text_transformed = vectorizer.fit_transform(X_feature_text_vector)"
   ]
  },
  {
   "cell_type": "code",
   "execution_count": 11,
   "metadata": {},
   "outputs": [
    {
     "data": {
      "text/plain": [
       "(4641, 37)"
      ]
     },
     "execution_count": 11,
     "metadata": {},
     "output_type": "execute_result"
    }
   ],
   "source": [
    "X_features_text_transformed.shape"
   ]
  },
  {
   "cell_type": "markdown",
   "metadata": {},
   "source": [
    "**Numerical Values**"
   ]
  },
  {
   "cell_type": "code",
   "execution_count": 12,
   "metadata": {},
   "outputs": [
    {
     "data": {
      "text/plain": [
       "(4641, 129)"
      ]
     },
     "execution_count": 12,
     "metadata": {},
     "output_type": "execute_result"
    }
   ],
   "source": [
    "numberic_columns = X_features.copy().drop(columns=text_columns).columns\n",
    "X_feature_numberic = X_features[numberic_columns]\n",
    "X_feature_numberic.shape"
   ]
  },
  {
   "cell_type": "markdown",
   "metadata": {},
   "source": [
    "**Combine Processed Text and Numerical Features**"
   ]
  },
  {
   "cell_type": "code",
   "execution_count": 13,
   "metadata": {},
   "outputs": [],
   "source": [
    "# Import Necessary Modules\n",
    "import numpy as np\n",
    "from scipy.sparse import hstack"
   ]
  },
  {
   "cell_type": "code",
   "execution_count": 14,
   "metadata": {},
   "outputs": [],
   "source": [
    "X_features_processed = hstack((X_features_text_transformed, np.array(X_feature_numberic))).toarray()"
   ]
  },
  {
   "cell_type": "code",
   "execution_count": 15,
   "metadata": {},
   "outputs": [
    {
     "data": {
      "text/plain": [
       "(4641, 166)"
      ]
     },
     "execution_count": 15,
     "metadata": {},
     "output_type": "execute_result"
    }
   ],
   "source": [
    "X_features_processed.shape"
   ]
  },
  {
   "cell_type": "markdown",
   "metadata": {},
   "source": [
    "*Observations*: 165 columns is a not a high dimensional dataset. So, dimensionality reduction does not need to be applied."
   ]
  },
  {
   "cell_type": "markdown",
   "metadata": {},
   "source": [
    "### Standard Scale Data"
   ]
  },
  {
   "cell_type": "code",
   "execution_count": 16,
   "metadata": {},
   "outputs": [],
   "source": [
    "from sklearn.preprocessing import StandardScaler"
   ]
  },
  {
   "cell_type": "code",
   "execution_count": 17,
   "metadata": {},
   "outputs": [],
   "source": [
    "# Standarize features\n",
    "scaler = StandardScaler()\n",
    "\n",
    "# Fit to data\n",
    "X_features_scaled = scaler.fit_transform(X_features_processed)"
   ]
  },
  {
   "cell_type": "code",
   "execution_count": 18,
   "metadata": {},
   "outputs": [
    {
     "data": {
      "text/plain": [
       "(4641, 166)"
      ]
     },
     "execution_count": 18,
     "metadata": {},
     "output_type": "execute_result"
    }
   ],
   "source": [
    "X_features_scaled.shape"
   ]
  },
  {
   "cell_type": "markdown",
   "metadata": {},
   "source": [
    "### Split Data"
   ]
  },
  {
   "cell_type": "code",
   "execution_count": 19,
   "metadata": {},
   "outputs": [
    {
     "name": "stdout",
     "output_type": "stream",
     "text": [
      "3248 1393 3248 1393\n"
     ]
    },
    {
     "data": {
      "text/plain": [
       "((3248, 166), (1393, 166), (3248,), (1393,))"
      ]
     },
     "execution_count": 19,
     "metadata": {},
     "output_type": "execute_result"
    }
   ],
   "source": [
    "# Create train and test data sets -> Arbitrary Random State of 42 Set with test/train size of 30/70 (>25% of data)\n",
    "X_train, X_test, y_train, y_test = train_test_split(X_features_scaled, y_target, test_size=0.3, random_state=42)\n",
    "print(len(X_train), len(X_test), len(y_train), len(y_test))\n",
    "X_train.shape, X_test.shape, y_train.shape, y_test.shape "
   ]
  },
  {
   "cell_type": "markdown",
   "metadata": {},
   "source": [
    "## Model Selection: Ridge Regression\n",
    "- Shrink the coefficients and it helps to reduce the model complexity and multi-collinearity\n",
    "- Higher the alpha value, more restriction on the coefficients\n",
    "- MSE is a measure of the quality of the estimator while MAE is a measure that returns the weighted average of all output errors"
   ]
  },
  {
   "cell_type": "markdown",
   "metadata": {},
   "source": [
    "**Determine Best Alpha for Model**"
   ]
  },
  {
   "cell_type": "code",
   "execution_count": 20,
   "metadata": {},
   "outputs": [],
   "source": [
    "# Import necessary modules\n",
    "from sklearn.linear_model import RidgeCV\n",
    "import matplotlib.pyplot as plt\n",
    "import seaborn as sns"
   ]
  },
  {
   "cell_type": "code",
   "execution_count": 21,
   "metadata": {},
   "outputs": [],
   "source": [
    "# Create ridge regression with five possible alpha values\n",
    "potential_alphas = 10**np.linspace(10,-2,100)*0.5\n",
    "\n",
    "# Create ridgecv instance with potential alphas and 10 cross validations\n",
    "ridge_cv = RidgeCV(cv=5, alphas=potential_alphas, scoring='neg_mean_absolute_error', normalize=True)"
   ]
  },
  {
   "cell_type": "code",
   "execution_count": 22,
   "metadata": {},
   "outputs": [
    {
     "name": "stderr",
     "output_type": "stream",
     "text": [
      "/anaconda3/lib/python3.7/site-packages/sklearn/model_selection/_search.py:841: DeprecationWarning: The default of the `iid` parameter will change from True to False in version 0.22 and will be removed in 0.24. This will change numeric results when test-set sizes are unequal.\n",
      "  DeprecationWarning)\n"
     ]
    }
   ],
   "source": [
    "# Fit to entire data\n",
    "ridge_cv = ridge_cv.fit(X_features_scaled, y_target)"
   ]
  },
  {
   "cell_type": "code",
   "execution_count": 23,
   "metadata": {},
   "outputs": [
    {
     "data": {
      "text/plain": [
       "(array([-7.74206950e+02, -2.36671159e+02, -1.00173320e+03, -2.73896040e+02,\n",
       "        -9.18651719e+02, -1.46357175e+03, -8.50200447e+02,  6.13258190e+03,\n",
       "        -2.31972939e+03, -6.21295402e+02, -2.89697472e+03, -6.35585696e+02,\n",
       "        -1.89530556e+03, -2.75023515e+02, -1.17966524e+03, -8.51065609e+02,\n",
       "        -1.40782487e+03, -6.59461252e+02, -1.34809434e+03, -6.23086169e+01,\n",
       "        -8.20130723e+02, -9.45099701e+02, -8.35473940e+02, -7.67631469e+02,\n",
       "        -2.73148166e+02, -8.72043323e+02, -6.39281628e+02, -1.80023775e+03,\n",
       "        -6.17890823e+01, -5.78420295e+02, -8.79482596e+01, -7.35842274e+01,\n",
       "        -9.79630748e+02, -2.75259780e+02, -8.45936349e+02, -4.21079889e+02,\n",
       "        -9.28857778e+02,  8.73461355e+03,  1.94381361e+04,  9.00846834e+03,\n",
       "         3.28227529e+03,  1.49285708e+04,  2.72360545e+04,  1.62144606e+04,\n",
       "         1.73958582e+04, -4.31980175e+03, -2.54577432e+02, -5.15547492e+03,\n",
       "        -3.99156743e+03, -1.40303055e+04,  1.40513954e+04, -1.31115936e+02,\n",
       "         1.66131426e+04,  1.13954536e+04, -2.90800540e+03, -6.70310134e+03,\n",
       "        -2.92872551e+03, -1.42863839e+03, -5.22051997e+03,  1.13954536e+04,\n",
       "        -2.02006866e+03, -5.91853142e+02,  5.78781411e+03,  1.25960560e+04,\n",
       "         1.16796752e+04, -2.31594690e+03,  5.44591708e+03,  3.30276399e+03,\n",
       "        -4.31980175e+03, -2.54577432e+02,  3.25474767e+03,  3.58890914e+03,\n",
       "        -3.42405896e+03, -3.51382055e+03,  1.24110327e+04,  5.03359252e+03,\n",
       "         1.40513954e+04, -1.31115936e+02,  4.49017851e+03, -1.37298333e+03,\n",
       "        -7.53231139e+03,  6.56392905e+02,  1.69378213e+03,  1.28753298e+03,\n",
       "        -3.11135432e+03, -8.68084144e+03, -2.19425948e+03,  3.30063532e+03,\n",
       "         2.05642043e+03,  2.40063560e+03,  2.09226918e+03,  8.59836926e+01,\n",
       "        -3.45126636e+03, -3.95969181e+02,  5.83667034e+02,  6.50561189e+03,\n",
       "        -8.82258889e+02,  4.13620090e+02,  1.21131978e+03, -8.56475128e+02,\n",
       "         8.50649702e+03, -3.87344410e+03, -2.75291702e+03, -4.87231211e+02,\n",
       "        -5.91853142e+02,  5.78781411e+03, -2.04892923e+03,  9.02142864e+03,\n",
       "        -2.05901084e+02,  1.62144606e+04,  1.73958582e+04,  8.55236112e+03,\n",
       "        -2.78577441e+03,  1.07313582e+04,  5.80574221e+02,  4.43286043e+03,\n",
       "         3.61828120e+03,  6.40995114e+03,  1.32634722e+04,  1.07313029e+04,\n",
       "         2.33526753e+03,  7.08347550e+03, -7.53231139e+03,  6.56392905e+02,\n",
       "        -6.10449376e+03,  7.21515729e+03, -8.42806718e+02, -1.58416782e+03,\n",
       "        -2.56769407e+03,  1.42242983e+03, -2.90933844e+02,  2.38628827e+03,\n",
       "        -3.16242165e+02, -3.12650804e+02, -2.79545615e+03, -3.95969181e+02,\n",
       "         5.83667034e+02,  5.79152541e+03, -1.04708922e+03,  1.04490179e+04,\n",
       "        -2.19336058e+03,  1.37353011e+03,  1.28902082e+03,  1.35455767e+04,\n",
       "        -4.06850147e+02,  1.09919780e+04,  5.56729250e+03,  1.36087844e+04,\n",
       "         8.31886181e+03,  1.03972593e+04,  3.60775975e+00,  3.60775975e+00,\n",
       "        -2.92105755e+03, -2.92105755e+03, -4.94776925e+03, -4.94776925e+03,\n",
       "         1.85877448e+03, -1.16377662e+03,  1.85877448e+03,  1.03972593e+04,\n",
       "         1.01786242e+04,  1.83408665e+03,  4.70824633e+03,  1.84480357e+03,\n",
       "         2.54685034e+03,  2.78092862e+03]), (166,))"
      ]
     },
     "execution_count": 23,
     "metadata": {},
     "output_type": "execute_result"
    }
   ],
   "source": [
    "ridge_cv.coef_, ridge_cv.coef_.shape"
   ]
  },
  {
   "cell_type": "code",
   "execution_count": 24,
   "metadata": {},
   "outputs": [
    {
     "data": {
      "text/plain": [
       "1882.4679"
      ]
     },
     "execution_count": 24,
     "metadata": {},
     "output_type": "execute_result"
    }
   ],
   "source": [
    "# View best alpha for the ridge model\n",
    "optimal_alpha = round(ridge_cv.alpha_, 4)\n",
    "optimal_alpha"
   ]
  },
  {
   "cell_type": "markdown",
   "metadata": {},
   "source": [
    "**Create a Ridge Regression Model**"
   ]
  },
  {
   "cell_type": "code",
   "execution_count": 25,
   "metadata": {},
   "outputs": [],
   "source": [
    "# Import relevant modules\n",
    "from sklearn.linear_model import Ridge"
   ]
  },
  {
   "cell_type": "code",
   "execution_count": 26,
   "metadata": {},
   "outputs": [
    {
     "data": {
      "text/plain": [
       "Ridge(alpha=1882.4679, copy_X=True, fit_intercept=True, max_iter=None,\n",
       "   normalize=True, random_state=None, solver='auto', tol=0.001)"
      ]
     },
     "execution_count": 26,
     "metadata": {},
     "output_type": "execute_result"
    }
   ],
   "source": [
    "# Create a rigde instance with optimal alpha\n",
    "ridge_reg = Ridge(alpha=optimal_alpha, normalize=True)\n",
    "\n",
    "# Fit to training data\n",
    "ridge_reg.fit(X_train, y_train)"
   ]
  },
  {
   "cell_type": "markdown",
   "metadata": {},
   "source": [
    "#### Assess Model Accuracy"
   ]
  },
  {
   "cell_type": "code",
   "execution_count": 27,
   "metadata": {},
   "outputs": [],
   "source": [
    "# Import metrics modules\n",
    "from math import sqrt\n",
    "import matplotlib.pyplot as plt\n",
    "import pandas as pd\n",
    "import seaborn as sns\n",
    "from sklearn.metrics import mean_squared_error, mean_absolute_error\n",
    "from statsmodels.graphics.gofplots import qqplot"
   ]
  },
  {
   "cell_type": "markdown",
   "metadata": {},
   "source": [
    "*Observations*: Using the standard-scaled features with reduced dimensionality, the large alpha appears to predict movie revenue with relatively high accuracy for both the training and testing datasets."
   ]
  },
  {
   "cell_type": "code",
   "execution_count": 28,
   "metadata": {},
   "outputs": [
    {
     "data": {
      "image/png": "[encoded data removed]",
      "text/plain": [
       "<Figure size 432x288 with 1 Axes>"
      ]
     },
     "metadata": {
      "needs_background": "light"
     },
     "output_type": "display_data"
    }
   ],
   "source": [
    "plt.plot(ridge_reg.coef_,alpha=optimal_alpha,linestyle='none',marker='*',markersize=5,color='red',label=r'Ridge; $\\alpha = 1882.47$',zorder=7) # zorder for ordering the markers\n",
    "plt.title('Shrinking Coefficient Magnitude using Ridge Regression (Model 1)',fontsize=13)\n",
    "plt.xlabel('Coefficient Index',fontsize=16)\n",
    "plt.ylabel('Coefficient Magnitude',fontsize=16)\n",
    "plt.legend(fontsize=13,loc=4)\n",
    "plt.show()"
   ]
  },
  {
   "cell_type": "code",
   "execution_count": 29,
   "metadata": {},
   "outputs": [
    {
     "data": {
      "text/html": [
       "<div>\n",
       "<style scoped>\n",
       "    .dataframe tbody tr th:only-of-type {\n",
       "        vertical-align: middle;\n",
       "    }\n",
       "\n",
       "    .dataframe tbody tr th {\n",
       "        vertical-align: top;\n",
       "    }\n",
       "\n",
       "    .dataframe thead th {\n",
       "        text-align: right;\n",
       "    }\n",
       "</style>\n",
       "<table border=\"1\" class=\"dataframe\">\n",
       "  <thead>\n",
       "    <tr style=\"text-align: right;\">\n",
       "      <th></th>\n",
       "      <th>Actual</th>\n",
       "      <th>Predicted</th>\n",
       "    </tr>\n",
       "  </thead>\n",
       "  <tbody>\n",
       "    <tr>\n",
       "      <th>0</th>\n",
       "      <td>2.550002e+08</td>\n",
       "      <td>1.078749e+08</td>\n",
       "    </tr>\n",
       "    <tr>\n",
       "      <th>1</th>\n",
       "      <td>3.808578e+07</td>\n",
       "      <td>1.080682e+08</td>\n",
       "    </tr>\n",
       "    <tr>\n",
       "      <th>2</th>\n",
       "      <td>1.012778e+08</td>\n",
       "      <td>1.077026e+08</td>\n",
       "    </tr>\n",
       "    <tr>\n",
       "      <th>3</th>\n",
       "      <td>3.735521e+08</td>\n",
       "      <td>1.083225e+08</td>\n",
       "    </tr>\n",
       "    <tr>\n",
       "      <th>4</th>\n",
       "      <td>1.244940e+05</td>\n",
       "      <td>1.078776e+08</td>\n",
       "    </tr>\n",
       "  </tbody>\n",
       "</table>\n",
       "</div>"
      ],
      "text/plain": [
       "         Actual     Predicted\n",
       "0  2.550002e+08  1.078749e+08\n",
       "1  3.808578e+07  1.080682e+08\n",
       "2  1.012778e+08  1.077026e+08\n",
       "3  3.735521e+08  1.083225e+08\n",
       "4  1.244940e+05  1.078776e+08"
      ]
     },
     "execution_count": 29,
     "metadata": {},
     "output_type": "execute_result"
    }
   ],
   "source": [
    "# Evaluate Model Performance\n",
    "ridge_y_pred = ridge_reg.predict(X_test)\n",
    "performance_df = pd.DataFrame({'Actual': y_test.flatten(), 'Predicted': ridge_y_pred.flatten()})\n",
    "performance_df.head()"
   ]
  },
  {
   "cell_type": "code",
   "execution_count": 30,
   "metadata": {},
   "outputs": [
    {
     "data": {
      "image/png": "[encoded data removed]",
      "text/plain": [
       "<Figure size 432x288 with 1 Axes>"
      ]
     },
     "metadata": {
      "needs_background": "light"
     },
     "output_type": "display_data"
    }
   ],
   "source": [
    "# Plot model\n",
    "ridge_pred_mean = np.mean(ridge_y_pred)\n",
    "ridge_pred_std = np.std(ridge_y_pred)\n",
    "sns.distplot(ridge_y_pred)\n",
    "plt.axvline(x=ridge_pred_mean, color='green', label='{0:2.2f} Mean, {1:2.2f} Std'.format(ridge_pred_mean, ridge_pred_std))\n",
    "plt.legend(fontsize = 'small', loc='upper right')\n",
    "plt.title(\"Predicted Revenue with Ridge Regression (Model 1)\")\n",
    "plt.xlabel(\"Movie Revenue Prices (100 M)\")\n",
    "plt.ylabel(\"Probability Density\")\n",
    "plt.show()"
   ]
  },
  {
   "cell_type": "code",
   "execution_count": 31,
   "metadata": {},
   "outputs": [
    {
     "name": "stdout",
     "output_type": "stream",
     "text": [
      "Ridge Regression training mse=$ 2.491123689796506e+16  & rmse=$ 157832939.84\n",
      "Ridge Regression training mae=$ 84122945.62\n"
     ]
    }
   ],
   "source": [
    "# Calculate the mean squared errors -TRAIN-\n",
    "rr_mean_squ_error = mean_squared_error(y_train, ridge_reg.predict(X_train))\n",
    "rr_mean_abs_error = mean_absolute_error(y_train, ridge_reg.predict(X_train))\n",
    "print(\"Ridge Regression training mse=$\", round(rr_mean_squ_error, 2),\" & rmse=$\", round(sqrt(rr_mean_squ_error),2))\n",
    "print(\"Ridge Regression training mae=$\", round(rr_mean_abs_error, 2))"
   ]
  },
  {
   "cell_type": "code",
   "execution_count": 32,
   "metadata": {},
   "outputs": [
    {
     "name": "stdout",
     "output_type": "stream",
     "text": [
      "Ridge Regression testing mse=$ 2.358697770992425e+16  & rmse=$ 153580525.16\n",
      "Ridge Regression testing mae=$ 86451606.33\n"
     ]
    }
   ],
   "source": [
    "# Calculate the mean squared errors -TEST-\n",
    "rr_test_mean_squ_error = mean_squared_error(y_test, ridge_reg.predict(X_test))\n",
    "rr_test_mean_abs_error = mean_absolute_error(y_test, ridge_reg.predict(X_test))\n",
    "print(\"Ridge Regression testing mse=$\", round(rr_test_mean_squ_error, 2),\" & rmse=$\", round(sqrt(rr_test_mean_squ_error),2))\n",
    "print(\"Ridge Regression testing mae=$\", round(rr_test_mean_abs_error, 2))"
   ]
  },
  {
   "cell_type": "code",
   "execution_count": 33,
   "metadata": {},
   "outputs": [
    {
     "data": {
      "image/png": "[encoded data removed]",
      "text/plain": [
       "<Figure size 432x288 with 1 Axes>"
      ]
     },
     "execution_count": 33,
     "metadata": {},
     "output_type": "execute_result"
    },
    {
     "data": {
      "image/png": "[encoded data removed]",
      "text/plain": [
       "<Figure size 432x288 with 1 Axes>"
      ]
     },
     "metadata": {
      "needs_background": "light"
     },
     "output_type": "display_data"
    }
   ],
   "source": [
    "qqplot(ridge_y_pred, line='s')"
   ]
  },
  {
   "cell_type": "markdown",
   "metadata": {},
   "source": [
    "**Conclusion**: Model 1 appears to predict unseen data within a **mean absolute error of ~86 million** with decreased accuracy as the tendancy to over-estimate large values that exceed quantile 2. Since the mean absolute error of the training set is also approximately **mean absolute error of ~84 million**, the model did not overfit on the training data."
   ]
  },
  {
   "cell_type": "markdown",
   "metadata": {},
   "source": [
    "_____________________________________________________________________________________________________________________"
   ]
  },
  {
   "cell_type": "markdown",
   "metadata": {},
   "source": [
    "## Case 2: Using all genres, and relying on CountVectorizer (with no labels) to assess other (cleaned) nested columns"
   ]
  },
  {
   "cell_type": "code",
   "execution_count": 34,
   "metadata": {},
   "outputs": [
    {
     "name": "stdout",
     "output_type": "stream",
     "text": [
      "Target:  (4641,)\n",
      "Features:  (4641, 28)\n"
     ]
    }
   ],
   "source": [
    "# Set up the target variable\n",
    "y_target_2 = movie_revenue_ml_2['revenue'].values\n",
    "print('Target: ', y_target_2.shape)\n",
    "\n",
    "# Set the feature variables\n",
    "X_features_2 = movie_revenue_ml_2.drop(columns=['revenue'], axis = 1)\n",
    "feature_list_2 = X_features_2.columns\n",
    "print('Features: ', X_features_2.shape)"
   ]
  },
  {
   "cell_type": "code",
   "execution_count": 35,
   "metadata": {},
   "outputs": [
    {
     "data": {
      "text/plain": [
       "title                     int64\n",
       "keywords                 object\n",
       "original_language        object\n",
       "production_companies     object\n",
       "production_countries     object\n",
       "runtime                 float64\n",
       "spoken_languages         object\n",
       "release_date              int64\n",
       "release_day_of_week      object\n",
       "release_month             int64\n",
       "action                    int64\n",
       "adventure                 int64\n",
       "animation                 int64\n",
       "comedy                    int64\n",
       "crime                     int64\n",
       "documentary               int64\n",
       "drama                     int64\n",
       "family                    int64\n",
       "fantasy                   int64\n",
       "fiction                   int64\n",
       "history                   int64\n",
       "horror                    int64\n",
       "music                     int64\n",
       "mystery                   int64\n",
       "romance                   int64\n",
       "science                   int64\n",
       "thriller                  int64\n",
       "war                       int64\n",
       "dtype: object"
      ]
     },
     "execution_count": 35,
     "metadata": {},
     "output_type": "execute_result"
    }
   ],
   "source": [
    "X_features_2.dtypes"
   ]
  },
  {
   "cell_type": "code",
   "execution_count": 36,
   "metadata": {},
   "outputs": [
    {
     "name": "stderr",
     "output_type": "stream",
     "text": [
      "/anaconda3/lib/python3.7/site-packages/pandas/core/frame.py:4034: SettingWithCopyWarning: \n",
      "A value is trying to be set on a copy of a slice from a DataFrame\n",
      "\n",
      "See the caveats in the documentation: http://pandas.pydata.org/pandas-docs/stable/indexing.html#indexing-view-versus-copy\n",
      "  downcast=downcast, **kwargs)\n"
     ]
    }
   ],
   "source": [
    "text_columns_2 = ['keywords', 'original_language', 'production_companies',\n",
    "                'production_countries', 'release_day_of_week', 'spoken_languages']\n",
    "X_feature_text_2 = X_features_2[text_columns_2]\n",
    "X_feature_text_vector_2 = combine_text_columns(X_feature_text_2)"
   ]
  },
  {
   "cell_type": "code",
   "execution_count": 37,
   "metadata": {},
   "outputs": [
    {
     "data": {
      "text/plain": [
       "(4641, 10672)"
      ]
     },
     "execution_count": 37,
     "metadata": {},
     "output_type": "execute_result"
    }
   ],
   "source": [
    "# Fit to sampe Vectorizer model and build the vocabulary and convert text to a bag of words\n",
    "X_features_text_transformed_2 = vectorizer.fit_transform(X_feature_text_vector_2)\n",
    "X_features_text_transformed_2.shape"
   ]
  },
  {
   "cell_type": "code",
   "execution_count": 38,
   "metadata": {},
   "outputs": [
    {
     "data": {
      "text/plain": [
       "(4641, 22)"
      ]
     },
     "execution_count": 38,
     "metadata": {},
     "output_type": "execute_result"
    }
   ],
   "source": [
    "numberic_columns_2 = X_features_2.copy().drop(columns=text_columns_2).columns\n",
    "X_feature_numberic_2 = X_features_2[numberic_columns_2]\n",
    "X_feature_numberic_2.shape"
   ]
  },
  {
   "cell_type": "code",
   "execution_count": 39,
   "metadata": {},
   "outputs": [],
   "source": [
    "X_features_processed_2 = hstack((X_features_text_transformed_2, np.array(X_feature_numberic_2))).toarray()"
   ]
  },
  {
   "cell_type": "code",
   "execution_count": 40,
   "metadata": {},
   "outputs": [
    {
     "data": {
      "text/plain": [
       "(4641, 10694)"
      ]
     },
     "execution_count": 40,
     "metadata": {},
     "output_type": "execute_result"
    }
   ],
   "source": [
    "X_features_processed_2.shape"
   ]
  },
  {
   "cell_type": "markdown",
   "metadata": {},
   "source": [
    "*Observations*: 10694 columns is a not a high dimensional dataset. Since purley running any model on this dataset would be time-intensive, a dimensionality reduction method needs to be applied. Singular Value Decomposition (SVD) is popular in the field of natural language processing to achieve a representation of the gigantic while sparse word frequency matrices."
   ]
  },
  {
   "cell_type": "markdown",
   "metadata": {},
   "source": [
    "#### Apply SVD to Features"
   ]
  },
  {
   "cell_type": "code",
   "execution_count": 41,
   "metadata": {},
   "outputs": [],
   "source": [
    "# Import relevant modules\n",
    "from sklearn.decomposition import TruncatedSVD"
   ]
  },
  {
   "cell_type": "markdown",
   "metadata": {},
   "source": [
    "**WARNING: SLOW-RUNNING CELL**"
   ]
  },
  {
   "cell_type": "code",
   "execution_count": 42,
   "metadata": {},
   "outputs": [],
   "source": [
    "# Create an SVD instance with ~1/3 n_components\n",
    "tsvd = TruncatedSVD(n_components=3565, random_state=42)\n",
    "\n",
    "# Fit SVD to X_features_processed\n",
    "X_features_svd = tsvd.fit_transform(X_features_processed_2)"
   ]
  },
  {
   "cell_type": "code",
   "execution_count": 43,
   "metadata": {},
   "outputs": [
    {
     "data": {
      "text/plain": [
       "(0.9999999999860582, (4641, 3565))"
      ]
     },
     "execution_count": 43,
     "metadata": {},
     "output_type": "execute_result"
    }
   ],
   "source": [
    "# Sum explained variances to assess if the reduced features capture the variability in the data\n",
    "tsvd_var_ratios = tsvd.explained_variance_ratio_.sum()\n",
    "tsvd_var_ratios, X_features_svd.shape"
   ]
  },
  {
   "cell_type": "markdown",
   "metadata": {},
   "source": [
    "#### Scale Data"
   ]
  },
  {
   "cell_type": "code",
   "execution_count": 44,
   "metadata": {},
   "outputs": [],
   "source": [
    "# Fit to same scaler instance\n",
    "X_features_scaled_2 = scaler.fit_transform(X_features_svd)"
   ]
  },
  {
   "cell_type": "markdown",
   "metadata": {},
   "source": [
    "#### Split Data"
   ]
  },
  {
   "cell_type": "code",
   "execution_count": 45,
   "metadata": {},
   "outputs": [
    {
     "name": "stdout",
     "output_type": "stream",
     "text": [
      "3248 1393 3248 1393\n"
     ]
    },
    {
     "data": {
      "text/plain": [
       "((3248, 3565), (1393, 3565), (3248,), (1393,))"
      ]
     },
     "execution_count": 45,
     "metadata": {},
     "output_type": "execute_result"
    }
   ],
   "source": [
    "# Create train and test data sets -> Arbitrary Random State of 42 Set with test/train size of 30/70 (>25% of data)\n",
    "X_train_2, X_test_2, y_train_2, y_test_2 = train_test_split(X_features_scaled_2, y_target_2, test_size=0.3, random_state=42)\n",
    "print(len(X_train_2), len(X_test_2), len(y_train_2), len(y_test_2))\n",
    "X_train_2.shape, X_test_2.shape, y_train_2.shape, y_test_2.shape "
   ]
  },
  {
   "cell_type": "markdown",
   "metadata": {},
   "source": [
    "**WARNING: SLOW-RUNNING CELL**"
   ]
  },
  {
   "cell_type": "code",
   "execution_count": 46,
   "metadata": {},
   "outputs": [
    {
     "name": "stderr",
     "output_type": "stream",
     "text": [
      "/anaconda3/lib/python3.7/site-packages/sklearn/model_selection/_search.py:841: DeprecationWarning: The default of the `iid` parameter will change from True to False in version 0.22 and will be removed in 0.24. This will change numeric results when test-set sizes are unequal.\n",
      "  DeprecationWarning)\n"
     ]
    }
   ],
   "source": [
    "# Create ridge regression with five possible alpha values\n",
    "potential_alphas_2 = 10**np.linspace(10,-2,100)*0.5\n",
    "\n",
    "# Create ridgecv instance with potential alphas and 10 cross validations\n",
    "ridge_cv_2 = RidgeCV(cv=5, alphas=potential_alphas_2, scoring='neg_mean_absolute_error', normalize=True)\n",
    "\n",
    "# Fit to entire data\n",
    "ridge_cv_2 = ridge_cv.fit(X_features_scaled_2, y_target_2)"
   ]
  },
  {
   "cell_type": "markdown",
   "metadata": {},
   "source": [
    "#### Define Best Alpha"
   ]
  },
  {
   "cell_type": "code",
   "execution_count": 47,
   "metadata": {},
   "outputs": [
    {
     "data": {
      "text/plain": [
       "(array([ 4702153.13034601, 13314078.10582257,  6414334.56949563, ...,\n",
       "          -16703.65161867,  -319668.43104113,  -539242.95222957]), (3565,))"
      ]
     },
     "execution_count": 47,
     "metadata": {},
     "output_type": "execute_result"
    }
   ],
   "source": [
    "ridge_cv_2.coef_, ridge_cv_2.coef_.shape"
   ]
  },
  {
   "cell_type": "code",
   "execution_count": null,
   "metadata": {},
   "outputs": [],
   "source": [
    "inverse_ridge_cv = "
   ]
  },
  {
   "cell_type": "code",
   "execution_count": 80,
   "metadata": {},
   "outputs": [
    {
     "data": {
      "text/plain": [
       "1.7556"
      ]
     },
     "execution_count": 80,
     "metadata": {},
     "output_type": "execute_result"
    }
   ],
   "source": [
    "# View best alpha for the ridge model\n",
    "optimal_alpha_2 = round(ridge_cv_2.alpha_, 4)\n",
    "optimal_alpha_2"
   ]
  },
  {
   "cell_type": "markdown",
   "metadata": {},
   "source": [
    "#### Apply Ridge"
   ]
  },
  {
   "cell_type": "code",
   "execution_count": 94,
   "metadata": {},
   "outputs": [
    {
     "data": {
      "text/plain": [
       "Ridge(alpha=7.0224, copy_X=True, fit_intercept=True, max_iter=None,\n",
       "   normalize=True, random_state=None, solver='auto', tol=0.001)"
      ]
     },
     "execution_count": 94,
     "metadata": {},
     "output_type": "execute_result"
    }
   ],
   "source": [
    "# Create a rigde instance with optimal alpha\n",
    "ridge_reg_2 = Ridge(alpha=(optimal_alpha_2*4), normalize=True)\n",
    "\n",
    "# Fit to training data\n",
    "ridge_reg_2.fit(X_train_2, y_train_2)"
   ]
  },
  {
   "cell_type": "markdown",
   "metadata": {},
   "source": [
    "#### Assess Model Accuracy"
   ]
  },
  {
   "cell_type": "code",
   "execution_count": 95,
   "metadata": {},
   "outputs": [
    {
     "data": {
      "image/png": "[encoded data removed]",
      "text/plain": [
       "<Figure size 432x288 with 1 Axes>"
      ]
     },
     "metadata": {
      "needs_background": "light"
     },
     "output_type": "display_data"
    }
   ],
   "source": [
    "plt.plot(ridge_reg_2.coef_,alpha=optimal_alpha_2,linestyle='none',marker='*',markersize=5,color='red',label=r'Ridge; $\\alpha = 1.76$',zorder=7) # zorder for ordering the markers\n",
    "plt.title('Shrinking Coefficient Magnitude using Ridge Regression (Model 2)',fontsize=13)\n",
    "plt.xlabel('Coefficient Index',fontsize=16)\n",
    "plt.ylabel('Coefficient Magnitude',fontsize=16)\n",
    "plt.legend(fontsize=13,loc=4)\n",
    "plt.show()"
   ]
  },
  {
   "cell_type": "code",
   "execution_count": 96,
   "metadata": {},
   "outputs": [],
   "source": [
    "# Evaluate Model Performance\n",
    "ridge_y_pred_2 = ridge_reg_2.predict(X_test_2)\n",
    "performance_df = pd.DataFrame({'Actual': y_test_2.flatten(), 'Predicted': ridge_y_pred_2.flatten()})"
   ]
  },
  {
   "cell_type": "code",
   "execution_count": 106,
   "metadata": {},
   "outputs": [
    {
     "data": {
      "image/png": "[encoded data removed]",
      "text/plain": [
       "<Figure size 432x288 with 1 Axes>"
      ]
     },
     "metadata": {
      "needs_background": "light"
     },
     "output_type": "display_data"
    }
   ],
   "source": [
    "# Plot model\n",
    "ridge_pred_mean_2 = np.mean(ridge_y_pred_2)\n",
    "ridge_pred_std_2 = np.std(ridge_y_pred_2)\n",
    "sns.distplot(ridge_y_pred_2)\n",
    "plt.axvline(x=ridge_pred_mean_2, color='green', label='{0:2.2f} Mean, {1:2.2f} Std'.format(ridge_pred_mean_2, ridge_pred_std_2))\n",
    "plt.legend(fontsize = 'small', loc='upper right')\n",
    "plt.title(\"Predicted Revenue with Ridge Regression (Model 2)\", y=1.2)\n",
    "plt.xlabel(\"Movie Revenue Prices (100 M)\")\n",
    "plt.ylabel(\"Probability Density\")\n",
    "plt.show()"
   ]
  },
  {
   "cell_type": "code",
   "execution_count": 107,
   "metadata": {},
   "outputs": [
    {
     "name": "stdout",
     "output_type": "stream",
     "text": [
      "Ridge Regression training mse=$ 1.780212129826301e+16  & rmse=$ 133424590.31\n",
      "Ridge Regression training mae=$ 71299088.56\n",
      "Ridge Regression testing mse=$ 2.309296661504413e+16  & rmse=$ 151963701.64\n",
      "Ridge Regression testing mae=$ 85303226.23\n"
     ]
    }
   ],
   "source": [
    "# Calculate the mean squared errors -TRAIN-\n",
    "rr_mean_squ_error_2 = mean_squared_error(y_train_2, ridge_reg_2.predict(X_train_2))\n",
    "rr_mean_abs_error_2 = mean_absolute_error(y_train_2, ridge_reg_2.predict(X_train_2))\n",
    "print(\"Ridge Regression training mse=$\", round(rr_mean_squ_error_2, 2),\" & rmse=$\", round(sqrt(rr_mean_squ_error_2),2))\n",
    "print(\"Ridge Regression training mae=$\", round(rr_mean_abs_error_2, 2))\n",
    "\n",
    "# Calculate the mean squared errors -TEST-\n",
    "rr_test_mean_squ_error_2 = mean_squared_error(y_test_2, ridge_reg_2.predict(X_test_2))\n",
    "rr_test_mean_abs_error_2 = mean_absolute_error(y_test_2, ridge_reg_2.predict(X_test_2))\n",
    "print(\"Ridge Regression testing mse=$\", round(rr_test_mean_squ_error_2, 2),\" & rmse=$\", round(sqrt(rr_test_mean_squ_error_2),2))\n",
    "print(\"Ridge Regression testing mae=$\", round(rr_test_mean_abs_error_2, 2))"
   ]
  },
  {
   "cell_type": "code",
   "execution_count": 99,
   "metadata": {},
   "outputs": [
    {
     "data": {
      "image/png": "[encoded data removed]",
      "text/plain": [
       "<Figure size 432x288 with 1 Axes>"
      ]
     },
     "execution_count": 99,
     "metadata": {},
     "output_type": "execute_result"
    },
    {
     "data": {
      "image/png": "[encoded data removed]",
      "text/plain": [
       "<Figure size 432x288 with 1 Axes>"
      ]
     },
     "metadata": {
      "needs_background": "light"
     },
     "output_type": "display_data"
    }
   ],
   "source": [
    "qqplot(ridge_y_pred_2, line='s')"
   ]
  }
 ],
 "metadata": {
  "kernelspec": {
   "display_name": "Python 3",
   "language": "python",
   "name": "python3"
  },
  "language_info": {
   "codemirror_mode": {
    "name": "ipython",
    "version": 3
   },
   "file_extension": ".py",
   "mimetype": "text/x-python",
   "name": "python",
   "nbconvert_exporter": "python",
   "pygments_lexer": "ipython3",
   "version": "3.7.3"
  }
 },
 "nbformat": 4,
 "nbformat_minor": 2
}
