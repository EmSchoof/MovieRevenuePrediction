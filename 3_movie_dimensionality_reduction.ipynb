{
 "cells": [
  {
   "cell_type": "markdown",
   "metadata": {},
   "source": [
    "## Dimensionality Reduction of Data\n",
    "- Now that the original movies_df dataset has been cleaned (removal/substitution of NaN values) and expanded (via pd.Dummies()), the resulting dataframe is large, with many variables, and needs to be reduced down to important data columns."
   ]
  },
  {
   "cell_type": "code",
   "execution_count": 1,
   "metadata": {},
   "outputs": [],
   "source": [
    "# Import data\n",
    "%store -r movies_clean"
   ]
  },
  {
   "cell_type": "code",
   "execution_count": 2,
   "metadata": {},
   "outputs": [
    {
     "data": {
      "text/html": [
       "<div>\n",
       "<style scoped>\n",
       "    .dataframe tbody tr th:only-of-type {\n",
       "        vertical-align: middle;\n",
       "    }\n",
       "\n",
       "    .dataframe tbody tr th {\n",
       "        vertical-align: top;\n",
       "    }\n",
       "\n",
       "    .dataframe thead th {\n",
       "        text-align: right;\n",
       "    }\n",
       "</style>\n",
       "<table border=\"1\" class=\"dataframe\">\n",
       "  <thead>\n",
       "    <tr style=\"text-align: right;\">\n",
       "      <th></th>\n",
       "      <th>title</th>\n",
       "      <th>tagline</th>\n",
       "      <th>revenue</th>\n",
       "      <th>budget</th>\n",
       "      <th>id</th>\n",
       "      <th>original_language</th>\n",
       "      <th>overview</th>\n",
       "      <th>release_date</th>\n",
       "      <th>runtime</th>\n",
       "      <th>status</th>\n",
       "      <th>...</th>\n",
       "      <th>spoken_lang_বাংলা</th>\n",
       "      <th>spoken_lang_ਪੰਜਾਬੀ</th>\n",
       "      <th>spoken_lang_தமிழ்</th>\n",
       "      <th>spoken_lang_తెలుగు</th>\n",
       "      <th>spoken_lang_ภาษาไทย</th>\n",
       "      <th>spoken_lang_ქართული</th>\n",
       "      <th>spoken_lang_广州话 / 廣州話</th>\n",
       "      <th>spoken_lang_日本語</th>\n",
       "      <th>spoken_lang_普通话</th>\n",
       "      <th>spoken_lang_한국어/조선말</th>\n",
       "    </tr>\n",
       "  </thead>\n",
       "  <tbody>\n",
       "    <tr>\n",
       "      <th>count</th>\n",
       "      <td>4799.000000</td>\n",
       "      <td>4799.000000</td>\n",
       "      <td>4.799000e+03</td>\n",
       "      <td>4.799000e+03</td>\n",
       "      <td>4799.000000</td>\n",
       "      <td>4799.000000</td>\n",
       "      <td>4799.000000</td>\n",
       "      <td>4799.000000</td>\n",
       "      <td>4799.000000</td>\n",
       "      <td>4799.000000</td>\n",
       "      <td>...</td>\n",
       "      <td>4799.000000</td>\n",
       "      <td>4799.000000</td>\n",
       "      <td>4799.000000</td>\n",
       "      <td>4799.000000</td>\n",
       "      <td>4799.000000</td>\n",
       "      <td>4799.000000</td>\n",
       "      <td>4799.000000</td>\n",
       "      <td>4799.000000</td>\n",
       "      <td>4799.000000</td>\n",
       "      <td>4799.00000</td>\n",
       "    </tr>\n",
       "    <tr>\n",
       "      <th>mean</th>\n",
       "      <td>1704.721400</td>\n",
       "      <td>1949.698479</td>\n",
       "      <td>8.232920e+07</td>\n",
       "      <td>2.906593e+07</td>\n",
       "      <td>56899.920192</td>\n",
       "      <td>7.033757</td>\n",
       "      <td>1706.030631</td>\n",
       "      <td>1261.191498</td>\n",
       "      <td>106.903105</td>\n",
       "      <td>1.000417</td>\n",
       "      <td>...</td>\n",
       "      <td>0.000208</td>\n",
       "      <td>0.000834</td>\n",
       "      <td>0.000834</td>\n",
       "      <td>0.000208</td>\n",
       "      <td>0.008335</td>\n",
       "      <td>0.000208</td>\n",
       "      <td>0.010002</td>\n",
       "      <td>0.020213</td>\n",
       "      <td>0.022296</td>\n",
       "      <td>0.00646</td>\n",
       "    </tr>\n",
       "    <tr>\n",
       "      <th>std</th>\n",
       "      <td>1198.729437</td>\n",
       "      <td>1042.742690</td>\n",
       "      <td>1.629076e+08</td>\n",
       "      <td>4.073251e+07</td>\n",
       "      <td>88236.500208</td>\n",
       "      <td>2.423680</td>\n",
       "      <td>1199.705534</td>\n",
       "      <td>882.506008</td>\n",
       "      <td>22.561305</td>\n",
       "      <td>0.040831</td>\n",
       "      <td>...</td>\n",
       "      <td>0.014435</td>\n",
       "      <td>0.028861</td>\n",
       "      <td>0.028861</td>\n",
       "      <td>0.014435</td>\n",
       "      <td>0.090925</td>\n",
       "      <td>0.014435</td>\n",
       "      <td>0.101592</td>\n",
       "      <td>0.145116</td>\n",
       "      <td>0.155900</td>\n",
       "      <td>0.08012</td>\n",
       "    </tr>\n",
       "    <tr>\n",
       "      <th>min</th>\n",
       "      <td>0.000000</td>\n",
       "      <td>0.000000</td>\n",
       "      <td>0.000000e+00</td>\n",
       "      <td>0.000000e+00</td>\n",
       "      <td>5.000000</td>\n",
       "      <td>0.000000</td>\n",
       "      <td>0.000000</td>\n",
       "      <td>0.000000</td>\n",
       "      <td>0.000000</td>\n",
       "      <td>0.000000</td>\n",
       "      <td>...</td>\n",
       "      <td>0.000000</td>\n",
       "      <td>0.000000</td>\n",
       "      <td>0.000000</td>\n",
       "      <td>0.000000</td>\n",
       "      <td>0.000000</td>\n",
       "      <td>0.000000</td>\n",
       "      <td>0.000000</td>\n",
       "      <td>0.000000</td>\n",
       "      <td>0.000000</td>\n",
       "      <td>0.00000</td>\n",
       "    </tr>\n",
       "    <tr>\n",
       "      <th>25%</th>\n",
       "      <td>599.000000</td>\n",
       "      <td>1184.500000</td>\n",
       "      <td>0.000000e+00</td>\n",
       "      <td>8.000000e+05</td>\n",
       "      <td>9012.500000</td>\n",
       "      <td>7.000000</td>\n",
       "      <td>599.500000</td>\n",
       "      <td>467.000000</td>\n",
       "      <td>94.000000</td>\n",
       "      <td>1.000000</td>\n",
       "      <td>...</td>\n",
       "      <td>0.000000</td>\n",
       "      <td>0.000000</td>\n",
       "      <td>0.000000</td>\n",
       "      <td>0.000000</td>\n",
       "      <td>0.000000</td>\n",
       "      <td>0.000000</td>\n",
       "      <td>0.000000</td>\n",
       "      <td>0.000000</td>\n",
       "      <td>0.000000</td>\n",
       "      <td>0.00000</td>\n",
       "    </tr>\n",
       "    <tr>\n",
       "      <th>50%</th>\n",
       "      <td>1558.000000</td>\n",
       "      <td>1905.000000</td>\n",
       "      <td>1.918402e+07</td>\n",
       "      <td>1.500000e+07</td>\n",
       "      <td>14623.000000</td>\n",
       "      <td>7.000000</td>\n",
       "      <td>1559.000000</td>\n",
       "      <td>1129.000000</td>\n",
       "      <td>103.000000</td>\n",
       "      <td>1.000000</td>\n",
       "      <td>...</td>\n",
       "      <td>0.000000</td>\n",
       "      <td>0.000000</td>\n",
       "      <td>0.000000</td>\n",
       "      <td>0.000000</td>\n",
       "      <td>0.000000</td>\n",
       "      <td>0.000000</td>\n",
       "      <td>0.000000</td>\n",
       "      <td>0.000000</td>\n",
       "      <td>0.000000</td>\n",
       "      <td>0.00000</td>\n",
       "    </tr>\n",
       "    <tr>\n",
       "      <th>75%</th>\n",
       "      <td>2756.500000</td>\n",
       "      <td>2751.500000</td>\n",
       "      <td>9.295652e+07</td>\n",
       "      <td>4.000000e+07</td>\n",
       "      <td>58461.500000</td>\n",
       "      <td>7.000000</td>\n",
       "      <td>2758.500000</td>\n",
       "      <td>2049.500000</td>\n",
       "      <td>118.000000</td>\n",
       "      <td>1.000000</td>\n",
       "      <td>...</td>\n",
       "      <td>0.000000</td>\n",
       "      <td>0.000000</td>\n",
       "      <td>0.000000</td>\n",
       "      <td>0.000000</td>\n",
       "      <td>0.000000</td>\n",
       "      <td>0.000000</td>\n",
       "      <td>0.000000</td>\n",
       "      <td>0.000000</td>\n",
       "      <td>0.000000</td>\n",
       "      <td>0.00000</td>\n",
       "    </tr>\n",
       "    <tr>\n",
       "      <th>max</th>\n",
       "      <td>3955.000000</td>\n",
       "      <td>3943.000000</td>\n",
       "      <td>2.787965e+09</td>\n",
       "      <td>3.800000e+08</td>\n",
       "      <td>447027.000000</td>\n",
       "      <td>28.000000</td>\n",
       "      <td>3958.000000</td>\n",
       "      <td>2885.000000</td>\n",
       "      <td>338.000000</td>\n",
       "      <td>2.000000</td>\n",
       "      <td>...</td>\n",
       "      <td>1.000000</td>\n",
       "      <td>1.000000</td>\n",
       "      <td>1.000000</td>\n",
       "      <td>1.000000</td>\n",
       "      <td>1.000000</td>\n",
       "      <td>1.000000</td>\n",
       "      <td>2.000000</td>\n",
       "      <td>2.000000</td>\n",
       "      <td>2.000000</td>\n",
       "      <td>1.00000</td>\n",
       "    </tr>\n",
       "  </tbody>\n",
       "</table>\n",
       "<p>8 rows × 15008 columns</p>\n",
       "</div>"
      ],
      "text/plain": [
       "             title      tagline       revenue        budget             id  \\\n",
       "count  4799.000000  4799.000000  4.799000e+03  4.799000e+03    4799.000000   \n",
       "mean   1704.721400  1949.698479  8.232920e+07  2.906593e+07   56899.920192   \n",
       "std    1198.729437  1042.742690  1.629076e+08  4.073251e+07   88236.500208   \n",
       "min       0.000000     0.000000  0.000000e+00  0.000000e+00       5.000000   \n",
       "25%     599.000000  1184.500000  0.000000e+00  8.000000e+05    9012.500000   \n",
       "50%    1558.000000  1905.000000  1.918402e+07  1.500000e+07   14623.000000   \n",
       "75%    2756.500000  2751.500000  9.295652e+07  4.000000e+07   58461.500000   \n",
       "max    3955.000000  3943.000000  2.787965e+09  3.800000e+08  447027.000000   \n",
       "\n",
       "       original_language     overview  release_date      runtime       status  \\\n",
       "count        4799.000000  4799.000000   4799.000000  4799.000000  4799.000000   \n",
       "mean            7.033757  1706.030631   1261.191498   106.903105     1.000417   \n",
       "std             2.423680  1199.705534    882.506008    22.561305     0.040831   \n",
       "min             0.000000     0.000000      0.000000     0.000000     0.000000   \n",
       "25%             7.000000   599.500000    467.000000    94.000000     1.000000   \n",
       "50%             7.000000  1559.000000   1129.000000   103.000000     1.000000   \n",
       "75%             7.000000  2758.500000   2049.500000   118.000000     1.000000   \n",
       "max            28.000000  3958.000000   2885.000000   338.000000     2.000000   \n",
       "\n",
       "       ...  spoken_lang_বাংলা  spoken_lang_ਪੰਜਾਬੀ  spoken_lang_தமிழ்  \\\n",
       "count  ...        4799.000000         4799.000000        4799.000000   \n",
       "mean   ...           0.000208            0.000834           0.000834   \n",
       "std    ...           0.014435            0.028861           0.028861   \n",
       "min    ...           0.000000            0.000000           0.000000   \n",
       "25%    ...           0.000000            0.000000           0.000000   \n",
       "50%    ...           0.000000            0.000000           0.000000   \n",
       "75%    ...           0.000000            0.000000           0.000000   \n",
       "max    ...           1.000000            1.000000           1.000000   \n",
       "\n",
       "       spoken_lang_తెలుగు  spoken_lang_ภาษาไทย  spoken_lang_ქართული  \\\n",
       "count         4799.000000          4799.000000          4799.000000   \n",
       "mean             0.000208             0.008335             0.000208   \n",
       "std              0.014435             0.090925             0.014435   \n",
       "min              0.000000             0.000000             0.000000   \n",
       "25%              0.000000             0.000000             0.000000   \n",
       "50%              0.000000             0.000000             0.000000   \n",
       "75%              0.000000             0.000000             0.000000   \n",
       "max              1.000000             1.000000             1.000000   \n",
       "\n",
       "       spoken_lang_广州话 / 廣州話  spoken_lang_日本語  spoken_lang_普通话  \\\n",
       "count            4799.000000      4799.000000      4799.000000   \n",
       "mean                0.010002         0.020213         0.022296   \n",
       "std                 0.101592         0.145116         0.155900   \n",
       "min                 0.000000         0.000000         0.000000   \n",
       "25%                 0.000000         0.000000         0.000000   \n",
       "50%                 0.000000         0.000000         0.000000   \n",
       "75%                 0.000000         0.000000         0.000000   \n",
       "max                 2.000000         2.000000         2.000000   \n",
       "\n",
       "       spoken_lang_한국어/조선말  \n",
       "count           4799.00000  \n",
       "mean               0.00646  \n",
       "std                0.08012  \n",
       "min                0.00000  \n",
       "25%                0.00000  \n",
       "50%                0.00000  \n",
       "75%                0.00000  \n",
       "max                1.00000  \n",
       "\n",
       "[8 rows x 15008 columns]"
      ]
     },
     "execution_count": 2,
     "metadata": {},
     "output_type": "execute_result"
    }
   ],
   "source": [
    "# Describe data\n",
    "movies_clean.describe()"
   ]
  },
  {
   "cell_type": "markdown",
   "metadata": {},
   "source": [
    "*Observations*: A dataset with 4799 instances (rows) and 15008 variables (columns) per instance is relatively large. Now, it's time to assess which features are key indicators for determingin the revenue of a movie. "
   ]
  },
  {
   "cell_type": "markdown",
   "metadata": {},
   "source": [
    "### Target Variable: Movie Revenue (movies_clean['revenue'])"
   ]
  },
  {
   "cell_type": "code",
   "execution_count": 3,
   "metadata": {},
   "outputs": [
    {
     "data": {
      "text/plain": [
       "(4799, 15008)"
      ]
     },
     "execution_count": 3,
     "metadata": {},
     "output_type": "execute_result"
    }
   ],
   "source": [
    "# Assess shape of data\n",
    "movies_clean.shape"
   ]
  },
  {
   "cell_type": "markdown",
   "metadata": {},
   "source": [
    "#### Split data into X (features) and y (target)"
   ]
  },
  {
   "cell_type": "code",
   "execution_count": 15,
   "metadata": {},
   "outputs": [
    {
     "name": "stdout",
     "output_type": "stream",
     "text": [
      "(4799, 15007)\n",
      "(4799,)\n"
     ]
    }
   ],
   "source": [
    "# Separate out the features (X)\n",
    "X_features = movies_clean.copy().drop(columns='revenue')\n",
    "print(X_features.shape)\n",
    "\n",
    "# Save feature column labels in list\n",
    "feature_list = list(X_features.columns)\n",
    "\n",
    "# Separate out the target (y)\n",
    "y = movies_clean['revenue'].values\n",
    "print(y.shape)"
   ]
  },
  {
   "cell_type": "markdown",
   "metadata": {},
   "source": [
    "## t-Distributed Stochastic Neighbor Embedding (t-SNE)\n",
    "- maps the multi-dimensional data to a lower dimensional space\n",
    "- finds patterns in the data by identifying observed clusters based on similarity of data points with multiple features"
   ]
  },
  {
   "cell_type": "code",
   "execution_count": 13,
   "metadata": {},
   "outputs": [],
   "source": [
    "# Import necessary modules\n",
    "from sklearn.decomposition import PCA\n",
    "import matplotlib.pyplot as plt"
   ]
  },
  {
   "cell_type": "code",
   "execution_count": 19,
   "metadata": {},
   "outputs": [],
   "source": [
    "# Create a PCA instance\n",
    "pca = PCA(n_components=4799, whiten=False, random_state=42)\n",
    "\n",
    "# Fit/Transform pca model to features\n",
    "X_pca = pca.fit_transform(X_features)\n",
    "X_pca_reconst = pca.inverse_transform(X_pca)"
   ]
  },
  {
   "cell_type": "code",
   "execution_count": 20,
   "metadata": {},
   "outputs": [
    {
     "data": {
      "text/plain": [
       "(4799, 4799)"
      ]
     },
     "execution_count": 20,
     "metadata": {},
     "output_type": "execute_result"
    }
   ],
   "source": [
    "X_pca.shape"
   ]
  },
  {
   "cell_type": "code",
   "execution_count": 21,
   "metadata": {},
   "outputs": [
    {
     "data": {
      "image/png": "[encoded data removed]",
      "text/plain": [
       "<Figure size 864x864 with 1 Axes>"
      ]
     },
     "metadata": {
      "needs_background": "light"
     },
     "output_type": "display_data"
    }
   ],
   "source": [
    "plt.figure(figsize=(12,12))\n",
    "\n",
    "plt.scatter(X_pca[y==0, 0], X_pca[y==0, 1], color='red', alpha=0.5,label='0')\n",
    "plt.scatter(X_pca[y==1, 0], X_pca[y==1, 1], color='blue', alpha=0.5,label='1')\n",
    "plt.scatter(X_pca[y==2, 0], X_pca[y==2, 1], color='green', alpha=0.5,label='2')\n",
    "plt.scatter(X_pca[y==3, 0], X_pca[y==3, 1], color='black', alpha=0.5,label='3')\n",
    "plt.scatter(X_pca[y==4, 0], X_pca[y==4, 1], color='khaki', alpha=0.5,label='4')\n",
    "plt.scatter(X_pca[y==5, 0], X_pca[y==5, 1], color='yellow', alpha=0.5,label='5')\n",
    "plt.scatter(X_pca[y==6, 0], X_pca[y==6, 1], color='turquoise', alpha=0.5,label='6')\n",
    "plt.scatter(X_pca[y==7, 0], X_pca[y==7, 1], color='pink', alpha=0.5,label='7')\n",
    "plt.scatter(X_pca[y==8, 0], X_pca[y==8, 1], color='moccasin', alpha=0.5,label='8')\n",
    "plt.scatter(X_pca[y==9, 0], X_pca[y==9, 1], color='olive', alpha=0.5,label='9')\n",
    "plt.scatter(X_pca[y==10, 0], X_pca[y==10, 1], color='coral', alpha=0.5,label='10')\n",
    "plt.title(\"Sample Size of first 10 PCA within Movie Data\")\n",
    "plt.ylabel('Les coordonnees de Y')\n",
    "plt.xlabel('Les coordonnees de X')\n",
    "plt.legend()\n",
    "plt.show()"
   ]
  },
  {
   "cell_type": "code",
   "execution_count": null,
   "metadata": {},
   "outputs": [],
   "source": []
  },
  {
   "cell_type": "code",
   "execution_count": null,
   "metadata": {},
   "outputs": [],
   "source": []
  }
 ],
 "metadata": {
  "kernelspec": {
   "display_name": "Python 3",
   "language": "python",
   "name": "python3"
  },
  "language_info": {
   "codemirror_mode": {
    "name": "ipython",
    "version": 3
   },
   "file_extension": ".py",
   "mimetype": "text/x-python",
   "name": "python",
   "nbconvert_exporter": "python",
   "pygments_lexer": "ipython3",
   "version": "3.7.3"
  }
 },
 "nbformat": 4,
 "nbformat_minor": 2
}
