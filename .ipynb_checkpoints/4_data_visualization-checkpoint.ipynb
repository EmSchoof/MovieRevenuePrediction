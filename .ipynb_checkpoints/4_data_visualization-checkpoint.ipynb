{
 "cells": [
  {
   "cell_type": "markdown",
   "metadata": {},
   "source": [
    "## Data Visualization\n",
    "- Now that the original movies_df dataset has been cleaned (removal/substitution of NaN values) and expanded (via pd.Dummies()), the resulting dataframe is large, with many variables, and needs to be reduced down to important data columns."
   ]
  },
  {
   "cell_type": "code",
   "execution_count": 1,
   "metadata": {},
   "outputs": [
    {
     "name": "stdout",
     "output_type": "stream",
     "text": [
      "Emily Schoof 2019-08-18 23:16:07 \n",
      "\n",
      "CPython 3.7.3\n",
      "IPython 7.4.0\n",
      "\n",
      "numpy 1.16.2\n",
      "pandas 0.24.2\n",
      "matplotlib 3.0.3\n",
      "seaborn 0.9.0\n"
     ]
    }
   ],
   "source": [
    "%load_ext watermark\n",
    "%watermark -a \"Emily Schoof\" -d -t -v -p numpy,pandas,matplotlib,seaborn"
   ]
  },
  {
   "cell_type": "code",
   "execution_count": 4,
   "metadata": {},
   "outputs": [],
   "source": [
    "# Import data\n",
    "%store -r movie_df_unnested\n",
    "revenue_graphed = movie_df_unnested.copy()"
   ]
  },
  {
   "cell_type": "markdown",
   "metadata": {},
   "source": [
    "### Distribution of Revenue in Dataframe"
   ]
  },
  {
   "cell_type": "code",
   "execution_count": 6,
   "metadata": {},
   "outputs": [],
   "source": [
    "# Import necessary modules\n",
    "import numpy as np\n",
    "import pandas as pd\n",
    "import matplotlib.pyplot as plt\n",
    "import seaborn as sns\n",
    "import scipy.stats as stats"
   ]
  },
  {
   "cell_type": "code",
   "execution_count": 5,
   "metadata": {},
   "outputs": [],
   "source": [
    "# Fill NaN values with mean\n",
    "revenue_graphed['revenue'] = revenue_graphed['revenue'].fillna(revenue_graphed['revenue'].mean())"
   ]
  },
  {
   "cell_type": "code",
   "execution_count": 8,
   "metadata": {},
   "outputs": [],
   "source": [
    "# Create an Empirical Cumulative Distribution Function (ECDF)\n",
    "def ecdf(data):\n",
    "    \"\"\"Compute ECDF for a one-dimensional array of measurements.\"\"\"\n",
    "   \n",
    "    x = np.sort(data)\n",
    "    y = np.arange(1, len(data)+1) / len(data)\n",
    "    return x, y"
   ]
  },
  {
   "cell_type": "code",
   "execution_count": 9,
   "metadata": {},
   "outputs": [],
   "source": [
    "# Seed the random number generator\n",
    "np.random.seed(42)\n",
    "\n",
    "# Define revenue\n",
    "revenue = revenue_graphed['revenue']\n",
    "\n",
    "# Calculate ecdf in dataset\n",
    "x_revenue, y_revenue = ecdf(revenue)\n",
    "\n",
    "# Compute the theoretical CDF \n",
    "cdf_mean = np.mean(revenue)\n",
    "cdf_std = np.std(revenue)\n",
    "\n",
    "# Simulate a random sample with the same distribution and size of 10,000\n",
    "cdf_samples = np.random.normal(cdf_mean, cdf_std, size=10000)\n",
    "\n",
    "# Calculate ecdf of random sample\n",
    "x_norm, y_norm = ecdf(cdf_samples)"
   ]
  },
  {
   "cell_type": "code",
   "execution_count": 10,
   "metadata": {},
   "outputs": [
    {
     "data": {
      "image/png": "[encoded data removed]",
      "text/plain": [
       "<Figure size 432x288 with 1 Axes>"
      ]
     },
     "metadata": {
      "needs_background": "light"
     },
     "output_type": "display_data"
    },
    {
     "data": {
      "text/plain": [
       "'The sample(n=4523) movie revenue $119984245.78 with a standard deviation of $157637056.85.'"
      ]
     },
     "execution_count": 10,
     "metadata": {},
     "output_type": "execute_result"
    }
   ],
   "source": [
    "# Plot both ECDFs on same the figure\n",
    "fig = plt.plot(x_revenue, y_revenue, marker='.', linestyle='none', alpha=0.5)\n",
    "fig = plt.plot(x_norm, y_norm, marker='.', linestyle='none', alpha=0.5)\n",
    "\n",
    "# Label figure\n",
    "fig = plt.xlabel('Movie Revenue ($)')\n",
    "fig = plt.ylabel('CDF')\n",
    "fig = plt.legend(('Sample Population', 'Expected Norm'))\n",
    "fig = plt.title('Distribution of Movie Revenue ($)')\n",
    "\n",
    "# Save plots\n",
    "plt.show()\n",
    "'The sample(n=' + str(len(revenue)) + ') movie revenue $' + str(round(np.mean(revenue), 2)) + ' with a standard deviation of $' + str(round(np.std(revenue), 2)) + '.'"
   ]
  },
  {
   "cell_type": "markdown",
   "metadata": {},
   "source": [
    "*Observations*: The overall distribution of Movie Revenue ($) is not normally distributed based on an ECDF assessment. This is, largely, to be expected since movie revenue is likely to have increased over time (due to inflation and additional consumer engagement). Luckily, under the Central Limit Theorem (CLT), this target variable can be treated as normally distributed since the sample size (n=4523) is greater than 30."
   ]
  },
  {
   "cell_type": "markdown",
   "metadata": {},
   "source": [
    "### Plot Movie Revenue Over Time"
   ]
  },
  {
   "cell_type": "code",
   "execution_count": 15,
   "metadata": {},
   "outputs": [
    {
     "name": "stderr",
     "output_type": "stream",
     "text": [
      "/anaconda3/lib/python3.7/site-packages/ipykernel_launcher.py:11: SettingWithCopyWarning: \n",
      "A value is trying to be set on a copy of a slice from a DataFrame.\n",
      "Try using .loc[row_indexer,col_indexer] = value instead\n",
      "\n",
      "See the caveats in the documentation: http://pandas.pydata.org/pandas-docs/stable/indexing.html#indexing-view-versus-copy\n",
      "  # This is added back by InteractiveShellApp.init_path()\n"
     ]
    }
   ],
   "source": [
    "# Create a time subdf\n",
    "revenue_over_time = revenue_graphed[['revenue', 'release_date_dt']]\n",
    "\n",
    "# Convert dates to just year\n",
    "years = []\n",
    "for date in revenue_over_time['release_date_dt']:\n",
    "    new_date = date.year\n",
    "    years.append(new_date)\n",
    "    \n",
    "# Add to Dataframe\n",
    "revenue_over_time['year'] = pd.Series(years, index=np.arange(0, 4523))\n",
    "\n",
    "# Drop release_date column\n",
    "revenue_over_time = revenue_over_time.drop(columns='release_date_dt')\n",
    "\n",
    "# Groupby Year\n",
    "revenue_over_time = revenue_over_time.groupby('year', as_index=False).mean()"
   ]
  },
  {
   "cell_type": "code",
   "execution_count": 16,
   "metadata": {},
   "outputs": [
    {
     "data": {
      "text/html": [
       "<div>\n",
       "<style scoped>\n",
       "    .dataframe tbody tr th:only-of-type {\n",
       "        vertical-align: middle;\n",
       "    }\n",
       "\n",
       "    .dataframe tbody tr th {\n",
       "        vertical-align: top;\n",
       "    }\n",
       "\n",
       "    .dataframe thead th {\n",
       "        text-align: right;\n",
       "    }\n",
       "</style>\n",
       "<table border=\"1\" class=\"dataframe\">\n",
       "  <thead>\n",
       "    <tr style=\"text-align: right;\">\n",
       "      <th></th>\n",
       "      <th>year</th>\n",
       "      <th>revenue</th>\n",
       "    </tr>\n",
       "  </thead>\n",
       "  <tbody>\n",
       "    <tr>\n",
       "      <th>0</th>\n",
       "      <td>1969</td>\n",
       "      <td>5.543543e+07</td>\n",
       "    </tr>\n",
       "    <tr>\n",
       "      <th>1</th>\n",
       "      <td>1970</td>\n",
       "      <td>5.066413e+07</td>\n",
       "    </tr>\n",
       "    <tr>\n",
       "      <th>2</th>\n",
       "      <td>1971</td>\n",
       "      <td>5.362103e+07</td>\n",
       "    </tr>\n",
       "    <tr>\n",
       "      <th>3</th>\n",
       "      <td>1972</td>\n",
       "      <td>8.570219e+07</td>\n",
       "    </tr>\n",
       "    <tr>\n",
       "      <th>4</th>\n",
       "      <td>1973</td>\n",
       "      <td>1.066211e+08</td>\n",
       "    </tr>\n",
       "  </tbody>\n",
       "</table>\n",
       "</div>"
      ],
      "text/plain": [
       "   year       revenue\n",
       "0  1969  5.543543e+07\n",
       "1  1970  5.066413e+07\n",
       "2  1971  5.362103e+07\n",
       "3  1972  8.570219e+07\n",
       "4  1973  1.066211e+08"
      ]
     },
     "execution_count": 16,
     "metadata": {},
     "output_type": "execute_result"
    }
   ],
   "source": [
    "revenue_over_time.head()"
   ]
  },
  {
   "cell_type": "code",
   "execution_count": 17,
   "metadata": {},
   "outputs": [
    {
     "data": {
      "image/png": "[encoded data removed]",
      "text/plain": [
       "<Figure size 1080x360 with 1 Axes>"
      ]
     },
     "metadata": {
      "needs_background": "light"
     },
     "output_type": "display_data"
    }
   ],
   "source": [
    "# Plot Revenue over Time\n",
    "revenue_over_time.plot(x='year', y='revenue', kind='bar', figsize=(15,5))\n",
    "_=plt.xticks(rotation = 45)\n",
    "_=plt.title('Trend of Movie Revenue Values Over Time', fontsize = 14)\n",
    "_=plt.xlabel('Release Date', fontsize = 14)\n",
    "_=plt.ylabel('Movie Revenue ($)', fontsize = 14)"
   ]
  },
  {
   "cell_type": "markdown",
   "metadata": {},
   "source": [
    "### Feature Relationships to Target Variable and Each Other"
   ]
  },
  {
   "cell_type": "markdown",
   "metadata": {},
   "source": [
    "Create a function that shows how each feature impacts the revenue"
   ]
  },
  {
   "cell_type": "code",
   "execution_count": 45,
   "metadata": {},
   "outputs": [],
   "source": [
    "# Modification of code source: https://towardsdatascience.com/\n",
    "#how-to-perform-lasso-and-ridge-regression-in-python-3b3b75541ad8\n",
    "\n",
    "def feature_impact_plot(feature, target='revenue'):\n",
    "    plt.figure(figsize=(5,5))\n",
    "    \n",
    "    if revenue_graphed[feature].dtype == 'object':\n",
    "        plt.bar(\n",
    "            x=revenue_graphed[feature],\n",
    "            height=revenue_graphed[target]\n",
    "        )\n",
    "    else:\n",
    "        plt.scatter(\n",
    "            x=revenue_graphed[feature],\n",
    "            y=revenue_graphed[target],\n",
    "            c='green'\n",
    "        )\n",
    "    plt.title('Impact of {} on Movie Revenue'.format(feature))\n",
    "    plt.xlabel(feature)\n",
    "    plt.ylabel('Movie Revenue')\n",
    "    plt.show()"
   ]
  },
  {
   "cell_type": "code",
   "execution_count": 37,
   "metadata": {},
   "outputs": [
    {
     "data": {
      "text/plain": [
       "Index(['title', 'revenue', 'genres', 'keywords', 'original_language',\n",
       "       'overview', 'production_companies', 'production_countries', 'runtime',\n",
       "       'spoken_languages', 'status', 'release_date_dt'],\n",
       "      dtype='object')"
      ]
     },
     "execution_count": 37,
     "metadata": {},
     "output_type": "execute_result"
    }
   ],
   "source": [
    "revenue_graphed.columns"
   ]
  },
  {
   "cell_type": "code",
   "execution_count": 43,
   "metadata": {},
   "outputs": [
    {
     "data": {
      "image/png": "[encoded data removed]",
      "text/plain": [
       "<Figure size 360x360 with 1 Axes>"
      ]
     },
     "metadata": {
      "needs_background": "light"
     },
     "output_type": "display_data"
    }
   ],
   "source": [
    "feature_impact_plot('runtime')"
   ]
  },
  {
   "cell_type": "code",
   "execution_count": 46,
   "metadata": {},
   "outputs": [
    {
     "data": {
      "image/png": "[encoded data removed]",
      "text/plain": [
       "<Figure size 360x360 with 1 Axes>"
      ]
     },
     "metadata": {
      "needs_background": "light"
     },
     "output_type": "display_data"
    }
   ],
   "source": [
    "feature_impact_plot('status')"
   ]
  },
  {
   "cell_type": "code",
   "execution_count": null,
   "metadata": {},
   "outputs": [],
   "source": []
  }
 ],
 "metadata": {
  "kernelspec": {
   "display_name": "Python 3",
   "language": "python",
   "name": "python3"
  },
  "language_info": {
   "codemirror_mode": {
    "name": "ipython",
    "version": 3
   },
   "file_extension": ".py",
   "mimetype": "text/x-python",
   "name": "python",
   "nbconvert_exporter": "python",
   "pygments_lexer": "ipython3",
   "version": "3.7.3"
  }
 },
 "nbformat": 4,
 "nbformat_minor": 2
}
