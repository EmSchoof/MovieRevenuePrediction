{
 "cells": [
  {
   "cell_type": "markdown",
   "metadata": {},
   "source": [
    "## Preparation for Feature Engineer of Movie Data\n",
    "\n",
    "#### Create Sub_dfs for Categorical Columns with Nested Data:\n",
    "   - **genres**\n",
    "   - **keywords**\n",
    "   - **production_companies**\n",
    "   - **production_countries**\n",
    "   - **spoken_languages**\n",
    "- Organize Nested List of Dictionaries by Movie Title\n",
    "- Create feature variables [via pd.dummies] based on Column trends of each Movie Title\n",
    "- Merge column dataframes to movie_df data"
   ]
  },
  {
   "cell_type": "code",
   "execution_count": 1,
   "metadata": {},
   "outputs": [
    {
     "name": "stdout",
     "output_type": "stream",
     "text": [
      "Emily Schoof 2019-08-19 10:07:51 \n",
      "\n",
      "CPython 3.7.3\n",
      "IPython 7.4.0\n",
      "\n",
      "numpy 1.16.2\n",
      "pandas 0.24.2\n",
      "re 2.2.1\n"
     ]
    }
   ],
   "source": [
    "%load_ext watermark\n",
    "%watermark -a \"Emily Schoof\" -d -t -v -p numpy,pandas,re"
   ]
  },
  {
   "cell_type": "code",
   "execution_count": 2,
   "metadata": {},
   "outputs": [
    {
     "name": "stdout",
     "output_type": "stream",
     "text": [
      "(4523, 12)\n"
     ]
    },
    {
     "data": {
      "text/html": [
       "<div>\n",
       "<style scoped>\n",
       "    .dataframe tbody tr th:only-of-type {\n",
       "        vertical-align: middle;\n",
       "    }\n",
       "\n",
       "    .dataframe tbody tr th {\n",
       "        vertical-align: top;\n",
       "    }\n",
       "\n",
       "    .dataframe thead th {\n",
       "        text-align: right;\n",
       "    }\n",
       "</style>\n",
       "<table border=\"1\" class=\"dataframe\">\n",
       "  <thead>\n",
       "    <tr style=\"text-align: right;\">\n",
       "      <th></th>\n",
       "      <th>title</th>\n",
       "      <th>revenue</th>\n",
       "      <th>genres</th>\n",
       "      <th>keywords</th>\n",
       "      <th>original_language</th>\n",
       "      <th>overview</th>\n",
       "      <th>production_companies</th>\n",
       "      <th>production_countries</th>\n",
       "      <th>runtime</th>\n",
       "      <th>spoken_languages</th>\n",
       "      <th>status</th>\n",
       "      <th>release_date_dt</th>\n",
       "    </tr>\n",
       "  </thead>\n",
       "  <tbody>\n",
       "    <tr>\n",
       "      <th>0</th>\n",
       "      <td>Avatar</td>\n",
       "      <td>2.787965e+09</td>\n",
       "      <td>[{\"id\": 28, \"name\": \"Action\"}, {\"id\": 12, \"nam...</td>\n",
       "      <td>[{\"id\": 1463, \"name\": \"culture clash\"}, {\"id\":...</td>\n",
       "      <td>en</td>\n",
       "      <td>In the 22nd century, a paraplegic Marine is di...</td>\n",
       "      <td>[{\"name\": \"Ingenious Film Partners\", \"id\": 289...</td>\n",
       "      <td>[{\"iso_3166_1\": \"US\", \"name\": \"United States o...</td>\n",
       "      <td>162.0</td>\n",
       "      <td>[{\"iso_639_1\": \"en\", \"name\": \"English\"}, {\"iso...</td>\n",
       "      <td>Released</td>\n",
       "      <td>2009-12-10</td>\n",
       "    </tr>\n",
       "    <tr>\n",
       "      <th>1</th>\n",
       "      <td>Titanic</td>\n",
       "      <td>1.845034e+09</td>\n",
       "      <td>[{\"id\": 18, \"name\": \"Drama\"}, {\"id\": 10749, \"n...</td>\n",
       "      <td>[{\"id\": 2580, \"name\": \"shipwreck\"}, {\"id\": 298...</td>\n",
       "      <td>en</td>\n",
       "      <td>84 years later, a 101-year-old woman named Ros...</td>\n",
       "      <td>[{\"name\": \"Paramount Pictures\", \"id\": 4}, {\"na...</td>\n",
       "      <td>[{\"iso_3166_1\": \"US\", \"name\": \"United States o...</td>\n",
       "      <td>194.0</td>\n",
       "      <td>[{\"iso_639_1\": \"en\", \"name\": \"English\"}, {\"iso...</td>\n",
       "      <td>Released</td>\n",
       "      <td>1997-11-18</td>\n",
       "    </tr>\n",
       "    <tr>\n",
       "      <th>2</th>\n",
       "      <td>The Avengers</td>\n",
       "      <td>1.519558e+09</td>\n",
       "      <td>[{\"id\": 878, \"name\": \"Science Fiction\"}, {\"id\"...</td>\n",
       "      <td>[{\"id\": 242, \"name\": \"new york\"}, {\"id\": 5539,...</td>\n",
       "      <td>en</td>\n",
       "      <td>When an unexpected enemy emerges and threatens...</td>\n",
       "      <td>[{\"name\": \"Paramount Pictures\", \"id\": 4}, {\"na...</td>\n",
       "      <td>[{\"iso_3166_1\": \"US\", \"name\": \"United States o...</td>\n",
       "      <td>143.0</td>\n",
       "      <td>[{\"iso_639_1\": \"en\", \"name\": \"English\"}]</td>\n",
       "      <td>Released</td>\n",
       "      <td>2012-04-25</td>\n",
       "    </tr>\n",
       "    <tr>\n",
       "      <th>3</th>\n",
       "      <td>Jurassic World</td>\n",
       "      <td>1.513529e+09</td>\n",
       "      <td>[{\"id\": 28, \"name\": \"Action\"}, {\"id\": 12, \"nam...</td>\n",
       "      <td>[{\"id\": 1299, \"name\": \"monster\"}, {\"id\": 1718,...</td>\n",
       "      <td>en</td>\n",
       "      <td>Twenty-two years after the events of Jurassic ...</td>\n",
       "      <td>[{\"name\": \"Universal Studios\", \"id\": 13}, {\"na...</td>\n",
       "      <td>[{\"iso_3166_1\": \"US\", \"name\": \"United States o...</td>\n",
       "      <td>124.0</td>\n",
       "      <td>[{\"iso_639_1\": \"en\", \"name\": \"English\"}]</td>\n",
       "      <td>Released</td>\n",
       "      <td>2015-06-09</td>\n",
       "    </tr>\n",
       "    <tr>\n",
       "      <th>4</th>\n",
       "      <td>Furious 7</td>\n",
       "      <td>1.506249e+09</td>\n",
       "      <td>[{\"id\": 28, \"name\": \"Action\"}]</td>\n",
       "      <td>[{\"id\": 830, \"name\": \"car race\"}, {\"id\": 3428,...</td>\n",
       "      <td>en</td>\n",
       "      <td>Deckard Shaw seeks revenge against Dominic Tor...</td>\n",
       "      <td>[{\"name\": \"Universal Pictures\", \"id\": 33}, {\"n...</td>\n",
       "      <td>[{\"iso_3166_1\": \"JP\", \"name\": \"Japan\"}, {\"iso_...</td>\n",
       "      <td>137.0</td>\n",
       "      <td>[{\"iso_639_1\": \"en\", \"name\": \"English\"}]</td>\n",
       "      <td>Released</td>\n",
       "      <td>2015-04-01</td>\n",
       "    </tr>\n",
       "  </tbody>\n",
       "</table>\n",
       "</div>"
      ],
      "text/plain": [
       "            title       revenue  \\\n",
       "0          Avatar  2.787965e+09   \n",
       "1         Titanic  1.845034e+09   \n",
       "2    The Avengers  1.519558e+09   \n",
       "3  Jurassic World  1.513529e+09   \n",
       "4       Furious 7  1.506249e+09   \n",
       "\n",
       "                                              genres  \\\n",
       "0  [{\"id\": 28, \"name\": \"Action\"}, {\"id\": 12, \"nam...   \n",
       "1  [{\"id\": 18, \"name\": \"Drama\"}, {\"id\": 10749, \"n...   \n",
       "2  [{\"id\": 878, \"name\": \"Science Fiction\"}, {\"id\"...   \n",
       "3  [{\"id\": 28, \"name\": \"Action\"}, {\"id\": 12, \"nam...   \n",
       "4                     [{\"id\": 28, \"name\": \"Action\"}]   \n",
       "\n",
       "                                            keywords original_language  \\\n",
       "0  [{\"id\": 1463, \"name\": \"culture clash\"}, {\"id\":...                en   \n",
       "1  [{\"id\": 2580, \"name\": \"shipwreck\"}, {\"id\": 298...                en   \n",
       "2  [{\"id\": 242, \"name\": \"new york\"}, {\"id\": 5539,...                en   \n",
       "3  [{\"id\": 1299, \"name\": \"monster\"}, {\"id\": 1718,...                en   \n",
       "4  [{\"id\": 830, \"name\": \"car race\"}, {\"id\": 3428,...                en   \n",
       "\n",
       "                                            overview  \\\n",
       "0  In the 22nd century, a paraplegic Marine is di...   \n",
       "1  84 years later, a 101-year-old woman named Ros...   \n",
       "2  When an unexpected enemy emerges and threatens...   \n",
       "3  Twenty-two years after the events of Jurassic ...   \n",
       "4  Deckard Shaw seeks revenge against Dominic Tor...   \n",
       "\n",
       "                                production_companies  \\\n",
       "0  [{\"name\": \"Ingenious Film Partners\", \"id\": 289...   \n",
       "1  [{\"name\": \"Paramount Pictures\", \"id\": 4}, {\"na...   \n",
       "2  [{\"name\": \"Paramount Pictures\", \"id\": 4}, {\"na...   \n",
       "3  [{\"name\": \"Universal Studios\", \"id\": 13}, {\"na...   \n",
       "4  [{\"name\": \"Universal Pictures\", \"id\": 33}, {\"n...   \n",
       "\n",
       "                                production_countries  runtime  \\\n",
       "0  [{\"iso_3166_1\": \"US\", \"name\": \"United States o...    162.0   \n",
       "1  [{\"iso_3166_1\": \"US\", \"name\": \"United States o...    194.0   \n",
       "2  [{\"iso_3166_1\": \"US\", \"name\": \"United States o...    143.0   \n",
       "3  [{\"iso_3166_1\": \"US\", \"name\": \"United States o...    124.0   \n",
       "4  [{\"iso_3166_1\": \"JP\", \"name\": \"Japan\"}, {\"iso_...    137.0   \n",
       "\n",
       "                                    spoken_languages    status release_date_dt  \n",
       "0  [{\"iso_639_1\": \"en\", \"name\": \"English\"}, {\"iso...  Released      2009-12-10  \n",
       "1  [{\"iso_639_1\": \"en\", \"name\": \"English\"}, {\"iso...  Released      1997-11-18  \n",
       "2           [{\"iso_639_1\": \"en\", \"name\": \"English\"}]  Released      2012-04-25  \n",
       "3           [{\"iso_639_1\": \"en\", \"name\": \"English\"}]  Released      2015-06-09  \n",
       "4           [{\"iso_639_1\": \"en\", \"name\": \"English\"}]  Released      2015-04-01  "
      ]
     },
     "execution_count": 2,
     "metadata": {},
     "output_type": "execute_result"
    }
   ],
   "source": [
    "# Load the dataset\n",
    "%store -r movie_df\n",
    "print(movie_df.shape)\n",
    "movie_df.head()"
   ]
  },
  {
   "cell_type": "markdown",
   "metadata": {},
   "source": [
    "## Extract 'name' key from Nested Columns"
   ]
  },
  {
   "cell_type": "code",
   "execution_count": 7,
   "metadata": {},
   "outputs": [],
   "source": [
    "# Import necessary modules\n",
    "import re\n",
    "import pandas as pd\n",
    "import numpy as np"
   ]
  },
  {
   "cell_type": "code",
   "execution_count": 8,
   "metadata": {},
   "outputs": [],
   "source": [
    "# Define patterns to strip from nested data columns\n",
    "name_pattern = re.compile('[A-Z]+\\s?[A-Za-z]+')\n",
    "keyword_pattern = re.compile('[a-z]+\\s?[a-z]+')"
   ]
  },
  {
   "cell_type": "code",
   "execution_count": 9,
   "metadata": {},
   "outputs": [],
   "source": [
    "def extract_names(series):\n",
    "    \"\"\" Create New Series of Nested Names \"\"\"\n",
    "    \n",
    "    new_series = []\n",
    "    \n",
    "    for row in series:\n",
    "        s = ' '.join(re.findall(name_pattern, row))\n",
    "        new_series.append(s)\n",
    "        \n",
    "    return pd.Series(new_series)"
   ]
  },
  {
   "cell_type": "code",
   "execution_count": 10,
   "metadata": {},
   "outputs": [],
   "source": [
    "def extract_keywords(series):\n",
    "    \"\"\" Create New Series of Nested Keyword Names \"\"\"\n",
    "    \n",
    "    new_series = []\n",
    "    \n",
    "    for row in series:\n",
    "        s = ' '.join(re.findall(keyword_pattern, row))\n",
    "        new_s = s.replace('id', '').replace('name', '')\n",
    "        new_series.append(new_s)\n",
    "        \n",
    "    return pd.Series(new_series)"
   ]
  },
  {
   "cell_type": "markdown",
   "metadata": {},
   "source": [
    "Genres"
   ]
  },
  {
   "cell_type": "code",
   "execution_count": 11,
   "metadata": {},
   "outputs": [],
   "source": [
    "# Extract names\n",
    "new_genres = extract_names(movie_df.genres)\n",
    "\n",
    "# Replace original column\n",
    "movie_df['genres'] = new_genres"
   ]
  },
  {
   "cell_type": "markdown",
   "metadata": {},
   "source": [
    "Keywords"
   ]
  },
  {
   "cell_type": "code",
   "execution_count": 12,
   "metadata": {},
   "outputs": [],
   "source": [
    "# Extract names\n",
    "new_keywords = extract_keywords(movie_df.keywords)\n",
    "\n",
    "# Replace original column\n",
    "movie_df['keywords'] = new_keywords"
   ]
  },
  {
   "cell_type": "markdown",
   "metadata": {},
   "source": [
    "Production Companies"
   ]
  },
  {
   "cell_type": "code",
   "execution_count": 13,
   "metadata": {},
   "outputs": [],
   "source": [
    "# Extract names\n",
    "new_production_companies = extract_names(movie_df.production_companies)\n",
    "\n",
    "# Replace original column\n",
    "movie_df['production_companies'] = new_production_companies"
   ]
  },
  {
   "cell_type": "markdown",
   "metadata": {},
   "source": [
    "Production Countries"
   ]
  },
  {
   "cell_type": "code",
   "execution_count": 14,
   "metadata": {},
   "outputs": [],
   "source": [
    "# Extract names\n",
    "new_production_countries = extract_names(movie_df.production_countries)\n",
    "\n",
    "# Replace original column\n",
    "movie_df['production_countries'] = new_production_countries"
   ]
  },
  {
   "cell_type": "markdown",
   "metadata": {},
   "source": [
    "Spoken Languages"
   ]
  },
  {
   "cell_type": "code",
   "execution_count": 15,
   "metadata": {},
   "outputs": [],
   "source": [
    "# Extract names\n",
    "new_spoken_languages = extract_names(movie_df.spoken_languages)\n",
    "\n",
    "# Replace original column\n",
    "movie_df['spoken_languages'] = new_spoken_languages"
   ]
  },
  {
   "cell_type": "code",
   "execution_count": 16,
   "metadata": {},
   "outputs": [
    {
     "data": {
      "text/html": [
       "<div>\n",
       "<style scoped>\n",
       "    .dataframe tbody tr th:only-of-type {\n",
       "        vertical-align: middle;\n",
       "    }\n",
       "\n",
       "    .dataframe tbody tr th {\n",
       "        vertical-align: top;\n",
       "    }\n",
       "\n",
       "    .dataframe thead th {\n",
       "        text-align: right;\n",
       "    }\n",
       "</style>\n",
       "<table border=\"1\" class=\"dataframe\">\n",
       "  <thead>\n",
       "    <tr style=\"text-align: right;\">\n",
       "      <th></th>\n",
       "      <th>title</th>\n",
       "      <th>revenue</th>\n",
       "      <th>genres</th>\n",
       "      <th>keywords</th>\n",
       "      <th>original_language</th>\n",
       "      <th>overview</th>\n",
       "      <th>production_companies</th>\n",
       "      <th>production_countries</th>\n",
       "      <th>runtime</th>\n",
       "      <th>spoken_languages</th>\n",
       "      <th>status</th>\n",
       "      <th>release_date_dt</th>\n",
       "    </tr>\n",
       "  </thead>\n",
       "  <tbody>\n",
       "    <tr>\n",
       "      <th>0</th>\n",
       "      <td>Avatar</td>\n",
       "      <td>2.787965e+09</td>\n",
       "      <td>Action Adventure Fantasy Science Fiction</td>\n",
       "      <td>culture clash   future   space war   space c...</td>\n",
       "      <td>en</td>\n",
       "      <td>In the 22nd century, a paraplegic Marine is di...</td>\n",
       "      <td>Ingenious Film Partners Twentieth Century Fox ...</td>\n",
       "      <td>US United States America GB United Kingdom</td>\n",
       "      <td>162.0</td>\n",
       "      <td>English Espa</td>\n",
       "      <td>Released</td>\n",
       "      <td>2009-12-10</td>\n",
       "    </tr>\n",
       "    <tr>\n",
       "      <th>1</th>\n",
       "      <td>Titanic</td>\n",
       "      <td>1.845034e+09</td>\n",
       "      <td>Drama Romance Thriller</td>\n",
       "      <td>shipwreck   iceberg   ship   panic   titanic...</td>\n",
       "      <td>en</td>\n",
       "      <td>84 years later, a 101-year-old woman named Ros...</td>\n",
       "      <td>Paramount Pictures Twentieth Century Fox Film ...</td>\n",
       "      <td>US United States America</td>\n",
       "      <td>194.0</td>\n",
       "      <td>English Fran Deutsch Italiano</td>\n",
       "      <td>Released</td>\n",
       "      <td>1997-11-18</td>\n",
       "    </tr>\n",
       "    <tr>\n",
       "      <th>2</th>\n",
       "      <td>The Avengers</td>\n",
       "      <td>1.519558e+09</td>\n",
       "      <td>Science Fiction Action Adventure</td>\n",
       "      <td>new york   shield   marvel comic   superhero...</td>\n",
       "      <td>en</td>\n",
       "      <td>When an unexpected enemy emerges and threatens...</td>\n",
       "      <td>Paramount Pictures Marvel Studios</td>\n",
       "      <td>US United States America</td>\n",
       "      <td>143.0</td>\n",
       "      <td>English</td>\n",
       "      <td>Released</td>\n",
       "      <td>2012-04-25</td>\n",
       "    </tr>\n",
       "    <tr>\n",
       "      <th>3</th>\n",
       "      <td>Jurassic World</td>\n",
       "      <td>1.513529e+09</td>\n",
       "      <td>Action Adventure Science Fiction Thriller</td>\n",
       "      <td>monster   dna   tyrannosaurus rex   velocira...</td>\n",
       "      <td>en</td>\n",
       "      <td>Twenty-two years after the events of Jurassic ...</td>\n",
       "      <td>Universal Studios Amblin Entertainment Legenda...</td>\n",
       "      <td>US United States America</td>\n",
       "      <td>124.0</td>\n",
       "      <td>English</td>\n",
       "      <td>Released</td>\n",
       "      <td>2015-06-09</td>\n",
       "    </tr>\n",
       "    <tr>\n",
       "      <th>4</th>\n",
       "      <td>Furious 7</td>\n",
       "      <td>1.506249e+09</td>\n",
       "      <td>Action</td>\n",
       "      <td>car race   speed   revenge   suspense   car ...</td>\n",
       "      <td>en</td>\n",
       "      <td>Deckard Shaw seeks revenge against Dominic Tor...</td>\n",
       "      <td>Universal Pictures Original Film Fuji Televisi...</td>\n",
       "      <td>JP Japan US United States America</td>\n",
       "      <td>137.0</td>\n",
       "      <td>English</td>\n",
       "      <td>Released</td>\n",
       "      <td>2015-04-01</td>\n",
       "    </tr>\n",
       "  </tbody>\n",
       "</table>\n",
       "</div>"
      ],
      "text/plain": [
       "            title       revenue                                     genres  \\\n",
       "0          Avatar  2.787965e+09   Action Adventure Fantasy Science Fiction   \n",
       "1         Titanic  1.845034e+09                     Drama Romance Thriller   \n",
       "2    The Avengers  1.519558e+09           Science Fiction Action Adventure   \n",
       "3  Jurassic World  1.513529e+09  Action Adventure Science Fiction Thriller   \n",
       "4       Furious 7  1.506249e+09                                     Action   \n",
       "\n",
       "                                            keywords original_language  \\\n",
       "0    culture clash   future   space war   space c...                en   \n",
       "1    shipwreck   iceberg   ship   panic   titanic...                en   \n",
       "2    new york   shield   marvel comic   superhero...                en   \n",
       "3    monster   dna   tyrannosaurus rex   velocira...                en   \n",
       "4    car race   speed   revenge   suspense   car ...                en   \n",
       "\n",
       "                                            overview  \\\n",
       "0  In the 22nd century, a paraplegic Marine is di...   \n",
       "1  84 years later, a 101-year-old woman named Ros...   \n",
       "2  When an unexpected enemy emerges and threatens...   \n",
       "3  Twenty-two years after the events of Jurassic ...   \n",
       "4  Deckard Shaw seeks revenge against Dominic Tor...   \n",
       "\n",
       "                                production_companies  \\\n",
       "0  Ingenious Film Partners Twentieth Century Fox ...   \n",
       "1  Paramount Pictures Twentieth Century Fox Film ...   \n",
       "2                  Paramount Pictures Marvel Studios   \n",
       "3  Universal Studios Amblin Entertainment Legenda...   \n",
       "4  Universal Pictures Original Film Fuji Televisi...   \n",
       "\n",
       "                         production_countries  runtime  \\\n",
       "0  US United States America GB United Kingdom    162.0   \n",
       "1                    US United States America    194.0   \n",
       "2                    US United States America    143.0   \n",
       "3                    US United States America    124.0   \n",
       "4           JP Japan US United States America    137.0   \n",
       "\n",
       "                spoken_languages    status release_date_dt  \n",
       "0                   English Espa  Released      2009-12-10  \n",
       "1  English Fran Deutsch Italiano  Released      1997-11-18  \n",
       "2                        English  Released      2012-04-25  \n",
       "3                        English  Released      2015-06-09  \n",
       "4                        English  Released      2015-04-01  "
      ]
     },
     "execution_count": 16,
     "metadata": {},
     "output_type": "execute_result"
    }
   ],
   "source": [
    "# Verify Output\n",
    "movie_df.head()"
   ]
  },
  {
   "cell_type": "code",
   "execution_count": 17,
   "metadata": {},
   "outputs": [
    {
     "name": "stdout",
     "output_type": "stream",
     "text": [
      "Stored 'movie_df_unnested' (DataFrame)\n"
     ]
    }
   ],
   "source": [
    "# Store modified movie_df globally\n",
    "movie_df_unnested = movie_df.copy()\n",
    "%store movie_df_unnested "
   ]
  }
 ],
 "metadata": {
  "kernelspec": {
   "display_name": "Python 3",
   "language": "python",
   "name": "python3"
  },
  "language_info": {
   "codemirror_mode": {
    "name": "ipython",
    "version": 3
   },
   "file_extension": ".py",
   "mimetype": "text/x-python",
   "name": "python",
   "nbconvert_exporter": "python",
   "pygments_lexer": "ipython3",
   "version": "3.7.3"
  }
 },
 "nbformat": 4,
 "nbformat_minor": 2
}
