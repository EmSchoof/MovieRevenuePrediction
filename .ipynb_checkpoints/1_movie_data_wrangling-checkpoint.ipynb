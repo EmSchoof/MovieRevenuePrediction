{
 "cells": [
  {
   "cell_type": "markdown",
   "metadata": {},
   "source": [
    "## Movie Revenue Prediction \n",
    "\n",
    "### Objective: Your client is a movie studio and they need to be able to predict movie revenue in order to greenlight the project and assign a budget to it. \n",
    "- Most of the data is comprised of categorical variables. \n",
    "- While the budget for the movie is known in the dataset, it is often an unknown variable during the greenlighting process. "
   ]
  },
  {
   "cell_type": "markdown",
   "metadata": {},
   "source": [
    "## Section 1: Data Preprocessing\n",
    "- Load Movie_Revenue_Predictions.csv data\n",
    "- Cleaning Data and Exploration"
   ]
  },
  {
   "cell_type": "code",
   "execution_count": 1,
   "metadata": {},
   "outputs": [],
   "source": [
    "# Import necessary modules\n",
    "import pandas as pd\n",
    "from pandas import DataFrame\n",
    "import numpy as np\n",
    "import matplotlib.pyplot as plt\n",
    "import datetime"
   ]
  },
  {
   "cell_type": "code",
   "execution_count": 2,
   "metadata": {},
   "outputs": [
    {
     "data": {
      "text/html": [
       "<div>\n",
       "<style scoped>\n",
       "    .dataframe tbody tr th:only-of-type {\n",
       "        vertical-align: middle;\n",
       "    }\n",
       "\n",
       "    .dataframe tbody tr th {\n",
       "        vertical-align: top;\n",
       "    }\n",
       "\n",
       "    .dataframe thead th {\n",
       "        text-align: right;\n",
       "    }\n",
       "</style>\n",
       "<table border=\"1\" class=\"dataframe\">\n",
       "  <thead>\n",
       "    <tr style=\"text-align: right;\">\n",
       "      <th></th>\n",
       "      <th>title</th>\n",
       "      <th>tagline</th>\n",
       "      <th>revenue</th>\n",
       "      <th>budget</th>\n",
       "      <th>genres</th>\n",
       "      <th>homepage</th>\n",
       "      <th>id</th>\n",
       "      <th>keywords</th>\n",
       "      <th>original_language</th>\n",
       "      <th>overview</th>\n",
       "      <th>production_companies</th>\n",
       "      <th>production_countries</th>\n",
       "      <th>release_date</th>\n",
       "      <th>runtime</th>\n",
       "      <th>spoken_languages</th>\n",
       "      <th>status</th>\n",
       "    </tr>\n",
       "  </thead>\n",
       "  <tbody>\n",
       "    <tr>\n",
       "      <th>0</th>\n",
       "      <td>Avatar</td>\n",
       "      <td>Enter the World of Pandora.</td>\n",
       "      <td>2787965087</td>\n",
       "      <td>237000000</td>\n",
       "      <td>[{\"id\": 28, \"name\": \"Action\"}, {\"id\": 12, \"nam...</td>\n",
       "      <td>http://www.avatarmovie.com/</td>\n",
       "      <td>19995</td>\n",
       "      <td>[{\"id\": 1463, \"name\": \"culture clash\"}, {\"id\":...</td>\n",
       "      <td>en</td>\n",
       "      <td>In the 22nd century, a paraplegic Marine is di...</td>\n",
       "      <td>[{\"name\": \"Ingenious Film Partners\", \"id\": 289...</td>\n",
       "      <td>[{\"iso_3166_1\": \"US\", \"name\": \"United States o...</td>\n",
       "      <td>12/10/09</td>\n",
       "      <td>162.0</td>\n",
       "      <td>[{\"iso_639_1\": \"en\", \"name\": \"English\"}, {\"iso...</td>\n",
       "      <td>Released</td>\n",
       "    </tr>\n",
       "    <tr>\n",
       "      <th>1</th>\n",
       "      <td>Pirates of the Caribbean: At World's End</td>\n",
       "      <td>At the end of the world, the adventure begins.</td>\n",
       "      <td>961000000</td>\n",
       "      <td>300000000</td>\n",
       "      <td>[{\"id\": 12, \"name\": \"Adventure\"}, {\"id\": 14, \"...</td>\n",
       "      <td>http://disney.go.com/disneypictures/pirates/</td>\n",
       "      <td>285</td>\n",
       "      <td>[{\"id\": 270, \"name\": \"ocean\"}, {\"id\": 726, \"na...</td>\n",
       "      <td>en</td>\n",
       "      <td>Captain Barbossa, long believed to be dead, ha...</td>\n",
       "      <td>[{\"name\": \"Walt Disney Pictures\", \"id\": 2}, {\"...</td>\n",
       "      <td>[{\"iso_3166_1\": \"US\", \"name\": \"United States o...</td>\n",
       "      <td>5/19/07</td>\n",
       "      <td>169.0</td>\n",
       "      <td>[{\"iso_639_1\": \"en\", \"name\": \"English\"}]</td>\n",
       "      <td>Released</td>\n",
       "    </tr>\n",
       "  </tbody>\n",
       "</table>\n",
       "</div>"
      ],
      "text/plain": [
       "                                      title  \\\n",
       "0                                    Avatar   \n",
       "1  Pirates of the Caribbean: At World's End   \n",
       "\n",
       "                                          tagline     revenue     budget  \\\n",
       "0                     Enter the World of Pandora.  2787965087  237000000   \n",
       "1  At the end of the world, the adventure begins.   961000000  300000000   \n",
       "\n",
       "                                              genres  \\\n",
       "0  [{\"id\": 28, \"name\": \"Action\"}, {\"id\": 12, \"nam...   \n",
       "1  [{\"id\": 12, \"name\": \"Adventure\"}, {\"id\": 14, \"...   \n",
       "\n",
       "                                       homepage     id  \\\n",
       "0                   http://www.avatarmovie.com/  19995   \n",
       "1  http://disney.go.com/disneypictures/pirates/    285   \n",
       "\n",
       "                                            keywords original_language  \\\n",
       "0  [{\"id\": 1463, \"name\": \"culture clash\"}, {\"id\":...                en   \n",
       "1  [{\"id\": 270, \"name\": \"ocean\"}, {\"id\": 726, \"na...                en   \n",
       "\n",
       "                                            overview  \\\n",
       "0  In the 22nd century, a paraplegic Marine is di...   \n",
       "1  Captain Barbossa, long believed to be dead, ha...   \n",
       "\n",
       "                                production_companies  \\\n",
       "0  [{\"name\": \"Ingenious Film Partners\", \"id\": 289...   \n",
       "1  [{\"name\": \"Walt Disney Pictures\", \"id\": 2}, {\"...   \n",
       "\n",
       "                                production_countries release_date  runtime  \\\n",
       "0  [{\"iso_3166_1\": \"US\", \"name\": \"United States o...     12/10/09    162.0   \n",
       "1  [{\"iso_3166_1\": \"US\", \"name\": \"United States o...      5/19/07    169.0   \n",
       "\n",
       "                                    spoken_languages    status  \n",
       "0  [{\"iso_639_1\": \"en\", \"name\": \"English\"}, {\"iso...  Released  \n",
       "1           [{\"iso_639_1\": \"en\", \"name\": \"English\"}]  Released  "
      ]
     },
     "execution_count": 2,
     "metadata": {},
     "output_type": "execute_result"
    }
   ],
   "source": [
    "# Load the dataset\n",
    "movie_df = DataFrame(pd.read_csv('Movie_Revenue_Predictions.csv'))\n",
    "movie_df.head(2)"
   ]
  },
  {
   "cell_type": "code",
   "execution_count": 3,
   "metadata": {},
   "outputs": [
    {
     "data": {
      "text/plain": [
       "(4803, 16)"
      ]
     },
     "execution_count": 3,
     "metadata": {},
     "output_type": "execute_result"
    }
   ],
   "source": [
    "# Assess shape of data\n",
    "movie_df.shape"
   ]
  },
  {
   "cell_type": "code",
   "execution_count": 4,
   "metadata": {},
   "outputs": [
    {
     "name": "stdout",
     "output_type": "stream",
     "text": [
      "<class 'pandas.core.frame.DataFrame'>\n",
      "RangeIndex: 4803 entries, 0 to 4802\n",
      "Data columns (total 16 columns):\n",
      "title                   4803 non-null object\n",
      "tagline                 3959 non-null object\n",
      "revenue                 4803 non-null int64\n",
      "budget                  4803 non-null int64\n",
      "genres                  4803 non-null object\n",
      "homepage                1712 non-null object\n",
      "id                      4803 non-null int64\n",
      "keywords                4803 non-null object\n",
      "original_language       4803 non-null object\n",
      "overview                4800 non-null object\n",
      "production_companies    4803 non-null object\n",
      "production_countries    4803 non-null object\n",
      "release_date            4802 non-null object\n",
      "runtime                 4801 non-null float64\n",
      "spoken_languages        4803 non-null object\n",
      "status                  4803 non-null object\n",
      "dtypes: float64(1), int64(3), object(12)\n",
      "memory usage: 600.5+ KB\n"
     ]
    }
   ],
   "source": [
    "# Assess dataframe\n",
    "movie_df.info()"
   ]
  },
  {
   "cell_type": "code",
   "execution_count": 5,
   "metadata": {},
   "outputs": [
    {
     "data": {
      "text/plain": [
       "title                      0\n",
       "tagline                  844\n",
       "revenue                    0\n",
       "budget                     0\n",
       "genres                     0\n",
       "homepage                3091\n",
       "id                         0\n",
       "keywords                   0\n",
       "original_language          0\n",
       "overview                   3\n",
       "production_companies       0\n",
       "production_countries       0\n",
       "release_date               1\n",
       "runtime                    2\n",
       "spoken_languages           0\n",
       "status                     0\n",
       "dtype: int64"
      ]
     },
     "execution_count": 5,
     "metadata": {},
     "output_type": "execute_result"
    }
   ],
   "source": [
    "movie_df.isnull().sum()"
   ]
  },
  {
   "cell_type": "markdown",
   "metadata": {},
   "source": [
    "## Resolution of NaN Values\n",
    "#### 1. Numerical columns:\n",
    "   - **runtime** (2 NaN)\n",
    "       - since there are so few instances, dropping the NaN rows will not interfere with the analysis of movie revenue. \n",
    "        \n",
    "#### 2. Categorical/Object columns:\n",
    "Filling in NaN categorical values in the remaining columns is a bit tricky since there is no easily-applied statistical method.\n",
    "   - **homepage** (3091 NaN)\n",
    "        - 3/4 of the data is missing (3091 of the total 4803), so this column cannot be effectively utilized for this model and should be dropped.\n",
    "   - **overview** (3 NaN)\n",
    "        - since there are so few instances, dropping the NaN rows will not interfere with the analysis of movie revenue. \n",
    "   - **release_date** (1 NaN)\n",
    "        - since there are so few instances, dropping the NaN rows will not interfere with the analysis of movie revenue. \n",
    "   - **tagline** (844 NaN)\n",
    "        - while 844 is well under 1/4 of the total data, the tagline for a movie may in fact have a significant impact on movie revenue due to its marketing implications. Therefore, I will attempt to predict the tagline column missing values with random forest, as documented in this source article: https://www.mikulskibartosz.name/fill-missing-values-using-random-forest/. *Sense this will result in the conversion of the dataset in to numerical/encoded values, this resolution will be reserved for after all other values have been resolved.*"
   ]
  },
  {
   "cell_type": "code",
   "execution_count": 6,
   "metadata": {},
   "outputs": [
    {
     "data": {
      "text/plain": [
       "4799"
      ]
     },
     "execution_count": 6,
     "metadata": {},
     "output_type": "execute_result"
    }
   ],
   "source": [
    "# Drop NaNs in Numerical Columns - only select rows where overview, runtime, and release_date columns are \"not null\"\n",
    "movie_df = movie_df.dropna(subset=['runtime', 'overview', 'release_date'])\n",
    "len(movie_df)"
   ]
  },
  {
   "cell_type": "code",
   "execution_count": 7,
   "metadata": {},
   "outputs": [
    {
     "data": {
      "text/plain": [
       "0   2009-12-10\n",
       "1   2007-05-19\n",
       "Name: release_date_dt, dtype: datetime64[ns]"
      ]
     },
     "execution_count": 7,
     "metadata": {},
     "output_type": "execute_result"
    }
   ],
   "source": [
    "# Convert Dates to Datetime Objects\n",
    "movie_df['release_date_dt'] = pd.to_datetime(movie_df['release_date'], infer_datetime_format=True)\n",
    "movie_df['release_date_dt'].head(2)"
   ]
  },
  {
   "cell_type": "code",
   "execution_count": 8,
   "metadata": {},
   "outputs": [
    {
     "data": {
      "text/html": [
       "<div>\n",
       "<style scoped>\n",
       "    .dataframe tbody tr th:only-of-type {\n",
       "        vertical-align: middle;\n",
       "    }\n",
       "\n",
       "    .dataframe tbody tr th {\n",
       "        vertical-align: top;\n",
       "    }\n",
       "\n",
       "    .dataframe thead th {\n",
       "        text-align: right;\n",
       "    }\n",
       "</style>\n",
       "<table border=\"1\" class=\"dataframe\">\n",
       "  <thead>\n",
       "    <tr style=\"text-align: right;\">\n",
       "      <th></th>\n",
       "      <th>title</th>\n",
       "      <th>tagline</th>\n",
       "      <th>revenue</th>\n",
       "      <th>budget</th>\n",
       "      <th>genres</th>\n",
       "      <th>id</th>\n",
       "      <th>keywords</th>\n",
       "      <th>original_language</th>\n",
       "      <th>overview</th>\n",
       "      <th>production_companies</th>\n",
       "      <th>production_countries</th>\n",
       "      <th>runtime</th>\n",
       "      <th>spoken_languages</th>\n",
       "      <th>status</th>\n",
       "      <th>release_date_dt</th>\n",
       "    </tr>\n",
       "  </thead>\n",
       "  <tbody>\n",
       "    <tr>\n",
       "      <th>0</th>\n",
       "      <td>Avatar</td>\n",
       "      <td>Enter the World of Pandora.</td>\n",
       "      <td>2787965087</td>\n",
       "      <td>237000000</td>\n",
       "      <td>[{\"id\": 28, \"name\": \"Action\"}, {\"id\": 12, \"nam...</td>\n",
       "      <td>19995</td>\n",
       "      <td>[{\"id\": 1463, \"name\": \"culture clash\"}, {\"id\":...</td>\n",
       "      <td>en</td>\n",
       "      <td>In the 22nd century, a paraplegic Marine is di...</td>\n",
       "      <td>[{\"name\": \"Ingenious Film Partners\", \"id\": 289...</td>\n",
       "      <td>[{\"iso_3166_1\": \"US\", \"name\": \"United States o...</td>\n",
       "      <td>162.0</td>\n",
       "      <td>[{\"iso_639_1\": \"en\", \"name\": \"English\"}, {\"iso...</td>\n",
       "      <td>Released</td>\n",
       "      <td>2009-12-10</td>\n",
       "    </tr>\n",
       "    <tr>\n",
       "      <th>1</th>\n",
       "      <td>Pirates of the Caribbean: At World's End</td>\n",
       "      <td>At the end of the world, the adventure begins.</td>\n",
       "      <td>961000000</td>\n",
       "      <td>300000000</td>\n",
       "      <td>[{\"id\": 12, \"name\": \"Adventure\"}, {\"id\": 14, \"...</td>\n",
       "      <td>285</td>\n",
       "      <td>[{\"id\": 270, \"name\": \"ocean\"}, {\"id\": 726, \"na...</td>\n",
       "      <td>en</td>\n",
       "      <td>Captain Barbossa, long believed to be dead, ha...</td>\n",
       "      <td>[{\"name\": \"Walt Disney Pictures\", \"id\": 2}, {\"...</td>\n",
       "      <td>[{\"iso_3166_1\": \"US\", \"name\": \"United States o...</td>\n",
       "      <td>169.0</td>\n",
       "      <td>[{\"iso_639_1\": \"en\", \"name\": \"English\"}]</td>\n",
       "      <td>Released</td>\n",
       "      <td>2007-05-19</td>\n",
       "    </tr>\n",
       "  </tbody>\n",
       "</table>\n",
       "</div>"
      ],
      "text/plain": [
       "                                      title  \\\n",
       "0                                    Avatar   \n",
       "1  Pirates of the Caribbean: At World's End   \n",
       "\n",
       "                                          tagline     revenue     budget  \\\n",
       "0                     Enter the World of Pandora.  2787965087  237000000   \n",
       "1  At the end of the world, the adventure begins.   961000000  300000000   \n",
       "\n",
       "                                              genres     id  \\\n",
       "0  [{\"id\": 28, \"name\": \"Action\"}, {\"id\": 12, \"nam...  19995   \n",
       "1  [{\"id\": 12, \"name\": \"Adventure\"}, {\"id\": 14, \"...    285   \n",
       "\n",
       "                                            keywords original_language  \\\n",
       "0  [{\"id\": 1463, \"name\": \"culture clash\"}, {\"id\":...                en   \n",
       "1  [{\"id\": 270, \"name\": \"ocean\"}, {\"id\": 726, \"na...                en   \n",
       "\n",
       "                                            overview  \\\n",
       "0  In the 22nd century, a paraplegic Marine is di...   \n",
       "1  Captain Barbossa, long believed to be dead, ha...   \n",
       "\n",
       "                                production_companies  \\\n",
       "0  [{\"name\": \"Ingenious Film Partners\", \"id\": 289...   \n",
       "1  [{\"name\": \"Walt Disney Pictures\", \"id\": 2}, {\"...   \n",
       "\n",
       "                                production_countries  runtime  \\\n",
       "0  [{\"iso_3166_1\": \"US\", \"name\": \"United States o...    162.0   \n",
       "1  [{\"iso_3166_1\": \"US\", \"name\": \"United States o...    169.0   \n",
       "\n",
       "                                    spoken_languages    status release_date_dt  \n",
       "0  [{\"iso_639_1\": \"en\", \"name\": \"English\"}, {\"iso...  Released      2009-12-10  \n",
       "1           [{\"iso_639_1\": \"en\", \"name\": \"English\"}]  Released      2007-05-19  "
      ]
     },
     "execution_count": 8,
     "metadata": {},
     "output_type": "execute_result"
    }
   ],
   "source": [
    "# Drop Columns with Too Many NaNs *(> 50% of entries)* to Resolve\n",
    "movie_df = movie_df.drop(columns=['homepage', 'release_date'])\n",
    "movie_df.head(2)"
   ]
  },
  {
   "cell_type": "code",
   "execution_count": 9,
   "metadata": {},
   "outputs": [
    {
     "data": {
      "text/plain": [
       "title                     0\n",
       "tagline                 840\n",
       "revenue                   0\n",
       "budget                    0\n",
       "genres                    0\n",
       "id                        0\n",
       "keywords                  0\n",
       "original_language         0\n",
       "overview                  0\n",
       "production_companies      0\n",
       "production_countries      0\n",
       "runtime                   0\n",
       "spoken_languages          0\n",
       "status                    0\n",
       "release_date_dt           0\n",
       "dtype: int64"
      ]
     },
     "execution_count": 9,
     "metadata": {},
     "output_type": "execute_result"
    }
   ],
   "source": [
    "# Test output\n",
    "movie_df.isnull().sum()"
   ]
  },
  {
   "cell_type": "markdown",
   "metadata": {},
   "source": [
    "## Explore the Values within Each Column"
   ]
  },
  {
   "cell_type": "code",
   "execution_count": 26,
   "metadata": {},
   "outputs": [],
   "source": [
    "# Import helpful modules\n",
    "from collections import Counter"
   ]
  },
  {
   "cell_type": "code",
   "execution_count": 10,
   "metadata": {},
   "outputs": [
    {
     "name": "stdout",
     "output_type": "stream",
     "text": [
      "4796\n",
      "count         4799\n",
      "unique        4796\n",
      "top       The Host\n",
      "freq             2\n",
      "Name: title, dtype: object\n"
     ]
    },
    {
     "data": {
      "text/plain": [
       "The Host                                 2\n",
       "Out of the Blue                          2\n",
       "Batman                                   2\n",
       "Cargo                                    1\n",
       "The Life of David Gale                   1\n",
       "Pitch Perfect 2                          1\n",
       "Rio 2                                    1\n",
       "The Last Sin Eater                       1\n",
       "Little Nicholas                          1\n",
       "Eraserhead                               1\n",
       "Rapa Nui                                 1\n",
       "Spectre                                  1\n",
       "East Is East                             1\n",
       "You Don't Mess with the Zohan            1\n",
       "Lincoln                                  1\n",
       "Love Ranch                               1\n",
       "Stake Land                               1\n",
       "A Simple Wish                            1\n",
       "Babel                                    1\n",
       "Snakes on a Plane                        1\n",
       "Albino Alligator                         1\n",
       "Dragonslayer                             1\n",
       "PCU                                      1\n",
       "Anomalisa                                1\n",
       "Cure                                     1\n",
       "Beverly Hills Chihuahua                  1\n",
       "The Duchess                              1\n",
       "R.I.P.D.                                 1\n",
       "Law Abiding Citizen                      1\n",
       "Pinocchio                                1\n",
       "                                        ..\n",
       "Frozen                                   1\n",
       "Austin Powers: The Spy Who Shagged Me    1\n",
       "Argo                                     1\n",
       "The Royal Tenenbaums                     1\n",
       "Purple Violets                           1\n",
       "The Mexican                              1\n",
       "The Naked Gun 33⅓: The Final Insult      1\n",
       "The Haunted Mansion                      1\n",
       "Rio                                      1\n",
       "Anything Else                            1\n",
       "The Animal                               1\n",
       "Catch-22                                 1\n",
       "Fear and Loathing in Las Vegas           1\n",
       "Elizabeth                                1\n",
       "Black Rock                               1\n",
       "The Wailing                              1\n",
       "Secretariat                              1\n",
       "Wal-Mart: The High Cost of Low Price     1\n",
       "Mrs. Doubtfire                           1\n",
       "Edge of Tomorrow                         1\n",
       "Star Trek: Generations                   1\n",
       "Mississippi Mermaid                      1\n",
       "Taken 2                                  1\n",
       "Stargate: The Ark of Truth               1\n",
       "The Rose                                 1\n",
       "Rent                                     1\n",
       "Happy Christmas                          1\n",
       "The Greatest Movie Ever Sold             1\n",
       "Duel in the Sun                          1\n",
       "She's Gotta Have It                      1\n",
       "Name: title, Length: 4796, dtype: int64"
      ]
     },
     "execution_count": 10,
     "metadata": {},
     "output_type": "execute_result"
    }
   ],
   "source": [
    "# Title\n",
    "print(len(movie_df.title.value_counts(ascending=False)))\n",
    "print(movie_df.title.describe())\n",
    "movie_df.title.value_counts(ascending=False)"
   ]
  },
  {
   "cell_type": "markdown",
   "metadata": {},
   "source": [
    "*Aside from more two movie entries per Batman, Out of the Blue, and The Host movies, all other movie titles within the dataset only appear once.*"
   ]
  },
  {
   "cell_type": "code",
   "execution_count": 11,
   "metadata": {},
   "outputs": [
    {
     "name": "stdout",
     "output_type": "stream",
     "text": [
      "3297\n",
      "count    4.799000e+03\n",
      "mean     8.232920e+07\n",
      "std      1.629076e+08\n",
      "min      0.000000e+00\n",
      "25%      0.000000e+00\n",
      "50%      1.918402e+07\n",
      "75%      9.295652e+07\n",
      "max      2.787965e+09\n",
      "Name: revenue, dtype: float64\n"
     ]
    },
    {
     "data": {
      "text/plain": [
       "0            1423\n",
       "7000000         6\n",
       "8000000         6\n",
       "6000000         5\n",
       "12000000        5\n",
       "10000000        5\n",
       "100000000       5\n",
       "14000000        4\n",
       "25000000        4\n",
       "11000000        4\n",
       "5000000         4\n",
       "32000000        3\n",
       "13000000        3\n",
       "60000000        3\n",
       "7800000         3\n",
       "14400000        3\n",
       "4000000         3\n",
       "17000000        3\n",
       "30000000        3\n",
       "77000000        2\n",
       "20000000        2\n",
       "29000000        2\n",
       "42000000        2\n",
       "2200000         2\n",
       "8500000         2\n",
       "24000000        2\n",
       "102000000       2\n",
       "9000000         2\n",
       "15000000        2\n",
       "33400000        2\n",
       "             ... \n",
       "157887643       1\n",
       "18195610        1\n",
       "482860185       1\n",
       "10501938        1\n",
       "325233863       1\n",
       "16633035        1\n",
       "53191886        1\n",
       "273552592       1\n",
       "47042000        1\n",
       "275293450       1\n",
       "786636033       1\n",
       "538400000       1\n",
       "32204030        1\n",
       "30411183        1\n",
       "91636986        1\n",
       "82087155        1\n",
       "82150642        1\n",
       "48190704        1\n",
       "104303851       1\n",
       "2401510         1\n",
       "15200000        1\n",
       "109906372       1\n",
       "83719388        1\n",
       "193355800       1\n",
       "136621271       1\n",
       "32726956        1\n",
       "4420000         1\n",
       "26096852        1\n",
       "79817939        1\n",
       "10680275        1\n",
       "Name: revenue, Length: 3297, dtype: int64"
      ]
     },
     "execution_count": 11,
     "metadata": {},
     "output_type": "execute_result"
    }
   ],
   "source": [
    "# Revenue\n",
    "print(len(movie_df.revenue.value_counts(ascending=False)))\n",
    "print(movie_df.revenue.describe())\n",
    "movie_df.revenue.value_counts(ascending=False)"
   ]
  },
  {
   "cell_type": "markdown",
   "metadata": {},
   "source": [
    "*There are 1423 movies within the dataset that have a reported $0 for revenue. This is most likely due to missing data. Since movie revenue is the target variable, these instances need to be kept in mind.*"
   ]
  },
  {
   "cell_type": "code",
   "execution_count": 12,
   "metadata": {},
   "outputs": [
    {
     "name": "stdout",
     "output_type": "stream",
     "text": [
      "434\n",
      "count    4.799000e+03\n",
      "mean     2.906593e+07\n",
      "std      4.073251e+07\n",
      "min      0.000000e+00\n",
      "25%      8.000000e+05\n",
      "50%      1.500000e+07\n",
      "75%      4.000000e+07\n",
      "max      3.800000e+08\n",
      "Name: budget, dtype: float64\n"
     ]
    },
    {
     "data": {
      "text/plain": [
       "0            1036\n",
       "20000000      144\n",
       "30000000      128\n",
       "25000000      126\n",
       "40000000      123\n",
       "15000000      119\n",
       "35000000      102\n",
       "50000000      101\n",
       "10000000      101\n",
       "60000000       86\n",
       "5000000        84\n",
       "12000000       79\n",
       "8000000        62\n",
       "70000000       60\n",
       "80000000       59\n",
       "18000000       59\n",
       "6000000        55\n",
       "7000000        55\n",
       "2000000        54\n",
       "45000000       52\n",
       "3000000        51\n",
       "4000000        49\n",
       "1000000        48\n",
       "75000000       47\n",
       "55000000       45\n",
       "28000000       42\n",
       "150000000      41\n",
       "13000000       41\n",
       "11000000       41\n",
       "100000000      41\n",
       "             ... \n",
       "176000003       1\n",
       "180000          1\n",
       "97250400        1\n",
       "16800000        1\n",
       "1350000         1\n",
       "777000          1\n",
       "127000000       1\n",
       "2686000         1\n",
       "3100000         1\n",
       "1650000         1\n",
       "1455000         1\n",
       "12516654        1\n",
       "5952000         1\n",
       "14200000        1\n",
       "12305523        1\n",
       "78146652        1\n",
       "3705538         1\n",
       "3730500         1\n",
       "46000           1\n",
       "7347125         1\n",
       "85000           1\n",
       "4300000         1\n",
       "19500000        1\n",
       "23600000        1\n",
       "41677699        1\n",
       "9600000         1\n",
       "51500000        1\n",
       "7800000         1\n",
       "133000000       1\n",
       "40600000        1\n",
       "Name: budget, Length: 434, dtype: int64"
      ]
     },
     "execution_count": 12,
     "metadata": {},
     "output_type": "execute_result"
    }
   ],
   "source": [
    "# Budget\n",
    "print(len(movie_df.budget.value_counts(ascending=False)))\n",
    "print(movie_df.budget.describe())\n",
    "movie_df.budget.value_counts(ascending=False)"
   ]
  },
  {
   "cell_type": "markdown",
   "metadata": {},
   "source": [
    "*Similar to revenue, there are 1036 movies within the dataset that have a reported $0 for budget. This is most likely due to missing data. Since movie revenue is the target variable, these instances need to be kept in mind.*"
   ]
  },
  {
   "cell_type": "code",
   "execution_count": 27,
   "metadata": {},
   "outputs": [
    {
     "name": "stdout",
     "output_type": "stream",
     "text": [
      "count                              4799\n",
      "unique                             1175\n",
      "top       [{\"id\": 18, \"name\": \"Drama\"}]\n",
      "freq                                369\n",
      "Name: genres, dtype: object\n",
      "1175\n"
     ]
    },
    {
     "data": {
      "text/plain": [
       "('[{\"id\": 18, \"name\": \"Drama\"}]', 369)"
      ]
     },
     "execution_count": 27,
     "metadata": {},
     "output_type": "execute_result"
    }
   ],
   "source": [
    "# Genres \n",
    "#movie_df.genres.value_counts(ascending=False)\n",
    "print(movie_df.genres.describe())\n",
    "print(len(movie_df.genres.value_counts(ascending=False)))\n",
    "\n",
    "most_common, num_most_common = Counter(movie_df.genres).most_common(1)[0]\n",
    "most_common, num_most_common"
   ]
  },
  {
   "cell_type": "code",
   "execution_count": 15,
   "metadata": {},
   "outputs": [
    {
     "name": "stdout",
     "output_type": "stream",
     "text": [
      "4799\n",
      "count      4799.000000\n",
      "mean      56899.920192\n",
      "std       88236.500208\n",
      "min           5.000000\n",
      "25%        9012.500000\n",
      "50%       14623.000000\n",
      "75%       58461.500000\n",
      "max      447027.000000\n",
      "Name: id, dtype: float64\n"
     ]
    },
    {
     "data": {
      "text/plain": [
       "45054     1\n",
       "109417    1\n",
       "13187     1\n",
       "8849      1\n",
       "29339     1\n",
       "286939    1\n",
       "673       1\n",
       "10368     1\n",
       "14438     1\n",
       "68202     1\n",
       "8869      1\n",
       "72358     1\n",
       "299687    1\n",
       "681       1\n",
       "260778    1\n",
       "4518      1\n",
       "55306     1\n",
       "41144     1\n",
       "19084     1\n",
       "621       1\n",
       "50942     1\n",
       "218       1\n",
       "39538     1\n",
       "4723      1\n",
       "51828     1\n",
       "13816     1\n",
       "10707     1\n",
       "37495     1\n",
       "25209     1\n",
       "332411    1\n",
       "         ..\n",
       "50839     1\n",
       "9582      1\n",
       "11631     1\n",
       "13680     1\n",
       "840       1\n",
       "50546     1\n",
       "11635     1\n",
       "13688     1\n",
       "1402      1\n",
       "13685     1\n",
       "9598      1\n",
       "11619     1\n",
       "9570      1\n",
       "11615     1\n",
       "27983     1\n",
       "107846    1\n",
       "25678     1\n",
       "1777      1\n",
       "15394     1\n",
       "7501      1\n",
       "9550      1\n",
       "46420     1\n",
       "9566      1\n",
       "36739     1\n",
       "1366      1\n",
       "887       1\n",
       "367961    1\n",
       "9562      1\n",
       "19803     1\n",
       "65203     1\n",
       "Name: id, Length: 4799, dtype: int64"
      ]
     },
     "execution_count": 15,
     "metadata": {},
     "output_type": "execute_result"
    }
   ],
   "source": [
    "# ID\n",
    "print(len(movie_df.id.value_counts(ascending=False)))\n",
    "print(movie_df.id.describe())\n",
    "movie_df.id.value_counts(ascending=False)"
   ]
  },
  {
   "cell_type": "code",
   "execution_count": 28,
   "metadata": {},
   "outputs": [
    {
     "name": "stdout",
     "output_type": "stream",
     "text": [
      "4220\n",
      "count     4799\n",
      "unique    4220\n",
      "top         []\n",
      "freq       410\n",
      "Name: keywords, dtype: object\n"
     ]
    },
    {
     "data": {
      "text/plain": [
       "('[]', 410)"
      ]
     },
     "execution_count": 28,
     "metadata": {},
     "output_type": "execute_result"
    }
   ],
   "source": [
    "# Keywords\n",
    "print(len(movie_df.keywords.value_counts(ascending=False)))\n",
    "print(movie_df.keywords.describe())\n",
    "#movie_df.keywords.value_counts(ascending=False)\n",
    "most_common, num_most_common = Counter(movie_df.keywords).most_common(1)[0]\n",
    "most_common, num_most_common"
   ]
  },
  {
   "cell_type": "markdown",
   "metadata": {},
   "source": [
    "*This column appears to have nested information that needs to be extracted, cleaned, then added back to the movie_df dataset. In addition, the most common keyword is '[ ]', which is empty and holds no value.*"
   ]
  },
  {
   "cell_type": "code",
   "execution_count": 17,
   "metadata": {},
   "outputs": [
    {
     "name": "stdout",
     "output_type": "stream",
     "text": [
      "37\n",
      "count     4799\n",
      "unique      37\n",
      "top         en\n",
      "freq      4503\n",
      "Name: original_language, dtype: object\n"
     ]
    },
    {
     "data": {
      "text/plain": [
       "en    4503\n",
       "fr      70\n",
       "es      32\n",
       "zh      27\n",
       "de      26\n",
       "hi      19\n",
       "ja      16\n",
       "it      13\n",
       "cn      12\n",
       "ru      11\n",
       "ko      11\n",
       "pt       9\n",
       "da       7\n",
       "sv       5\n",
       "fa       4\n",
       "nl       4\n",
       "he       3\n",
       "th       3\n",
       "ar       2\n",
       "cs       2\n",
       "ta       2\n",
       "id       2\n",
       "ro       2\n",
       "sl       1\n",
       "el       1\n",
       "is       1\n",
       "hu       1\n",
       "pl       1\n",
       "ps       1\n",
       "af       1\n",
       "ky       1\n",
       "tr       1\n",
       "no       1\n",
       "xx       1\n",
       "nb       1\n",
       "vi       1\n",
       "te       1\n",
       "Name: original_language, dtype: int64"
      ]
     },
     "execution_count": 17,
     "metadata": {},
     "output_type": "execute_result"
    }
   ],
   "source": [
    "# Original Language\n",
    "print(len(movie_df.original_language.value_counts(ascending=False)))\n",
    "print(movie_df.original_language.describe())\n",
    "movie_df.original_language.value_counts(ascending=False)"
   ]
  },
  {
   "cell_type": "code",
   "execution_count": 20,
   "metadata": {},
   "outputs": [
    {
     "name": "stdout",
     "output_type": "stream",
     "text": [
      "4799\n",
      "count                                                  4799\n",
      "unique                                                 4799\n",
      "top       When a half-Chechen, half-Russian, tortured ha...\n",
      "freq                                                      1\n",
      "Name: overview, dtype: object\n"
     ]
    },
    {
     "data": {
      "text/plain": [
       "'In the 22nd century, a paraplegic Marine is dispatched to the moon Pandora on a unique mission, but becomes torn between following orders and protecting an alien civilization.'"
      ]
     },
     "execution_count": 20,
     "metadata": {},
     "output_type": "execute_result"
    }
   ],
   "source": [
    "# Overview\n",
    "#movie_df.overview.value_counts(ascending=False)\n",
    "print(len(movie_df.overview.value_counts(ascending=False)))\n",
    "print(movie_df.overview.describe())\n",
    "movie_df.overview[0]"
   ]
  },
  {
   "cell_type": "code",
   "execution_count": 29,
   "metadata": {},
   "outputs": [
    {
     "name": "stdout",
     "output_type": "stream",
     "text": [
      "3695\n",
      "count     4799\n",
      "unique    3695\n",
      "top         []\n",
      "freq       349\n",
      "Name: production_companies, dtype: object\n"
     ]
    },
    {
     "data": {
      "text/plain": [
       "('[]', 349)"
      ]
     },
     "execution_count": 29,
     "metadata": {},
     "output_type": "execute_result"
    }
   ],
   "source": [
    "# Production_companies\n",
    "print(len(movie_df.production_companies.value_counts(ascending=False)))\n",
    "print(movie_df.production_companies.describe())\n",
    "#movie_df.production_companies.value_counts(ascending=False)\n",
    "most_common, num_most_common = Counter(movie_df.production_companies).most_common(1)[0]\n",
    "most_common, num_most_common"
   ]
  },
  {
   "cell_type": "markdown",
   "metadata": {},
   "source": [
    "*This column appears to have nested information that needs to be extracted, cleaned, then added back to the movie_df dataset. In addition, the most common production_companies is '[ ]', which is empty and holds no value.*"
   ]
  },
  {
   "cell_type": "code",
   "execution_count": 30,
   "metadata": {},
   "outputs": [
    {
     "name": "stdout",
     "output_type": "stream",
     "text": [
      "469\n",
      "count                                                  4799\n",
      "unique                                                  469\n",
      "top       [{\"iso_3166_1\": \"US\", \"name\": \"United States o...\n",
      "freq                                                   2977\n",
      "Name: production_countries, dtype: object\n"
     ]
    },
    {
     "data": {
      "text/plain": [
       "('[{\"iso_3166_1\": \"US\", \"name\": \"United States of America\"}]', 2977)"
      ]
     },
     "execution_count": 30,
     "metadata": {},
     "output_type": "execute_result"
    }
   ],
   "source": [
    "# Production_countries\n",
    "print(len(movie_df.production_countries.value_counts(ascending=False)))\n",
    "print(movie_df.production_countries.describe())\n",
    "#movie_df.production_countries.value_counts(ascending=False)\n",
    "most_common, num_most_common = Counter(movie_df.production_countries).most_common(1)[0]\n",
    "most_common, num_most_common"
   ]
  },
  {
   "cell_type": "markdown",
   "metadata": {},
   "source": [
    "*This column appears to have nested information that needs to be extracted, cleaned, then added back to the movie_df dataset. In addition, the incidence of 'US' (on it's own) as the production country appears to be the most common, making up around 50% of the dataset (2977 out of 4799).*"
   ]
  },
  {
   "cell_type": "code",
   "execution_count": 23,
   "metadata": {},
   "outputs": [
    {
     "name": "stdout",
     "output_type": "stream",
     "text": [
      "156\n",
      "count    4799.000000\n",
      "mean      106.903105\n",
      "std        22.561305\n",
      "min         0.000000\n",
      "25%        94.000000\n",
      "50%       103.000000\n",
      "75%       118.000000\n",
      "max       338.000000\n",
      "Name: runtime, dtype: float64\n"
     ]
    },
    {
     "data": {
      "text/plain": [
       "90.0     163\n",
       "100.0    149\n",
       "98.0     140\n",
       "97.0     133\n",
       "95.0     123\n",
       "99.0     119\n",
       "94.0     116\n",
       "96.0     115\n",
       "101.0    114\n",
       "93.0     113\n",
       "104.0    109\n",
       "92.0     107\n",
       "91.0     106\n",
       "105.0    106\n",
       "106.0    105\n",
       "110.0    101\n",
       "102.0    100\n",
       "103.0     99\n",
       "107.0     99\n",
       "108.0     94\n",
       "88.0      90\n",
       "89.0      87\n",
       "120.0     85\n",
       "109.0     83\n",
       "113.0     79\n",
       "87.0      77\n",
       "111.0     74\n",
       "114.0     73\n",
       "112.0     72\n",
       "115.0     72\n",
       "        ... \n",
       "225.0      1\n",
       "202.0      1\n",
       "47.0       1\n",
       "186.0      1\n",
       "254.0      1\n",
       "242.0      1\n",
       "187.0      1\n",
       "59.0       1\n",
       "66.0       1\n",
       "174.0      1\n",
       "63.0       1\n",
       "238.0      1\n",
       "276.0      1\n",
       "166.0      1\n",
       "25.0       1\n",
       "42.0       1\n",
       "201.0      1\n",
       "184.0      1\n",
       "41.0       1\n",
       "216.0      1\n",
       "248.0      1\n",
       "185.0      1\n",
       "219.0      1\n",
       "67.0       1\n",
       "173.0      1\n",
       "338.0      1\n",
       "53.0       1\n",
       "214.0      1\n",
       "194.0      1\n",
       "179.0      1\n",
       "Name: runtime, Length: 156, dtype: int64"
      ]
     },
     "execution_count": 23,
     "metadata": {},
     "output_type": "execute_result"
    }
   ],
   "source": [
    "# Runtime  \n",
    "print(len(movie_df.runtime.value_counts(ascending=False)))\n",
    "print(movie_df.runtime.describe())\n",
    "movie_df.runtime.value_counts(ascending=False)"
   ]
  },
  {
   "cell_type": "code",
   "execution_count": 32,
   "metadata": {},
   "outputs": [
    {
     "name": "stdout",
     "output_type": "stream",
     "text": [
      "544\n",
      "count                                         4799\n",
      "unique                                         544\n",
      "top       [{\"iso_639_1\": \"en\", \"name\": \"English\"}]\n",
      "freq                                          3170\n",
      "Name: spoken_languages, dtype: object\n"
     ]
    },
    {
     "data": {
      "text/plain": [
       "('[{\"iso_639_1\": \"en\", \"name\": \"English\"}]', 3170)"
      ]
     },
     "execution_count": 32,
     "metadata": {},
     "output_type": "execute_result"
    }
   ],
   "source": [
    "# Spoken_languages\n",
    "print(len(movie_df.spoken_languages.value_counts(ascending=False)))\n",
    "print(movie_df.spoken_languages.describe())\n",
    "#movie_df.spoken_languages.value_counts(ascending=False)\n",
    "most_common, num_most_common = Counter(movie_df.spoken_languages).most_common(1)[0]\n",
    "most_common, num_most_common"
   ]
  },
  {
   "cell_type": "markdown",
   "metadata": {},
   "source": [
    "*This column appears to have nested information that needs to be extracted, cleaned, then added back to the movie_df dataset. In addition, the incidence of 'English' as the spoken language appears to be the most common, making up around 75% of the dataset (3170 out of 4799).*"
   ]
  },
  {
   "cell_type": "code",
   "execution_count": 43,
   "metadata": {},
   "outputs": [
    {
     "name": "stdout",
     "output_type": "stream",
     "text": [
      "3\n",
      "count         4725\n",
      "unique           3\n",
      "top       Released\n",
      "freq          4719\n",
      "Name: status, dtype: object\n",
      "Released           4719\n",
      "Post Production       3\n",
      "Rumored               3\n",
      "Name: status, dtype: int64\n"
     ]
    },
    {
     "data": {
      "text/plain": [
       "('Released', 4719)"
      ]
     },
     "execution_count": 43,
     "metadata": {},
     "output_type": "execute_result"
    }
   ],
   "source": [
    "# Status\n",
    "print(len(movie_df.status.value_counts(ascending=False)))\n",
    "print(movie_df.status.describe())\n",
    "print(movie_df.status.value_counts(ascending=False))\n",
    "most_common, num_most_common = Counter(movie_df.status).most_common(1)[0]\n",
    "most_common, num_most_common"
   ]
  },
  {
   "cell_type": "code",
   "execution_count": 39,
   "metadata": {},
   "outputs": [
    {
     "name": "stdout",
     "output_type": "stream",
     "text": [
      "3253\n",
      "count                    4725\n",
      "unique                   3253\n",
      "top       2006-01-01 00:00:00\n",
      "freq                        8\n",
      "first     1969-01-01 00:00:00\n",
      "last      2068-12-21 00:00:00\n",
      "Name: release_date_dt, dtype: object\n"
     ]
    },
    {
     "data": {
      "text/plain": [
       "(Timestamp('2006-01-01 00:00:00'), 8, Timestamp('2012-05-03 00:00:00'), 1)"
      ]
     },
     "execution_count": 39,
     "metadata": {},
     "output_type": "execute_result"
    }
   ],
   "source": [
    "# Release Date\n",
    "print(len(movie_df.release_date_dt.value_counts(ascending=False)))\n",
    "print(movie_df.release_date_dt.describe())\n",
    "#movie_df.release_date_dt.value_counts(ascending=False) \n",
    "most_common, num_most_common = Counter(movie_df.release_date_dt).most_common(1)[0]\n",
    "least_common, num_least_common = Counter(movie_df.release_date_dt).most_common()[-1]\n",
    "most_common, num_most_common, least_common, num_least_common"
   ]
  },
  {
   "cell_type": "markdown",
   "metadata": {},
   "source": [
    "*The column dates range from the years 1969 to the future year of 2068. This is interesting, since movie revenue cannot be recorded for future dates, but it can be predicted (as is the goal of this analysis). Before moving forward, the movies with dates greater than 2020 should be dropped.*"
   ]
  },
  {
   "cell_type": "code",
   "execution_count": 50,
   "metadata": {},
   "outputs": [
    {
     "name": "stdout",
     "output_type": "stream",
     "text": [
      "3122\n",
      "count                    4593\n",
      "unique                   3122\n",
      "top       2006-01-01 00:00:00\n",
      "freq                        8\n",
      "first     1969-01-01 00:00:00\n",
      "last      2017-02-03 00:00:00\n",
      "Name: release_date_dt, dtype: object\n"
     ]
    }
   ],
   "source": [
    "movie_df = movie_df.loc[movie_df.release_date_dt < '2020-01-01 00:00:00']\n",
    "print(len(movie_df.release_date_dt.value_counts(ascending=False)))\n",
    "print(movie_df.release_date_dt.describe())"
   ]
  },
  {
   "cell_type": "markdown",
   "metadata": {},
   "source": [
    "This looks much better. It appears data collection for this dataset must have stopped in early 2017, since no movies released in 2018 and 2019 are present in the dataset despite the maximum year elligibility being 2019."
   ]
  },
  {
   "cell_type": "markdown",
   "metadata": {},
   "source": [
    "### Drop row with the following 5 conditions:\n",
    "    1. movie.revenue == 0\n",
    "    2. movie.budget == 0\n",
    "    3. movie.keyword == []\n",
    "    4. movie.production_companies == []\n",
    "    5. movie.tagline.isnull() == True\n",
    "If all 5 of these conditions are met, then the resulting impact on a model built to predict a movie's revenue will be weakened; thus, these rows should be removed entirely."
   ]
  },
  {
   "cell_type": "code",
   "execution_count": 51,
   "metadata": {},
   "outputs": [
    {
     "data": {
      "text/plain": [
       "4593"
      ]
     },
     "execution_count": 51,
     "metadata": {},
     "output_type": "execute_result"
    }
   ],
   "source": [
    "# Drop rows with sub-optimal conditions\n",
    "movie_df = movie_df.drop(\n",
    "     movie_df[(movie_df.revenue == 0) & \n",
    "              (movie_df.budget == 0) & \n",
    "              (movie_df.keywords == \"[]\") & \n",
    "              (movie_df.production_companies == \"[]\") &\n",
    "             (movie_df.tagline.isnull() == True)].index)\n",
    "len(movie_df)"
   ]
  },
  {
   "cell_type": "code",
   "execution_count": 52,
   "metadata": {},
   "outputs": [
    {
     "name": "stdout",
     "output_type": "stream",
     "text": [
      "Stored 'movie_df' (DataFrame)\n"
     ]
    }
   ],
   "source": [
    "# Store dataframe globally\n",
    "%store movie_df"
   ]
  }
 ],
 "metadata": {
  "kernelspec": {
   "display_name": "Python 3",
   "language": "python",
   "name": "python3"
  },
  "language_info": {
   "codemirror_mode": {
    "name": "ipython",
    "version": 3
   },
   "file_extension": ".py",
   "mimetype": "text/x-python",
   "name": "python",
   "nbconvert_exporter": "python",
   "pygments_lexer": "ipython3",
   "version": "3.7.3"
  }
 },
 "nbformat": 4,
 "nbformat_minor": 2
}
