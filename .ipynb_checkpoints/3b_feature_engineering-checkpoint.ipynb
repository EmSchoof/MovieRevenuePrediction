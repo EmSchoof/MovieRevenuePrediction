{
 "cells": [
  {
   "cell_type": "markdown",
   "metadata": {},
   "source": [
    "## Feature Engineer of Movie Data\n",
    "\n",
    "#### NLP Assessment:\n",
    "   - **title**\n",
    "   - **overview**\n",
    "   - **genres_series**\n",
    "   - **keywords_series**\n",
    "   - **prod_companies_series**\n",
    "   - **prod_countries_series**\n",
    "   - **spoken_lang_series**\n",
    "\n",
    "- NLP processing will be applied to these column in order to assess if certain words/instances within each category have an impact on the resulting movie revenue."
   ]
  },
  {
   "cell_type": "code",
   "execution_count": 1,
   "metadata": {},
   "outputs": [
    {
     "name": "stdout",
     "output_type": "stream",
     "text": [
      "Emily Schoof 2019-08-22 16:50:25 \n",
      "\n",
      "CPython 3.7.3\n",
      "IPython 7.4.0\n",
      "\n",
      "numpy 1.16.2\n",
      "pandas 0.24.2\n",
      "nltk 3.4\n",
      "sklearn 0.20.3\n",
      "spacy 2.1.8\n"
     ]
    }
   ],
   "source": [
    "%load_ext watermark\n",
    "%watermark -a \"Emily Schoof\" -d -t -v -p numpy,pandas,nltk,sklearn,spacy"
   ]
  },
  {
   "cell_type": "code",
   "execution_count": 2,
   "metadata": {},
   "outputs": [
    {
     "name": "stdout",
     "output_type": "stream",
     "text": [
      "(4641, 12)\n"
     ]
    }
   ],
   "source": [
    "# Load datasets\n",
    "%store -r movie_df_unnested\n",
    "movie_df = movie_df_unnested.copy()\n",
    "print(movie_df.shape)"
   ]
  },
  {
   "cell_type": "code",
   "execution_count": 3,
   "metadata": {},
   "outputs": [
    {
     "data": {
      "text/html": [
       "<div>\n",
       "<style scoped>\n",
       "    .dataframe tbody tr th:only-of-type {\n",
       "        vertical-align: middle;\n",
       "    }\n",
       "\n",
       "    .dataframe tbody tr th {\n",
       "        vertical-align: top;\n",
       "    }\n",
       "\n",
       "    .dataframe thead th {\n",
       "        text-align: right;\n",
       "    }\n",
       "</style>\n",
       "<table border=\"1\" class=\"dataframe\">\n",
       "  <thead>\n",
       "    <tr style=\"text-align: right;\">\n",
       "      <th></th>\n",
       "      <th>title</th>\n",
       "      <th>revenue</th>\n",
       "      <th>genres</th>\n",
       "      <th>keywords</th>\n",
       "      <th>original_language</th>\n",
       "      <th>production_companies</th>\n",
       "      <th>production_countries</th>\n",
       "      <th>runtime</th>\n",
       "      <th>spoken_languages</th>\n",
       "      <th>release_date</th>\n",
       "      <th>release_day_of_week</th>\n",
       "      <th>release_month</th>\n",
       "    </tr>\n",
       "  </thead>\n",
       "  <tbody>\n",
       "    <tr>\n",
       "      <th>0</th>\n",
       "      <td>Avatar</td>\n",
       "      <td>2.787965e+09</td>\n",
       "      <td>Action Adventure Fantasy Science Fiction</td>\n",
       "      <td>culture clash   future   space war   space c...</td>\n",
       "      <td>en</td>\n",
       "      <td>Ingenious Film Partners Twentieth Century Fox ...</td>\n",
       "      <td>US United States America GB United Kingdom</td>\n",
       "      <td>162.0</td>\n",
       "      <td>English Espa</td>\n",
       "      <td>20091210</td>\n",
       "      <td>Thursday</td>\n",
       "      <td>12</td>\n",
       "    </tr>\n",
       "    <tr>\n",
       "      <th>1</th>\n",
       "      <td>Titanic</td>\n",
       "      <td>1.845034e+09</td>\n",
       "      <td>Drama Romance Thriller</td>\n",
       "      <td>shipwreck   iceberg   ship   panic   titanic...</td>\n",
       "      <td>en</td>\n",
       "      <td>Paramount Pictures Twentieth Century Fox Film ...</td>\n",
       "      <td>US United States America</td>\n",
       "      <td>194.0</td>\n",
       "      <td>English Fran Deutsch Italiano</td>\n",
       "      <td>19971118</td>\n",
       "      <td>Tuesday</td>\n",
       "      <td>11</td>\n",
       "    </tr>\n",
       "    <tr>\n",
       "      <th>2</th>\n",
       "      <td>The Avengers</td>\n",
       "      <td>1.519558e+09</td>\n",
       "      <td>Science Fiction Action Adventure</td>\n",
       "      <td>new york   shield   marvel comic   superhero...</td>\n",
       "      <td>en</td>\n",
       "      <td>Paramount Pictures Marvel Studios</td>\n",
       "      <td>US United States America</td>\n",
       "      <td>143.0</td>\n",
       "      <td>English</td>\n",
       "      <td>20120425</td>\n",
       "      <td>Wednesday</td>\n",
       "      <td>4</td>\n",
       "    </tr>\n",
       "    <tr>\n",
       "      <th>3</th>\n",
       "      <td>Jurassic World</td>\n",
       "      <td>1.513529e+09</td>\n",
       "      <td>Action Adventure Science Fiction Thriller</td>\n",
       "      <td>monster   dna   tyrannosaurus rex   velocira...</td>\n",
       "      <td>en</td>\n",
       "      <td>Universal Studios Amblin Entertainment Legenda...</td>\n",
       "      <td>US United States America</td>\n",
       "      <td>124.0</td>\n",
       "      <td>English</td>\n",
       "      <td>20150609</td>\n",
       "      <td>Tuesday</td>\n",
       "      <td>6</td>\n",
       "    </tr>\n",
       "    <tr>\n",
       "      <th>4</th>\n",
       "      <td>Furious 7</td>\n",
       "      <td>1.506249e+09</td>\n",
       "      <td>Action</td>\n",
       "      <td>car race   speed   revenge   suspense   car ...</td>\n",
       "      <td>en</td>\n",
       "      <td>Universal Pictures Original Film Fuji Televisi...</td>\n",
       "      <td>JP Japan US United States America</td>\n",
       "      <td>137.0</td>\n",
       "      <td>English</td>\n",
       "      <td>20150401</td>\n",
       "      <td>Wednesday</td>\n",
       "      <td>4</td>\n",
       "    </tr>\n",
       "  </tbody>\n",
       "</table>\n",
       "</div>"
      ],
      "text/plain": [
       "            title       revenue                                     genres  \\\n",
       "0          Avatar  2.787965e+09   Action Adventure Fantasy Science Fiction   \n",
       "1         Titanic  1.845034e+09                     Drama Romance Thriller   \n",
       "2    The Avengers  1.519558e+09           Science Fiction Action Adventure   \n",
       "3  Jurassic World  1.513529e+09  Action Adventure Science Fiction Thriller   \n",
       "4       Furious 7  1.506249e+09                                     Action   \n",
       "\n",
       "                                            keywords original_language  \\\n",
       "0    culture clash   future   space war   space c...                en   \n",
       "1    shipwreck   iceberg   ship   panic   titanic...                en   \n",
       "2    new york   shield   marvel comic   superhero...                en   \n",
       "3    monster   dna   tyrannosaurus rex   velocira...                en   \n",
       "4    car race   speed   revenge   suspense   car ...                en   \n",
       "\n",
       "                                production_companies  \\\n",
       "0  Ingenious Film Partners Twentieth Century Fox ...   \n",
       "1  Paramount Pictures Twentieth Century Fox Film ...   \n",
       "2                  Paramount Pictures Marvel Studios   \n",
       "3  Universal Studios Amblin Entertainment Legenda...   \n",
       "4  Universal Pictures Original Film Fuji Televisi...   \n",
       "\n",
       "                         production_countries  runtime  \\\n",
       "0  US United States America GB United Kingdom    162.0   \n",
       "1                    US United States America    194.0   \n",
       "2                    US United States America    143.0   \n",
       "3                    US United States America    124.0   \n",
       "4           JP Japan US United States America    137.0   \n",
       "\n",
       "                spoken_languages  release_date release_day_of_week  \\\n",
       "0                   English Espa      20091210            Thursday   \n",
       "1  English Fran Deutsch Italiano      19971118             Tuesday   \n",
       "2                        English      20120425           Wednesday   \n",
       "3                        English      20150609             Tuesday   \n",
       "4                        English      20150401           Wednesday   \n",
       "\n",
       "   release_month  \n",
       "0             12  \n",
       "1             11  \n",
       "2              4  \n",
       "3              6  \n",
       "4              4  "
      ]
     },
     "execution_count": 3,
     "metadata": {},
     "output_type": "execute_result"
    }
   ],
   "source": [
    "movie_df.head()"
   ]
  },
  {
   "cell_type": "markdown",
   "metadata": {},
   "source": [
    "## NLP Assessment"
   ]
  },
  {
   "cell_type": "code",
   "execution_count": 4,
   "metadata": {},
   "outputs": [],
   "source": [
    "# Import necessary modules\n",
    "import pandas as pd\n",
    "from nltk.corpus import stopwords\n",
    "import numpy as np\n",
    "import spacy\n",
    "from sklearn.feature_extraction.text import CountVectorizer\n",
    "from nltk.stem import PorterStemmer"
   ]
  },
  {
   "cell_type": "markdown",
   "metadata": {},
   "source": [
    "#### NLP Pre-Processing Functions"
   ]
  },
  {
   "cell_type": "code",
   "execution_count": 5,
   "metadata": {},
   "outputs": [],
   "source": [
    "# Load the en_core_web_sm model\n",
    "nlp = spacy.load('en_core_web_sm')\n",
    "\n",
    "# Create an object of class PorterStemmer\n",
    "porter = PorterStemmer()\n",
    "\n",
    "# Create CountVectorizer object\n",
    "vectorizer = CountVectorizer(lowercase=True, stop_words='english')"
   ]
  },
  {
   "cell_type": "code",
   "execution_count": 6,
   "metadata": {},
   "outputs": [],
   "source": [
    "def column_to_text(column): \n",
    "    \"\"\"Convert Column to Text Values\"\"\"\n",
    "    \n",
    "    text = movie_df[column].values\n",
    "    text_clean = []\n",
    "    \n",
    "    return text, text_clean"
   ]
  },
  {
   "cell_type": "code",
   "execution_count": 7,
   "metadata": {},
   "outputs": [],
   "source": [
    "def preprocess_text(text, text_clean):\n",
    "    \"\"\"Lemmantization and Removal of Stopwords and Punctuation Saved in to Clean List\"\"\"\n",
    "    \n",
    "    for each in text:\n",
    "        # Create Doc object\n",
    "        doc = nlp(each, disable=['ner', 'parser'])\n",
    "\n",
    "        # Generate lemmas\n",
    "        lemmas = [token.lemma_ for token in doc]\n",
    "\n",
    "        # Remove stopwords and non-alphabetic characters\n",
    "        a_lemmas = [lemma.lower() for lemma in lemmas if lemma.isalpha() and lemma not in stopwords.words('english')]\n",
    "        \n",
    "        # Strip word down to stem\n",
    "       # stems = [porter.stem(a_lemma) for a_lemma in a_lemmas]\n",
    "        \n",
    "        # Clean text\n",
    "        clean_text = ' '.join(a_lemmas)\n",
    "\n",
    "        # Add to list\n",
    "        text_clean.append(clean_text)\n",
    "    \n",
    "    return text_clean"
   ]
  },
  {
   "cell_type": "code",
   "execution_count": 8,
   "metadata": {},
   "outputs": [],
   "source": [
    "def bag_of_words_dataframe(text_clean):\n",
    "    \n",
    "    # Convert to Series\n",
    "    text_corpus = pd.Series(text_clean)\n",
    "    \n",
    "    # Generate Matrix of Word Vectors\n",
    "    bow_matrix = vectorizer.fit_transform(text_corpus)\n",
    "    \n",
    "    # Convert bow_matrix into a DataFrame\n",
    "    bow_df = pd.DataFrame(bow_matrix.toarray())\n",
    "\n",
    "    # Map the column names to vocabulary \n",
    "    bow_df.columns = vectorizer.get_feature_names()\n",
    "    \n",
    "    return bow_df"
   ]
  },
  {
   "cell_type": "code",
   "execution_count": 9,
   "metadata": {},
   "outputs": [],
   "source": [
    "def select_top_features(df):\n",
    "    \"\"\" Select Features with 100 or More Instances \"\"\"\n",
    "    \n",
    "    # Add number of ones in dataset\n",
    "    sum_ones = pd.Series((df == 1).sum(axis=0))\n",
    "    \n",
    "    # Select only features terms with 100 or more 1s\n",
    "    important_features = []\n",
    "    for feature,sums in sum_ones.iteritems():\n",
    "        if sums > 100:\n",
    "            important_features.append(feature)\n",
    "    \n",
    "    # Make list of unimportant features\n",
    "    drop_columns = []\n",
    "    for column in df.columns:\n",
    "        if column not in important_features:\n",
    "            drop_columns.append(column)\n",
    "            \n",
    "    # Drop unimportant features\n",
    "    df = df.drop(columns=drop_columns)\n",
    "    \n",
    "    return df"
   ]
  },
  {
   "cell_type": "markdown",
   "metadata": {},
   "source": [
    "### Application of Functions on:\n",
    "\n",
    "Columns from movie_df:\n",
    "- **title**\n",
    "\n",
    "Cleaned sub_series within preprocessing_series list:\n",
    "- **genres_series**\n",
    "- **keywords_series**\n",
    "- **prod_companies_series**\n",
    "- **prod_countries_series**\n",
    "- **spoken_lang_series**"
   ]
  },
  {
   "cell_type": "markdown",
   "metadata": {},
   "source": [
    "#### Title"
   ]
  },
  {
   "cell_type": "code",
   "execution_count": 13,
   "metadata": {},
   "outputs": [],
   "source": [
    "title_text, title_clean = column_to_text('title')\n",
    "title_clean = preprocess_text(title_text, title_clean)"
   ]
  },
  {
   "cell_type": "code",
   "execution_count": 14,
   "metadata": {},
   "outputs": [
    {
     "data": {
      "text/plain": [
       "('avatar', 4641)"
      ]
     },
     "execution_count": 14,
     "metadata": {},
     "output_type": "execute_result"
    }
   ],
   "source": [
    "# Test output\n",
    "title_clean[0], len(title_clean)"
   ]
  },
  {
   "cell_type": "code",
   "execution_count": 15,
   "metadata": {},
   "outputs": [],
   "source": [
    "def length_of_string(clean_list):\n",
    "    \n",
    "    lengths = []\n",
    "    for string in clean_list:\n",
    "        length = len(string)\n",
    "        lengths.append(length)\n",
    "    \n",
    "    return lengths"
   ]
  },
  {
   "cell_type": "code",
   "execution_count": 16,
   "metadata": {},
   "outputs": [
    {
     "name": "stdout",
     "output_type": "stream",
     "text": [
      "4641\n"
     ]
    }
   ],
   "source": [
    "title_lengths = length_of_string(title_clean)\n",
    "print(len(title_lengths))\n",
    "\n",
    "# Replace title column with lengths\n",
    "movie_df['title'] = pd.Series(title_lengths, index=np.arange(0, 4641))"
   ]
  },
  {
   "cell_type": "code",
   "execution_count": 17,
   "metadata": {},
   "outputs": [
    {
     "data": {
      "text/plain": [
       "(4641, 12)"
      ]
     },
     "execution_count": 17,
     "metadata": {},
     "output_type": "execute_result"
    }
   ],
   "source": [
    "movie_df.shape"
   ]
  },
  {
   "cell_type": "markdown",
   "metadata": {},
   "source": [
    "### Preprocessing Text Columns"
   ]
  },
  {
   "cell_type": "markdown",
   "metadata": {},
   "source": [
    "#### Genres"
   ]
  },
  {
   "cell_type": "code",
   "execution_count": 18,
   "metadata": {},
   "outputs": [],
   "source": [
    "genres_text, genres_clean = column_to_text('genres')\n",
    "genres_clean = preprocess_text(genres_text, genres_clean)"
   ]
  },
  {
   "cell_type": "code",
   "execution_count": 19,
   "metadata": {},
   "outputs": [
    {
     "data": {
      "text/plain": [
       "'action adventure fantasy science fiction'"
      ]
     },
     "execution_count": 19,
     "metadata": {},
     "output_type": "execute_result"
    }
   ],
   "source": [
    "genres_clean[0]"
   ]
  },
  {
   "cell_type": "code",
   "execution_count": 20,
   "metadata": {},
   "outputs": [
    {
     "data": {
      "text/plain": [
       "(4641, 22)"
      ]
     },
     "execution_count": 20,
     "metadata": {},
     "output_type": "execute_result"
    }
   ],
   "source": [
    "genres_df = bag_of_words_dataframe(genres_clean)\n",
    "genres_df.shape"
   ]
  },
  {
   "cell_type": "code",
   "execution_count": 21,
   "metadata": {},
   "outputs": [
    {
     "data": {
      "text/html": [
       "<div>\n",
       "<style scoped>\n",
       "    .dataframe tbody tr th:only-of-type {\n",
       "        vertical-align: middle;\n",
       "    }\n",
       "\n",
       "    .dataframe tbody tr th {\n",
       "        vertical-align: top;\n",
       "    }\n",
       "\n",
       "    .dataframe thead th {\n",
       "        text-align: right;\n",
       "    }\n",
       "</style>\n",
       "<table border=\"1\" class=\"dataframe\">\n",
       "  <thead>\n",
       "    <tr style=\"text-align: right;\">\n",
       "      <th></th>\n",
       "      <th>title</th>\n",
       "      <th>revenue</th>\n",
       "      <th>keywords</th>\n",
       "      <th>original_language</th>\n",
       "      <th>production_companies</th>\n",
       "      <th>production_countries</th>\n",
       "      <th>runtime</th>\n",
       "      <th>spoken_languages</th>\n",
       "      <th>release_date</th>\n",
       "      <th>release_day_of_week</th>\n",
       "      <th>...</th>\n",
       "      <th>horror</th>\n",
       "      <th>movie</th>\n",
       "      <th>music</th>\n",
       "      <th>mystery</th>\n",
       "      <th>romance</th>\n",
       "      <th>science</th>\n",
       "      <th>thriller</th>\n",
       "      <th>tv</th>\n",
       "      <th>war</th>\n",
       "      <th>western</th>\n",
       "    </tr>\n",
       "  </thead>\n",
       "  <tbody>\n",
       "    <tr>\n",
       "      <th>0</th>\n",
       "      <td>6</td>\n",
       "      <td>2.787965e+09</td>\n",
       "      <td>culture clash   future   space war   space c...</td>\n",
       "      <td>en</td>\n",
       "      <td>Ingenious Film Partners Twentieth Century Fox ...</td>\n",
       "      <td>US United States America GB United Kingdom</td>\n",
       "      <td>162.0</td>\n",
       "      <td>English Espa</td>\n",
       "      <td>20091210</td>\n",
       "      <td>Thursday</td>\n",
       "      <td>...</td>\n",
       "      <td>0</td>\n",
       "      <td>0</td>\n",
       "      <td>0</td>\n",
       "      <td>0</td>\n",
       "      <td>0</td>\n",
       "      <td>1</td>\n",
       "      <td>0</td>\n",
       "      <td>0</td>\n",
       "      <td>0</td>\n",
       "      <td>0</td>\n",
       "    </tr>\n",
       "    <tr>\n",
       "      <th>1</th>\n",
       "      <td>7</td>\n",
       "      <td>1.845034e+09</td>\n",
       "      <td>shipwreck   iceberg   ship   panic   titanic...</td>\n",
       "      <td>en</td>\n",
       "      <td>Paramount Pictures Twentieth Century Fox Film ...</td>\n",
       "      <td>US United States America</td>\n",
       "      <td>194.0</td>\n",
       "      <td>English Fran Deutsch Italiano</td>\n",
       "      <td>19971118</td>\n",
       "      <td>Tuesday</td>\n",
       "      <td>...</td>\n",
       "      <td>0</td>\n",
       "      <td>0</td>\n",
       "      <td>0</td>\n",
       "      <td>0</td>\n",
       "      <td>1</td>\n",
       "      <td>0</td>\n",
       "      <td>1</td>\n",
       "      <td>0</td>\n",
       "      <td>0</td>\n",
       "      <td>0</td>\n",
       "    </tr>\n",
       "    <tr>\n",
       "      <th>2</th>\n",
       "      <td>7</td>\n",
       "      <td>1.519558e+09</td>\n",
       "      <td>new york   shield   marvel comic   superhero...</td>\n",
       "      <td>en</td>\n",
       "      <td>Paramount Pictures Marvel Studios</td>\n",
       "      <td>US United States America</td>\n",
       "      <td>143.0</td>\n",
       "      <td>English</td>\n",
       "      <td>20120425</td>\n",
       "      <td>Wednesday</td>\n",
       "      <td>...</td>\n",
       "      <td>0</td>\n",
       "      <td>0</td>\n",
       "      <td>0</td>\n",
       "      <td>0</td>\n",
       "      <td>0</td>\n",
       "      <td>1</td>\n",
       "      <td>0</td>\n",
       "      <td>0</td>\n",
       "      <td>0</td>\n",
       "      <td>0</td>\n",
       "    </tr>\n",
       "    <tr>\n",
       "      <th>3</th>\n",
       "      <td>14</td>\n",
       "      <td>1.513529e+09</td>\n",
       "      <td>monster   dna   tyrannosaurus rex   velocira...</td>\n",
       "      <td>en</td>\n",
       "      <td>Universal Studios Amblin Entertainment Legenda...</td>\n",
       "      <td>US United States America</td>\n",
       "      <td>124.0</td>\n",
       "      <td>English</td>\n",
       "      <td>20150609</td>\n",
       "      <td>Tuesday</td>\n",
       "      <td>...</td>\n",
       "      <td>0</td>\n",
       "      <td>0</td>\n",
       "      <td>0</td>\n",
       "      <td>0</td>\n",
       "      <td>0</td>\n",
       "      <td>1</td>\n",
       "      <td>1</td>\n",
       "      <td>0</td>\n",
       "      <td>0</td>\n",
       "      <td>0</td>\n",
       "    </tr>\n",
       "    <tr>\n",
       "      <th>4</th>\n",
       "      <td>7</td>\n",
       "      <td>1.506249e+09</td>\n",
       "      <td>car race   speed   revenge   suspense   car ...</td>\n",
       "      <td>en</td>\n",
       "      <td>Universal Pictures Original Film Fuji Televisi...</td>\n",
       "      <td>JP Japan US United States America</td>\n",
       "      <td>137.0</td>\n",
       "      <td>English</td>\n",
       "      <td>20150401</td>\n",
       "      <td>Wednesday</td>\n",
       "      <td>...</td>\n",
       "      <td>0</td>\n",
       "      <td>0</td>\n",
       "      <td>0</td>\n",
       "      <td>0</td>\n",
       "      <td>0</td>\n",
       "      <td>0</td>\n",
       "      <td>0</td>\n",
       "      <td>0</td>\n",
       "      <td>0</td>\n",
       "      <td>0</td>\n",
       "    </tr>\n",
       "  </tbody>\n",
       "</table>\n",
       "<p>5 rows × 33 columns</p>\n",
       "</div>"
      ],
      "text/plain": [
       "   title       revenue                                           keywords  \\\n",
       "0      6  2.787965e+09    culture clash   future   space war   space c...   \n",
       "1      7  1.845034e+09    shipwreck   iceberg   ship   panic   titanic...   \n",
       "2      7  1.519558e+09    new york   shield   marvel comic   superhero...   \n",
       "3     14  1.513529e+09    monster   dna   tyrannosaurus rex   velocira...   \n",
       "4      7  1.506249e+09    car race   speed   revenge   suspense   car ...   \n",
       "\n",
       "  original_language                               production_companies  \\\n",
       "0                en  Ingenious Film Partners Twentieth Century Fox ...   \n",
       "1                en  Paramount Pictures Twentieth Century Fox Film ...   \n",
       "2                en                  Paramount Pictures Marvel Studios   \n",
       "3                en  Universal Studios Amblin Entertainment Legenda...   \n",
       "4                en  Universal Pictures Original Film Fuji Televisi...   \n",
       "\n",
       "                         production_countries  runtime  \\\n",
       "0  US United States America GB United Kingdom    162.0   \n",
       "1                    US United States America    194.0   \n",
       "2                    US United States America    143.0   \n",
       "3                    US United States America    124.0   \n",
       "4           JP Japan US United States America    137.0   \n",
       "\n",
       "                spoken_languages  release_date release_day_of_week  ...  \\\n",
       "0                   English Espa      20091210            Thursday  ...   \n",
       "1  English Fran Deutsch Italiano      19971118             Tuesday  ...   \n",
       "2                        English      20120425           Wednesday  ...   \n",
       "3                        English      20150609             Tuesday  ...   \n",
       "4                        English      20150401           Wednesday  ...   \n",
       "\n",
       "   horror  movie  music  mystery  romance  science  thriller  tv  war  western  \n",
       "0       0      0      0        0        0        1         0   0    0        0  \n",
       "1       0      0      0        0        1        0         1   0    0        0  \n",
       "2       0      0      0        0        0        1         0   0    0        0  \n",
       "3       0      0      0        0        0        1         1   0    0        0  \n",
       "4       0      0      0        0        0        0         0   0    0        0  \n",
       "\n",
       "[5 rows x 33 columns]"
      ]
     },
     "execution_count": 21,
     "metadata": {},
     "output_type": "execute_result"
    }
   ],
   "source": [
    "# Create second model to assess differences in analysis results\n",
    "movie_revenue_ml_2 = movie_df.copy()\n",
    "\n",
    "# Add genres_df to movie_revenue_ml_2\n",
    "movie_revenue_ml_2 = pd.concat([movie_revenue_ml_2, genres_df], axis=1, sort=False)\n",
    "\n",
    "# Drop genres column from movie_revenue_ml_2\n",
    "movie_revenue_ml_2 = movie_revenue_ml_2.drop(columns=['genres'])\n",
    "movie_revenue_ml_2.head()"
   ]
  },
  {
   "cell_type": "code",
   "execution_count": 22,
   "metadata": {},
   "outputs": [
    {
     "data": {
      "text/plain": [
       "(4641, 18)"
      ]
     },
     "execution_count": 22,
     "metadata": {},
     "output_type": "execute_result"
    }
   ],
   "source": [
    "genres_df = select_top_features(genres_df)\n",
    "genres_df.shape"
   ]
  },
  {
   "cell_type": "code",
   "execution_count": 23,
   "metadata": {},
   "outputs": [
    {
     "data": {
      "text/html": [
       "<div>\n",
       "<style scoped>\n",
       "    .dataframe tbody tr th:only-of-type {\n",
       "        vertical-align: middle;\n",
       "    }\n",
       "\n",
       "    .dataframe tbody tr th {\n",
       "        vertical-align: top;\n",
       "    }\n",
       "\n",
       "    .dataframe thead th {\n",
       "        text-align: right;\n",
       "    }\n",
       "</style>\n",
       "<table border=\"1\" class=\"dataframe\">\n",
       "  <thead>\n",
       "    <tr style=\"text-align: right;\">\n",
       "      <th></th>\n",
       "      <th>title</th>\n",
       "      <th>revenue</th>\n",
       "      <th>genres</th>\n",
       "      <th>keywords</th>\n",
       "      <th>original_language</th>\n",
       "      <th>production_companies</th>\n",
       "      <th>production_countries</th>\n",
       "      <th>runtime</th>\n",
       "      <th>spoken_languages</th>\n",
       "      <th>release_date</th>\n",
       "      <th>...</th>\n",
       "      <th>fantasy</th>\n",
       "      <th>fiction</th>\n",
       "      <th>history</th>\n",
       "      <th>horror</th>\n",
       "      <th>music</th>\n",
       "      <th>mystery</th>\n",
       "      <th>romance</th>\n",
       "      <th>science</th>\n",
       "      <th>thriller</th>\n",
       "      <th>war</th>\n",
       "    </tr>\n",
       "  </thead>\n",
       "  <tbody>\n",
       "    <tr>\n",
       "      <th>0</th>\n",
       "      <td>6</td>\n",
       "      <td>2.787965e+09</td>\n",
       "      <td>Action Adventure Fantasy Science Fiction</td>\n",
       "      <td>culture clash   future   space war   space c...</td>\n",
       "      <td>en</td>\n",
       "      <td>Ingenious Film Partners Twentieth Century Fox ...</td>\n",
       "      <td>US United States America GB United Kingdom</td>\n",
       "      <td>162.0</td>\n",
       "      <td>English Espa</td>\n",
       "      <td>20091210</td>\n",
       "      <td>...</td>\n",
       "      <td>1</td>\n",
       "      <td>1</td>\n",
       "      <td>0</td>\n",
       "      <td>0</td>\n",
       "      <td>0</td>\n",
       "      <td>0</td>\n",
       "      <td>0</td>\n",
       "      <td>1</td>\n",
       "      <td>0</td>\n",
       "      <td>0</td>\n",
       "    </tr>\n",
       "    <tr>\n",
       "      <th>1</th>\n",
       "      <td>7</td>\n",
       "      <td>1.845034e+09</td>\n",
       "      <td>Drama Romance Thriller</td>\n",
       "      <td>shipwreck   iceberg   ship   panic   titanic...</td>\n",
       "      <td>en</td>\n",
       "      <td>Paramount Pictures Twentieth Century Fox Film ...</td>\n",
       "      <td>US United States America</td>\n",
       "      <td>194.0</td>\n",
       "      <td>English Fran Deutsch Italiano</td>\n",
       "      <td>19971118</td>\n",
       "      <td>...</td>\n",
       "      <td>0</td>\n",
       "      <td>0</td>\n",
       "      <td>0</td>\n",
       "      <td>0</td>\n",
       "      <td>0</td>\n",
       "      <td>0</td>\n",
       "      <td>1</td>\n",
       "      <td>0</td>\n",
       "      <td>1</td>\n",
       "      <td>0</td>\n",
       "    </tr>\n",
       "    <tr>\n",
       "      <th>2</th>\n",
       "      <td>7</td>\n",
       "      <td>1.519558e+09</td>\n",
       "      <td>Science Fiction Action Adventure</td>\n",
       "      <td>new york   shield   marvel comic   superhero...</td>\n",
       "      <td>en</td>\n",
       "      <td>Paramount Pictures Marvel Studios</td>\n",
       "      <td>US United States America</td>\n",
       "      <td>143.0</td>\n",
       "      <td>English</td>\n",
       "      <td>20120425</td>\n",
       "      <td>...</td>\n",
       "      <td>0</td>\n",
       "      <td>1</td>\n",
       "      <td>0</td>\n",
       "      <td>0</td>\n",
       "      <td>0</td>\n",
       "      <td>0</td>\n",
       "      <td>0</td>\n",
       "      <td>1</td>\n",
       "      <td>0</td>\n",
       "      <td>0</td>\n",
       "    </tr>\n",
       "    <tr>\n",
       "      <th>3</th>\n",
       "      <td>14</td>\n",
       "      <td>1.513529e+09</td>\n",
       "      <td>Action Adventure Science Fiction Thriller</td>\n",
       "      <td>monster   dna   tyrannosaurus rex   velocira...</td>\n",
       "      <td>en</td>\n",
       "      <td>Universal Studios Amblin Entertainment Legenda...</td>\n",
       "      <td>US United States America</td>\n",
       "      <td>124.0</td>\n",
       "      <td>English</td>\n",
       "      <td>20150609</td>\n",
       "      <td>...</td>\n",
       "      <td>0</td>\n",
       "      <td>1</td>\n",
       "      <td>0</td>\n",
       "      <td>0</td>\n",
       "      <td>0</td>\n",
       "      <td>0</td>\n",
       "      <td>0</td>\n",
       "      <td>1</td>\n",
       "      <td>1</td>\n",
       "      <td>0</td>\n",
       "    </tr>\n",
       "    <tr>\n",
       "      <th>4</th>\n",
       "      <td>7</td>\n",
       "      <td>1.506249e+09</td>\n",
       "      <td>Action</td>\n",
       "      <td>car race   speed   revenge   suspense   car ...</td>\n",
       "      <td>en</td>\n",
       "      <td>Universal Pictures Original Film Fuji Televisi...</td>\n",
       "      <td>JP Japan US United States America</td>\n",
       "      <td>137.0</td>\n",
       "      <td>English</td>\n",
       "      <td>20150401</td>\n",
       "      <td>...</td>\n",
       "      <td>0</td>\n",
       "      <td>0</td>\n",
       "      <td>0</td>\n",
       "      <td>0</td>\n",
       "      <td>0</td>\n",
       "      <td>0</td>\n",
       "      <td>0</td>\n",
       "      <td>0</td>\n",
       "      <td>0</td>\n",
       "      <td>0</td>\n",
       "    </tr>\n",
       "  </tbody>\n",
       "</table>\n",
       "<p>5 rows × 30 columns</p>\n",
       "</div>"
      ],
      "text/plain": [
       "   title       revenue                                     genres  \\\n",
       "0      6  2.787965e+09   Action Adventure Fantasy Science Fiction   \n",
       "1      7  1.845034e+09                     Drama Romance Thriller   \n",
       "2      7  1.519558e+09           Science Fiction Action Adventure   \n",
       "3     14  1.513529e+09  Action Adventure Science Fiction Thriller   \n",
       "4      7  1.506249e+09                                     Action   \n",
       "\n",
       "                                            keywords original_language  \\\n",
       "0    culture clash   future   space war   space c...                en   \n",
       "1    shipwreck   iceberg   ship   panic   titanic...                en   \n",
       "2    new york   shield   marvel comic   superhero...                en   \n",
       "3    monster   dna   tyrannosaurus rex   velocira...                en   \n",
       "4    car race   speed   revenge   suspense   car ...                en   \n",
       "\n",
       "                                production_companies  \\\n",
       "0  Ingenious Film Partners Twentieth Century Fox ...   \n",
       "1  Paramount Pictures Twentieth Century Fox Film ...   \n",
       "2                  Paramount Pictures Marvel Studios   \n",
       "3  Universal Studios Amblin Entertainment Legenda...   \n",
       "4  Universal Pictures Original Film Fuji Televisi...   \n",
       "\n",
       "                         production_countries  runtime  \\\n",
       "0  US United States America GB United Kingdom    162.0   \n",
       "1                    US United States America    194.0   \n",
       "2                    US United States America    143.0   \n",
       "3                    US United States America    124.0   \n",
       "4           JP Japan US United States America    137.0   \n",
       "\n",
       "                spoken_languages  release_date  ... fantasy  fiction  history  \\\n",
       "0                   English Espa      20091210  ...       1        1        0   \n",
       "1  English Fran Deutsch Italiano      19971118  ...       0        0        0   \n",
       "2                        English      20120425  ...       0        1        0   \n",
       "3                        English      20150609  ...       0        1        0   \n",
       "4                        English      20150401  ...       0        0        0   \n",
       "\n",
       "   horror  music  mystery  romance  science  thriller  war  \n",
       "0       0      0        0        0        1         0    0  \n",
       "1       0      0        0        1        0         1    0  \n",
       "2       0      0        0        0        1         0    0  \n",
       "3       0      0        0        0        1         1    0  \n",
       "4       0      0        0        0        0         0    0  \n",
       "\n",
       "[5 rows x 30 columns]"
      ]
     },
     "execution_count": 23,
     "metadata": {},
     "output_type": "execute_result"
    }
   ],
   "source": [
    "# Add genres_df to movie_df\n",
    "movie_df = pd.concat([movie_df, genres_df], axis=1, sort=False)\n",
    "\n",
    "# Drop genres column from movie_df\n",
    "movie_revenue_ml_2 = movie_df.drop(columns=['genres'])\n",
    "movie_df.head()"
   ]
  },
  {
   "cell_type": "code",
   "execution_count": 24,
   "metadata": {},
   "outputs": [
    {
     "data": {
      "text/plain": [
       "(4641, 30)"
      ]
     },
     "execution_count": 24,
     "metadata": {},
     "output_type": "execute_result"
    }
   ],
   "source": [
    "movie_df.shape"
   ]
  },
  {
   "cell_type": "markdown",
   "metadata": {},
   "source": [
    "#### Keywords"
   ]
  },
  {
   "cell_type": "code",
   "execution_count": 25,
   "metadata": {},
   "outputs": [],
   "source": [
    "keywords_text, keywords_clean = column_to_text('keywords')\n",
    "keywords_clean = preprocess_text(keywords_text, keywords_clean)"
   ]
  },
  {
   "cell_type": "code",
   "execution_count": 26,
   "metadata": {},
   "outputs": [
    {
     "data": {
      "text/plain": [
       "'culture clash future space war space colony society space travel futuristic romance space alien tribe alien planet cgi marine soldier battle love affair anti war power relation mind soul'"
      ]
     },
     "execution_count": 26,
     "metadata": {},
     "output_type": "execute_result"
    }
   ],
   "source": [
    "keywords_clean[0]"
   ]
  },
  {
   "cell_type": "code",
   "execution_count": 27,
   "metadata": {},
   "outputs": [
    {
     "data": {
      "text/plain": [
       "(4641, 6540)"
      ]
     },
     "execution_count": 27,
     "metadata": {},
     "output_type": "execute_result"
    }
   ],
   "source": [
    "keywords_df = bag_of_words_dataframe(keywords_clean)\n",
    "keywords_df.shape"
   ]
  },
  {
   "cell_type": "code",
   "execution_count": 28,
   "metadata": {},
   "outputs": [],
   "source": [
    "keywords_df = select_top_features(keywords_df)"
   ]
  },
  {
   "cell_type": "code",
   "execution_count": 29,
   "metadata": {},
   "outputs": [
    {
     "data": {
      "text/plain": [
       "(4641, 41)"
      ]
     },
     "execution_count": 29,
     "metadata": {},
     "output_type": "execute_result"
    }
   ],
   "source": [
    "keywords_df.shape"
   ]
  },
  {
   "cell_type": "code",
   "execution_count": 30,
   "metadata": {},
   "outputs": [
    {
     "name": "stdout",
     "output_type": "stream",
     "text": [
      "(4641, 71)\n"
     ]
    },
    {
     "data": {
      "text/html": [
       "<div>\n",
       "<style scoped>\n",
       "    .dataframe tbody tr th:only-of-type {\n",
       "        vertical-align: middle;\n",
       "    }\n",
       "\n",
       "    .dataframe tbody tr th {\n",
       "        vertical-align: top;\n",
       "    }\n",
       "\n",
       "    .dataframe thead th {\n",
       "        text-align: right;\n",
       "    }\n",
       "</style>\n",
       "<table border=\"1\" class=\"dataframe\">\n",
       "  <thead>\n",
       "    <tr style=\"text-align: right;\">\n",
       "      <th></th>\n",
       "      <th>title</th>\n",
       "      <th>revenue</th>\n",
       "      <th>genres</th>\n",
       "      <th>original_language</th>\n",
       "      <th>production_companies</th>\n",
       "      <th>production_countries</th>\n",
       "      <th>runtime</th>\n",
       "      <th>spoken_languages</th>\n",
       "      <th>release_date</th>\n",
       "      <th>release_day_of_week</th>\n",
       "      <th>...</th>\n",
       "      <th>revenge</th>\n",
       "      <th>school</th>\n",
       "      <th>secret</th>\n",
       "      <th>sex</th>\n",
       "      <th>sport</th>\n",
       "      <th>violence</th>\n",
       "      <th>war</th>\n",
       "      <th>woman</th>\n",
       "      <th>world</th>\n",
       "      <th>york</th>\n",
       "    </tr>\n",
       "  </thead>\n",
       "  <tbody>\n",
       "    <tr>\n",
       "      <th>0</th>\n",
       "      <td>6</td>\n",
       "      <td>2.787965e+09</td>\n",
       "      <td>Action Adventure Fantasy Science Fiction</td>\n",
       "      <td>en</td>\n",
       "      <td>Ingenious Film Partners Twentieth Century Fox ...</td>\n",
       "      <td>US United States America GB United Kingdom</td>\n",
       "      <td>162.0</td>\n",
       "      <td>English Espa</td>\n",
       "      <td>20091210</td>\n",
       "      <td>Thursday</td>\n",
       "      <td>...</td>\n",
       "      <td>0</td>\n",
       "      <td>0</td>\n",
       "      <td>0</td>\n",
       "      <td>0</td>\n",
       "      <td>0</td>\n",
       "      <td>0</td>\n",
       "      <td>2</td>\n",
       "      <td>0</td>\n",
       "      <td>0</td>\n",
       "      <td>0</td>\n",
       "    </tr>\n",
       "    <tr>\n",
       "      <th>1</th>\n",
       "      <td>7</td>\n",
       "      <td>1.845034e+09</td>\n",
       "      <td>Drama Romance Thriller</td>\n",
       "      <td>en</td>\n",
       "      <td>Paramount Pictures Twentieth Century Fox Film ...</td>\n",
       "      <td>US United States America</td>\n",
       "      <td>194.0</td>\n",
       "      <td>English Fran Deutsch Italiano</td>\n",
       "      <td>19971118</td>\n",
       "      <td>Tuesday</td>\n",
       "      <td>...</td>\n",
       "      <td>0</td>\n",
       "      <td>0</td>\n",
       "      <td>0</td>\n",
       "      <td>0</td>\n",
       "      <td>0</td>\n",
       "      <td>0</td>\n",
       "      <td>0</td>\n",
       "      <td>1</td>\n",
       "      <td>0</td>\n",
       "      <td>0</td>\n",
       "    </tr>\n",
       "    <tr>\n",
       "      <th>2</th>\n",
       "      <td>7</td>\n",
       "      <td>1.519558e+09</td>\n",
       "      <td>Science Fiction Action Adventure</td>\n",
       "      <td>en</td>\n",
       "      <td>Paramount Pictures Marvel Studios</td>\n",
       "      <td>US United States America</td>\n",
       "      <td>143.0</td>\n",
       "      <td>English</td>\n",
       "      <td>20120425</td>\n",
       "      <td>Wednesday</td>\n",
       "      <td>...</td>\n",
       "      <td>0</td>\n",
       "      <td>0</td>\n",
       "      <td>0</td>\n",
       "      <td>0</td>\n",
       "      <td>0</td>\n",
       "      <td>0</td>\n",
       "      <td>0</td>\n",
       "      <td>0</td>\n",
       "      <td>0</td>\n",
       "      <td>1</td>\n",
       "    </tr>\n",
       "    <tr>\n",
       "      <th>3</th>\n",
       "      <td>14</td>\n",
       "      <td>1.513529e+09</td>\n",
       "      <td>Action Adventure Science Fiction Thriller</td>\n",
       "      <td>en</td>\n",
       "      <td>Universal Studios Amblin Entertainment Legenda...</td>\n",
       "      <td>US United States America</td>\n",
       "      <td>124.0</td>\n",
       "      <td>English</td>\n",
       "      <td>20150609</td>\n",
       "      <td>Tuesday</td>\n",
       "      <td>...</td>\n",
       "      <td>0</td>\n",
       "      <td>0</td>\n",
       "      <td>0</td>\n",
       "      <td>0</td>\n",
       "      <td>0</td>\n",
       "      <td>0</td>\n",
       "      <td>0</td>\n",
       "      <td>0</td>\n",
       "      <td>0</td>\n",
       "      <td>0</td>\n",
       "    </tr>\n",
       "    <tr>\n",
       "      <th>4</th>\n",
       "      <td>7</td>\n",
       "      <td>1.506249e+09</td>\n",
       "      <td>Action</td>\n",
       "      <td>en</td>\n",
       "      <td>Universal Pictures Original Film Fuji Televisi...</td>\n",
       "      <td>JP Japan US United States America</td>\n",
       "      <td>137.0</td>\n",
       "      <td>English</td>\n",
       "      <td>20150401</td>\n",
       "      <td>Wednesday</td>\n",
       "      <td>...</td>\n",
       "      <td>1</td>\n",
       "      <td>0</td>\n",
       "      <td>0</td>\n",
       "      <td>0</td>\n",
       "      <td>0</td>\n",
       "      <td>0</td>\n",
       "      <td>0</td>\n",
       "      <td>0</td>\n",
       "      <td>0</td>\n",
       "      <td>0</td>\n",
       "    </tr>\n",
       "  </tbody>\n",
       "</table>\n",
       "<p>5 rows × 70 columns</p>\n",
       "</div>"
      ],
      "text/plain": [
       "   title       revenue                                     genres  \\\n",
       "0      6  2.787965e+09   Action Adventure Fantasy Science Fiction   \n",
       "1      7  1.845034e+09                     Drama Romance Thriller   \n",
       "2      7  1.519558e+09           Science Fiction Action Adventure   \n",
       "3     14  1.513529e+09  Action Adventure Science Fiction Thriller   \n",
       "4      7  1.506249e+09                                     Action   \n",
       "\n",
       "  original_language                               production_companies  \\\n",
       "0                en  Ingenious Film Partners Twentieth Century Fox ...   \n",
       "1                en  Paramount Pictures Twentieth Century Fox Film ...   \n",
       "2                en                  Paramount Pictures Marvel Studios   \n",
       "3                en  Universal Studios Amblin Entertainment Legenda...   \n",
       "4                en  Universal Pictures Original Film Fuji Televisi...   \n",
       "\n",
       "                         production_countries  runtime  \\\n",
       "0  US United States America GB United Kingdom    162.0   \n",
       "1                    US United States America    194.0   \n",
       "2                    US United States America    143.0   \n",
       "3                    US United States America    124.0   \n",
       "4           JP Japan US United States America    137.0   \n",
       "\n",
       "                spoken_languages  release_date release_day_of_week  ...  \\\n",
       "0                   English Espa      20091210            Thursday  ...   \n",
       "1  English Fran Deutsch Italiano      19971118             Tuesday  ...   \n",
       "2                        English      20120425           Wednesday  ...   \n",
       "3                        English      20150609             Tuesday  ...   \n",
       "4                        English      20150401           Wednesday  ...   \n",
       "\n",
       "   revenge  school  secret  sex  sport  violence  war  woman  world  york  \n",
       "0        0       0       0    0      0         0    2      0      0     0  \n",
       "1        0       0       0    0      0         0    0      1      0     0  \n",
       "2        0       0       0    0      0         0    0      0      0     1  \n",
       "3        0       0       0    0      0         0    0      0      0     0  \n",
       "4        1       0       0    0      0         0    0      0      0     0  \n",
       "\n",
       "[5 rows x 70 columns]"
      ]
     },
     "execution_count": 30,
     "metadata": {},
     "output_type": "execute_result"
    }
   ],
   "source": [
    "# Add keywords_df to movie_df\n",
    "movie_df = pd.concat([movie_df, keywords_df], axis=1, sort=False)\n",
    "print(movie_df.shape)\n",
    "\n",
    "# Drop genres column from movie_df\n",
    "movie_df = movie_df.drop(columns=['keywords'])\n",
    "movie_df.head()"
   ]
  },
  {
   "cell_type": "markdown",
   "metadata": {},
   "source": [
    "#### Production Companies"
   ]
  },
  {
   "cell_type": "code",
   "execution_count": 31,
   "metadata": {},
   "outputs": [],
   "source": [
    "prod_companies_text, prod_companies_clean = column_to_text('production_companies')\n",
    "prod_companies_clean = preprocess_text(prod_companies_text, prod_companies_clean)"
   ]
  },
  {
   "cell_type": "code",
   "execution_count": 32,
   "metadata": {},
   "outputs": [
    {
     "data": {
      "text/plain": [
       "'ingenious film partners twentieth century fox film corporation dune entertainment lightstorm entertainment'"
      ]
     },
     "execution_count": 32,
     "metadata": {},
     "output_type": "execute_result"
    }
   ],
   "source": [
    "prod_companies_clean[0]"
   ]
  },
  {
   "cell_type": "code",
   "execution_count": 33,
   "metadata": {},
   "outputs": [
    {
     "data": {
      "text/plain": [
       "(4641, 4696)"
      ]
     },
     "execution_count": 33,
     "metadata": {},
     "output_type": "execute_result"
    }
   ],
   "source": [
    "prod_companies_df = bag_of_words_dataframe(prod_companies_clean)\n",
    "prod_companies_df.shape"
   ]
  },
  {
   "cell_type": "code",
   "execution_count": 34,
   "metadata": {},
   "outputs": [
    {
     "data": {
      "text/plain": [
       "(4641, 37)"
      ]
     },
     "execution_count": 34,
     "metadata": {},
     "output_type": "execute_result"
    }
   ],
   "source": [
    "prod_companies_df = select_top_features(prod_companies_df)\n",
    "prod_companies_df.shape"
   ]
  },
  {
   "cell_type": "code",
   "execution_count": 35,
   "metadata": {},
   "outputs": [
    {
     "name": "stdout",
     "output_type": "stream",
     "text": [
      "(4641, 107)\n"
     ]
    },
    {
     "data": {
      "text/html": [
       "<div>\n",
       "<style scoped>\n",
       "    .dataframe tbody tr th:only-of-type {\n",
       "        vertical-align: middle;\n",
       "    }\n",
       "\n",
       "    .dataframe tbody tr th {\n",
       "        vertical-align: top;\n",
       "    }\n",
       "\n",
       "    .dataframe thead th {\n",
       "        text-align: right;\n",
       "    }\n",
       "</style>\n",
       "<table border=\"1\" class=\"dataframe\">\n",
       "  <thead>\n",
       "    <tr style=\"text-align: right;\">\n",
       "      <th></th>\n",
       "      <th>title</th>\n",
       "      <th>revenue</th>\n",
       "      <th>genres</th>\n",
       "      <th>original_language</th>\n",
       "      <th>production_countries</th>\n",
       "      <th>runtime</th>\n",
       "      <th>spoken_languages</th>\n",
       "      <th>release_date</th>\n",
       "      <th>release_day_of_week</th>\n",
       "      <th>release_month</th>\n",
       "      <th>...</th>\n",
       "      <th>pictures</th>\n",
       "      <th>production</th>\n",
       "      <th>productions</th>\n",
       "      <th>relativity</th>\n",
       "      <th>studio</th>\n",
       "      <th>touchstone</th>\n",
       "      <th>twentieth</th>\n",
       "      <th>universal</th>\n",
       "      <th>walt</th>\n",
       "      <th>warner</th>\n",
       "    </tr>\n",
       "  </thead>\n",
       "  <tbody>\n",
       "    <tr>\n",
       "      <th>0</th>\n",
       "      <td>6</td>\n",
       "      <td>2.787965e+09</td>\n",
       "      <td>Action Adventure Fantasy Science Fiction</td>\n",
       "      <td>en</td>\n",
       "      <td>US United States America GB United Kingdom</td>\n",
       "      <td>162.0</td>\n",
       "      <td>English Espa</td>\n",
       "      <td>20091210</td>\n",
       "      <td>Thursday</td>\n",
       "      <td>12</td>\n",
       "      <td>...</td>\n",
       "      <td>0</td>\n",
       "      <td>0</td>\n",
       "      <td>0</td>\n",
       "      <td>0</td>\n",
       "      <td>0</td>\n",
       "      <td>0</td>\n",
       "      <td>1</td>\n",
       "      <td>0</td>\n",
       "      <td>0</td>\n",
       "      <td>0</td>\n",
       "    </tr>\n",
       "    <tr>\n",
       "      <th>1</th>\n",
       "      <td>7</td>\n",
       "      <td>1.845034e+09</td>\n",
       "      <td>Drama Romance Thriller</td>\n",
       "      <td>en</td>\n",
       "      <td>US United States America</td>\n",
       "      <td>194.0</td>\n",
       "      <td>English Fran Deutsch Italiano</td>\n",
       "      <td>19971118</td>\n",
       "      <td>Tuesday</td>\n",
       "      <td>11</td>\n",
       "      <td>...</td>\n",
       "      <td>1</td>\n",
       "      <td>0</td>\n",
       "      <td>0</td>\n",
       "      <td>0</td>\n",
       "      <td>0</td>\n",
       "      <td>0</td>\n",
       "      <td>1</td>\n",
       "      <td>0</td>\n",
       "      <td>0</td>\n",
       "      <td>0</td>\n",
       "    </tr>\n",
       "    <tr>\n",
       "      <th>2</th>\n",
       "      <td>7</td>\n",
       "      <td>1.519558e+09</td>\n",
       "      <td>Science Fiction Action Adventure</td>\n",
       "      <td>en</td>\n",
       "      <td>US United States America</td>\n",
       "      <td>143.0</td>\n",
       "      <td>English</td>\n",
       "      <td>20120425</td>\n",
       "      <td>Wednesday</td>\n",
       "      <td>4</td>\n",
       "      <td>...</td>\n",
       "      <td>1</td>\n",
       "      <td>0</td>\n",
       "      <td>0</td>\n",
       "      <td>0</td>\n",
       "      <td>1</td>\n",
       "      <td>0</td>\n",
       "      <td>0</td>\n",
       "      <td>0</td>\n",
       "      <td>0</td>\n",
       "      <td>0</td>\n",
       "    </tr>\n",
       "    <tr>\n",
       "      <th>3</th>\n",
       "      <td>14</td>\n",
       "      <td>1.513529e+09</td>\n",
       "      <td>Action Adventure Science Fiction Thriller</td>\n",
       "      <td>en</td>\n",
       "      <td>US United States America</td>\n",
       "      <td>124.0</td>\n",
       "      <td>English</td>\n",
       "      <td>20150609</td>\n",
       "      <td>Tuesday</td>\n",
       "      <td>6</td>\n",
       "      <td>...</td>\n",
       "      <td>1</td>\n",
       "      <td>0</td>\n",
       "      <td>0</td>\n",
       "      <td>0</td>\n",
       "      <td>0</td>\n",
       "      <td>0</td>\n",
       "      <td>0</td>\n",
       "      <td>1</td>\n",
       "      <td>0</td>\n",
       "      <td>0</td>\n",
       "    </tr>\n",
       "    <tr>\n",
       "      <th>4</th>\n",
       "      <td>7</td>\n",
       "      <td>1.506249e+09</td>\n",
       "      <td>Action</td>\n",
       "      <td>en</td>\n",
       "      <td>JP Japan US United States America</td>\n",
       "      <td>137.0</td>\n",
       "      <td>English</td>\n",
       "      <td>20150401</td>\n",
       "      <td>Wednesday</td>\n",
       "      <td>4</td>\n",
       "      <td>...</td>\n",
       "      <td>1</td>\n",
       "      <td>1</td>\n",
       "      <td>0</td>\n",
       "      <td>0</td>\n",
       "      <td>0</td>\n",
       "      <td>0</td>\n",
       "      <td>0</td>\n",
       "      <td>1</td>\n",
       "      <td>0</td>\n",
       "      <td>0</td>\n",
       "    </tr>\n",
       "  </tbody>\n",
       "</table>\n",
       "<p>5 rows × 106 columns</p>\n",
       "</div>"
      ],
      "text/plain": [
       "   title       revenue                                     genres  \\\n",
       "0      6  2.787965e+09   Action Adventure Fantasy Science Fiction   \n",
       "1      7  1.845034e+09                     Drama Romance Thriller   \n",
       "2      7  1.519558e+09           Science Fiction Action Adventure   \n",
       "3     14  1.513529e+09  Action Adventure Science Fiction Thriller   \n",
       "4      7  1.506249e+09                                     Action   \n",
       "\n",
       "  original_language                        production_countries  runtime  \\\n",
       "0                en  US United States America GB United Kingdom    162.0   \n",
       "1                en                    US United States America    194.0   \n",
       "2                en                    US United States America    143.0   \n",
       "3                en                    US United States America    124.0   \n",
       "4                en           JP Japan US United States America    137.0   \n",
       "\n",
       "                spoken_languages  release_date release_day_of_week  \\\n",
       "0                   English Espa      20091210            Thursday   \n",
       "1  English Fran Deutsch Italiano      19971118             Tuesday   \n",
       "2                        English      20120425           Wednesday   \n",
       "3                        English      20150609             Tuesday   \n",
       "4                        English      20150401           Wednesday   \n",
       "\n",
       "   release_month  ...  pictures  production  productions  relativity  studio  \\\n",
       "0             12  ...         0           0            0           0       0   \n",
       "1             11  ...         1           0            0           0       0   \n",
       "2              4  ...         1           0            0           0       1   \n",
       "3              6  ...         1           0            0           0       0   \n",
       "4              4  ...         1           1            0           0       0   \n",
       "\n",
       "   touchstone  twentieth  universal  walt  warner  \n",
       "0           0          1          0     0       0  \n",
       "1           0          1          0     0       0  \n",
       "2           0          0          0     0       0  \n",
       "3           0          0          1     0       0  \n",
       "4           0          0          1     0       0  \n",
       "\n",
       "[5 rows x 106 columns]"
      ]
     },
     "execution_count": 35,
     "metadata": {},
     "output_type": "execute_result"
    }
   ],
   "source": [
    "# Add prod_companies_df to movie_df\n",
    "movie_df = pd.concat([movie_df, prod_companies_df], axis=1, sort=False)\n",
    "print(movie_df.shape)\n",
    "\n",
    "# Drop genres column from movie_df\n",
    "movie_df = movie_df.drop(columns=['production_companies'])\n",
    "movie_df.head()"
   ]
  },
  {
   "cell_type": "markdown",
   "metadata": {},
   "source": [
    "#### Production Countries"
   ]
  },
  {
   "cell_type": "code",
   "execution_count": 36,
   "metadata": {},
   "outputs": [],
   "source": [
    "prod_countries_text, prod_countries_clean = column_to_text('production_countries')\n",
    "prod_countries_clean = preprocess_text(prod_countries_text, prod_countries_clean)"
   ]
  },
  {
   "cell_type": "code",
   "execution_count": 37,
   "metadata": {},
   "outputs": [
    {
     "data": {
      "text/plain": [
       "'us united states america gb united kingdom'"
      ]
     },
     "execution_count": 37,
     "metadata": {},
     "output_type": "execute_result"
    }
   ],
   "source": [
    "prod_countries_clean[0]"
   ]
  },
  {
   "cell_type": "code",
   "execution_count": 38,
   "metadata": {},
   "outputs": [
    {
     "data": {
      "text/plain": [
       "(4641, 173)"
      ]
     },
     "execution_count": 38,
     "metadata": {},
     "output_type": "execute_result"
    }
   ],
   "source": [
    "prod_countries_df = bag_of_words_dataframe(prod_countries_clean)\n",
    "prod_countries_df.shape"
   ]
  },
  {
   "cell_type": "code",
   "execution_count": 39,
   "metadata": {},
   "outputs": [
    {
     "data": {
      "text/plain": [
       "(4641, 12)"
      ]
     },
     "execution_count": 39,
     "metadata": {},
     "output_type": "execute_result"
    }
   ],
   "source": [
    "prod_countries_df = select_top_features(prod_countries_df)\n",
    "prod_countries_df.shape"
   ]
  },
  {
   "cell_type": "code",
   "execution_count": 40,
   "metadata": {},
   "outputs": [
    {
     "name": "stdout",
     "output_type": "stream",
     "text": [
      "(4641, 118)\n"
     ]
    },
    {
     "data": {
      "text/html": [
       "<div>\n",
       "<style scoped>\n",
       "    .dataframe tbody tr th:only-of-type {\n",
       "        vertical-align: middle;\n",
       "    }\n",
       "\n",
       "    .dataframe tbody tr th {\n",
       "        vertical-align: top;\n",
       "    }\n",
       "\n",
       "    .dataframe thead th {\n",
       "        text-align: right;\n",
       "    }\n",
       "</style>\n",
       "<table border=\"1\" class=\"dataframe\">\n",
       "  <thead>\n",
       "    <tr style=\"text-align: right;\">\n",
       "      <th></th>\n",
       "      <th>title</th>\n",
       "      <th>revenue</th>\n",
       "      <th>genres</th>\n",
       "      <th>original_language</th>\n",
       "      <th>runtime</th>\n",
       "      <th>spoken_languages</th>\n",
       "      <th>release_date</th>\n",
       "      <th>release_day_of_week</th>\n",
       "      <th>release_month</th>\n",
       "      <th>action</th>\n",
       "      <th>...</th>\n",
       "      <th>australia</th>\n",
       "      <th>ca</th>\n",
       "      <th>canada</th>\n",
       "      <th>fr</th>\n",
       "      <th>france</th>\n",
       "      <th>gb</th>\n",
       "      <th>germany</th>\n",
       "      <th>kingdom</th>\n",
       "      <th>states</th>\n",
       "      <th>united</th>\n",
       "    </tr>\n",
       "  </thead>\n",
       "  <tbody>\n",
       "    <tr>\n",
       "      <th>0</th>\n",
       "      <td>6</td>\n",
       "      <td>2.787965e+09</td>\n",
       "      <td>Action Adventure Fantasy Science Fiction</td>\n",
       "      <td>en</td>\n",
       "      <td>162.0</td>\n",
       "      <td>English Espa</td>\n",
       "      <td>20091210</td>\n",
       "      <td>Thursday</td>\n",
       "      <td>12</td>\n",
       "      <td>1</td>\n",
       "      <td>...</td>\n",
       "      <td>0</td>\n",
       "      <td>0</td>\n",
       "      <td>0</td>\n",
       "      <td>0</td>\n",
       "      <td>0</td>\n",
       "      <td>1</td>\n",
       "      <td>0</td>\n",
       "      <td>1</td>\n",
       "      <td>1</td>\n",
       "      <td>2</td>\n",
       "    </tr>\n",
       "    <tr>\n",
       "      <th>1</th>\n",
       "      <td>7</td>\n",
       "      <td>1.845034e+09</td>\n",
       "      <td>Drama Romance Thriller</td>\n",
       "      <td>en</td>\n",
       "      <td>194.0</td>\n",
       "      <td>English Fran Deutsch Italiano</td>\n",
       "      <td>19971118</td>\n",
       "      <td>Tuesday</td>\n",
       "      <td>11</td>\n",
       "      <td>0</td>\n",
       "      <td>...</td>\n",
       "      <td>0</td>\n",
       "      <td>0</td>\n",
       "      <td>0</td>\n",
       "      <td>0</td>\n",
       "      <td>0</td>\n",
       "      <td>0</td>\n",
       "      <td>0</td>\n",
       "      <td>0</td>\n",
       "      <td>1</td>\n",
       "      <td>1</td>\n",
       "    </tr>\n",
       "    <tr>\n",
       "      <th>2</th>\n",
       "      <td>7</td>\n",
       "      <td>1.519558e+09</td>\n",
       "      <td>Science Fiction Action Adventure</td>\n",
       "      <td>en</td>\n",
       "      <td>143.0</td>\n",
       "      <td>English</td>\n",
       "      <td>20120425</td>\n",
       "      <td>Wednesday</td>\n",
       "      <td>4</td>\n",
       "      <td>1</td>\n",
       "      <td>...</td>\n",
       "      <td>0</td>\n",
       "      <td>0</td>\n",
       "      <td>0</td>\n",
       "      <td>0</td>\n",
       "      <td>0</td>\n",
       "      <td>0</td>\n",
       "      <td>0</td>\n",
       "      <td>0</td>\n",
       "      <td>1</td>\n",
       "      <td>1</td>\n",
       "    </tr>\n",
       "    <tr>\n",
       "      <th>3</th>\n",
       "      <td>14</td>\n",
       "      <td>1.513529e+09</td>\n",
       "      <td>Action Adventure Science Fiction Thriller</td>\n",
       "      <td>en</td>\n",
       "      <td>124.0</td>\n",
       "      <td>English</td>\n",
       "      <td>20150609</td>\n",
       "      <td>Tuesday</td>\n",
       "      <td>6</td>\n",
       "      <td>1</td>\n",
       "      <td>...</td>\n",
       "      <td>0</td>\n",
       "      <td>0</td>\n",
       "      <td>0</td>\n",
       "      <td>0</td>\n",
       "      <td>0</td>\n",
       "      <td>0</td>\n",
       "      <td>0</td>\n",
       "      <td>0</td>\n",
       "      <td>1</td>\n",
       "      <td>1</td>\n",
       "    </tr>\n",
       "    <tr>\n",
       "      <th>4</th>\n",
       "      <td>7</td>\n",
       "      <td>1.506249e+09</td>\n",
       "      <td>Action</td>\n",
       "      <td>en</td>\n",
       "      <td>137.0</td>\n",
       "      <td>English</td>\n",
       "      <td>20150401</td>\n",
       "      <td>Wednesday</td>\n",
       "      <td>4</td>\n",
       "      <td>1</td>\n",
       "      <td>...</td>\n",
       "      <td>0</td>\n",
       "      <td>0</td>\n",
       "      <td>0</td>\n",
       "      <td>0</td>\n",
       "      <td>0</td>\n",
       "      <td>0</td>\n",
       "      <td>0</td>\n",
       "      <td>0</td>\n",
       "      <td>1</td>\n",
       "      <td>1</td>\n",
       "    </tr>\n",
       "  </tbody>\n",
       "</table>\n",
       "<p>5 rows × 117 columns</p>\n",
       "</div>"
      ],
      "text/plain": [
       "   title       revenue                                     genres  \\\n",
       "0      6  2.787965e+09   Action Adventure Fantasy Science Fiction   \n",
       "1      7  1.845034e+09                     Drama Romance Thriller   \n",
       "2      7  1.519558e+09           Science Fiction Action Adventure   \n",
       "3     14  1.513529e+09  Action Adventure Science Fiction Thriller   \n",
       "4      7  1.506249e+09                                     Action   \n",
       "\n",
       "  original_language  runtime               spoken_languages  release_date  \\\n",
       "0                en    162.0                   English Espa      20091210   \n",
       "1                en    194.0  English Fran Deutsch Italiano      19971118   \n",
       "2                en    143.0                        English      20120425   \n",
       "3                en    124.0                        English      20150609   \n",
       "4                en    137.0                        English      20150401   \n",
       "\n",
       "  release_day_of_week  release_month  action  ...  australia  ca  canada  fr  \\\n",
       "0            Thursday             12       1  ...          0   0       0   0   \n",
       "1             Tuesday             11       0  ...          0   0       0   0   \n",
       "2           Wednesday              4       1  ...          0   0       0   0   \n",
       "3             Tuesday              6       1  ...          0   0       0   0   \n",
       "4           Wednesday              4       1  ...          0   0       0   0   \n",
       "\n",
       "   france  gb  germany  kingdom  states  united  \n",
       "0       0   1        0        1       1       2  \n",
       "1       0   0        0        0       1       1  \n",
       "2       0   0        0        0       1       1  \n",
       "3       0   0        0        0       1       1  \n",
       "4       0   0        0        0       1       1  \n",
       "\n",
       "[5 rows x 117 columns]"
      ]
     },
     "execution_count": 40,
     "metadata": {},
     "output_type": "execute_result"
    }
   ],
   "source": [
    "# Add prod_countries_df  to movie_df\n",
    "movie_df = pd.concat([movie_df, prod_countries_df], axis=1, sort=False)\n",
    "print(movie_df.shape)\n",
    "\n",
    "# Drop genres column from movie_df\n",
    "movie_df = movie_df.drop(columns=['production_countries'])\n",
    "movie_df.head()"
   ]
  },
  {
   "cell_type": "markdown",
   "metadata": {},
   "source": [
    "#### Spoken Language"
   ]
  },
  {
   "cell_type": "code",
   "execution_count": 41,
   "metadata": {},
   "outputs": [],
   "source": [
    "spoken_lang_text, spoken_lang_clean = column_to_text('spoken_languages')\n",
    "spoken_lang_clean = preprocess_text(spoken_lang_text, spoken_lang_clean)"
   ]
  },
  {
   "cell_type": "code",
   "execution_count": 42,
   "metadata": {},
   "outputs": [
    {
     "data": {
      "text/plain": [
       "'english espa'"
      ]
     },
     "execution_count": 42,
     "metadata": {},
     "output_type": "execute_result"
    }
   ],
   "source": [
    "# Test output\n",
    "spoken_lang_clean[0]"
   ]
  },
  {
   "cell_type": "code",
   "execution_count": 43,
   "metadata": {},
   "outputs": [
    {
     "data": {
      "text/plain": [
       "(4641, 34)"
      ]
     },
     "execution_count": 43,
     "metadata": {},
     "output_type": "execute_result"
    }
   ],
   "source": [
    "spoken_lang_df = bag_of_words_dataframe(spoken_lang_clean)\n",
    "spoken_lang_df.shape"
   ]
  },
  {
   "cell_type": "code",
   "execution_count": 44,
   "metadata": {},
   "outputs": [
    {
     "data": {
      "text/plain": [
       "(4641, 5)"
      ]
     },
     "execution_count": 44,
     "metadata": {},
     "output_type": "execute_result"
    }
   ],
   "source": [
    "spoken_lang_df = select_top_features(spoken_lang_df)\n",
    "spoken_lang_df.shape"
   ]
  },
  {
   "cell_type": "code",
   "execution_count": 45,
   "metadata": {},
   "outputs": [
    {
     "name": "stdout",
     "output_type": "stream",
     "text": [
      "(4641, 122)\n"
     ]
    },
    {
     "data": {
      "text/html": [
       "<div>\n",
       "<style scoped>\n",
       "    .dataframe tbody tr th:only-of-type {\n",
       "        vertical-align: middle;\n",
       "    }\n",
       "\n",
       "    .dataframe tbody tr th {\n",
       "        vertical-align: top;\n",
       "    }\n",
       "\n",
       "    .dataframe thead th {\n",
       "        text-align: right;\n",
       "    }\n",
       "</style>\n",
       "<table border=\"1\" class=\"dataframe\">\n",
       "  <thead>\n",
       "    <tr style=\"text-align: right;\">\n",
       "      <th></th>\n",
       "      <th>title</th>\n",
       "      <th>revenue</th>\n",
       "      <th>genres</th>\n",
       "      <th>original_language</th>\n",
       "      <th>runtime</th>\n",
       "      <th>release_date</th>\n",
       "      <th>release_day_of_week</th>\n",
       "      <th>release_month</th>\n",
       "      <th>action</th>\n",
       "      <th>adventure</th>\n",
       "      <th>...</th>\n",
       "      <th>gb</th>\n",
       "      <th>germany</th>\n",
       "      <th>kingdom</th>\n",
       "      <th>states</th>\n",
       "      <th>united</th>\n",
       "      <th>deutsch</th>\n",
       "      <th>english</th>\n",
       "      <th>espa</th>\n",
       "      <th>fran</th>\n",
       "      <th>italiano</th>\n",
       "    </tr>\n",
       "  </thead>\n",
       "  <tbody>\n",
       "    <tr>\n",
       "      <th>0</th>\n",
       "      <td>6</td>\n",
       "      <td>2.787965e+09</td>\n",
       "      <td>Action Adventure Fantasy Science Fiction</td>\n",
       "      <td>en</td>\n",
       "      <td>162.0</td>\n",
       "      <td>20091210</td>\n",
       "      <td>Thursday</td>\n",
       "      <td>12</td>\n",
       "      <td>1</td>\n",
       "      <td>1</td>\n",
       "      <td>...</td>\n",
       "      <td>1</td>\n",
       "      <td>0</td>\n",
       "      <td>1</td>\n",
       "      <td>1</td>\n",
       "      <td>2</td>\n",
       "      <td>0</td>\n",
       "      <td>1</td>\n",
       "      <td>1</td>\n",
       "      <td>0</td>\n",
       "      <td>0</td>\n",
       "    </tr>\n",
       "    <tr>\n",
       "      <th>1</th>\n",
       "      <td>7</td>\n",
       "      <td>1.845034e+09</td>\n",
       "      <td>Drama Romance Thriller</td>\n",
       "      <td>en</td>\n",
       "      <td>194.0</td>\n",
       "      <td>19971118</td>\n",
       "      <td>Tuesday</td>\n",
       "      <td>11</td>\n",
       "      <td>0</td>\n",
       "      <td>0</td>\n",
       "      <td>...</td>\n",
       "      <td>0</td>\n",
       "      <td>0</td>\n",
       "      <td>0</td>\n",
       "      <td>1</td>\n",
       "      <td>1</td>\n",
       "      <td>1</td>\n",
       "      <td>1</td>\n",
       "      <td>0</td>\n",
       "      <td>1</td>\n",
       "      <td>1</td>\n",
       "    </tr>\n",
       "    <tr>\n",
       "      <th>2</th>\n",
       "      <td>7</td>\n",
       "      <td>1.519558e+09</td>\n",
       "      <td>Science Fiction Action Adventure</td>\n",
       "      <td>en</td>\n",
       "      <td>143.0</td>\n",
       "      <td>20120425</td>\n",
       "      <td>Wednesday</td>\n",
       "      <td>4</td>\n",
       "      <td>1</td>\n",
       "      <td>1</td>\n",
       "      <td>...</td>\n",
       "      <td>0</td>\n",
       "      <td>0</td>\n",
       "      <td>0</td>\n",
       "      <td>1</td>\n",
       "      <td>1</td>\n",
       "      <td>0</td>\n",
       "      <td>1</td>\n",
       "      <td>0</td>\n",
       "      <td>0</td>\n",
       "      <td>0</td>\n",
       "    </tr>\n",
       "    <tr>\n",
       "      <th>3</th>\n",
       "      <td>14</td>\n",
       "      <td>1.513529e+09</td>\n",
       "      <td>Action Adventure Science Fiction Thriller</td>\n",
       "      <td>en</td>\n",
       "      <td>124.0</td>\n",
       "      <td>20150609</td>\n",
       "      <td>Tuesday</td>\n",
       "      <td>6</td>\n",
       "      <td>1</td>\n",
       "      <td>1</td>\n",
       "      <td>...</td>\n",
       "      <td>0</td>\n",
       "      <td>0</td>\n",
       "      <td>0</td>\n",
       "      <td>1</td>\n",
       "      <td>1</td>\n",
       "      <td>0</td>\n",
       "      <td>1</td>\n",
       "      <td>0</td>\n",
       "      <td>0</td>\n",
       "      <td>0</td>\n",
       "    </tr>\n",
       "    <tr>\n",
       "      <th>4</th>\n",
       "      <td>7</td>\n",
       "      <td>1.506249e+09</td>\n",
       "      <td>Action</td>\n",
       "      <td>en</td>\n",
       "      <td>137.0</td>\n",
       "      <td>20150401</td>\n",
       "      <td>Wednesday</td>\n",
       "      <td>4</td>\n",
       "      <td>1</td>\n",
       "      <td>0</td>\n",
       "      <td>...</td>\n",
       "      <td>0</td>\n",
       "      <td>0</td>\n",
       "      <td>0</td>\n",
       "      <td>1</td>\n",
       "      <td>1</td>\n",
       "      <td>0</td>\n",
       "      <td>1</td>\n",
       "      <td>0</td>\n",
       "      <td>0</td>\n",
       "      <td>0</td>\n",
       "    </tr>\n",
       "  </tbody>\n",
       "</table>\n",
       "<p>5 rows × 121 columns</p>\n",
       "</div>"
      ],
      "text/plain": [
       "   title       revenue                                     genres  \\\n",
       "0      6  2.787965e+09   Action Adventure Fantasy Science Fiction   \n",
       "1      7  1.845034e+09                     Drama Romance Thriller   \n",
       "2      7  1.519558e+09           Science Fiction Action Adventure   \n",
       "3     14  1.513529e+09  Action Adventure Science Fiction Thriller   \n",
       "4      7  1.506249e+09                                     Action   \n",
       "\n",
       "  original_language  runtime  release_date release_day_of_week  release_month  \\\n",
       "0                en    162.0      20091210            Thursday             12   \n",
       "1                en    194.0      19971118             Tuesday             11   \n",
       "2                en    143.0      20120425           Wednesday              4   \n",
       "3                en    124.0      20150609             Tuesday              6   \n",
       "4                en    137.0      20150401           Wednesday              4   \n",
       "\n",
       "   action  adventure  ...  gb  germany  kingdom  states  united  deutsch  \\\n",
       "0       1          1  ...   1        0        1       1       2        0   \n",
       "1       0          0  ...   0        0        0       1       1        1   \n",
       "2       1          1  ...   0        0        0       1       1        0   \n",
       "3       1          1  ...   0        0        0       1       1        0   \n",
       "4       1          0  ...   0        0        0       1       1        0   \n",
       "\n",
       "   english  espa  fran  italiano  \n",
       "0        1     1     0         0  \n",
       "1        1     0     1         1  \n",
       "2        1     0     0         0  \n",
       "3        1     0     0         0  \n",
       "4        1     0     0         0  \n",
       "\n",
       "[5 rows x 121 columns]"
      ]
     },
     "execution_count": 45,
     "metadata": {},
     "output_type": "execute_result"
    }
   ],
   "source": [
    "# Add spoken_lang_df to movie_df\n",
    "movie_df = pd.concat([movie_df, spoken_lang_df], axis=1, sort=False)\n",
    "print(movie_df.shape)\n",
    "\n",
    "# Drop genres column from movie_df\n",
    "movie_df = movie_df.drop(columns=['spoken_languages'])\n",
    "movie_df.head()"
   ]
  },
  {
   "cell_type": "markdown",
   "metadata": {},
   "source": [
    "### Store engineered dataframes for dataframe merging"
   ]
  },
  {
   "cell_type": "code",
   "execution_count": 46,
   "metadata": {},
   "outputs": [
    {
     "name": "stdout",
     "output_type": "stream",
     "text": [
      "Stored 'movie_revenue_ml' (DataFrame)\n",
      "Stored 'movie_revenue_ml_2' (DataFrame)\n"
     ]
    }
   ],
   "source": [
    "movie_revenue_ml = movie_df.copy()\n",
    "%store movie_revenue_ml\n",
    "%store movie_revenue_ml_2"
   ]
  }
 ],
 "metadata": {
  "kernelspec": {
   "display_name": "Python 3",
   "language": "python",
   "name": "python3"
  },
  "language_info": {
   "codemirror_mode": {
    "name": "ipython",
    "version": 3
   },
   "file_extension": ".py",
   "mimetype": "text/x-python",
   "name": "python",
   "nbconvert_exporter": "python",
   "pygments_lexer": "ipython3",
   "version": "3.7.3"
  }
 },
 "nbformat": 4,
 "nbformat_minor": 2
}
