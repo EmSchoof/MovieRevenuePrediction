{
 "cells": [
  {
   "cell_type": "markdown",
   "metadata": {},
   "source": [
    "## Movie Revenue Prediction\n",
    "\n",
    "### Objective: Merge Feature Engineering Dataframe with movies_df to create movies_ml"
   ]
  },
  {
   "cell_type": "code",
   "execution_count": 1,
   "metadata": {},
   "outputs": [
    {
     "name": "stdout",
     "output_type": "stream",
     "text": [
      "Emily Schoof 2019-08-22 12:38:22 \n",
      "\n",
      "CPython 3.7.3\n",
      "IPython 7.4.0\n",
      "\n",
      "numpy 1.16.2\n",
      "pandas 0.24.2\n",
      "matplotlib 3.0.3\n",
      "sklearn 0.20.3\n",
      "nltk 3.4\n"
     ]
    }
   ],
   "source": [
    "%load_ext watermark\n",
    "%watermark -a \"Emily Schoof\" -d -t -v -p numpy,pandas,matplotlib,sklearn,nltk"
   ]
  },
  {
   "cell_type": "code",
   "execution_count": 2,
   "metadata": {},
   "outputs": [
    {
     "data": {
      "text/plain": [
       "(4641, 33)"
      ]
     },
     "execution_count": 2,
     "metadata": {},
     "output_type": "execute_result"
    }
   ],
   "source": [
    "# Load the dataset\n",
    "%store -r movie_revenue_ml\n",
    "movie_revenue_ml.shape"
   ]
  },
  {
   "cell_type": "code",
   "execution_count": 3,
   "metadata": {},
   "outputs": [
    {
     "data": {
      "text/html": [
       "<div>\n",
       "<style scoped>\n",
       "    .dataframe tbody tr th:only-of-type {\n",
       "        vertical-align: middle;\n",
       "    }\n",
       "\n",
       "    .dataframe tbody tr th {\n",
       "        vertical-align: top;\n",
       "    }\n",
       "\n",
       "    .dataframe thead th {\n",
       "        text-align: right;\n",
       "    }\n",
       "</style>\n",
       "<table border=\"1\" class=\"dataframe\">\n",
       "  <thead>\n",
       "    <tr style=\"text-align: right;\">\n",
       "      <th></th>\n",
       "      <th>title</th>\n",
       "      <th>revenue</th>\n",
       "      <th>keywords</th>\n",
       "      <th>original_language</th>\n",
       "      <th>production_companies</th>\n",
       "      <th>production_countries</th>\n",
       "      <th>runtime</th>\n",
       "      <th>spoken_languages</th>\n",
       "      <th>release_day_of_week</th>\n",
       "      <th>release_month</th>\n",
       "      <th>...</th>\n",
       "      <th>horror</th>\n",
       "      <th>movie</th>\n",
       "      <th>music</th>\n",
       "      <th>mystery</th>\n",
       "      <th>romance</th>\n",
       "      <th>science</th>\n",
       "      <th>thriller</th>\n",
       "      <th>tv</th>\n",
       "      <th>war</th>\n",
       "      <th>western</th>\n",
       "    </tr>\n",
       "  </thead>\n",
       "  <tbody>\n",
       "    <tr>\n",
       "      <th>0</th>\n",
       "      <td>6</td>\n",
       "      <td>2.787965e+09</td>\n",
       "      <td>[culture clash, future, space war, space colon...</td>\n",
       "      <td>en</td>\n",
       "      <td>Ingenious Film Partners Twentieth Century Fox ...</td>\n",
       "      <td>US United States America GB United Kingdom</td>\n",
       "      <td>162.0</td>\n",
       "      <td>English Espa</td>\n",
       "      <td>Thursday</td>\n",
       "      <td>12</td>\n",
       "      <td>...</td>\n",
       "      <td>0</td>\n",
       "      <td>0</td>\n",
       "      <td>0</td>\n",
       "      <td>0</td>\n",
       "      <td>0</td>\n",
       "      <td>1</td>\n",
       "      <td>0</td>\n",
       "      <td>0</td>\n",
       "      <td>0</td>\n",
       "      <td>0</td>\n",
       "    </tr>\n",
       "    <tr>\n",
       "      <th>1</th>\n",
       "      <td>7</td>\n",
       "      <td>1.845034e+09</td>\n",
       "      <td>[shipwreck, iceberg, ship, panic, titanic, oce...</td>\n",
       "      <td>en</td>\n",
       "      <td>Paramount Pictures Twentieth Century Fox Film ...</td>\n",
       "      <td>US United States America</td>\n",
       "      <td>194.0</td>\n",
       "      <td>English Fran Deutsch Italiano</td>\n",
       "      <td>Tuesday</td>\n",
       "      <td>11</td>\n",
       "      <td>...</td>\n",
       "      <td>0</td>\n",
       "      <td>0</td>\n",
       "      <td>0</td>\n",
       "      <td>0</td>\n",
       "      <td>1</td>\n",
       "      <td>0</td>\n",
       "      <td>1</td>\n",
       "      <td>0</td>\n",
       "      <td>0</td>\n",
       "      <td>0</td>\n",
       "    </tr>\n",
       "  </tbody>\n",
       "</table>\n",
       "<p>2 rows × 32 columns</p>\n",
       "</div>"
      ],
      "text/plain": [
       "   title       revenue                                           keywords  \\\n",
       "0      6  2.787965e+09  [culture clash, future, space war, space colon...   \n",
       "1      7  1.845034e+09  [shipwreck, iceberg, ship, panic, titanic, oce...   \n",
       "\n",
       "  original_language                               production_companies  \\\n",
       "0                en  Ingenious Film Partners Twentieth Century Fox ...   \n",
       "1                en  Paramount Pictures Twentieth Century Fox Film ...   \n",
       "\n",
       "                         production_countries  runtime  \\\n",
       "0  US United States America GB United Kingdom    162.0   \n",
       "1                    US United States America    194.0   \n",
       "\n",
       "                spoken_languages release_day_of_week  release_month  ...  \\\n",
       "0                   English Espa            Thursday             12  ...   \n",
       "1  English Fran Deutsch Italiano             Tuesday             11  ...   \n",
       "\n",
       "   horror  movie  music  mystery  romance  science  thriller  tv  war  western  \n",
       "0       0      0      0        0        0        1         0   0    0        0  \n",
       "1       0      0      0        0        1        0         1   0    0        0  \n",
       "\n",
       "[2 rows x 32 columns]"
      ]
     },
     "execution_count": 3,
     "metadata": {},
     "output_type": "execute_result"
    }
   ],
   "source": [
    "movie_revenue_ml = movie_revenue_ml.drop(columns='release_date')\n",
    "movie_revenue_ml.head(2)"
   ]
  },
  {
   "cell_type": "markdown",
   "metadata": {},
   "source": [
    "## Create a Step-by-Step Pipeline"
   ]
  },
  {
   "cell_type": "markdown",
   "metadata": {},
   "source": [
    "### Define Target (Movie Revenue *movie_df_unnested['revenue']*) and Feature Variables"
   ]
  },
  {
   "cell_type": "code",
   "execution_count": 4,
   "metadata": {},
   "outputs": [],
   "source": [
    "# Import relevent modules\n",
    "from sklearn.model_selection import train_test_split"
   ]
  },
  {
   "cell_type": "code",
   "execution_count": 5,
   "metadata": {},
   "outputs": [
    {
     "name": "stdout",
     "output_type": "stream",
     "text": [
      "Target:  (4641,)\n",
      "Features:  (4641, 31)\n"
     ]
    }
   ],
   "source": [
    "# Set up the target variable\n",
    "y_target = movie_revenue_ml['revenue'].values\n",
    "print('Target: ', y_target.shape)\n",
    "\n",
    "# Set the feature variables\n",
    "X_features = movie_revenue_ml.drop(columns=['revenue'], axis = 1)\n",
    "feature_list = X_features.columns\n",
    "print('Features: ', X_features.shape)"
   ]
  },
  {
   "cell_type": "markdown",
   "metadata": {},
   "source": [
    "### Preprocessing Data"
   ]
  },
  {
   "cell_type": "code",
   "execution_count": 6,
   "metadata": {},
   "outputs": [],
   "source": [
    "# Import relevant modules\n",
    "from sklearn.feature_extraction.text import CountVectorizer"
   ]
  },
  {
   "cell_type": "code",
   "execution_count": 7,
   "metadata": {},
   "outputs": [
    {
     "data": {
      "text/plain": [
       "title                     int64\n",
       "revenue                 float64\n",
       "keywords                 object\n",
       "original_language        object\n",
       "production_companies     object\n",
       "production_countries     object\n",
       "runtime                 float64\n",
       "spoken_languages         object\n",
       "release_day_of_week      object\n",
       "release_month             int64\n",
       "action                    int64\n",
       "adventure                 int64\n",
       "animation                 int64\n",
       "comedy                    int64\n",
       "crime                     int64\n",
       "documentary               int64\n",
       "drama                     int64\n",
       "family                    int64\n",
       "fantasy                   int64\n",
       "fiction                   int64\n",
       "foreign                   int64\n",
       "history                   int64\n",
       "horror                    int64\n",
       "movie                     int64\n",
       "music                     int64\n",
       "mystery                   int64\n",
       "romance                   int64\n",
       "science                   int64\n",
       "thriller                  int64\n",
       "tv                        int64\n",
       "war                       int64\n",
       "western                   int64\n",
       "dtype: object"
      ]
     },
     "execution_count": 7,
     "metadata": {},
     "output_type": "execute_result"
    }
   ],
   "source": [
    "movie_revenue_ml.dtypes"
   ]
  },
  {
   "cell_type": "markdown",
   "metadata": {},
   "source": [
    "**Text Columns**"
   ]
  },
  {
   "cell_type": "code",
   "execution_count": 8,
   "metadata": {},
   "outputs": [],
   "source": [
    "def combine_text_columns(df):\n",
    "    \"\"\" Convert All Values in a Column Into One Vector \"\"\"\n",
    "    \n",
    "    # Replace nulls with empty spaces\n",
    "    df.fillna('', inplace=True)\n",
    "    \n",
    "          # Join all columns into unique vectors\n",
    "    return df.apply(lambda col: ' '.join(col), axis=1)"
   ]
  },
  {
   "cell_type": "code",
   "execution_count": 9,
   "metadata": {},
   "outputs": [
    {
     "name": "stderr",
     "output_type": "stream",
     "text": [
      "/anaconda3/lib/python3.7/site-packages/pandas/core/frame.py:4034: SettingWithCopyWarning: \n",
      "A value is trying to be set on a copy of a slice from a DataFrame\n",
      "\n",
      "See the caveats in the documentation: http://pandas.pydata.org/pandas-docs/stable/indexing.html#indexing-view-versus-copy\n",
      "  downcast=downcast, **kwargs)\n"
     ]
    }
   ],
   "source": [
    "text_columns = ['production_companies',\n",
    "                'production_countries', 'spoken_languages', 'release_day_of_week']\n",
    "\n",
    "token_alphanumeric = '[A-Za-z0-9]+(?=\\\\s+)'\n",
    "\n",
    "X_feature_text = X_features[text_columns]\n",
    "\n",
    "X_feature_text_vector = combine_text_columns(X_feature_text)"
   ]
  },
  {
   "cell_type": "code",
   "execution_count": 10,
   "metadata": {},
   "outputs": [],
   "source": [
    "# Create a vectorizer instance\n",
    "hvectorizer = CountVectorizer(binary=False, token_pattern=token_alphanumeric)\n",
    "\n",
    "# build the vocabulary and convert text to a bag of words\n",
    "X_features_text_transformed = hvectorizer.fit_transform(X_feature_text_vector)"
   ]
  },
  {
   "cell_type": "code",
   "execution_count": 11,
   "metadata": {},
   "outputs": [
    {
     "data": {
      "text/plain": [
       "(4641, 4956)"
      ]
     },
     "execution_count": 11,
     "metadata": {},
     "output_type": "execute_result"
    }
   ],
   "source": [
    "X_features_text_transformed.shape"
   ]
  },
  {
   "cell_type": "markdown",
   "metadata": {},
   "source": [
    "**Numerical Values**"
   ]
  },
  {
   "cell_type": "code",
   "execution_count": 12,
   "metadata": {},
   "outputs": [],
   "source": [
    "numberic_columns = ['runtime', 'release_month']\n",
    "\n",
    "X_feature_numberic = X_features[numberic_columns]"
   ]
  },
  {
   "cell_type": "code",
   "execution_count": 13,
   "metadata": {},
   "outputs": [
    {
     "data": {
      "text/plain": [
       "(4641, 2)"
      ]
     },
     "execution_count": 13,
     "metadata": {},
     "output_type": "execute_result"
    }
   ],
   "source": [
    "X_feature_numberic.shape"
   ]
  },
  {
   "cell_type": "markdown",
   "metadata": {},
   "source": [
    "**Combine Processed Text and Numerical Features**"
   ]
  },
  {
   "cell_type": "code",
   "execution_count": 14,
   "metadata": {},
   "outputs": [],
   "source": [
    "# Import Necessary Modules\n",
    "import numpy as np\n",
    "from scipy.sparse import hstack"
   ]
  },
  {
   "cell_type": "code",
   "execution_count": 15,
   "metadata": {},
   "outputs": [],
   "source": [
    "X_features_processed = hstack((X_features_text_transformed, np.array(X_feature_numberic))).toarray()"
   ]
  },
  {
   "cell_type": "code",
   "execution_count": 16,
   "metadata": {},
   "outputs": [
    {
     "data": {
      "text/plain": [
       "(4641, 4958)"
      ]
     },
     "execution_count": 16,
     "metadata": {},
     "output_type": "execute_result"
    }
   ],
   "source": [
    "X_features_processed.shape"
   ]
  },
  {
   "cell_type": "markdown",
   "metadata": {},
   "source": [
    "*Observations*: 4958 columns is a high dimensional dataset. Since purley running any model on this dataset would be time-intensive, a dimensionality reduction method needs to be applied. Singular Value Decomposition (SVD) is popular in the field of natural language processing to achieve a representation of the gigantic while sparse word frequency matrices."
   ]
  },
  {
   "cell_type": "markdown",
   "metadata": {},
   "source": [
    "### Apply SVD to Features"
   ]
  },
  {
   "cell_type": "code",
   "execution_count": 17,
   "metadata": {},
   "outputs": [],
   "source": [
    "# Import relevant modules\n",
    "from sklearn.decomposition import TruncatedSVD"
   ]
  },
  {
   "cell_type": "code",
   "execution_count": 18,
   "metadata": {},
   "outputs": [],
   "source": [
    "# Create an SVD instance with ~1/3 n_components\n",
    "tsvd = TruncatedSVD(n_components=1200, random_state=42)\n",
    "\n",
    "# Fit SVD to X_features_processed\n",
    "X_features_svd = tsvd.fit_transform(X_features_processed)"
   ]
  },
  {
   "cell_type": "code",
   "execution_count": 19,
   "metadata": {},
   "outputs": [
    {
     "data": {
      "text/plain": [
       "0.9990746010962359"
      ]
     },
     "execution_count": 19,
     "metadata": {},
     "output_type": "execute_result"
    }
   ],
   "source": [
    "# Sum explained variances to assess if the reduced features capture the variability in the data\n",
    "tsvd_var_ratios = tsvd.explained_variance_ratio_.sum()\n",
    "tsvd_var_ratios"
   ]
  },
  {
   "cell_type": "code",
   "execution_count": 20,
   "metadata": {},
   "outputs": [
    {
     "data": {
      "text/plain": [
       "(4641, 1200)"
      ]
     },
     "execution_count": 20,
     "metadata": {},
     "output_type": "execute_result"
    }
   ],
   "source": [
    "X_features_svd.shape"
   ]
  },
  {
   "cell_type": "markdown",
   "metadata": {},
   "source": [
    "### Standard Scale Data"
   ]
  },
  {
   "cell_type": "code",
   "execution_count": 21,
   "metadata": {},
   "outputs": [],
   "source": [
    "from sklearn.preprocessing import StandardScaler"
   ]
  },
  {
   "cell_type": "code",
   "execution_count": 22,
   "metadata": {},
   "outputs": [],
   "source": [
    "# Standarize features\n",
    "scaler = StandardScaler()\n",
    "\n",
    "# Fit to data\n",
    "X_features_scaled = scaler.fit_transform(X_features_svd)"
   ]
  },
  {
   "cell_type": "code",
   "execution_count": 23,
   "metadata": {},
   "outputs": [
    {
     "data": {
      "text/plain": [
       "(4641, 1200)"
      ]
     },
     "execution_count": 23,
     "metadata": {},
     "output_type": "execute_result"
    }
   ],
   "source": [
    "X_features_scaled.shape"
   ]
  },
  {
   "cell_type": "markdown",
   "metadata": {},
   "source": [
    "### Split Data"
   ]
  },
  {
   "cell_type": "code",
   "execution_count": 24,
   "metadata": {},
   "outputs": [
    {
     "name": "stdout",
     "output_type": "stream",
     "text": [
      "3248 1393 3248 1393\n"
     ]
    },
    {
     "data": {
      "text/plain": [
       "((3248, 1200), (1393, 1200), (3248,), (1393,))"
      ]
     },
     "execution_count": 24,
     "metadata": {},
     "output_type": "execute_result"
    }
   ],
   "source": [
    "# Create train and test data sets -> Arbitrary Random State of 42 Set with test/train size of 30/70 (>25% of data)\n",
    "X_train, X_test, y_train, y_test = train_test_split(X_features_svd, y_target, test_size=0.3, random_state=42)\n",
    "print(len(X_train), len(X_test), len(y_train), len(y_test))\n",
    "X_train.shape, X_test.shape, y_train.shape, y_test.shape "
   ]
  },
  {
   "cell_type": "markdown",
   "metadata": {},
   "source": [
    "## Model Selection: Ridge Regression\n",
    "- Shrink the coefficients and it helps to reduce the model complexity and multi-collinearity\n",
    "- Higher the alpha value, more restriction on the coefficients\n",
    "- MSE is a measure of the quality of the estimator while MAE is a measure that returns the weighted average of all output errors"
   ]
  },
  {
   "cell_type": "markdown",
   "metadata": {},
   "source": [
    "**Determine Best Alpha for Model**"
   ]
  },
  {
   "cell_type": "code",
   "execution_count": 25,
   "metadata": {},
   "outputs": [],
   "source": [
    "# Import necessary modules\n",
    "from sklearn.linear_model import RidgeCV"
   ]
  },
  {
   "cell_type": "code",
   "execution_count": 26,
   "metadata": {},
   "outputs": [],
   "source": [
    "# Create ridge regression with five possible alpha values\n",
    "potential_alphas = 10**np.linspace(10,-2,100)*0.5\n",
    "\n",
    "# Create ridgecv instance with potential alphas and 10 cross validations\n",
    "ridge_cv = RidgeCV(cv=5, alphas=potential_alphas, scoring='neg_mean_absolute_error', normalize=True)"
   ]
  },
  {
   "cell_type": "markdown",
   "metadata": {},
   "source": [
    "**WARNING: SLOW-RUNNING CELL**"
   ]
  },
  {
   "cell_type": "code",
   "execution_count": 27,
   "metadata": {},
   "outputs": [
    {
     "name": "stderr",
     "output_type": "stream",
     "text": [
      "/anaconda3/lib/python3.7/site-packages/sklearn/model_selection/_search.py:841: DeprecationWarning: The default of the `iid` parameter will change from True to False in version 0.22 and will be removed in 0.24. This will change numeric results when test-set sizes are unequal.\n",
      "  DeprecationWarning)\n"
     ]
    }
   ],
   "source": [
    "# Fit to entire data\n",
    "ridge_cv = ridge_cv.fit(X_features_scaled, y_target)"
   ]
  },
  {
   "cell_type": "code",
   "execution_count": 28,
   "metadata": {},
   "outputs": [
    {
     "data": {
      "text/plain": [
       "array([10486038.62415064,  1772030.86222349, -5291264.5738214 , ...,\n",
       "         293416.88895229,   283604.67984306,  -154590.28980803])"
      ]
     },
     "execution_count": 28,
     "metadata": {},
     "output_type": "execute_result"
    }
   ],
   "source": [
    "# Assess coefficients\n",
    "ridge_cv.coef_ # zip together with features .list(zip(ridge_cv))"
   ]
  },
  {
   "cell_type": "code",
   "execution_count": 29,
   "metadata": {},
   "outputs": [
    {
     "data": {
      "text/plain": [
       "1.7556"
      ]
     },
     "execution_count": 29,
     "metadata": {},
     "output_type": "execute_result"
    }
   ],
   "source": [
    "# View best alpha for the ridge model\n",
    "optimal_alpha = round(ridge_cv.alpha_, 4)\n",
    "optimal_alpha"
   ]
  },
  {
   "cell_type": "markdown",
   "metadata": {},
   "source": [
    "**Create a Ridge Regression Model**"
   ]
  },
  {
   "cell_type": "code",
   "execution_count": 30,
   "metadata": {},
   "outputs": [],
   "source": [
    "# Import relevant modules\n",
    "from sklearn.linear_model import Ridge"
   ]
  },
  {
   "cell_type": "code",
   "execution_count": 31,
   "metadata": {},
   "outputs": [
    {
     "data": {
      "text/plain": [
       "Ridge(alpha=1.7556, copy_X=True, fit_intercept=True, max_iter=None,\n",
       "   normalize=True, random_state=None, solver='auto', tol=0.001)"
      ]
     },
     "execution_count": 31,
     "metadata": {},
     "output_type": "execute_result"
    }
   ],
   "source": [
    "# Create a rigde instance with optimal alpha\n",
    "ridge_reg = Ridge(alpha=optimal_alpha, normalize=True)\n",
    "\n",
    "# Fit to training data\n",
    "ridge_reg.fit(X_train, y_train)"
   ]
  },
  {
   "cell_type": "markdown",
   "metadata": {},
   "source": [
    "#### Assess Model Accuracy"
   ]
  },
  {
   "cell_type": "code",
   "execution_count": 32,
   "metadata": {},
   "outputs": [],
   "source": [
    "# Import metrics modules\n",
    "from math import sqrt\n",
    "import matplotlib.pyplot as plt\n",
    "import pandas as pd\n",
    "import seaborn as sns\n",
    "from sklearn.metrics import mean_squared_error, mean_absolute_error\n",
    "from statsmodels.graphics.gofplots import qqplot"
   ]
  },
  {
   "cell_type": "markdown",
   "metadata": {},
   "source": [
    "*Observations*: Using the standard-scaled features with reduced dimensionality, the large alpha appears to predict movie revenue with relatively high accuracy for both the training and testing datasets."
   ]
  },
  {
   "cell_type": "code",
   "execution_count": 33,
   "metadata": {},
   "outputs": [
    {
     "data": {
      "image/png": "[encoded data removed]",
      "text/plain": [
       "<Figure size 432x288 with 1 Axes>"
      ]
     },
     "metadata": {
      "needs_background": "light"
     },
     "output_type": "display_data"
    }
   ],
   "source": [
    "plt.plot(ridge_reg.coef_,alpha=0.7,linestyle='none',marker='*',markersize=5,color='red',label=r'Ridge; $\\alpha = 1.75$',zorder=7) # zorder for ordering the markers\n",
    "plt.title('Shrinking Coefficient Magnitude using Ridge regression',fontsize=13)\n",
    "plt.xlabel('Coefficient Index',fontsize=16)\n",
    "plt.ylabel('Coefficient Magnitude',fontsize=16)\n",
    "plt.legend(fontsize=13,loc=4)\n",
    "plt.show()"
   ]
  },
  {
   "cell_type": "code",
   "execution_count": 34,
   "metadata": {},
   "outputs": [
    {
     "data": {
      "text/html": [
       "<div>\n",
       "<style scoped>\n",
       "    .dataframe tbody tr th:only-of-type {\n",
       "        vertical-align: middle;\n",
       "    }\n",
       "\n",
       "    .dataframe tbody tr th {\n",
       "        vertical-align: top;\n",
       "    }\n",
       "\n",
       "    .dataframe thead th {\n",
       "        text-align: right;\n",
       "    }\n",
       "</style>\n",
       "<table border=\"1\" class=\"dataframe\">\n",
       "  <thead>\n",
       "    <tr style=\"text-align: right;\">\n",
       "      <th></th>\n",
       "      <th>Actual</th>\n",
       "      <th>Predicted</th>\n",
       "    </tr>\n",
       "  </thead>\n",
       "  <tbody>\n",
       "    <tr>\n",
       "      <th>0</th>\n",
       "      <td>2.550002e+08</td>\n",
       "      <td>9.149105e+07</td>\n",
       "    </tr>\n",
       "    <tr>\n",
       "      <th>1</th>\n",
       "      <td>3.808578e+07</td>\n",
       "      <td>1.134151e+08</td>\n",
       "    </tr>\n",
       "    <tr>\n",
       "      <th>2</th>\n",
       "      <td>1.012778e+08</td>\n",
       "      <td>8.098702e+07</td>\n",
       "    </tr>\n",
       "    <tr>\n",
       "      <th>3</th>\n",
       "      <td>3.735521e+08</td>\n",
       "      <td>1.620301e+08</td>\n",
       "    </tr>\n",
       "    <tr>\n",
       "      <th>4</th>\n",
       "      <td>1.244940e+05</td>\n",
       "      <td>7.468792e+07</td>\n",
       "    </tr>\n",
       "  </tbody>\n",
       "</table>\n",
       "</div>"
      ],
      "text/plain": [
       "         Actual     Predicted\n",
       "0  2.550002e+08  9.149105e+07\n",
       "1  3.808578e+07  1.134151e+08\n",
       "2  1.012778e+08  8.098702e+07\n",
       "3  3.735521e+08  1.620301e+08\n",
       "4  1.244940e+05  7.468792e+07"
      ]
     },
     "execution_count": 34,
     "metadata": {},
     "output_type": "execute_result"
    }
   ],
   "source": [
    "# Evaluate Model Performance\n",
    "ridge_y_pred = ridge_reg.predict(X_test)\n",
    "performance_df = pd.DataFrame({'Actual': y_test.flatten(), 'Predicted': ridge_y_pred.flatten()})\n",
    "performance_df.head()"
   ]
  },
  {
   "cell_type": "code",
   "execution_count": 35,
   "metadata": {},
   "outputs": [
    {
     "data": {
      "image/png": "[encoded data removed]",
      "text/plain": [
       "<Figure size 432x288 with 1 Axes>"
      ]
     },
     "metadata": {
      "needs_background": "light"
     },
     "output_type": "display_data"
    }
   ],
   "source": [
    "# Plot model\n",
    "ridge_pred_mean = np.mean(ridge_y_pred)\n",
    "ridge_pred_std = np.std(ridge_y_pred)\n",
    "sns.distplot(ridge_y_pred)\n",
    "plt.axvline(x=ridge_pred_mean, color='green', label='{0:2.2f} Mean, {1:2.2f} Std'.format(ridge_pred_mean, ridge_pred_std))\n",
    "plt.legend(fontsize = 'small', loc='upper right')\n",
    "plt.title(\"Predicted Revenue with Ridge Regression\")\n",
    "plt.xlabel(\"Movie Revenue Prices (100 M)\")\n",
    "plt.ylabel(\"Probability Density\")\n",
    "plt.show()"
   ]
  },
  {
   "cell_type": "code",
   "execution_count": 36,
   "metadata": {},
   "outputs": [
    {
     "name": "stdout",
     "output_type": "stream",
     "text": [
      "Ridge Regression training mse=$ 1.5337459796725336e+16  & rmse=$ 123844498.45\n",
      "Ridge Regression training mae=$ 67173606.03\n"
     ]
    }
   ],
   "source": [
    "# Calculate the mean squared errors -TRAIN-\n",
    "rr_mean_squ_error = mean_squared_error(y_train, ridge_reg.predict(X_train))\n",
    "rr_mean_abs_error = mean_absolute_error(y_train, ridge_reg.predict(X_train))\n",
    "print(\"Ridge Regression training mse=$\", round(rr_mean_squ_error, 2),\" & rmse=$\", round(sqrt(rr_mean_squ_error),2))\n",
    "print(\"Ridge Regression training mae=$\", round(rr_mean_abs_error, 2))"
   ]
  },
  {
   "cell_type": "code",
   "execution_count": 37,
   "metadata": {},
   "outputs": [
    {
     "name": "stdout",
     "output_type": "stream",
     "text": [
      "Ridge Regression testing mse=$ 1.838829359003865e+16  & rmse=$ 135603442.4\n",
      "Ridge Regression testing mae=$ 67173606.03\n"
     ]
    }
   ],
   "source": [
    "# Calculate the mean squared errors -TEST-\n",
    "rr_test_mean_squ_error = mean_squared_error(y_test, ridge_reg.predict(X_test))\n",
    "rr_test_mean_abs_error = mean_absolute_error(y_test, ridge_reg.predict(X_test))\n",
    "print(\"Ridge Regression testing mse=$\", round(rr_test_mean_squ_error, 2),\" & rmse=$\", round(sqrt(rr_test_mean_squ_error),2))\n",
    "print(\"Ridge Regression testing mae=$\", round(rr_mean_abs_error, 2))"
   ]
  },
  {
   "cell_type": "code",
   "execution_count": 38,
   "metadata": {},
   "outputs": [
    {
     "data": {
      "image/png": "[encoded data removed]",
      "text/plain": [
       "<Figure size 432x288 with 1 Axes>"
      ]
     },
     "execution_count": 38,
     "metadata": {},
     "output_type": "execute_result"
    },
    {
     "data": {
      "image/png": "[encoded data removed]",
      "text/plain": [
       "<Figure size 432x288 with 1 Axes>"
      ]
     },
     "metadata": {
      "needs_background": "light"
     },
     "output_type": "display_data"
    }
   ],
   "source": [
    "qqplot(ridge_y_pred, line='s')"
   ]
  },
  {
   "cell_type": "markdown",
   "metadata": {},
   "source": [
    "**Conclusion**: This model appears to predict unseen data within a **mean absolute error of ~67 million** with decreased accuracy as the tendancy to over-estimate large values that exceed quantile 2. Since the mean absolute error of the training set is also approximately **mean absolute error of ~67 million**, the model did not overfit on the training data."
   ]
  },
  {
   "cell_type": "markdown",
   "metadata": {},
   "source": [
    "### Create a Pipeline"
   ]
  },
  {
   "cell_type": "code",
   "execution_count": 149,
   "metadata": {},
   "outputs": [],
   "source": [
    "# Import necessary modules\n",
    "from sklearn.pipeline import Pipeline"
   ]
  },
  {
   "cell_type": "code",
   "execution_count": 182,
   "metadata": {},
   "outputs": [],
   "source": [
    "steps = [('tsvd', TruncatedSVD(n_components=2498, random_state=42)),\n",
    "         ('scaler', StandardScaler()), \n",
    "         ('rr', Ridge(alpha=500))]\n",
    "\n",
    "revenue_prediction_pipeline = Pipeline(steps) # define the pipeline object."
   ]
  },
  {
   "cell_type": "code",
   "execution_count": 28,
   "metadata": {},
   "outputs": [],
   "source": [
    "revenue_prediction_pipeline = Pipeline([\n",
    "    \n",
    "        # Streamline Preprocessing \n",
    "        ('union', FeatureUnion(\n",
    "            \n",
    "            transformer_list = [\n",
    "                \n",
    "                # Pipeline and Functions for Numerical Data\n",
    "                ('numeric_features', Pipeline([\n",
    "                    ('selector', select_numeric_data),\n",
    "                    ('imputer', SimpleImputer())\n",
    "                    ]\n",
    "                )),\n",
    "                \n",
    "                # Pipeline and Functions for Categorical Data\n",
    "                ('text_features', Pipeline([\n",
    "                    ('selector',  select_text_data),\n",
    "                    # Reduce potential dimensionality from CounterVectorizer by creating hashes instead\n",
    "                    ('vectorizer', CountVectorizer()),\n",
    "                    # chi-squared test to select the K features\n",
    "                    ('dim_red', SelectKBest())\n",
    "                    ]\n",
    "                ))\n",
    "             ]\n",
    "        )),\n",
    "        #('scale', StandardScaler()),\n",
    "        ('rfr', RandomForestRegressor())\n",
    "    ])"
   ]
  },
  {
   "cell_type": "code",
   "execution_count": 29,
   "metadata": {},
   "outputs": [],
   "source": [
    "parameters = [\n",
    "    {'rfr' : [ \n",
    "        RandomForestRegressor(\n",
    "            random_state=42, max_depth=5, n_estimators=100)\n",
    "    ]},\n",
    "    {'vectorizer' : [ \n",
    "        CountVectorizer(\n",
    "            stop_words='english')\n",
    "    ]},\n",
    "    {'dim_red': [SelectKBest(chi2, k=chi_k)]}\n",
    "]"
   ]
  },
  {
   "cell_type": "code",
   "execution_count": null,
   "metadata": {},
   "outputs": [],
   "source": [
    "non_negative=True, norm=None, binary=False, ngram_range=(1, 2)"
   ]
  },
  {
   "cell_type": "code",
   "execution_count": 30,
   "metadata": {},
   "outputs": [],
   "source": [
    "# Create the grid search object\n",
    "pipeline_cv = GridSearchCV(estimator=revenue_prediction_pipeline,\n",
    "                  param_grid=parameters,\n",
    "                  refit=True,\n",
    "                  cv=5, \n",
    "                  n_jobs=-1,\n",
    "                  verbose=0,\n",
    "                  scoring='neg_mean_absolute_error')"
   ]
  },
  {
   "cell_type": "code",
   "execution_count": null,
   "metadata": {
    "scrolled": true
   },
   "outputs": [],
   "source": [
    "# Seed the random number generator\n",
    "np.random.seed(42)\n",
    "\n",
    "# Fit pipeline_cv to the training data\n",
    "grid_result = pipeline_cv.fit(X_train, y_train)"
   ]
  }
 ],
 "metadata": {
  "kernelspec": {
   "display_name": "Python 3",
   "language": "python",
   "name": "python3"
  },
  "language_info": {
   "codemirror_mode": {
    "name": "ipython",
    "version": 3
   },
   "file_extension": ".py",
   "mimetype": "text/x-python",
   "name": "python",
   "nbconvert_exporter": "python",
   "pygments_lexer": "ipython3",
   "version": "3.7.3"
  }
 },
 "nbformat": 4,
 "nbformat_minor": 2
}
