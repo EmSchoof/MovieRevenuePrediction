{
 "cells": [
  {
   "cell_type": "markdown",
   "metadata": {},
   "source": [
    "## Movie Revenue Prediction \n",
    "\n",
    "### Objective: Your client is a movie studio and they need to be able to predict movie revenue in order to greenlight the project and assign a budget to it. \n",
    "- Most of the data is comprised of categorical variables. \n",
    "- While the budget for the movie is known in the dataset, it is often an unknown variable during the greenlighting process. "
   ]
  },
  {
   "cell_type": "code",
   "execution_count": 1,
   "metadata": {},
   "outputs": [
    {
     "name": "stdout",
     "output_type": "stream",
     "text": [
      "Emily Schoof 2019-08-22 09:33:55 \n",
      "\n",
      "CPython 3.7.3\n",
      "IPython 7.4.0\n",
      "\n",
      "numpy 1.16.2\n",
      "pandas 0.24.2\n",
      "matplotlib 3.0.3\n"
     ]
    }
   ],
   "source": [
    "%load_ext watermark\n",
    "%watermark -a \"Emily Schoof\" -d -t -v -p numpy,pandas,matplotlib"
   ]
  },
  {
   "cell_type": "markdown",
   "metadata": {},
   "source": [
    "## Section 1: Data Preprocessing\n",
    "- Load Movie_Revenue_Predictions.csv data\n",
    "- Cleaning Data and Exploration"
   ]
  },
  {
   "cell_type": "code",
   "execution_count": 2,
   "metadata": {},
   "outputs": [],
   "source": [
    "# Import necessary modules\n",
    "import pandas as pd\n",
    "import numpy as np\n",
    "import matplotlib.pyplot as plt\n",
    "import datetime"
   ]
  },
  {
   "cell_type": "code",
   "execution_count": 3,
   "metadata": {},
   "outputs": [
    {
     "data": {
      "text/html": [
       "<div>\n",
       "<style scoped>\n",
       "    .dataframe tbody tr th:only-of-type {\n",
       "        vertical-align: middle;\n",
       "    }\n",
       "\n",
       "    .dataframe tbody tr th {\n",
       "        vertical-align: top;\n",
       "    }\n",
       "\n",
       "    .dataframe thead th {\n",
       "        text-align: right;\n",
       "    }\n",
       "</style>\n",
       "<table border=\"1\" class=\"dataframe\">\n",
       "  <thead>\n",
       "    <tr style=\"text-align: right;\">\n",
       "      <th></th>\n",
       "      <th>title</th>\n",
       "      <th>tagline</th>\n",
       "      <th>revenue</th>\n",
       "      <th>budget</th>\n",
       "      <th>genres</th>\n",
       "      <th>homepage</th>\n",
       "      <th>id</th>\n",
       "      <th>keywords</th>\n",
       "      <th>original_language</th>\n",
       "      <th>overview</th>\n",
       "      <th>production_companies</th>\n",
       "      <th>production_countries</th>\n",
       "      <th>release_date</th>\n",
       "      <th>runtime</th>\n",
       "      <th>spoken_languages</th>\n",
       "      <th>status</th>\n",
       "    </tr>\n",
       "  </thead>\n",
       "  <tbody>\n",
       "    <tr>\n",
       "      <th>0</th>\n",
       "      <td>Avatar</td>\n",
       "      <td>Enter the World of Pandora.</td>\n",
       "      <td>2787965087</td>\n",
       "      <td>237000000</td>\n",
       "      <td>[{\"id\": 28, \"name\": \"Action\"}, {\"id\": 12, \"nam...</td>\n",
       "      <td>http://www.avatarmovie.com/</td>\n",
       "      <td>19995</td>\n",
       "      <td>[{\"id\": 1463, \"name\": \"culture clash\"}, {\"id\":...</td>\n",
       "      <td>en</td>\n",
       "      <td>In the 22nd century, a paraplegic Marine is di...</td>\n",
       "      <td>[{\"name\": \"Ingenious Film Partners\", \"id\": 289...</td>\n",
       "      <td>[{\"iso_3166_1\": \"US\", \"name\": \"United States o...</td>\n",
       "      <td>12/10/09</td>\n",
       "      <td>162.0</td>\n",
       "      <td>[{\"iso_639_1\": \"en\", \"name\": \"English\"}, {\"iso...</td>\n",
       "      <td>Released</td>\n",
       "    </tr>\n",
       "  </tbody>\n",
       "</table>\n",
       "</div>"
      ],
      "text/plain": [
       "    title                      tagline     revenue     budget  \\\n",
       "0  Avatar  Enter the World of Pandora.  2787965087  237000000   \n",
       "\n",
       "                                              genres  \\\n",
       "0  [{\"id\": 28, \"name\": \"Action\"}, {\"id\": 12, \"nam...   \n",
       "\n",
       "                      homepage     id  \\\n",
       "0  http://www.avatarmovie.com/  19995   \n",
       "\n",
       "                                            keywords original_language  \\\n",
       "0  [{\"id\": 1463, \"name\": \"culture clash\"}, {\"id\":...                en   \n",
       "\n",
       "                                            overview  \\\n",
       "0  In the 22nd century, a paraplegic Marine is di...   \n",
       "\n",
       "                                production_companies  \\\n",
       "0  [{\"name\": \"Ingenious Film Partners\", \"id\": 289...   \n",
       "\n",
       "                                production_countries release_date  runtime  \\\n",
       "0  [{\"iso_3166_1\": \"US\", \"name\": \"United States o...     12/10/09    162.0   \n",
       "\n",
       "                                    spoken_languages    status  \n",
       "0  [{\"iso_639_1\": \"en\", \"name\": \"English\"}, {\"iso...  Released  "
      ]
     },
     "execution_count": 3,
     "metadata": {},
     "output_type": "execute_result"
    }
   ],
   "source": [
    "# Load the dataset\n",
    "movie_df = pd.DataFrame(pd.read_csv('Movie_Revenue_Predictions.csv'))\n",
    "movie_df.head(1)"
   ]
  },
  {
   "cell_type": "code",
   "execution_count": 4,
   "metadata": {},
   "outputs": [
    {
     "data": {
      "text/plain": [
       "(4803, 16)"
      ]
     },
     "execution_count": 4,
     "metadata": {},
     "output_type": "execute_result"
    }
   ],
   "source": [
    "# Assess shape of data\n",
    "movie_df.shape"
   ]
  },
  {
   "cell_type": "code",
   "execution_count": 5,
   "metadata": {},
   "outputs": [
    {
     "name": "stdout",
     "output_type": "stream",
     "text": [
      "<class 'pandas.core.frame.DataFrame'>\n",
      "RangeIndex: 4803 entries, 0 to 4802\n",
      "Data columns (total 16 columns):\n",
      "title                   4803 non-null object\n",
      "tagline                 3959 non-null object\n",
      "revenue                 4803 non-null int64\n",
      "budget                  4803 non-null int64\n",
      "genres                  4803 non-null object\n",
      "homepage                1712 non-null object\n",
      "id                      4803 non-null int64\n",
      "keywords                4803 non-null object\n",
      "original_language       4803 non-null object\n",
      "overview                4800 non-null object\n",
      "production_companies    4803 non-null object\n",
      "production_countries    4803 non-null object\n",
      "release_date            4802 non-null object\n",
      "runtime                 4801 non-null float64\n",
      "spoken_languages        4803 non-null object\n",
      "status                  4803 non-null object\n",
      "dtypes: float64(1), int64(3), object(12)\n",
      "memory usage: 600.5+ KB\n"
     ]
    }
   ],
   "source": [
    "# Assess dataframe\n",
    "movie_df.info()"
   ]
  },
  {
   "cell_type": "code",
   "execution_count": 6,
   "metadata": {},
   "outputs": [
    {
     "data": {
      "text/plain": [
       "title                      0\n",
       "tagline                  844\n",
       "revenue                    0\n",
       "budget                     0\n",
       "genres                     0\n",
       "homepage                3091\n",
       "id                         0\n",
       "keywords                   0\n",
       "original_language          0\n",
       "overview                   3\n",
       "production_companies       0\n",
       "production_countries       0\n",
       "release_date               1\n",
       "runtime                    2\n",
       "spoken_languages           0\n",
       "status                     0\n",
       "dtype: int64"
      ]
     },
     "execution_count": 6,
     "metadata": {},
     "output_type": "execute_result"
    }
   ],
   "source": [
    "movie_df.isnull().sum()"
   ]
  },
  {
   "cell_type": "markdown",
   "metadata": {},
   "source": [
    "## Plan of Action\n",
    "#### 1. Numerical columns:\n",
    "   - **runtime** (2 NaN)\n",
    "       - since there are so few instances, using SimpleImputer to fill in NaN values with the mean will not skew the dataset.\n",
    "   - **budget**\n",
    "       - since budget often an unknown variable during the greenlighting process, it should not be a feature in a model to predict revenue and can be dropped. \n",
    "   - **id**\n",
    "       - this column does not appear to have any tangible data, so it can be dropped. \n",
    "        \n",
    "#### 2. Categorical/Object columns:\n",
    "Filling in NaN categorical values in the remaining columns is a bit tricky since there is no easily-applied statistical method.\n",
    "   - **title** \n",
    "       - Since the movie title makes an initial impact on a consumer's decision to see a movie, NLP processing will be applied to this column in order to assess if certain words and the overall length of the title has an impact on the resulting movie revenue.\n",
    "   - **homepage** (3091 NaN)\n",
    "        - 3/4 of the data is missing (3091 of the total 4803), so this column cannot be effectively utilized for this model and should be dropped.\n",
    "   - **overview** (3 NaN)\n",
    "        - since there are so few instances, dropping the NaN rows will not interfere with the analysis of movie revenue. \n",
    "   - **release_date** (1 NaN)\n",
    "        - since there are so few instances, dropping the NaN rows will not interfere with the analysis of movie revenue. \n",
    "   - **tagline** (844 NaN)\n",
    "        - while 844 is well under 1/4 of the total data, the tagline for a movie may in fact have a significant impact on movie revenue due to its marketing implications. However, since there are already columns for keywords and overview, this column will be dropped for simplicity and possibly re-addressed later.*"
   ]
  },
  {
   "cell_type": "code",
   "execution_count": 7,
   "metadata": {},
   "outputs": [
    {
     "data": {
      "text/plain": [
       "4800"
      ]
     },
     "execution_count": 7,
     "metadata": {},
     "output_type": "execute_result"
    }
   ],
   "source": [
    "# Drop NaNs in Numerical Columns - only select rows where runtime and release_date columns are \"not null\"\n",
    "movie_df = movie_df.dropna(subset=['runtime', 'release_date'])\n",
    "len(movie_df)"
   ]
  },
  {
   "cell_type": "code",
   "execution_count": 8,
   "metadata": {},
   "outputs": [
    {
     "data": {
      "text/plain": [
       "0   2009-12-10\n",
       "1   2007-05-19\n",
       "Name: release_date_dt, dtype: datetime64[ns]"
      ]
     },
     "execution_count": 8,
     "metadata": {},
     "output_type": "execute_result"
    }
   ],
   "source": [
    "# Convert Dates to Datetime Objects\n",
    "movie_df['release_date_dt'] = pd.to_datetime(movie_df['release_date'], infer_datetime_format=True)\n",
    "movie_df['release_date_dt'].head(2)"
   ]
  },
  {
   "cell_type": "code",
   "execution_count": 9,
   "metadata": {},
   "outputs": [
    {
     "data": {
      "text/html": [
       "<div>\n",
       "<style scoped>\n",
       "    .dataframe tbody tr th:only-of-type {\n",
       "        vertical-align: middle;\n",
       "    }\n",
       "\n",
       "    .dataframe tbody tr th {\n",
       "        vertical-align: top;\n",
       "    }\n",
       "\n",
       "    .dataframe thead th {\n",
       "        text-align: right;\n",
       "    }\n",
       "</style>\n",
       "<table border=\"1\" class=\"dataframe\">\n",
       "  <thead>\n",
       "    <tr style=\"text-align: right;\">\n",
       "      <th></th>\n",
       "      <th>title</th>\n",
       "      <th>revenue</th>\n",
       "      <th>genres</th>\n",
       "      <th>keywords</th>\n",
       "      <th>original_language</th>\n",
       "      <th>production_companies</th>\n",
       "      <th>production_countries</th>\n",
       "      <th>runtime</th>\n",
       "      <th>spoken_languages</th>\n",
       "      <th>status</th>\n",
       "      <th>release_date_dt</th>\n",
       "    </tr>\n",
       "  </thead>\n",
       "  <tbody>\n",
       "    <tr>\n",
       "      <th>0</th>\n",
       "      <td>Avatar</td>\n",
       "      <td>2787965087</td>\n",
       "      <td>[{\"id\": 28, \"name\": \"Action\"}, {\"id\": 12, \"nam...</td>\n",
       "      <td>[{\"id\": 1463, \"name\": \"culture clash\"}, {\"id\":...</td>\n",
       "      <td>en</td>\n",
       "      <td>[{\"name\": \"Ingenious Film Partners\", \"id\": 289...</td>\n",
       "      <td>[{\"iso_3166_1\": \"US\", \"name\": \"United States o...</td>\n",
       "      <td>162.0</td>\n",
       "      <td>[{\"iso_639_1\": \"en\", \"name\": \"English\"}, {\"iso...</td>\n",
       "      <td>Released</td>\n",
       "      <td>2009-12-10</td>\n",
       "    </tr>\n",
       "    <tr>\n",
       "      <th>1</th>\n",
       "      <td>Pirates of the Caribbean: At World's End</td>\n",
       "      <td>961000000</td>\n",
       "      <td>[{\"id\": 12, \"name\": \"Adventure\"}, {\"id\": 14, \"...</td>\n",
       "      <td>[{\"id\": 270, \"name\": \"ocean\"}, {\"id\": 726, \"na...</td>\n",
       "      <td>en</td>\n",
       "      <td>[{\"name\": \"Walt Disney Pictures\", \"id\": 2}, {\"...</td>\n",
       "      <td>[{\"iso_3166_1\": \"US\", \"name\": \"United States o...</td>\n",
       "      <td>169.0</td>\n",
       "      <td>[{\"iso_639_1\": \"en\", \"name\": \"English\"}]</td>\n",
       "      <td>Released</td>\n",
       "      <td>2007-05-19</td>\n",
       "    </tr>\n",
       "  </tbody>\n",
       "</table>\n",
       "</div>"
      ],
      "text/plain": [
       "                                      title     revenue  \\\n",
       "0                                    Avatar  2787965087   \n",
       "1  Pirates of the Caribbean: At World's End   961000000   \n",
       "\n",
       "                                              genres  \\\n",
       "0  [{\"id\": 28, \"name\": \"Action\"}, {\"id\": 12, \"nam...   \n",
       "1  [{\"id\": 12, \"name\": \"Adventure\"}, {\"id\": 14, \"...   \n",
       "\n",
       "                                            keywords original_language  \\\n",
       "0  [{\"id\": 1463, \"name\": \"culture clash\"}, {\"id\":...                en   \n",
       "1  [{\"id\": 270, \"name\": \"ocean\"}, {\"id\": 726, \"na...                en   \n",
       "\n",
       "                                production_companies  \\\n",
       "0  [{\"name\": \"Ingenious Film Partners\", \"id\": 289...   \n",
       "1  [{\"name\": \"Walt Disney Pictures\", \"id\": 2}, {\"...   \n",
       "\n",
       "                                production_countries  runtime  \\\n",
       "0  [{\"iso_3166_1\": \"US\", \"name\": \"United States o...    162.0   \n",
       "1  [{\"iso_3166_1\": \"US\", \"name\": \"United States o...    169.0   \n",
       "\n",
       "                                    spoken_languages    status release_date_dt  \n",
       "0  [{\"iso_639_1\": \"en\", \"name\": \"English\"}, {\"iso...  Released      2009-12-10  \n",
       "1           [{\"iso_639_1\": \"en\", \"name\": \"English\"}]  Released      2007-05-19  "
      ]
     },
     "execution_count": 9,
     "metadata": {},
     "output_type": "execute_result"
    }
   ],
   "source": [
    "# Drop Unnecessary Columns and Columns with Too Many NaNs *(> 50% of entries)* to Resolve\n",
    "movie_df = movie_df.drop(columns=['id', 'budget', 'tagline', 'overview', 'homepage', 'release_date'])\n",
    "movie_df.head(2)"
   ]
  },
  {
   "cell_type": "code",
   "execution_count": 10,
   "metadata": {},
   "outputs": [
    {
     "data": {
      "text/plain": [
       "title                   0\n",
       "revenue                 0\n",
       "genres                  0\n",
       "keywords                0\n",
       "original_language       0\n",
       "production_companies    0\n",
       "production_countries    0\n",
       "runtime                 0\n",
       "spoken_languages        0\n",
       "status                  0\n",
       "release_date_dt         0\n",
       "dtype: int64"
      ]
     },
     "execution_count": 10,
     "metadata": {},
     "output_type": "execute_result"
    }
   ],
   "source": [
    "# Test output\n",
    "movie_df.isnull().sum()"
   ]
  },
  {
   "cell_type": "markdown",
   "metadata": {},
   "source": [
    "## Explore the Values within Each Column"
   ]
  },
  {
   "cell_type": "code",
   "execution_count": 11,
   "metadata": {},
   "outputs": [],
   "source": [
    "# Import helpful modules\n",
    "from collections import Counter"
   ]
  },
  {
   "cell_type": "markdown",
   "metadata": {},
   "source": [
    "**Title**"
   ]
  },
  {
   "cell_type": "code",
   "execution_count": 12,
   "metadata": {},
   "outputs": [
    {
     "name": "stdout",
     "output_type": "stream",
     "text": [
      "4797\n",
      "count         4800\n",
      "unique        4797\n",
      "top       The Host\n",
      "freq             2\n",
      "Name: title, dtype: object\n"
     ]
    },
    {
     "data": {
      "text/plain": [
       "The Host              2\n",
       "Out of the Blue       2\n",
       "Batman                2\n",
       "Cool Runnings         1\n",
       "DOA: Dead or Alive    1\n",
       "Name: title, dtype: int64"
      ]
     },
     "execution_count": 12,
     "metadata": {},
     "output_type": "execute_result"
    }
   ],
   "source": [
    "print(len(movie_df.title.value_counts(ascending=False)))\n",
    "print(movie_df.title.describe())\n",
    "movie_df.title.value_counts(ascending=False).nlargest()"
   ]
  },
  {
   "cell_type": "markdown",
   "metadata": {},
   "source": [
    "**Revenue**"
   ]
  },
  {
   "cell_type": "code",
   "execution_count": 13,
   "metadata": {},
   "outputs": [
    {
     "name": "stdout",
     "output_type": "stream",
     "text": [
      "3297\n",
      "count    4.800000e+03\n",
      "mean     8.231205e+07\n",
      "std      1.628950e+08\n",
      "min      0.000000e+00\n",
      "25%      0.000000e+00\n",
      "50%      1.918199e+07\n",
      "75%      9.293886e+07\n",
      "max      2.787965e+09\n",
      "Name: revenue, dtype: float64\n"
     ]
    },
    {
     "data": {
      "text/plain": [
       "0           1424\n",
       "7000000        6\n",
       "8000000        6\n",
       "6000000        5\n",
       "12000000       5\n",
       "Name: revenue, dtype: int64"
      ]
     },
     "execution_count": 13,
     "metadata": {},
     "output_type": "execute_result"
    }
   ],
   "source": [
    "print(len(movie_df.revenue.value_counts(ascending=False)))\n",
    "print(movie_df.revenue.describe())\n",
    "movie_df.revenue.value_counts(ascending=False).nlargest()"
   ]
  },
  {
   "cell_type": "markdown",
   "metadata": {},
   "source": [
    "*There are 1424 movies within the dataset that have a reported $0 for revenue. This is most likely due to missing data. Since movie revenue is the target variable, I'm going to convert all the '0' entries to the column mean. Since. in general, movie revenue is expected to increase over time (purely due to inflation, if nothing else), the mean movie revenue within the column could skew the data. Therefore, the mean revenue will be calculated in groups of 10 years, from the beginning year of the dataset, to the end. See more in 'release_date' assessment.*"
   ]
  },
  {
   "cell_type": "markdown",
   "metadata": {},
   "source": [
    "**Genres**"
   ]
  },
  {
   "cell_type": "code",
   "execution_count": 14,
   "metadata": {},
   "outputs": [
    {
     "name": "stdout",
     "output_type": "stream",
     "text": [
      "count                              4800\n",
      "unique                             1175\n",
      "top       [{\"id\": 18, \"name\": \"Drama\"}]\n",
      "freq                                369\n",
      "Name: genres, dtype: object\n",
      "1175\n",
      "[{\"id\": 18, \"name\": \"Drama\"}] 369\n"
     ]
    },
    {
     "data": {
      "text/plain": [
       "[{\"id\": 18, \"name\": \"Drama\"}]                                       369\n",
       "[{\"id\": 35, \"name\": \"Comedy\"}]                                      282\n",
       "[{\"id\": 18, \"name\": \"Drama\"}, {\"id\": 10749, \"name\": \"Romance\"}]     164\n",
       "[{\"id\": 35, \"name\": \"Comedy\"}, {\"id\": 10749, \"name\": \"Romance\"}]    144\n",
       "[{\"id\": 35, \"name\": \"Comedy\"}, {\"id\": 18, \"name\": \"Drama\"}]         142\n",
       "Name: genres, dtype: int64"
      ]
     },
     "execution_count": 14,
     "metadata": {},
     "output_type": "execute_result"
    }
   ],
   "source": [
    "print(movie_df.genres.describe())\n",
    "print(len(movie_df.genres.value_counts(ascending=False)))\n",
    "most_common, num_most_common = Counter(movie_df.genres).most_common(1)[0]\n",
    "print(most_common, num_most_common)\n",
    "movie_df.genres.value_counts(ascending=False).nlargest()"
   ]
  },
  {
   "cell_type": "markdown",
   "metadata": {},
   "source": [
    "**Keywords**"
   ]
  },
  {
   "cell_type": "code",
   "execution_count": 15,
   "metadata": {},
   "outputs": [
    {
     "name": "stdout",
     "output_type": "stream",
     "text": [
      "4220\n",
      "count     4800\n",
      "unique    4220\n",
      "top         []\n",
      "freq       411\n",
      "Name: keywords, dtype: object\n",
      "[] 411\n"
     ]
    },
    {
     "data": {
      "text/plain": [
       "[]                                                  411\n",
       "[{\"id\": 10183, \"name\": \"independent film\"}]          55\n",
       "[{\"id\": 187056, \"name\": \"woman director\"}]           42\n",
       "[{\"id\": 179431, \"name\": \"duringcreditsstinger\"}]     15\n",
       "[{\"id\": 6075, \"name\": \"sport\"}]                      13\n",
       "Name: keywords, dtype: int64"
      ]
     },
     "execution_count": 15,
     "metadata": {},
     "output_type": "execute_result"
    }
   ],
   "source": [
    "print(len(movie_df.keywords.value_counts(ascending=False)))\n",
    "print(movie_df.keywords.describe())\n",
    "most_common, num_most_common = Counter(movie_df.keywords).most_common(1)[0]\n",
    "print(most_common, num_most_common)\n",
    "movie_df.keywords.value_counts(ascending=False).nlargest()"
   ]
  },
  {
   "cell_type": "markdown",
   "metadata": {},
   "source": [
    "*This column appears to have nested information that needs to be extracted, cleaned, then added back to the movie_df dataset. In addition, the most common keyword is '[ ]', which is empty and holds no value.*"
   ]
  },
  {
   "cell_type": "markdown",
   "metadata": {},
   "source": [
    "**Original Language**"
   ]
  },
  {
   "cell_type": "code",
   "execution_count": 16,
   "metadata": {},
   "outputs": [
    {
     "name": "stdout",
     "output_type": "stream",
     "text": [
      "37\n",
      "count     4800\n",
      "unique      37\n",
      "top         en\n",
      "freq      4503\n",
      "Name: original_language, dtype: object\n"
     ]
    },
    {
     "data": {
      "text/plain": [
       "en    4503\n",
       "fr      70\n",
       "es      32\n",
       "de      27\n",
       "zh      27\n",
       "Name: original_language, dtype: int64"
      ]
     },
     "execution_count": 16,
     "metadata": {},
     "output_type": "execute_result"
    }
   ],
   "source": [
    "print(len(movie_df.original_language.value_counts(ascending=False)))\n",
    "print(movie_df.original_language.describe())\n",
    "movie_df.original_language.value_counts(ascending=False).nlargest()"
   ]
  },
  {
   "cell_type": "markdown",
   "metadata": {},
   "source": [
    "**Production Companies**"
   ]
  },
  {
   "cell_type": "code",
   "execution_count": 17,
   "metadata": {},
   "outputs": [
    {
     "name": "stdout",
     "output_type": "stream",
     "text": [
      "3695\n",
      "count     4800\n",
      "unique    3695\n",
      "top         []\n",
      "freq       350\n",
      "Name: production_companies, dtype: object\n",
      "[] 350\n"
     ]
    },
    {
     "data": {
      "text/plain": [
       "[]                                            350\n",
       "[{\"name\": \"Paramount Pictures\", \"id\": 4}]      58\n",
       "[{\"name\": \"Universal Pictures\", \"id\": 33}]     45\n",
       "[{\"name\": \"New Line Cinema\", \"id\": 12}]        38\n",
       "[{\"name\": \"Columbia Pictures\", \"id\": 5}]       37\n",
       "Name: production_companies, dtype: int64"
      ]
     },
     "execution_count": 17,
     "metadata": {},
     "output_type": "execute_result"
    }
   ],
   "source": [
    "print(len(movie_df.production_companies.value_counts(ascending=False)))\n",
    "print(movie_df.production_companies.describe())\n",
    "most_common, num_most_common = Counter(movie_df.production_companies).most_common(1)[0]\n",
    "print(most_common, num_most_common)\n",
    "movie_df.production_companies.value_counts(ascending=False).nlargest()"
   ]
  },
  {
   "cell_type": "markdown",
   "metadata": {},
   "source": [
    "*This column appears to have nested information that needs to be extracted, cleaned, then added back to the movie_df dataset. In addition, the most common production_companies is '[ ]', which is empty and holds no value.*"
   ]
  },
  {
   "cell_type": "code",
   "execution_count": 18,
   "metadata": {},
   "outputs": [
    {
     "name": "stdout",
     "output_type": "stream",
     "text": [
      "350\n"
     ]
    },
    {
     "data": {
      "text/html": [
       "<div>\n",
       "<style scoped>\n",
       "    .dataframe tbody tr th:only-of-type {\n",
       "        vertical-align: middle;\n",
       "    }\n",
       "\n",
       "    .dataframe tbody tr th {\n",
       "        vertical-align: top;\n",
       "    }\n",
       "\n",
       "    .dataframe thead th {\n",
       "        text-align: right;\n",
       "    }\n",
       "</style>\n",
       "<table border=\"1\" class=\"dataframe\">\n",
       "  <thead>\n",
       "    <tr style=\"text-align: right;\">\n",
       "      <th></th>\n",
       "      <th>title</th>\n",
       "      <th>revenue</th>\n",
       "      <th>genres</th>\n",
       "      <th>keywords</th>\n",
       "      <th>original_language</th>\n",
       "      <th>production_companies</th>\n",
       "      <th>production_countries</th>\n",
       "      <th>runtime</th>\n",
       "      <th>spoken_languages</th>\n",
       "      <th>status</th>\n",
       "      <th>release_date_dt</th>\n",
       "    </tr>\n",
       "  </thead>\n",
       "  <tbody>\n",
       "    <tr>\n",
       "      <th>1011</th>\n",
       "      <td>The Tooth Fairy</td>\n",
       "      <td>0</td>\n",
       "      <td>[{\"id\": 27, \"name\": \"Horror\"}]</td>\n",
       "      <td>[{\"id\": 10292, \"name\": \"gore\"}, {\"id\": 12339, ...</td>\n",
       "      <td>de</td>\n",
       "      <td>[]</td>\n",
       "      <td>[]</td>\n",
       "      <td>0.0</td>\n",
       "      <td>[{\"iso_639_1\": \"en\", \"name\": \"English\"}, {\"iso...</td>\n",
       "      <td>Released</td>\n",
       "      <td>2006-08-08</td>\n",
       "    </tr>\n",
       "    <tr>\n",
       "      <th>1360</th>\n",
       "      <td>There Be Dragons</td>\n",
       "      <td>0</td>\n",
       "      <td>[{\"id\": 18, \"name\": \"Drama\"}]</td>\n",
       "      <td>[{\"id\": 5509, \"name\": \"spanish civil war\"}, {\"...</td>\n",
       "      <td>en</td>\n",
       "      <td>[]</td>\n",
       "      <td>[]</td>\n",
       "      <td>112.0</td>\n",
       "      <td>[{\"iso_639_1\": \"en\", \"name\": \"English\"}]</td>\n",
       "      <td>Released</td>\n",
       "      <td>2011-03-25</td>\n",
       "    </tr>\n",
       "  </tbody>\n",
       "</table>\n",
       "</div>"
      ],
      "text/plain": [
       "                 title  revenue                          genres  \\\n",
       "1011   The Tooth Fairy        0  [{\"id\": 27, \"name\": \"Horror\"}]   \n",
       "1360  There Be Dragons        0   [{\"id\": 18, \"name\": \"Drama\"}]   \n",
       "\n",
       "                                               keywords original_language  \\\n",
       "1011  [{\"id\": 10292, \"name\": \"gore\"}, {\"id\": 12339, ...                de   \n",
       "1360  [{\"id\": 5509, \"name\": \"spanish civil war\"}, {\"...                en   \n",
       "\n",
       "     production_companies production_countries  runtime  \\\n",
       "1011                   []                   []      0.0   \n",
       "1360                   []                   []    112.0   \n",
       "\n",
       "                                       spoken_languages    status  \\\n",
       "1011  [{\"iso_639_1\": \"en\", \"name\": \"English\"}, {\"iso...  Released   \n",
       "1360           [{\"iso_639_1\": \"en\", \"name\": \"English\"}]  Released   \n",
       "\n",
       "     release_date_dt  \n",
       "1011      2006-08-08  \n",
       "1360      2011-03-25  "
      ]
     },
     "execution_count": 18,
     "metadata": {},
     "output_type": "execute_result"
    }
   ],
   "source": [
    "no_company = movie_df[movie_df['production_companies'] == '[]']\n",
    "print(len(no_company))\n",
    "no_company.head(2)"
   ]
  },
  {
   "cell_type": "markdown",
   "metadata": {},
   "source": [
    "**Production Countries**"
   ]
  },
  {
   "cell_type": "code",
   "execution_count": 19,
   "metadata": {},
   "outputs": [
    {
     "name": "stdout",
     "output_type": "stream",
     "text": [
      "469\n",
      "count                                                  4800\n",
      "unique                                                  469\n",
      "top       [{\"iso_3166_1\": \"US\", \"name\": \"United States o...\n",
      "freq                                                   2977\n",
      "Name: production_countries, dtype: object\n",
      "[{\"iso_3166_1\": \"US\", \"name\": \"United States of America\"}] 2977\n"
     ]
    },
    {
     "data": {
      "text/plain": [
       "[{\"iso_3166_1\": \"US\", \"name\": \"United States of America\"}]                                                    2977\n",
       "[{\"iso_3166_1\": \"GB\", \"name\": \"United Kingdom\"}, {\"iso_3166_1\": \"US\", \"name\": \"United States of America\"}]     181\n",
       "[]                                                                                                             173\n",
       "[{\"iso_3166_1\": \"GB\", \"name\": \"United Kingdom\"}]                                                               130\n",
       "[{\"iso_3166_1\": \"DE\", \"name\": \"Germany\"}, {\"iso_3166_1\": \"US\", \"name\": \"United States of America\"}]            119\n",
       "Name: production_countries, dtype: int64"
      ]
     },
     "execution_count": 19,
     "metadata": {},
     "output_type": "execute_result"
    }
   ],
   "source": [
    "print(len(movie_df.production_countries.value_counts(ascending=False)))\n",
    "print(movie_df.production_countries.describe())\n",
    "most_common, num_most_common = Counter(movie_df.production_countries).most_common(1)[0]\n",
    "print(most_common, num_most_common)\n",
    "movie_df.production_countries.value_counts(ascending=False).nlargest()"
   ]
  },
  {
   "cell_type": "markdown",
   "metadata": {},
   "source": [
    "*This column appears to have nested information that needs to be extracted, cleaned, then added back to the movie_df dataset. In addition, the incidence of 'US' (on it's own) as the production country appears to be the most common, making up around 50% of the dataset (2977 out of 4799). In addition, there are 172 entries of '[]' that appear to hold no information.*"
   ]
  },
  {
   "cell_type": "markdown",
   "metadata": {},
   "source": [
    "**Runtime**"
   ]
  },
  {
   "cell_type": "code",
   "execution_count": 20,
   "metadata": {},
   "outputs": [
    {
     "name": "stdout",
     "output_type": "stream",
     "text": [
      "156\n",
      "count    4800.000000\n",
      "mean      106.898125\n",
      "std        22.561593\n",
      "min         0.000000\n",
      "25%        94.000000\n",
      "50%       103.000000\n",
      "75%       118.000000\n",
      "max       338.000000\n",
      "Name: runtime, dtype: float64\n"
     ]
    },
    {
     "data": {
      "text/plain": [
       "90.0     163\n",
       "100.0    149\n",
       "98.0     140\n",
       "97.0     133\n",
       "95.0     123\n",
       "Name: runtime, dtype: int64"
      ]
     },
     "execution_count": 20,
     "metadata": {},
     "output_type": "execute_result"
    }
   ],
   "source": [
    "print(len(movie_df.runtime.value_counts(ascending=False)))\n",
    "print(movie_df.runtime.describe())\n",
    "movie_df.runtime.value_counts(ascending=False).nlargest()"
   ]
  },
  {
   "cell_type": "markdown",
   "metadata": {},
   "source": [
    "*There appear to be movies with a '0.0' runtime, which doesn't make sense, since this would imply that the movie was 0 minutes long.*"
   ]
  },
  {
   "cell_type": "code",
   "execution_count": 21,
   "metadata": {},
   "outputs": [
    {
     "data": {
      "text/html": [
       "<div>\n",
       "<style scoped>\n",
       "    .dataframe tbody tr th:only-of-type {\n",
       "        vertical-align: middle;\n",
       "    }\n",
       "\n",
       "    .dataframe tbody tr th {\n",
       "        vertical-align: top;\n",
       "    }\n",
       "\n",
       "    .dataframe thead th {\n",
       "        text-align: right;\n",
       "    }\n",
       "</style>\n",
       "<table border=\"1\" class=\"dataframe\">\n",
       "  <thead>\n",
       "    <tr style=\"text-align: right;\">\n",
       "      <th></th>\n",
       "      <th>runtime</th>\n",
       "      <th>release_date_dt</th>\n",
       "    </tr>\n",
       "  </thead>\n",
       "  <tbody>\n",
       "    <tr>\n",
       "      <th>0</th>\n",
       "      <td>162.0</td>\n",
       "      <td>2009-12-10</td>\n",
       "    </tr>\n",
       "    <tr>\n",
       "      <th>1</th>\n",
       "      <td>169.0</td>\n",
       "      <td>2007-05-19</td>\n",
       "    </tr>\n",
       "  </tbody>\n",
       "</table>\n",
       "</div>"
      ],
      "text/plain": [
       "   runtime release_date_dt\n",
       "0    162.0      2009-12-10\n",
       "1    169.0      2007-05-19"
      ]
     },
     "execution_count": 21,
     "metadata": {},
     "output_type": "execute_result"
    }
   ],
   "source": [
    "# Assess movie runtime by date\n",
    "runtime_by_date = movie_df[['runtime', 'release_date_dt']]\n",
    "\n",
    "# Select all non-zero values of runtime\n",
    "runtime_by_date = runtime_by_date[runtime_by_date.runtime != 0.0]\n",
    "runtime_by_date.head(2)"
   ]
  },
  {
   "cell_type": "markdown",
   "metadata": {},
   "source": [
    "**Spoken Languages**"
   ]
  },
  {
   "cell_type": "code",
   "execution_count": 22,
   "metadata": {},
   "outputs": [
    {
     "name": "stdout",
     "output_type": "stream",
     "text": [
      "544\n",
      "count                                         4800\n",
      "unique                                         544\n",
      "top       [{\"iso_639_1\": \"en\", \"name\": \"English\"}]\n",
      "freq                                          3171\n",
      "Name: spoken_languages, dtype: object\n",
      "[{\"iso_639_1\": \"en\", \"name\": \"English\"}] 3171\n"
     ]
    },
    {
     "data": {
      "text/plain": [
       "[{\"iso_639_1\": \"en\", \"name\": \"English\"}]                                                  3171\n",
       "[{\"iso_639_1\": \"en\", \"name\": \"English\"}, {\"iso_639_1\": \"es\", \"name\": \"Espa\\u00f1ol\"}]      127\n",
       "[{\"iso_639_1\": \"en\", \"name\": \"English\"}, {\"iso_639_1\": \"fr\", \"name\": \"Fran\\u00e7ais\"}]     114\n",
       "[]                                                                                          84\n",
       "[{\"iso_639_1\": \"es\", \"name\": \"Espa\\u00f1ol\"}, {\"iso_639_1\": \"en\", \"name\": \"English\"}]       54\n",
       "Name: spoken_languages, dtype: int64"
      ]
     },
     "execution_count": 22,
     "metadata": {},
     "output_type": "execute_result"
    }
   ],
   "source": [
    "print(len(movie_df.spoken_languages.value_counts(ascending=False)))\n",
    "print(movie_df.spoken_languages.describe())\n",
    "most_common, num_most_common = Counter(movie_df.spoken_languages).most_common(1)[0]\n",
    "print(most_common, num_most_common)\n",
    "movie_df.spoken_languages.value_counts(ascending=False).nlargest()"
   ]
  },
  {
   "cell_type": "markdown",
   "metadata": {},
   "source": [
    "*This column appears to have nested information that needs to be extracted, cleaned, then added back to the movie_df dataset. In addition, the incidence of 'English' as the spoken language appears to be the most common, making up around 75% of the dataset (3170 out of 4799). There are also 84 entries with a '[]'.*"
   ]
  },
  {
   "cell_type": "code",
   "execution_count": 23,
   "metadata": {},
   "outputs": [
    {
     "name": "stdout",
     "output_type": "stream",
     "text": [
      "84\n"
     ]
    },
    {
     "data": {
      "text/html": [
       "<div>\n",
       "<style scoped>\n",
       "    .dataframe tbody tr th:only-of-type {\n",
       "        vertical-align: middle;\n",
       "    }\n",
       "\n",
       "    .dataframe tbody tr th {\n",
       "        vertical-align: top;\n",
       "    }\n",
       "\n",
       "    .dataframe thead th {\n",
       "        text-align: right;\n",
       "    }\n",
       "</style>\n",
       "<table border=\"1\" class=\"dataframe\">\n",
       "  <thead>\n",
       "    <tr style=\"text-align: right;\">\n",
       "      <th></th>\n",
       "      <th>title</th>\n",
       "      <th>revenue</th>\n",
       "      <th>genres</th>\n",
       "      <th>keywords</th>\n",
       "      <th>original_language</th>\n",
       "      <th>production_companies</th>\n",
       "      <th>production_countries</th>\n",
       "      <th>runtime</th>\n",
       "      <th>spoken_languages</th>\n",
       "      <th>status</th>\n",
       "      <th>release_date_dt</th>\n",
       "    </tr>\n",
       "  </thead>\n",
       "  <tbody>\n",
       "    <tr>\n",
       "      <th>492</th>\n",
       "      <td>Top Cat Begins</td>\n",
       "      <td>0</td>\n",
       "      <td>[{\"id\": 35, \"name\": \"Comedy\"}, {\"id\": 16, \"nam...</td>\n",
       "      <td>[{\"id\": 209714, \"name\": \"3d\"}]</td>\n",
       "      <td>es</td>\n",
       "      <td>[{\"name\": \"Anima Estudios\", \"id\": 9965}, {\"nam...</td>\n",
       "      <td>[{\"iso_3166_1\": \"IN\", \"name\": \"India\"}, {\"iso_...</td>\n",
       "      <td>89.0</td>\n",
       "      <td>[]</td>\n",
       "      <td>Released</td>\n",
       "      <td>2015-10-30</td>\n",
       "    </tr>\n",
       "    <tr>\n",
       "      <th>1169</th>\n",
       "      <td>42</td>\n",
       "      <td>95020213</td>\n",
       "      <td>[{\"id\": 18, \"name\": \"Drama\"}]</td>\n",
       "      <td>[{\"id\": 1480, \"name\": \"baseball\"}, {\"id\": 5565...</td>\n",
       "      <td>en</td>\n",
       "      <td>[{\"name\": \"Warner Bros.\", \"id\": 6194}]</td>\n",
       "      <td>[{\"iso_3166_1\": \"US\", \"name\": \"United States o...</td>\n",
       "      <td>128.0</td>\n",
       "      <td>[]</td>\n",
       "      <td>Released</td>\n",
       "      <td>2013-04-12</td>\n",
       "    </tr>\n",
       "  </tbody>\n",
       "</table>\n",
       "</div>"
      ],
      "text/plain": [
       "               title   revenue  \\\n",
       "492   Top Cat Begins         0   \n",
       "1169              42  95020213   \n",
       "\n",
       "                                                 genres  \\\n",
       "492   [{\"id\": 35, \"name\": \"Comedy\"}, {\"id\": 16, \"nam...   \n",
       "1169                      [{\"id\": 18, \"name\": \"Drama\"}]   \n",
       "\n",
       "                                               keywords original_language  \\\n",
       "492                      [{\"id\": 209714, \"name\": \"3d\"}]                es   \n",
       "1169  [{\"id\": 1480, \"name\": \"baseball\"}, {\"id\": 5565...                en   \n",
       "\n",
       "                                   production_companies  \\\n",
       "492   [{\"name\": \"Anima Estudios\", \"id\": 9965}, {\"nam...   \n",
       "1169             [{\"name\": \"Warner Bros.\", \"id\": 6194}]   \n",
       "\n",
       "                                   production_countries  runtime  \\\n",
       "492   [{\"iso_3166_1\": \"IN\", \"name\": \"India\"}, {\"iso_...     89.0   \n",
       "1169  [{\"iso_3166_1\": \"US\", \"name\": \"United States o...    128.0   \n",
       "\n",
       "     spoken_languages    status release_date_dt  \n",
       "492                []  Released      2015-10-30  \n",
       "1169               []  Released      2013-04-12  "
      ]
     },
     "execution_count": 23,
     "metadata": {},
     "output_type": "execute_result"
    }
   ],
   "source": [
    "no_language = movie_df[movie_df['spoken_languages'] == '[]']\n",
    "print(len(no_language))\n",
    "no_language.head(2)"
   ]
  },
  {
   "cell_type": "markdown",
   "metadata": {},
   "source": [
    "**Status**"
   ]
  },
  {
   "cell_type": "code",
   "execution_count": 24,
   "metadata": {},
   "outputs": [
    {
     "name": "stdout",
     "output_type": "stream",
     "text": [
      "3\n",
      "count         4800\n",
      "unique           3\n",
      "top       Released\n",
      "freq          4792\n",
      "Name: status, dtype: object\n",
      "Released           4792\n",
      "Rumored               5\n",
      "Post Production       3\n",
      "Name: status, dtype: int64\n"
     ]
    },
    {
     "data": {
      "text/plain": [
       "('Released', 4792)"
      ]
     },
     "execution_count": 24,
     "metadata": {},
     "output_type": "execute_result"
    }
   ],
   "source": [
    "print(len(movie_df.status.value_counts(ascending=False)))\n",
    "print(movie_df.status.describe())\n",
    "print(movie_df.status.value_counts(ascending=False))\n",
    "most_common, num_most_common = Counter(movie_df.status).most_common(1)[0]\n",
    "most_common, num_most_common"
   ]
  },
  {
   "cell_type": "markdown",
   "metadata": {},
   "source": [
    "*Since this dataset is a movie revenue prediction model, including movies that are rumored or post-production don't make sense. Thus, these entries should be removed.*"
   ]
  },
  {
   "cell_type": "code",
   "execution_count": 25,
   "metadata": {},
   "outputs": [
    {
     "data": {
      "text/plain": [
       "4792"
      ]
     },
     "execution_count": 25,
     "metadata": {},
     "output_type": "execute_result"
    }
   ],
   "source": [
    "# Select only released movies\n",
    "movie_df = movie_df[movie_df.status == 'Released']\n",
    "\n",
    "# Drop status column\n",
    "movie_df = movie_df.drop(columns='status')\n",
    "len(movie_df)"
   ]
  },
  {
   "cell_type": "markdown",
   "metadata": {},
   "source": [
    "**Release Date**"
   ]
  },
  {
   "cell_type": "code",
   "execution_count": 26,
   "metadata": {},
   "outputs": [
    {
     "name": "stdout",
     "output_type": "stream",
     "text": [
      "3277\n",
      "count                    4792\n",
      "unique                   3277\n",
      "top       2006-01-01 00:00:00\n",
      "freq                        9\n",
      "first     1969-01-01 00:00:00\n",
      "last      2068-12-21 00:00:00\n",
      "Name: release_date_dt, dtype: object\n",
      "2006-01-01 00:00:00 9 2012-05-03 00:00:00 1\n"
     ]
    },
    {
     "data": {
      "text/plain": [
       "2006-01-01    9\n",
       "2002-01-01    8\n",
       "2004-09-03    7\n",
       "1999-10-22    7\n",
       "2014-12-25    7\n",
       "Name: release_date_dt, dtype: int64"
      ]
     },
     "execution_count": 26,
     "metadata": {},
     "output_type": "execute_result"
    }
   ],
   "source": [
    "print(len(movie_df.release_date_dt.value_counts(ascending=False)))\n",
    "print(movie_df.release_date_dt.describe()) \n",
    "most_common, num_most_common = Counter(movie_df.release_date_dt).most_common(1)[0]\n",
    "least_common, num_least_common = Counter(movie_df.release_date_dt).most_common()[-1]\n",
    "print(most_common, num_most_common, least_common, num_least_common)\n",
    "movie_df.release_date_dt.value_counts(ascending=False).nlargest()"
   ]
  },
  {
   "cell_type": "markdown",
   "metadata": {},
   "source": [
    "*The column dates range from the years 1969 to the future year of 2068. This is interesting, since movie revenue cannot be recorded for future dates, but it can be predicted (as is the goal of this analysis). Before moving forward, the movies with dates greater than 2020 should be dropped. Additionally, as mentioned above, this column will be used to group the data into 10 year increments to replace $0s with the mean movie revenue.*"
   ]
  },
  {
   "cell_type": "code",
   "execution_count": 27,
   "metadata": {},
   "outputs": [
    {
     "name": "stdout",
     "output_type": "stream",
     "text": [
      "3146\n",
      "count                    4660\n",
      "unique                   3146\n",
      "top       2006-01-01 00:00:00\n",
      "freq                        9\n",
      "first     1969-01-01 00:00:00\n",
      "last      2017-02-03 00:00:00\n",
      "Name: release_date_dt, dtype: object\n"
     ]
    }
   ],
   "source": [
    "movie_df = movie_df.loc[movie_df.release_date_dt < '2020-01-01 00:00:00']\n",
    "print(len(movie_df.release_date_dt.value_counts(ascending=False)))\n",
    "print(movie_df.release_date_dt.describe())"
   ]
  },
  {
   "cell_type": "markdown",
   "metadata": {},
   "source": [
    "*Calculate Mean Revenue in Dataset within 10-year Intervals*"
   ]
  },
  {
   "cell_type": "code",
   "execution_count": 28,
   "metadata": {},
   "outputs": [],
   "source": [
    "# Define conditions\n",
    "c_1 = ('1969-01-01' <= movie_df.release_date_dt) & (movie_df.release_date_dt < '1979-01-01 00:00:00')\n",
    "c_2 = ('1979-01-01' <= movie_df.release_date_dt) & (movie_df.release_date_dt < '1989-01-01 00:00:00')\n",
    "c_3 = ('1989-01-01' <= movie_df.release_date_dt) & (movie_df.release_date_dt < '1999-01-01 00:00:00')\n",
    "c_4 = ('1999-01-01' <= movie_df.release_date_dt) & (movie_df.release_date_dt < '2009-01-01 00:00:00')\n",
    "c_5 = ('2009-01-01' <= movie_df.release_date_dt) & (movie_df.release_date_dt <= '2017-02-03 00:00:00')\n",
    "c_list = [c_1, c_2, c_3, c_4, c_5]"
   ]
  },
  {
   "cell_type": "code",
   "execution_count": 29,
   "metadata": {},
   "outputs": [],
   "source": [
    "def calculate_mean(con_list, df, column):\n",
    "    \"\"\" Calculate Mean Movie Revenue \"\"\"\n",
    "    means_list = []\n",
    "    for condition in con_list:\n",
    "        mean = round(movie_df.loc[condition, 'revenue'].mean(),2)\n",
    "        means_list.append(mean)\n",
    "    return means_list"
   ]
  },
  {
   "cell_type": "code",
   "execution_count": 30,
   "metadata": {},
   "outputs": [
    {
     "data": {
      "text/plain": [
       "[56973700.18, 58268128.98, 83967698.79, 74079368.23, 101277756.82]"
      ]
     },
     "execution_count": 30,
     "metadata": {},
     "output_type": "execute_result"
    }
   ],
   "source": [
    "# Calculate means based on time conditions\n",
    "revenue_means = calculate_mean(c_list, movie_df, 'revenue')\n",
    "revenue_means"
   ]
  },
  {
   "cell_type": "markdown",
   "metadata": {},
   "source": [
    "### Splice dataset into intervals"
   ]
  },
  {
   "cell_type": "code",
   "execution_count": 31,
   "metadata": {},
   "outputs": [
    {
     "data": {
      "text/html": [
       "<div>\n",
       "<style scoped>\n",
       "    .dataframe tbody tr th:only-of-type {\n",
       "        vertical-align: middle;\n",
       "    }\n",
       "\n",
       "    .dataframe tbody tr th {\n",
       "        vertical-align: top;\n",
       "    }\n",
       "\n",
       "    .dataframe thead th {\n",
       "        text-align: right;\n",
       "    }\n",
       "</style>\n",
       "<table border=\"1\" class=\"dataframe\">\n",
       "  <thead>\n",
       "    <tr style=\"text-align: right;\">\n",
       "      <th></th>\n",
       "      <th>title</th>\n",
       "      <th>revenue</th>\n",
       "      <th>genres</th>\n",
       "      <th>keywords</th>\n",
       "      <th>original_language</th>\n",
       "      <th>production_companies</th>\n",
       "      <th>production_countries</th>\n",
       "      <th>runtime</th>\n",
       "      <th>spoken_languages</th>\n",
       "      <th>release_date_dt</th>\n",
       "    </tr>\n",
       "  </thead>\n",
       "  <tbody>\n",
       "    <tr>\n",
       "      <th>2224</th>\n",
       "      <td>Sweet Charity</td>\n",
       "      <td>20000000</td>\n",
       "      <td>[{\"id\": 35, \"name\": \"Comedy\"}, {\"id\": 18, \"nam...</td>\n",
       "      <td>[{\"id\": 978, \"name\": \"broken engagement\"}, {\"i...</td>\n",
       "      <td>en</td>\n",
       "      <td>[{\"name\": \"Universal Pictures\", \"id\": 33}]</td>\n",
       "      <td>[{\"iso_3166_1\": \"US\", \"name\": \"United States o...</td>\n",
       "      <td>149.0</td>\n",
       "      <td>[{\"iso_639_1\": \"en\", \"name\": \"English\"}]</td>\n",
       "      <td>1969-01-01</td>\n",
       "    </tr>\n",
       "    <tr>\n",
       "      <th>2959</th>\n",
       "      <td>Machine Gun McCain</td>\n",
       "      <td>0</td>\n",
       "      <td>[{\"id\": 18, \"name\": \"Drama\"}, {\"id\": 28, \"name...</td>\n",
       "      <td>[{\"id\": 11578, \"name\": \"mobster\"}]</td>\n",
       "      <td>it</td>\n",
       "      <td>[{\"name\": \"Euro International Film (EIA)\", \"id...</td>\n",
       "      <td>[{\"iso_3166_1\": \"IT\", \"name\": \"Italy\"}]</td>\n",
       "      <td>116.0</td>\n",
       "      <td>[{\"iso_639_1\": \"en\", \"name\": \"English\"}]</td>\n",
       "      <td>1969-04-01</td>\n",
       "    </tr>\n",
       "  </tbody>\n",
       "</table>\n",
       "</div>"
      ],
      "text/plain": [
       "                   title   revenue  \\\n",
       "2224       Sweet Charity  20000000   \n",
       "2959  Machine Gun McCain         0   \n",
       "\n",
       "                                                 genres  \\\n",
       "2224  [{\"id\": 35, \"name\": \"Comedy\"}, {\"id\": 18, \"nam...   \n",
       "2959  [{\"id\": 18, \"name\": \"Drama\"}, {\"id\": 28, \"name...   \n",
       "\n",
       "                                               keywords original_language  \\\n",
       "2224  [{\"id\": 978, \"name\": \"broken engagement\"}, {\"i...                en   \n",
       "2959                 [{\"id\": 11578, \"name\": \"mobster\"}]                it   \n",
       "\n",
       "                                   production_companies  \\\n",
       "2224         [{\"name\": \"Universal Pictures\", \"id\": 33}]   \n",
       "2959  [{\"name\": \"Euro International Film (EIA)\", \"id...   \n",
       "\n",
       "                                   production_countries  runtime  \\\n",
       "2224  [{\"iso_3166_1\": \"US\", \"name\": \"United States o...    149.0   \n",
       "2959            [{\"iso_3166_1\": \"IT\", \"name\": \"Italy\"}]    116.0   \n",
       "\n",
       "                              spoken_languages release_date_dt  \n",
       "2224  [{\"iso_639_1\": \"en\", \"name\": \"English\"}]      1969-01-01  \n",
       "2959  [{\"iso_639_1\": \"en\", \"name\": \"English\"}]      1969-04-01  "
      ]
     },
     "execution_count": 31,
     "metadata": {},
     "output_type": "execute_result"
    }
   ],
   "source": [
    "movie_df = movie_df.sort_values(by='release_date_dt')\n",
    "movie_df.head(2)"
   ]
  },
  {
   "cell_type": "markdown",
   "metadata": {},
   "source": [
    "**c_1**"
   ]
  },
  {
   "cell_type": "code",
   "execution_count": 32,
   "metadata": {},
   "outputs": [
    {
     "data": {
      "text/plain": [
       "24"
      ]
     },
     "execution_count": 32,
     "metadata": {},
     "output_type": "execute_result"
    }
   ],
   "source": [
    "# make df splice\n",
    "c_1_movie_df = movie_df.loc[c_1]\n",
    "len(c_1_movie_df.loc[(c_1_movie_df.revenue == 0), 'revenue'])"
   ]
  },
  {
   "cell_type": "code",
   "execution_count": 33,
   "metadata": {},
   "outputs": [
    {
     "name": "stderr",
     "output_type": "stream",
     "text": [
      "/anaconda3/lib/python3.7/site-packages/pandas/core/indexing.py:543: SettingWithCopyWarning: \n",
      "A value is trying to be set on a copy of a slice from a DataFrame.\n",
      "Try using .loc[row_indexer,col_indexer] = value instead\n",
      "\n",
      "See the caveats in the documentation: http://pandas.pydata.org/pandas-docs/stable/indexing.html#indexing-view-versus-copy\n",
      "  self.obj[item] = s\n"
     ]
    },
    {
     "data": {
      "text/plain": [
       "0"
      ]
     },
     "execution_count": 33,
     "metadata": {},
     "output_type": "execute_result"
    }
   ],
   "source": [
    "# Replace 0 with mean\n",
    "c_1_movie_df.loc[(c_1_movie_df.revenue == 0.0), 'revenue'] = revenue_means[0]\n",
    "len(c_1_movie_df.loc[(c_1_movie_df.revenue == 0.0), 'revenue'])"
   ]
  },
  {
   "cell_type": "markdown",
   "metadata": {},
   "source": [
    "**c_2 with revenue_means[1]**"
   ]
  },
  {
   "cell_type": "code",
   "execution_count": 34,
   "metadata": {},
   "outputs": [
    {
     "data": {
      "text/plain": [
       "63"
      ]
     },
     "execution_count": 34,
     "metadata": {},
     "output_type": "execute_result"
    }
   ],
   "source": [
    "# make df splice\n",
    "c_2_movie_df = movie_df.loc[c_2]\n",
    "len(c_2_movie_df.loc[(c_2_movie_df.revenue == 0.0), 'revenue'])"
   ]
  },
  {
   "cell_type": "code",
   "execution_count": 35,
   "metadata": {},
   "outputs": [
    {
     "data": {
      "text/plain": [
       "0"
      ]
     },
     "execution_count": 35,
     "metadata": {},
     "output_type": "execute_result"
    }
   ],
   "source": [
    "# Replace 0 with mean\n",
    "c_2_movie_df.loc[(c_2_movie_df.revenue == 0.0), 'revenue'] = revenue_means[1]\n",
    "len(c_2_movie_df.loc[(c_2_movie_df.revenue == 0.0), 'revenue'])"
   ]
  },
  {
   "cell_type": "markdown",
   "metadata": {},
   "source": [
    "**c_3 0 with revenue_means[2]**"
   ]
  },
  {
   "cell_type": "code",
   "execution_count": 36,
   "metadata": {},
   "outputs": [
    {
     "data": {
      "text/plain": [
       "167"
      ]
     },
     "execution_count": 36,
     "metadata": {},
     "output_type": "execute_result"
    }
   ],
   "source": [
    "# make df splice\n",
    "c_3_movie_df = movie_df.loc[c_3]\n",
    "len(c_3_movie_df.loc[(c_3_movie_df.revenue == 0.0), 'revenue'])"
   ]
  },
  {
   "cell_type": "code",
   "execution_count": 37,
   "metadata": {},
   "outputs": [
    {
     "data": {
      "text/plain": [
       "0"
      ]
     },
     "execution_count": 37,
     "metadata": {},
     "output_type": "execute_result"
    }
   ],
   "source": [
    "# Replace 0 with mean\n",
    "c_3_movie_df.loc[(c_3_movie_df.revenue == 0.0), 'revenue'] = revenue_means[2]\n",
    "len(c_3_movie_df.loc[(c_3_movie_df.revenue == 0.0), 'revenue'])"
   ]
  },
  {
   "cell_type": "markdown",
   "metadata": {},
   "source": [
    "**c_4 0 with revenue_means[3]**"
   ]
  },
  {
   "cell_type": "code",
   "execution_count": 38,
   "metadata": {},
   "outputs": [
    {
     "data": {
      "text/plain": [
       "622"
      ]
     },
     "execution_count": 38,
     "metadata": {},
     "output_type": "execute_result"
    }
   ],
   "source": [
    "# make df splice\n",
    "c_4_movie_df = movie_df.loc[c_4]\n",
    "len(c_4_movie_df.loc[(c_4_movie_df.revenue == 0.0), 'revenue'])"
   ]
  },
  {
   "cell_type": "code",
   "execution_count": 39,
   "metadata": {},
   "outputs": [
    {
     "data": {
      "text/plain": [
       "0"
      ]
     },
     "execution_count": 39,
     "metadata": {},
     "output_type": "execute_result"
    }
   ],
   "source": [
    "# Replace 0 with mean\n",
    "c_4_movie_df.loc[(c_4_movie_df.revenue == 0.0), 'revenue'] = revenue_means[3]\n",
    "len(c_4_movie_df.loc[(c_4_movie_df.revenue == 0.0), 'revenue'])"
   ]
  },
  {
   "cell_type": "markdown",
   "metadata": {},
   "source": [
    "**c_5 0 with revenue_means[4]**"
   ]
  },
  {
   "cell_type": "code",
   "execution_count": 40,
   "metadata": {},
   "outputs": [
    {
     "data": {
      "text/plain": [
       "522"
      ]
     },
     "execution_count": 40,
     "metadata": {},
     "output_type": "execute_result"
    }
   ],
   "source": [
    "# make df splice\n",
    "c_5_movie_df = movie_df.loc[c_5]\n",
    "len(c_5_movie_df.loc[(c_5_movie_df.revenue == 0.0), 'revenue'])"
   ]
  },
  {
   "cell_type": "code",
   "execution_count": 41,
   "metadata": {},
   "outputs": [
    {
     "data": {
      "text/plain": [
       "0"
      ]
     },
     "execution_count": 41,
     "metadata": {},
     "output_type": "execute_result"
    }
   ],
   "source": [
    "# Replace 0 with mean\n",
    "c_5_movie_df.loc[(c_5_movie_df.revenue == 0.0), 'revenue'] = revenue_means[4]\n",
    "len(c_5_movie_df.loc[(c_5_movie_df.revenue == 0.0), 'revenue'])"
   ]
  },
  {
   "cell_type": "markdown",
   "metadata": {},
   "source": [
    "**Merge df splits together into movie_df_modified**"
   ]
  },
  {
   "cell_type": "code",
   "execution_count": 42,
   "metadata": {},
   "outputs": [
    {
     "data": {
      "text/plain": [
       "4660"
      ]
     },
     "execution_count": 42,
     "metadata": {},
     "output_type": "execute_result"
    }
   ],
   "source": [
    "movie_df_modified = pd.concat([c_1_movie_df, c_2_movie_df, c_3_movie_df, c_4_movie_df, c_5_movie_df], ignore_index=True)\n",
    "len(movie_df_modified)"
   ]
  },
  {
   "cell_type": "code",
   "execution_count": 43,
   "metadata": {},
   "outputs": [
    {
     "data": {
      "text/html": [
       "<div>\n",
       "<style scoped>\n",
       "    .dataframe tbody tr th:only-of-type {\n",
       "        vertical-align: middle;\n",
       "    }\n",
       "\n",
       "    .dataframe tbody tr th {\n",
       "        vertical-align: top;\n",
       "    }\n",
       "\n",
       "    .dataframe thead th {\n",
       "        text-align: right;\n",
       "    }\n",
       "</style>\n",
       "<table border=\"1\" class=\"dataframe\">\n",
       "  <thead>\n",
       "    <tr style=\"text-align: right;\">\n",
       "      <th></th>\n",
       "      <th>title</th>\n",
       "      <th>revenue</th>\n",
       "      <th>genres</th>\n",
       "      <th>keywords</th>\n",
       "      <th>original_language</th>\n",
       "      <th>production_companies</th>\n",
       "      <th>production_countries</th>\n",
       "      <th>runtime</th>\n",
       "      <th>spoken_languages</th>\n",
       "      <th>release_date_dt</th>\n",
       "    </tr>\n",
       "  </thead>\n",
       "  <tbody>\n",
       "    <tr>\n",
       "      <th>0</th>\n",
       "      <td>Sweet Charity</td>\n",
       "      <td>20000000.00</td>\n",
       "      <td>[{\"id\": 35, \"name\": \"Comedy\"}, {\"id\": 18, \"nam...</td>\n",
       "      <td>[{\"id\": 978, \"name\": \"broken engagement\"}, {\"i...</td>\n",
       "      <td>en</td>\n",
       "      <td>[{\"name\": \"Universal Pictures\", \"id\": 33}]</td>\n",
       "      <td>[{\"iso_3166_1\": \"US\", \"name\": \"United States o...</td>\n",
       "      <td>149.0</td>\n",
       "      <td>[{\"iso_639_1\": \"en\", \"name\": \"English\"}]</td>\n",
       "      <td>1969-01-01</td>\n",
       "    </tr>\n",
       "    <tr>\n",
       "      <th>1</th>\n",
       "      <td>Machine Gun McCain</td>\n",
       "      <td>56973700.18</td>\n",
       "      <td>[{\"id\": 18, \"name\": \"Drama\"}, {\"id\": 28, \"name...</td>\n",
       "      <td>[{\"id\": 11578, \"name\": \"mobster\"}]</td>\n",
       "      <td>it</td>\n",
       "      <td>[{\"name\": \"Euro International Film (EIA)\", \"id...</td>\n",
       "      <td>[{\"iso_3166_1\": \"IT\", \"name\": \"Italy\"}]</td>\n",
       "      <td>116.0</td>\n",
       "      <td>[{\"iso_639_1\": \"en\", \"name\": \"English\"}]</td>\n",
       "      <td>1969-04-01</td>\n",
       "    </tr>\n",
       "    <tr>\n",
       "      <th>2</th>\n",
       "      <td>Midnight Cowboy</td>\n",
       "      <td>44785053.00</td>\n",
       "      <td>[{\"id\": 18, \"name\": \"Drama\"}]</td>\n",
       "      <td>[{\"id\": 1879, \"name\": \"shower\"}]</td>\n",
       "      <td>en</td>\n",
       "      <td>[{\"name\": \"United Artists\", \"id\": 60}, {\"name\"...</td>\n",
       "      <td>[{\"iso_3166_1\": \"US\", \"name\": \"United States o...</td>\n",
       "      <td>113.0</td>\n",
       "      <td>[{\"iso_639_1\": \"en\", \"name\": \"English\"}, {\"iso...</td>\n",
       "      <td>1969-05-25</td>\n",
       "    </tr>\n",
       "    <tr>\n",
       "      <th>3</th>\n",
       "      <td>The Wild Bunch</td>\n",
       "      <td>638641.00</td>\n",
       "      <td>[{\"id\": 12, \"name\": \"Adventure\"}, {\"id\": 37, \"...</td>\n",
       "      <td>[{\"id\": 240, \"name\": \"underdog\"}, {\"id\": 642, ...</td>\n",
       "      <td>en</td>\n",
       "      <td>[{\"name\": \"Warner Brothers/Seven Arts\", \"id\": ...</td>\n",
       "      <td>[{\"iso_3166_1\": \"US\", \"name\": \"United States o...</td>\n",
       "      <td>145.0</td>\n",
       "      <td>[{\"iso_639_1\": \"en\", \"name\": \"English\"}, {\"iso...</td>\n",
       "      <td>1969-06-17</td>\n",
       "    </tr>\n",
       "    <tr>\n",
       "      <th>4</th>\n",
       "      <td>Mississippi Mermaid</td>\n",
       "      <td>56973700.18</td>\n",
       "      <td>[{\"id\": 80, \"name\": \"Crime\"}, {\"id\": 18, \"name...</td>\n",
       "      <td>[{\"id\": 911, \"name\": \"exotic island\"}, {\"id\": ...</td>\n",
       "      <td>fr</td>\n",
       "      <td>[{\"name\": \"Les Films du Carrosse\", \"id\": 53}, ...</td>\n",
       "      <td>[{\"iso_3166_1\": \"FR\", \"name\": \"France\"}, {\"iso...</td>\n",
       "      <td>123.0</td>\n",
       "      <td>[{\"iso_639_1\": \"fr\", \"name\": \"Fran\\u00e7ais\"}]</td>\n",
       "      <td>1969-06-18</td>\n",
       "    </tr>\n",
       "  </tbody>\n",
       "</table>\n",
       "</div>"
      ],
      "text/plain": [
       "                 title      revenue  \\\n",
       "0        Sweet Charity  20000000.00   \n",
       "1   Machine Gun McCain  56973700.18   \n",
       "2      Midnight Cowboy  44785053.00   \n",
       "3       The Wild Bunch    638641.00   \n",
       "4  Mississippi Mermaid  56973700.18   \n",
       "\n",
       "                                              genres  \\\n",
       "0  [{\"id\": 35, \"name\": \"Comedy\"}, {\"id\": 18, \"nam...   \n",
       "1  [{\"id\": 18, \"name\": \"Drama\"}, {\"id\": 28, \"name...   \n",
       "2                      [{\"id\": 18, \"name\": \"Drama\"}]   \n",
       "3  [{\"id\": 12, \"name\": \"Adventure\"}, {\"id\": 37, \"...   \n",
       "4  [{\"id\": 80, \"name\": \"Crime\"}, {\"id\": 18, \"name...   \n",
       "\n",
       "                                            keywords original_language  \\\n",
       "0  [{\"id\": 978, \"name\": \"broken engagement\"}, {\"i...                en   \n",
       "1                 [{\"id\": 11578, \"name\": \"mobster\"}]                it   \n",
       "2                   [{\"id\": 1879, \"name\": \"shower\"}]                en   \n",
       "3  [{\"id\": 240, \"name\": \"underdog\"}, {\"id\": 642, ...                en   \n",
       "4  [{\"id\": 911, \"name\": \"exotic island\"}, {\"id\": ...                fr   \n",
       "\n",
       "                                production_companies  \\\n",
       "0         [{\"name\": \"Universal Pictures\", \"id\": 33}]   \n",
       "1  [{\"name\": \"Euro International Film (EIA)\", \"id...   \n",
       "2  [{\"name\": \"United Artists\", \"id\": 60}, {\"name\"...   \n",
       "3  [{\"name\": \"Warner Brothers/Seven Arts\", \"id\": ...   \n",
       "4  [{\"name\": \"Les Films du Carrosse\", \"id\": 53}, ...   \n",
       "\n",
       "                                production_countries  runtime  \\\n",
       "0  [{\"iso_3166_1\": \"US\", \"name\": \"United States o...    149.0   \n",
       "1            [{\"iso_3166_1\": \"IT\", \"name\": \"Italy\"}]    116.0   \n",
       "2  [{\"iso_3166_1\": \"US\", \"name\": \"United States o...    113.0   \n",
       "3  [{\"iso_3166_1\": \"US\", \"name\": \"United States o...    145.0   \n",
       "4  [{\"iso_3166_1\": \"FR\", \"name\": \"France\"}, {\"iso...    123.0   \n",
       "\n",
       "                                    spoken_languages release_date_dt  \n",
       "0           [{\"iso_639_1\": \"en\", \"name\": \"English\"}]      1969-01-01  \n",
       "1           [{\"iso_639_1\": \"en\", \"name\": \"English\"}]      1969-04-01  \n",
       "2  [{\"iso_639_1\": \"en\", \"name\": \"English\"}, {\"iso...      1969-05-25  \n",
       "3  [{\"iso_639_1\": \"en\", \"name\": \"English\"}, {\"iso...      1969-06-17  \n",
       "4     [{\"iso_639_1\": \"fr\", \"name\": \"Fran\\u00e7ais\"}]      1969-06-18  "
      ]
     },
     "execution_count": 43,
     "metadata": {},
     "output_type": "execute_result"
    }
   ],
   "source": [
    "movie_df_modified.head()"
   ]
  },
  {
   "cell_type": "code",
   "execution_count": 44,
   "metadata": {},
   "outputs": [
    {
     "name": "stdout",
     "output_type": "stream",
     "text": [
      "7.407937e+07    622\n",
      "1.012778e+08    522\n",
      "8.396770e+07    167\n",
      "5.826813e+07     63\n",
      "5.697370e+07     24\n",
      "Name: revenue, dtype: int64\n",
      " \n",
      "Out of the Blue             2\n",
      "The Host                    2\n",
      "Cool Runnings               1\n",
      "The Theory of Everything    1\n",
      "My Bloody Valentine         1\n",
      "Name: title, dtype: int64\n"
     ]
    }
   ],
   "source": [
    "# Verify output\n",
    "print(movie_df_modified.revenue.value_counts(ascending=False).nlargest())\n",
    "print(' ')\n",
    "print(movie_df_modified.title.value_counts(ascending=False).nlargest())"
   ]
  },
  {
   "cell_type": "markdown",
   "metadata": {},
   "source": [
    "This looks much better. It appears data collection for this dataset must have stopped in early 2017, since no movies released in 2018 and 2019 are present in the dataset despite the maximum year elligibility being 2019."
   ]
  },
  {
   "cell_type": "markdown",
   "metadata": {},
   "source": [
    "### Drop row with the following 3 conditions:\n",
    "    1. movie_df_modified.keyword == []\n",
    "    2. movie_df_modified.production_companies == []\n",
    "    3. movie_df_modified.runtime == 0.0\n",
    "If all 3 of these conditions are met, then the resulting impact on a model built to predict a movie's revenue will be weakened; thus, these rows should be removed entirely."
   ]
  },
  {
   "cell_type": "code",
   "execution_count": 45,
   "metadata": {},
   "outputs": [
    {
     "data": {
      "text/plain": [
       "4641"
      ]
     },
     "execution_count": 45,
     "metadata": {},
     "output_type": "execute_result"
    }
   ],
   "source": [
    "# Drop rows with sub-optimal conditions:\n",
    "\n",
    "# empty keyword, production company, and runtime of 0\n",
    "movie_df_modified = movie_df_modified.drop(\n",
    "     movie_df_modified[(movie_df_modified.runtime == 0.0) & \n",
    "              (movie_df_modified.keywords == \"[]\") & \n",
    "              (movie_df_modified.production_companies == \"[]\")].index)\n",
    "\n",
    "# Drop rows where \n",
    "len(movie_df_modified)"
   ]
  },
  {
   "cell_type": "code",
   "execution_count": 46,
   "metadata": {},
   "outputs": [
    {
     "data": {
      "text/html": [
       "<div>\n",
       "<style scoped>\n",
       "    .dataframe tbody tr th:only-of-type {\n",
       "        vertical-align: middle;\n",
       "    }\n",
       "\n",
       "    .dataframe tbody tr th {\n",
       "        vertical-align: top;\n",
       "    }\n",
       "\n",
       "    .dataframe thead th {\n",
       "        text-align: right;\n",
       "    }\n",
       "</style>\n",
       "<table border=\"1\" class=\"dataframe\">\n",
       "  <thead>\n",
       "    <tr style=\"text-align: right;\">\n",
       "      <th></th>\n",
       "      <th>index</th>\n",
       "      <th>title</th>\n",
       "      <th>revenue</th>\n",
       "      <th>genres</th>\n",
       "      <th>keywords</th>\n",
       "      <th>original_language</th>\n",
       "      <th>production_companies</th>\n",
       "      <th>production_countries</th>\n",
       "      <th>runtime</th>\n",
       "      <th>spoken_languages</th>\n",
       "      <th>release_date_dt</th>\n",
       "    </tr>\n",
       "  </thead>\n",
       "  <tbody>\n",
       "    <tr>\n",
       "      <th>0</th>\n",
       "      <td>3208</td>\n",
       "      <td>Avatar</td>\n",
       "      <td>2.787965e+09</td>\n",
       "      <td>[{\"id\": 28, \"name\": \"Action\"}, {\"id\": 12, \"nam...</td>\n",
       "      <td>[{\"id\": 1463, \"name\": \"culture clash\"}, {\"id\":...</td>\n",
       "      <td>en</td>\n",
       "      <td>[{\"name\": \"Ingenious Film Partners\", \"id\": 289...</td>\n",
       "      <td>[{\"iso_3166_1\": \"US\", \"name\": \"United States o...</td>\n",
       "      <td>162.0</td>\n",
       "      <td>[{\"iso_639_1\": \"en\", \"name\": \"English\"}, {\"iso...</td>\n",
       "      <td>2009-12-10</td>\n",
       "    </tr>\n",
       "    <tr>\n",
       "      <th>1</th>\n",
       "      <td>853</td>\n",
       "      <td>Titanic</td>\n",
       "      <td>1.845034e+09</td>\n",
       "      <td>[{\"id\": 18, \"name\": \"Drama\"}, {\"id\": 10749, \"n...</td>\n",
       "      <td>[{\"id\": 2580, \"name\": \"shipwreck\"}, {\"id\": 298...</td>\n",
       "      <td>en</td>\n",
       "      <td>[{\"name\": \"Paramount Pictures\", \"id\": 4}, {\"na...</td>\n",
       "      <td>[{\"iso_3166_1\": \"US\", \"name\": \"United States o...</td>\n",
       "      <td>194.0</td>\n",
       "      <td>[{\"iso_639_1\": \"en\", \"name\": \"English\"}, {\"iso...</td>\n",
       "      <td>1997-11-18</td>\n",
       "    </tr>\n",
       "  </tbody>\n",
       "</table>\n",
       "</div>"
      ],
      "text/plain": [
       "   index    title       revenue  \\\n",
       "0   3208   Avatar  2.787965e+09   \n",
       "1    853  Titanic  1.845034e+09   \n",
       "\n",
       "                                              genres  \\\n",
       "0  [{\"id\": 28, \"name\": \"Action\"}, {\"id\": 12, \"nam...   \n",
       "1  [{\"id\": 18, \"name\": \"Drama\"}, {\"id\": 10749, \"n...   \n",
       "\n",
       "                                            keywords original_language  \\\n",
       "0  [{\"id\": 1463, \"name\": \"culture clash\"}, {\"id\":...                en   \n",
       "1  [{\"id\": 2580, \"name\": \"shipwreck\"}, {\"id\": 298...                en   \n",
       "\n",
       "                                production_companies  \\\n",
       "0  [{\"name\": \"Ingenious Film Partners\", \"id\": 289...   \n",
       "1  [{\"name\": \"Paramount Pictures\", \"id\": 4}, {\"na...   \n",
       "\n",
       "                                production_countries  runtime  \\\n",
       "0  [{\"iso_3166_1\": \"US\", \"name\": \"United States o...    162.0   \n",
       "1  [{\"iso_3166_1\": \"US\", \"name\": \"United States o...    194.0   \n",
       "\n",
       "                                    spoken_languages release_date_dt  \n",
       "0  [{\"iso_639_1\": \"en\", \"name\": \"English\"}, {\"iso...      2009-12-10  \n",
       "1  [{\"iso_639_1\": \"en\", \"name\": \"English\"}, {\"iso...      1997-11-18  "
      ]
     },
     "execution_count": 46,
     "metadata": {},
     "output_type": "execute_result"
    }
   ],
   "source": [
    "# Sort Values by revenue\n",
    "movie_df_modified = movie_df_modified.sort_values(by='revenue', ascending=False)\n",
    "\n",
    "#Reset Index\n",
    "movie_df_modified = movie_df_modified.reset_index()\n",
    "movie_df_modified.head(2)"
   ]
  },
  {
   "cell_type": "code",
   "execution_count": 47,
   "metadata": {},
   "outputs": [
    {
     "data": {
      "text/html": [
       "<div>\n",
       "<style scoped>\n",
       "    .dataframe tbody tr th:only-of-type {\n",
       "        vertical-align: middle;\n",
       "    }\n",
       "\n",
       "    .dataframe tbody tr th {\n",
       "        vertical-align: top;\n",
       "    }\n",
       "\n",
       "    .dataframe thead th {\n",
       "        text-align: right;\n",
       "    }\n",
       "</style>\n",
       "<table border=\"1\" class=\"dataframe\">\n",
       "  <thead>\n",
       "    <tr style=\"text-align: right;\">\n",
       "      <th></th>\n",
       "      <th>title</th>\n",
       "      <th>revenue</th>\n",
       "      <th>genres</th>\n",
       "      <th>keywords</th>\n",
       "      <th>original_language</th>\n",
       "      <th>production_companies</th>\n",
       "      <th>production_countries</th>\n",
       "      <th>runtime</th>\n",
       "      <th>spoken_languages</th>\n",
       "      <th>release_date_dt</th>\n",
       "    </tr>\n",
       "  </thead>\n",
       "  <tbody>\n",
       "    <tr>\n",
       "      <th>0</th>\n",
       "      <td>Avatar</td>\n",
       "      <td>2.787965e+09</td>\n",
       "      <td>[{\"id\": 28, \"name\": \"Action\"}, {\"id\": 12, \"nam...</td>\n",
       "      <td>[{\"id\": 1463, \"name\": \"culture clash\"}, {\"id\":...</td>\n",
       "      <td>en</td>\n",
       "      <td>[{\"name\": \"Ingenious Film Partners\", \"id\": 289...</td>\n",
       "      <td>[{\"iso_3166_1\": \"US\", \"name\": \"United States o...</td>\n",
       "      <td>162.0</td>\n",
       "      <td>[{\"iso_639_1\": \"en\", \"name\": \"English\"}, {\"iso...</td>\n",
       "      <td>2009-12-10</td>\n",
       "    </tr>\n",
       "    <tr>\n",
       "      <th>1</th>\n",
       "      <td>Titanic</td>\n",
       "      <td>1.845034e+09</td>\n",
       "      <td>[{\"id\": 18, \"name\": \"Drama\"}, {\"id\": 10749, \"n...</td>\n",
       "      <td>[{\"id\": 2580, \"name\": \"shipwreck\"}, {\"id\": 298...</td>\n",
       "      <td>en</td>\n",
       "      <td>[{\"name\": \"Paramount Pictures\", \"id\": 4}, {\"na...</td>\n",
       "      <td>[{\"iso_3166_1\": \"US\", \"name\": \"United States o...</td>\n",
       "      <td>194.0</td>\n",
       "      <td>[{\"iso_639_1\": \"en\", \"name\": \"English\"}, {\"iso...</td>\n",
       "      <td>1997-11-18</td>\n",
       "    </tr>\n",
       "  </tbody>\n",
       "</table>\n",
       "</div>"
      ],
      "text/plain": [
       "     title       revenue                                             genres  \\\n",
       "0   Avatar  2.787965e+09  [{\"id\": 28, \"name\": \"Action\"}, {\"id\": 12, \"nam...   \n",
       "1  Titanic  1.845034e+09  [{\"id\": 18, \"name\": \"Drama\"}, {\"id\": 10749, \"n...   \n",
       "\n",
       "                                            keywords original_language  \\\n",
       "0  [{\"id\": 1463, \"name\": \"culture clash\"}, {\"id\":...                en   \n",
       "1  [{\"id\": 2580, \"name\": \"shipwreck\"}, {\"id\": 298...                en   \n",
       "\n",
       "                                production_companies  \\\n",
       "0  [{\"name\": \"Ingenious Film Partners\", \"id\": 289...   \n",
       "1  [{\"name\": \"Paramount Pictures\", \"id\": 4}, {\"na...   \n",
       "\n",
       "                                production_countries  runtime  \\\n",
       "0  [{\"iso_3166_1\": \"US\", \"name\": \"United States o...    162.0   \n",
       "1  [{\"iso_3166_1\": \"US\", \"name\": \"United States o...    194.0   \n",
       "\n",
       "                                    spoken_languages release_date_dt  \n",
       "0  [{\"iso_639_1\": \"en\", \"name\": \"English\"}, {\"iso...      2009-12-10  \n",
       "1  [{\"iso_639_1\": \"en\", \"name\": \"English\"}, {\"iso...      1997-11-18  "
      ]
     },
     "execution_count": 47,
     "metadata": {},
     "output_type": "execute_result"
    }
   ],
   "source": [
    "# Drop index\n",
    "movie_df_modified = movie_df_modified.drop(columns='index')\n",
    "movie_df_modified.head(2)"
   ]
  },
  {
   "cell_type": "code",
   "execution_count": 48,
   "metadata": {},
   "outputs": [
    {
     "name": "stdout",
     "output_type": "stream",
     "text": [
      "Stored 'movie_df' (DataFrame)\n"
     ]
    }
   ],
   "source": [
    "# Store dataframe globally\n",
    "movie_df = movie_df_modified.copy()\n",
    "%store movie_df"
   ]
  }
 ],
 "metadata": {
  "kernelspec": {
   "display_name": "Python 3",
   "language": "python",
   "name": "python3"
  },
  "language_info": {
   "codemirror_mode": {
    "name": "ipython",
    "version": 3
   },
   "file_extension": ".py",
   "mimetype": "text/x-python",
   "name": "python",
   "nbconvert_exporter": "python",
   "pygments_lexer": "ipython3",
   "version": "3.7.3"
  }
 },
 "nbformat": 4,
 "nbformat_minor": 2
}
