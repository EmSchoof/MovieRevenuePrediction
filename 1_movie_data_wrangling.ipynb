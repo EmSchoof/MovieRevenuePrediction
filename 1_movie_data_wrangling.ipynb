{
 "cells": [
  {
   "cell_type": "markdown",
   "metadata": {},
   "source": [
    "## Movie Revenue Prediction \n",
    "\n",
    "### Objective: Your client is a movie studio and they need to be able to predict movie revenue in order to greenlight the project and assign a budget to it. \n",
    "- Most of the data is comprised of categorical variables. \n",
    "- While the budget for the movie is known in the dataset, it is often an unknown variable during the greenlighting process. "
   ]
  },
  {
   "cell_type": "code",
   "execution_count": 1,
   "metadata": {},
   "outputs": [
    {
     "name": "stdout",
     "output_type": "stream",
     "text": [
      "Emily Schoof 2019-08-14 21:58:27 \n",
      "\n",
      "CPython 3.7.3\n",
      "IPython 7.4.0\n",
      "\n",
      "numpy 1.16.2\n",
      "pandas 0.24.2\n",
      "matplotlib 3.0.3\n"
     ]
    }
   ],
   "source": [
    "%load_ext watermark\n",
    "%watermark -a \"Emily Schoof\" -d -t -v -p numpy,pandas,matplotlib"
   ]
  },
  {
   "cell_type": "markdown",
   "metadata": {},
   "source": [
    "## Section 1: Data Preprocessing\n",
    "- Load Movie_Revenue_Predictions.csv data\n",
    "- Cleaning Data and Exploration"
   ]
  },
  {
   "cell_type": "code",
   "execution_count": 2,
   "metadata": {},
   "outputs": [],
   "source": [
    "# Import necessary modules\n",
    "import pandas as pd\n",
    "from pandas import DataFrame\n",
    "import numpy as np\n",
    "import matplotlib.pyplot as plt\n",
    "import datetime"
   ]
  },
  {
   "cell_type": "code",
   "execution_count": 3,
   "metadata": {},
   "outputs": [
    {
     "data": {
      "text/html": [
       "<div>\n",
       "<style scoped>\n",
       "    .dataframe tbody tr th:only-of-type {\n",
       "        vertical-align: middle;\n",
       "    }\n",
       "\n",
       "    .dataframe tbody tr th {\n",
       "        vertical-align: top;\n",
       "    }\n",
       "\n",
       "    .dataframe thead th {\n",
       "        text-align: right;\n",
       "    }\n",
       "</style>\n",
       "<table border=\"1\" class=\"dataframe\">\n",
       "  <thead>\n",
       "    <tr style=\"text-align: right;\">\n",
       "      <th></th>\n",
       "      <th>title</th>\n",
       "      <th>tagline</th>\n",
       "      <th>revenue</th>\n",
       "      <th>budget</th>\n",
       "      <th>genres</th>\n",
       "      <th>homepage</th>\n",
       "      <th>id</th>\n",
       "      <th>keywords</th>\n",
       "      <th>original_language</th>\n",
       "      <th>overview</th>\n",
       "      <th>production_companies</th>\n",
       "      <th>production_countries</th>\n",
       "      <th>release_date</th>\n",
       "      <th>runtime</th>\n",
       "      <th>spoken_languages</th>\n",
       "      <th>status</th>\n",
       "    </tr>\n",
       "  </thead>\n",
       "  <tbody>\n",
       "    <tr>\n",
       "      <th>0</th>\n",
       "      <td>Avatar</td>\n",
       "      <td>Enter the World of Pandora.</td>\n",
       "      <td>2787965087</td>\n",
       "      <td>237000000</td>\n",
       "      <td>[{\"id\": 28, \"name\": \"Action\"}, {\"id\": 12, \"nam...</td>\n",
       "      <td>http://www.avatarmovie.com/</td>\n",
       "      <td>19995</td>\n",
       "      <td>[{\"id\": 1463, \"name\": \"culture clash\"}, {\"id\":...</td>\n",
       "      <td>en</td>\n",
       "      <td>In the 22nd century, a paraplegic Marine is di...</td>\n",
       "      <td>[{\"name\": \"Ingenious Film Partners\", \"id\": 289...</td>\n",
       "      <td>[{\"iso_3166_1\": \"US\", \"name\": \"United States o...</td>\n",
       "      <td>12/10/09</td>\n",
       "      <td>162.0</td>\n",
       "      <td>[{\"iso_639_1\": \"en\", \"name\": \"English\"}, {\"iso...</td>\n",
       "      <td>Released</td>\n",
       "    </tr>\n",
       "    <tr>\n",
       "      <th>1</th>\n",
       "      <td>Pirates of the Caribbean: At World's End</td>\n",
       "      <td>At the end of the world, the adventure begins.</td>\n",
       "      <td>961000000</td>\n",
       "      <td>300000000</td>\n",
       "      <td>[{\"id\": 12, \"name\": \"Adventure\"}, {\"id\": 14, \"...</td>\n",
       "      <td>http://disney.go.com/disneypictures/pirates/</td>\n",
       "      <td>285</td>\n",
       "      <td>[{\"id\": 270, \"name\": \"ocean\"}, {\"id\": 726, \"na...</td>\n",
       "      <td>en</td>\n",
       "      <td>Captain Barbossa, long believed to be dead, ha...</td>\n",
       "      <td>[{\"name\": \"Walt Disney Pictures\", \"id\": 2}, {\"...</td>\n",
       "      <td>[{\"iso_3166_1\": \"US\", \"name\": \"United States o...</td>\n",
       "      <td>5/19/07</td>\n",
       "      <td>169.0</td>\n",
       "      <td>[{\"iso_639_1\": \"en\", \"name\": \"English\"}]</td>\n",
       "      <td>Released</td>\n",
       "    </tr>\n",
       "  </tbody>\n",
       "</table>\n",
       "</div>"
      ],
      "text/plain": [
       "                                      title  \\\n",
       "0                                    Avatar   \n",
       "1  Pirates of the Caribbean: At World's End   \n",
       "\n",
       "                                          tagline     revenue     budget  \\\n",
       "0                     Enter the World of Pandora.  2787965087  237000000   \n",
       "1  At the end of the world, the adventure begins.   961000000  300000000   \n",
       "\n",
       "                                              genres  \\\n",
       "0  [{\"id\": 28, \"name\": \"Action\"}, {\"id\": 12, \"nam...   \n",
       "1  [{\"id\": 12, \"name\": \"Adventure\"}, {\"id\": 14, \"...   \n",
       "\n",
       "                                       homepage     id  \\\n",
       "0                   http://www.avatarmovie.com/  19995   \n",
       "1  http://disney.go.com/disneypictures/pirates/    285   \n",
       "\n",
       "                                            keywords original_language  \\\n",
       "0  [{\"id\": 1463, \"name\": \"culture clash\"}, {\"id\":...                en   \n",
       "1  [{\"id\": 270, \"name\": \"ocean\"}, {\"id\": 726, \"na...                en   \n",
       "\n",
       "                                            overview  \\\n",
       "0  In the 22nd century, a paraplegic Marine is di...   \n",
       "1  Captain Barbossa, long believed to be dead, ha...   \n",
       "\n",
       "                                production_companies  \\\n",
       "0  [{\"name\": \"Ingenious Film Partners\", \"id\": 289...   \n",
       "1  [{\"name\": \"Walt Disney Pictures\", \"id\": 2}, {\"...   \n",
       "\n",
       "                                production_countries release_date  runtime  \\\n",
       "0  [{\"iso_3166_1\": \"US\", \"name\": \"United States o...     12/10/09    162.0   \n",
       "1  [{\"iso_3166_1\": \"US\", \"name\": \"United States o...      5/19/07    169.0   \n",
       "\n",
       "                                    spoken_languages    status  \n",
       "0  [{\"iso_639_1\": \"en\", \"name\": \"English\"}, {\"iso...  Released  \n",
       "1           [{\"iso_639_1\": \"en\", \"name\": \"English\"}]  Released  "
      ]
     },
     "execution_count": 3,
     "metadata": {},
     "output_type": "execute_result"
    }
   ],
   "source": [
    "# Load the dataset\n",
    "movie_df = DataFrame(pd.read_csv('Movie_Revenue_Predictions.csv'))\n",
    "movie_df.head(2)"
   ]
  },
  {
   "cell_type": "code",
   "execution_count": 4,
   "metadata": {},
   "outputs": [
    {
     "data": {
      "text/plain": [
       "(4803, 16)"
      ]
     },
     "execution_count": 4,
     "metadata": {},
     "output_type": "execute_result"
    }
   ],
   "source": [
    "# Assess shape of data\n",
    "movie_df.shape"
   ]
  },
  {
   "cell_type": "code",
   "execution_count": 5,
   "metadata": {},
   "outputs": [
    {
     "name": "stdout",
     "output_type": "stream",
     "text": [
      "<class 'pandas.core.frame.DataFrame'>\n",
      "RangeIndex: 4803 entries, 0 to 4802\n",
      "Data columns (total 16 columns):\n",
      "title                   4803 non-null object\n",
      "tagline                 3959 non-null object\n",
      "revenue                 4803 non-null int64\n",
      "budget                  4803 non-null int64\n",
      "genres                  4803 non-null object\n",
      "homepage                1712 non-null object\n",
      "id                      4803 non-null int64\n",
      "keywords                4803 non-null object\n",
      "original_language       4803 non-null object\n",
      "overview                4800 non-null object\n",
      "production_companies    4803 non-null object\n",
      "production_countries    4803 non-null object\n",
      "release_date            4802 non-null object\n",
      "runtime                 4801 non-null float64\n",
      "spoken_languages        4803 non-null object\n",
      "status                  4803 non-null object\n",
      "dtypes: float64(1), int64(3), object(12)\n",
      "memory usage: 600.5+ KB\n"
     ]
    }
   ],
   "source": [
    "# Assess dataframe\n",
    "movie_df.info()"
   ]
  },
  {
   "cell_type": "code",
   "execution_count": 6,
   "metadata": {},
   "outputs": [
    {
     "data": {
      "text/plain": [
       "title                      0\n",
       "tagline                  844\n",
       "revenue                    0\n",
       "budget                     0\n",
       "genres                     0\n",
       "homepage                3091\n",
       "id                         0\n",
       "keywords                   0\n",
       "original_language          0\n",
       "overview                   3\n",
       "production_companies       0\n",
       "production_countries       0\n",
       "release_date               1\n",
       "runtime                    2\n",
       "spoken_languages           0\n",
       "status                     0\n",
       "dtype: int64"
      ]
     },
     "execution_count": 6,
     "metadata": {},
     "output_type": "execute_result"
    }
   ],
   "source": [
    "movie_df.isnull().sum()"
   ]
  },
  {
   "cell_type": "markdown",
   "metadata": {},
   "source": [
    "## Resolution of NaN Values\n",
    "#### 1. Numerical columns:\n",
    "   - **runtime** (2 NaN)\n",
    "       - since there are so few instances, dropping the NaN rows will not interfere with the analysis of movie revenue. \n",
    "        \n",
    "#### 2. Categorical/Object columns:\n",
    "Filling in NaN categorical values in the remaining columns is a bit tricky since there is no easily-applied statistical method.\n",
    "   - **homepage** (3091 NaN)\n",
    "        - 3/4 of the data is missing (3091 of the total 4803), so this column cannot be effectively utilized for this model and should be dropped.\n",
    "   - **overview** (3 NaN)\n",
    "        - since there are so few instances, dropping the NaN rows will not interfere with the analysis of movie revenue. \n",
    "   - **release_date** (1 NaN)\n",
    "        - since there are so few instances, dropping the NaN rows will not interfere with the analysis of movie revenue. \n",
    "   - **tagline** (844 NaN)\n",
    "        - while 844 is well under 1/4 of the total data, the tagline for a movie may in fact have a significant impact on movie revenue due to its marketing implications. Therefore, I will attempt to predict the tagline column missing values with random forest, as documented in this source article: https://www.mikulskibartosz.name/fill-missing-values-using-random-forest/. *Sense this will result in the conversion of the dataset in to numerical/encoded values, this resolution will be reserved for after all other values have been resolved.*"
   ]
  },
  {
   "cell_type": "code",
   "execution_count": 7,
   "metadata": {},
   "outputs": [
    {
     "data": {
      "text/plain": [
       "4799"
      ]
     },
     "execution_count": 7,
     "metadata": {},
     "output_type": "execute_result"
    }
   ],
   "source": [
    "# Drop NaNs in Numerical Columns - only select rows where overview, runtime, and release_date columns are \"not null\"\n",
    "movie_df = movie_df.dropna(subset=['runtime', 'overview', 'release_date'])\n",
    "len(movie_df)"
   ]
  },
  {
   "cell_type": "code",
   "execution_count": 8,
   "metadata": {},
   "outputs": [
    {
     "data": {
      "text/plain": [
       "0   2009-12-10\n",
       "1   2007-05-19\n",
       "Name: release_date_dt, dtype: datetime64[ns]"
      ]
     },
     "execution_count": 8,
     "metadata": {},
     "output_type": "execute_result"
    }
   ],
   "source": [
    "# Convert Dates to Datetime Objects\n",
    "movie_df['release_date_dt'] = pd.to_datetime(movie_df['release_date'], infer_datetime_format=True)\n",
    "movie_df['release_date_dt'].head(2)"
   ]
  },
  {
   "cell_type": "code",
   "execution_count": 9,
   "metadata": {},
   "outputs": [
    {
     "data": {
      "text/html": [
       "<div>\n",
       "<style scoped>\n",
       "    .dataframe tbody tr th:only-of-type {\n",
       "        vertical-align: middle;\n",
       "    }\n",
       "\n",
       "    .dataframe tbody tr th {\n",
       "        vertical-align: top;\n",
       "    }\n",
       "\n",
       "    .dataframe thead th {\n",
       "        text-align: right;\n",
       "    }\n",
       "</style>\n",
       "<table border=\"1\" class=\"dataframe\">\n",
       "  <thead>\n",
       "    <tr style=\"text-align: right;\">\n",
       "      <th></th>\n",
       "      <th>title</th>\n",
       "      <th>tagline</th>\n",
       "      <th>revenue</th>\n",
       "      <th>budget</th>\n",
       "      <th>genres</th>\n",
       "      <th>id</th>\n",
       "      <th>keywords</th>\n",
       "      <th>original_language</th>\n",
       "      <th>overview</th>\n",
       "      <th>production_companies</th>\n",
       "      <th>production_countries</th>\n",
       "      <th>runtime</th>\n",
       "      <th>spoken_languages</th>\n",
       "      <th>status</th>\n",
       "      <th>release_date_dt</th>\n",
       "    </tr>\n",
       "  </thead>\n",
       "  <tbody>\n",
       "    <tr>\n",
       "      <th>0</th>\n",
       "      <td>Avatar</td>\n",
       "      <td>Enter the World of Pandora.</td>\n",
       "      <td>2787965087</td>\n",
       "      <td>237000000</td>\n",
       "      <td>[{\"id\": 28, \"name\": \"Action\"}, {\"id\": 12, \"nam...</td>\n",
       "      <td>19995</td>\n",
       "      <td>[{\"id\": 1463, \"name\": \"culture clash\"}, {\"id\":...</td>\n",
       "      <td>en</td>\n",
       "      <td>In the 22nd century, a paraplegic Marine is di...</td>\n",
       "      <td>[{\"name\": \"Ingenious Film Partners\", \"id\": 289...</td>\n",
       "      <td>[{\"iso_3166_1\": \"US\", \"name\": \"United States o...</td>\n",
       "      <td>162.0</td>\n",
       "      <td>[{\"iso_639_1\": \"en\", \"name\": \"English\"}, {\"iso...</td>\n",
       "      <td>Released</td>\n",
       "      <td>2009-12-10</td>\n",
       "    </tr>\n",
       "    <tr>\n",
       "      <th>1</th>\n",
       "      <td>Pirates of the Caribbean: At World's End</td>\n",
       "      <td>At the end of the world, the adventure begins.</td>\n",
       "      <td>961000000</td>\n",
       "      <td>300000000</td>\n",
       "      <td>[{\"id\": 12, \"name\": \"Adventure\"}, {\"id\": 14, \"...</td>\n",
       "      <td>285</td>\n",
       "      <td>[{\"id\": 270, \"name\": \"ocean\"}, {\"id\": 726, \"na...</td>\n",
       "      <td>en</td>\n",
       "      <td>Captain Barbossa, long believed to be dead, ha...</td>\n",
       "      <td>[{\"name\": \"Walt Disney Pictures\", \"id\": 2}, {\"...</td>\n",
       "      <td>[{\"iso_3166_1\": \"US\", \"name\": \"United States o...</td>\n",
       "      <td>169.0</td>\n",
       "      <td>[{\"iso_639_1\": \"en\", \"name\": \"English\"}]</td>\n",
       "      <td>Released</td>\n",
       "      <td>2007-05-19</td>\n",
       "    </tr>\n",
       "  </tbody>\n",
       "</table>\n",
       "</div>"
      ],
      "text/plain": [
       "                                      title  \\\n",
       "0                                    Avatar   \n",
       "1  Pirates of the Caribbean: At World's End   \n",
       "\n",
       "                                          tagline     revenue     budget  \\\n",
       "0                     Enter the World of Pandora.  2787965087  237000000   \n",
       "1  At the end of the world, the adventure begins.   961000000  300000000   \n",
       "\n",
       "                                              genres     id  \\\n",
       "0  [{\"id\": 28, \"name\": \"Action\"}, {\"id\": 12, \"nam...  19995   \n",
       "1  [{\"id\": 12, \"name\": \"Adventure\"}, {\"id\": 14, \"...    285   \n",
       "\n",
       "                                            keywords original_language  \\\n",
       "0  [{\"id\": 1463, \"name\": \"culture clash\"}, {\"id\":...                en   \n",
       "1  [{\"id\": 270, \"name\": \"ocean\"}, {\"id\": 726, \"na...                en   \n",
       "\n",
       "                                            overview  \\\n",
       "0  In the 22nd century, a paraplegic Marine is di...   \n",
       "1  Captain Barbossa, long believed to be dead, ha...   \n",
       "\n",
       "                                production_companies  \\\n",
       "0  [{\"name\": \"Ingenious Film Partners\", \"id\": 289...   \n",
       "1  [{\"name\": \"Walt Disney Pictures\", \"id\": 2}, {\"...   \n",
       "\n",
       "                                production_countries  runtime  \\\n",
       "0  [{\"iso_3166_1\": \"US\", \"name\": \"United States o...    162.0   \n",
       "1  [{\"iso_3166_1\": \"US\", \"name\": \"United States o...    169.0   \n",
       "\n",
       "                                    spoken_languages    status release_date_dt  \n",
       "0  [{\"iso_639_1\": \"en\", \"name\": \"English\"}, {\"iso...  Released      2009-12-10  \n",
       "1           [{\"iso_639_1\": \"en\", \"name\": \"English\"}]  Released      2007-05-19  "
      ]
     },
     "execution_count": 9,
     "metadata": {},
     "output_type": "execute_result"
    }
   ],
   "source": [
    "# Drop Columns with Too Many NaNs *(> 50% of entries)* to Resolve\n",
    "movie_df = movie_df.drop(columns=['homepage', 'release_date'])\n",
    "movie_df.head(2)"
   ]
  },
  {
   "cell_type": "code",
   "execution_count": 10,
   "metadata": {},
   "outputs": [
    {
     "data": {
      "text/plain": [
       "title                     0\n",
       "tagline                 840\n",
       "revenue                   0\n",
       "budget                    0\n",
       "genres                    0\n",
       "id                        0\n",
       "keywords                  0\n",
       "original_language         0\n",
       "overview                  0\n",
       "production_companies      0\n",
       "production_countries      0\n",
       "runtime                   0\n",
       "spoken_languages          0\n",
       "status                    0\n",
       "release_date_dt           0\n",
       "dtype: int64"
      ]
     },
     "execution_count": 10,
     "metadata": {},
     "output_type": "execute_result"
    }
   ],
   "source": [
    "# Test output\n",
    "movie_df.isnull().sum()"
   ]
  },
  {
   "cell_type": "markdown",
   "metadata": {},
   "source": [
    "## Explore the Values within Each Column"
   ]
  },
  {
   "cell_type": "code",
   "execution_count": 11,
   "metadata": {},
   "outputs": [],
   "source": [
    "# Import helpful modules\n",
    "from collections import Counter"
   ]
  },
  {
   "cell_type": "markdown",
   "metadata": {},
   "source": [
    "**Title**"
   ]
  },
  {
   "cell_type": "code",
   "execution_count": 12,
   "metadata": {},
   "outputs": [
    {
     "name": "stdout",
     "output_type": "stream",
     "text": [
      "4796\n",
      "count                4799\n",
      "unique               4796\n",
      "top       Out of the Blue\n",
      "freq                    2\n",
      "Name: title, dtype: object\n"
     ]
    },
    {
     "data": {
      "text/plain": [
       "Out of the Blue    2\n",
       "Batman             2\n",
       "The Host           2\n",
       "Before Sunset      1\n",
       "Marvin's Room      1\n",
       "Name: title, dtype: int64"
      ]
     },
     "execution_count": 12,
     "metadata": {},
     "output_type": "execute_result"
    }
   ],
   "source": [
    "print(len(movie_df.title.value_counts(ascending=False)))\n",
    "print(movie_df.title.describe())\n",
    "movie_df.title.value_counts(ascending=False).nlargest()"
   ]
  },
  {
   "cell_type": "markdown",
   "metadata": {},
   "source": [
    "*Aside from more two movie entries per Batman, Out of the Blue, and The Host movies, all other movie titles within the dataset only appear once.*"
   ]
  },
  {
   "cell_type": "markdown",
   "metadata": {},
   "source": [
    "**Revenue**"
   ]
  },
  {
   "cell_type": "code",
   "execution_count": 13,
   "metadata": {},
   "outputs": [
    {
     "name": "stdout",
     "output_type": "stream",
     "text": [
      "3297\n",
      "count    4.799000e+03\n",
      "mean     8.232920e+07\n",
      "std      1.629076e+08\n",
      "min      0.000000e+00\n",
      "25%      0.000000e+00\n",
      "50%      1.918402e+07\n",
      "75%      9.295652e+07\n",
      "max      2.787965e+09\n",
      "Name: revenue, dtype: float64\n"
     ]
    },
    {
     "data": {
      "text/plain": [
       "0           1423\n",
       "7000000        6\n",
       "8000000        6\n",
       "6000000        5\n",
       "12000000       5\n",
       "Name: revenue, dtype: int64"
      ]
     },
     "execution_count": 13,
     "metadata": {},
     "output_type": "execute_result"
    }
   ],
   "source": [
    "print(len(movie_df.revenue.value_counts(ascending=False)))\n",
    "print(movie_df.revenue.describe())\n",
    "movie_df.revenue.value_counts(ascending=False).nlargest()"
   ]
  },
  {
   "cell_type": "markdown",
   "metadata": {},
   "source": [
    "*There are 1423 movies within the dataset that have a reported $0 for revenue. This is most likely due to missing data. Since movie revenue is the target variable, these instances need to be kept in mind.*"
   ]
  },
  {
   "cell_type": "markdown",
   "metadata": {},
   "source": [
    "**Budget**"
   ]
  },
  {
   "cell_type": "code",
   "execution_count": 14,
   "metadata": {},
   "outputs": [
    {
     "name": "stdout",
     "output_type": "stream",
     "text": [
      "434\n",
      "count    4.799000e+03\n",
      "mean     2.906593e+07\n",
      "std      4.073251e+07\n",
      "min      0.000000e+00\n",
      "25%      8.000000e+05\n",
      "50%      1.500000e+07\n",
      "75%      4.000000e+07\n",
      "max      3.800000e+08\n",
      "Name: budget, dtype: float64\n"
     ]
    },
    {
     "data": {
      "text/plain": [
       "0           1036\n",
       "20000000     144\n",
       "30000000     128\n",
       "25000000     126\n",
       "40000000     123\n",
       "Name: budget, dtype: int64"
      ]
     },
     "execution_count": 14,
     "metadata": {},
     "output_type": "execute_result"
    }
   ],
   "source": [
    "print(len(movie_df.budget.value_counts(ascending=False)))\n",
    "print(movie_df.budget.describe())\n",
    "movie_df.budget.value_counts(ascending=False).nlargest()"
   ]
  },
  {
   "cell_type": "markdown",
   "metadata": {},
   "source": [
    "*Similar to revenue, there are 1036 movies within the dataset that have a reported $0 for budget. This is most likely due to missing data. Since movie revenue is the target variable, these instances need to be kept in mind.*"
   ]
  },
  {
   "cell_type": "markdown",
   "metadata": {},
   "source": [
    "**Genres**"
   ]
  },
  {
   "cell_type": "code",
   "execution_count": 21,
   "metadata": {},
   "outputs": [
    {
     "name": "stdout",
     "output_type": "stream",
     "text": [
      "count                              4799\n",
      "unique                             1175\n",
      "top       [{\"id\": 18, \"name\": \"Drama\"}]\n",
      "freq                                369\n",
      "Name: genres, dtype: object\n",
      "1175\n",
      "[{\"id\": 18, \"name\": \"Drama\"}] 369\n"
     ]
    },
    {
     "data": {
      "text/plain": [
       "[{\"id\": 18, \"name\": \"Drama\"}]                                       369\n",
       "[{\"id\": 35, \"name\": \"Comedy\"}]                                      282\n",
       "[{\"id\": 18, \"name\": \"Drama\"}, {\"id\": 10749, \"name\": \"Romance\"}]     164\n",
       "[{\"id\": 35, \"name\": \"Comedy\"}, {\"id\": 10749, \"name\": \"Romance\"}]    144\n",
       "[{\"id\": 35, \"name\": \"Comedy\"}, {\"id\": 18, \"name\": \"Drama\"}]         142\n",
       "Name: genres, dtype: int64"
      ]
     },
     "execution_count": 21,
     "metadata": {},
     "output_type": "execute_result"
    }
   ],
   "source": [
    "print(movie_df.genres.describe())\n",
    "print(len(movie_df.genres.value_counts(ascending=False)))\n",
    "most_common, num_most_common = Counter(movie_df.genres).most_common(1)[0]\n",
    "print(most_common, num_most_common)\n",
    "movie_df.genres.value_counts(ascending=False).nlargest()"
   ]
  },
  {
   "cell_type": "markdown",
   "metadata": {},
   "source": [
    "**ID**"
   ]
  },
  {
   "cell_type": "code",
   "execution_count": 16,
   "metadata": {},
   "outputs": [
    {
     "name": "stdout",
     "output_type": "stream",
     "text": [
      "4799\n",
      "count      4799.000000\n",
      "mean      56899.920192\n",
      "std       88236.500208\n",
      "min           5.000000\n",
      "25%        9012.500000\n",
      "50%       14623.000000\n",
      "75%       58461.500000\n",
      "max      447027.000000\n",
      "Name: id, dtype: float64\n"
     ]
    },
    {
     "data": {
      "text/plain": [
       "45054     1\n",
       "109417    1\n",
       "13187     1\n",
       "8849      1\n",
       "29339     1\n",
       "Name: id, dtype: int64"
      ]
     },
     "execution_count": 16,
     "metadata": {},
     "output_type": "execute_result"
    }
   ],
   "source": [
    "print(len(movie_df.id.value_counts(ascending=False)))\n",
    "print(movie_df.id.describe())\n",
    "movie_df.id.value_counts(ascending=False).nlargest()"
   ]
  },
  {
   "cell_type": "markdown",
   "metadata": {},
   "source": [
    "**Keywords**"
   ]
  },
  {
   "cell_type": "code",
   "execution_count": 20,
   "metadata": {},
   "outputs": [
    {
     "name": "stdout",
     "output_type": "stream",
     "text": [
      "4220\n",
      "count     4799\n",
      "unique    4220\n",
      "top         []\n",
      "freq       410\n",
      "Name: keywords, dtype: object\n",
      "[] 410\n"
     ]
    },
    {
     "data": {
      "text/plain": [
       "[]                                                  410\n",
       "[{\"id\": 10183, \"name\": \"independent film\"}]          55\n",
       "[{\"id\": 187056, \"name\": \"woman director\"}]           42\n",
       "[{\"id\": 179431, \"name\": \"duringcreditsstinger\"}]     15\n",
       "[{\"id\": 6075, \"name\": \"sport\"}]                      13\n",
       "Name: keywords, dtype: int64"
      ]
     },
     "execution_count": 20,
     "metadata": {},
     "output_type": "execute_result"
    }
   ],
   "source": [
    "print(len(movie_df.keywords.value_counts(ascending=False)))\n",
    "print(movie_df.keywords.describe())\n",
    "most_common, num_most_common = Counter(movie_df.keywords).most_common(1)[0]\n",
    "print(most_common, num_most_common)\n",
    "movie_df.keywords.value_counts(ascending=False).nlargest()"
   ]
  },
  {
   "cell_type": "markdown",
   "metadata": {},
   "source": [
    "*This column appears to have nested information that needs to be extracted, cleaned, then added back to the movie_df dataset. In addition, the most common keyword is '[ ]', which is empty and holds no value.*"
   ]
  },
  {
   "cell_type": "markdown",
   "metadata": {},
   "source": [
    "**Original Language**"
   ]
  },
  {
   "cell_type": "code",
   "execution_count": 18,
   "metadata": {},
   "outputs": [
    {
     "name": "stdout",
     "output_type": "stream",
     "text": [
      "37\n",
      "count     4799\n",
      "unique      37\n",
      "top         en\n",
      "freq      4503\n",
      "Name: original_language, dtype: object\n"
     ]
    },
    {
     "data": {
      "text/plain": [
       "en    4503\n",
       "fr      70\n",
       "es      32\n",
       "zh      27\n",
       "de      26\n",
       "Name: original_language, dtype: int64"
      ]
     },
     "execution_count": 18,
     "metadata": {},
     "output_type": "execute_result"
    }
   ],
   "source": [
    "print(len(movie_df.original_language.value_counts(ascending=False)))\n",
    "print(movie_df.original_language.describe())\n",
    "movie_df.original_language.value_counts(ascending=False).nlargest()"
   ]
  },
  {
   "cell_type": "markdown",
   "metadata": {},
   "source": [
    "**Overview**"
   ]
  },
  {
   "cell_type": "code",
   "execution_count": 18,
   "metadata": {},
   "outputs": [
    {
     "name": "stdout",
     "output_type": "stream",
     "text": [
      "4799\n",
      "count                                                  4799\n",
      "unique                                                 4799\n",
      "top       On a trip to the beach, a teenage girl named T...\n",
      "freq                                                      1\n",
      "Name: overview, dtype: object\n"
     ]
    },
    {
     "data": {
      "text/plain": [
       "'In the 22nd century, a paraplegic Marine is dispatched to the moon Pandora on a unique mission, but becomes torn between following orders and protecting an alien civilization.'"
      ]
     },
     "execution_count": 18,
     "metadata": {},
     "output_type": "execute_result"
    }
   ],
   "source": [
    "#movie_df.overview.value_counts(ascending=False)\n",
    "print(len(movie_df.overview.value_counts(ascending=False)))\n",
    "print(movie_df.overview.describe())\n",
    "movie_df.overview[0]"
   ]
  },
  {
   "cell_type": "markdown",
   "metadata": {},
   "source": [
    "**Production Companies**"
   ]
  },
  {
   "cell_type": "code",
   "execution_count": 19,
   "metadata": {},
   "outputs": [
    {
     "name": "stdout",
     "output_type": "stream",
     "text": [
      "3695\n",
      "count     4799\n",
      "unique    3695\n",
      "top         []\n",
      "freq       349\n",
      "Name: production_companies, dtype: object\n",
      "[] 349\n"
     ]
    },
    {
     "data": {
      "text/plain": [
       "[]                                            349\n",
       "[{\"name\": \"Paramount Pictures\", \"id\": 4}]      58\n",
       "[{\"name\": \"Universal Pictures\", \"id\": 33}]     45\n",
       "[{\"name\": \"New Line Cinema\", \"id\": 12}]        38\n",
       "[{\"name\": \"Columbia Pictures\", \"id\": 5}]       37\n",
       "Name: production_companies, dtype: int64"
      ]
     },
     "execution_count": 19,
     "metadata": {},
     "output_type": "execute_result"
    }
   ],
   "source": [
    "print(len(movie_df.production_companies.value_counts(ascending=False)))\n",
    "print(movie_df.production_companies.describe())\n",
    "most_common, num_most_common = Counter(movie_df.production_companies).most_common(1)[0]\n",
    "print(most_common, num_most_common)\n",
    "movie_df.production_companies.value_counts(ascending=False).nlargest()"
   ]
  },
  {
   "cell_type": "markdown",
   "metadata": {},
   "source": [
    "*This column appears to have nested information that needs to be extracted, cleaned, then added back to the movie_df dataset. In addition, the most common production_companies is '[ ]', which is empty and holds no value.*"
   ]
  },
  {
   "cell_type": "code",
   "execution_count": 30,
   "metadata": {},
   "outputs": [
    {
     "name": "stdout",
     "output_type": "stream",
     "text": [
      "349\n"
     ]
    },
    {
     "data": {
      "text/html": [
       "<div>\n",
       "<style scoped>\n",
       "    .dataframe tbody tr th:only-of-type {\n",
       "        vertical-align: middle;\n",
       "    }\n",
       "\n",
       "    .dataframe tbody tr th {\n",
       "        vertical-align: top;\n",
       "    }\n",
       "\n",
       "    .dataframe thead th {\n",
       "        text-align: right;\n",
       "    }\n",
       "</style>\n",
       "<table border=\"1\" class=\"dataframe\">\n",
       "  <thead>\n",
       "    <tr style=\"text-align: right;\">\n",
       "      <th></th>\n",
       "      <th>title</th>\n",
       "      <th>tagline</th>\n",
       "      <th>revenue</th>\n",
       "      <th>budget</th>\n",
       "      <th>genres</th>\n",
       "      <th>id</th>\n",
       "      <th>keywords</th>\n",
       "      <th>original_language</th>\n",
       "      <th>overview</th>\n",
       "      <th>production_companies</th>\n",
       "      <th>production_countries</th>\n",
       "      <th>runtime</th>\n",
       "      <th>spoken_languages</th>\n",
       "      <th>status</th>\n",
       "      <th>release_date_dt</th>\n",
       "    </tr>\n",
       "  </thead>\n",
       "  <tbody>\n",
       "    <tr>\n",
       "      <th>1011</th>\n",
       "      <td>The Tooth Fairy</td>\n",
       "      <td>NaN</td>\n",
       "      <td>0</td>\n",
       "      <td>0</td>\n",
       "      <td>[{\"id\": 27, \"name\": \"Horror\"}]</td>\n",
       "      <td>53953</td>\n",
       "      <td>[{\"id\": 10292, \"name\": \"gore\"}, {\"id\": 12339, ...</td>\n",
       "      <td>de</td>\n",
       "      <td>A woman and her daughter (Nicole Muñoz) encoun...</td>\n",
       "      <td>[]</td>\n",
       "      <td>[]</td>\n",
       "      <td>0.0</td>\n",
       "      <td>[{\"iso_639_1\": \"en\", \"name\": \"English\"}, {\"iso...</td>\n",
       "      <td>Released</td>\n",
       "      <td>2006-08-08</td>\n",
       "    </tr>\n",
       "    <tr>\n",
       "      <th>1360</th>\n",
       "      <td>There Be Dragons</td>\n",
       "      <td>NaN</td>\n",
       "      <td>0</td>\n",
       "      <td>0</td>\n",
       "      <td>[{\"id\": 18, \"name\": \"Drama\"}]</td>\n",
       "      <td>45054</td>\n",
       "      <td>[{\"id\": 5509, \"name\": \"spanish civil war\"}, {\"...</td>\n",
       "      <td>en</td>\n",
       "      <td>Arising out of the horror of the Spanish Civil...</td>\n",
       "      <td>[]</td>\n",
       "      <td>[]</td>\n",
       "      <td>112.0</td>\n",
       "      <td>[{\"iso_639_1\": \"en\", \"name\": \"English\"}]</td>\n",
       "      <td>Released</td>\n",
       "      <td>2011-03-25</td>\n",
       "    </tr>\n",
       "    <tr>\n",
       "      <th>1669</th>\n",
       "      <td>The Promise</td>\n",
       "      <td>the promise</td>\n",
       "      <td>0</td>\n",
       "      <td>0</td>\n",
       "      <td>[{\"id\": 14, \"name\": \"Fantasy\"}, {\"id\": 18, \"na...</td>\n",
       "      <td>2008</td>\n",
       "      <td>[{\"id\": 964, \"name\": \"servant\"}, {\"id\": 2280, ...</td>\n",
       "      <td>zh</td>\n",
       "      <td>An orphaned girl, driven by poverty at such a ...</td>\n",
       "      <td>[]</td>\n",
       "      <td>[{\"iso_3166_1\": \"CN\", \"name\": \"China\"}, {\"iso_...</td>\n",
       "      <td>98.0</td>\n",
       "      <td>[{\"iso_639_1\": \"en\", \"name\": \"English\"}, {\"iso...</td>\n",
       "      <td>Released</td>\n",
       "      <td>2005-12-15</td>\n",
       "    </tr>\n",
       "    <tr>\n",
       "      <th>1754</th>\n",
       "      <td>The Sisterhood of the Traveling Pants 2</td>\n",
       "      <td>Some friends just fit together.</td>\n",
       "      <td>44352417</td>\n",
       "      <td>27000000</td>\n",
       "      <td>[{\"id\": 12, \"name\": \"Adventure\"}, {\"id\": 35, \"...</td>\n",
       "      <td>10188</td>\n",
       "      <td>[{\"id\": 5248, \"name\": \"female friendship\"}, {\"...</td>\n",
       "      <td>en</td>\n",
       "      <td>Four young women continue the journey toward a...</td>\n",
       "      <td>[]</td>\n",
       "      <td>[{\"iso_3166_1\": \"US\", \"name\": \"United States o...</td>\n",
       "      <td>117.0</td>\n",
       "      <td>[{\"iso_639_1\": \"en\", \"name\": \"English\"}]</td>\n",
       "      <td>Released</td>\n",
       "      <td>2008-08-06</td>\n",
       "    </tr>\n",
       "    <tr>\n",
       "      <th>1898</th>\n",
       "      <td>Unaccompanied Minors</td>\n",
       "      <td>No plane, no parents, no problem!</td>\n",
       "      <td>0</td>\n",
       "      <td>26000000</td>\n",
       "      <td>[{\"id\": 35, \"name\": \"Comedy\"}, {\"id\": 10751, \"...</td>\n",
       "      <td>18147</td>\n",
       "      <td>[{\"id\": 65, \"name\": \"holiday\"}]</td>\n",
       "      <td>en</td>\n",
       "      <td>Five disparate kids snowed in at the airport o...</td>\n",
       "      <td>[]</td>\n",
       "      <td>[]</td>\n",
       "      <td>90.0</td>\n",
       "      <td>[{\"iso_639_1\": \"en\", \"name\": \"English\"}]</td>\n",
       "      <td>Released</td>\n",
       "      <td>2006-12-08</td>\n",
       "    </tr>\n",
       "  </tbody>\n",
       "</table>\n",
       "</div>"
      ],
      "text/plain": [
       "                                        title  \\\n",
       "1011                          The Tooth Fairy   \n",
       "1360                         There Be Dragons   \n",
       "1669                              The Promise   \n",
       "1754  The Sisterhood of the Traveling Pants 2   \n",
       "1898                     Unaccompanied Minors   \n",
       "\n",
       "                                tagline   revenue    budget  \\\n",
       "1011                                NaN         0         0   \n",
       "1360                                NaN         0         0   \n",
       "1669                        the promise         0         0   \n",
       "1754    Some friends just fit together.  44352417  27000000   \n",
       "1898  No plane, no parents, no problem!         0  26000000   \n",
       "\n",
       "                                                 genres     id  \\\n",
       "1011                     [{\"id\": 27, \"name\": \"Horror\"}]  53953   \n",
       "1360                      [{\"id\": 18, \"name\": \"Drama\"}]  45054   \n",
       "1669  [{\"id\": 14, \"name\": \"Fantasy\"}, {\"id\": 18, \"na...   2008   \n",
       "1754  [{\"id\": 12, \"name\": \"Adventure\"}, {\"id\": 35, \"...  10188   \n",
       "1898  [{\"id\": 35, \"name\": \"Comedy\"}, {\"id\": 10751, \"...  18147   \n",
       "\n",
       "                                               keywords original_language  \\\n",
       "1011  [{\"id\": 10292, \"name\": \"gore\"}, {\"id\": 12339, ...                de   \n",
       "1360  [{\"id\": 5509, \"name\": \"spanish civil war\"}, {\"...                en   \n",
       "1669  [{\"id\": 964, \"name\": \"servant\"}, {\"id\": 2280, ...                zh   \n",
       "1754  [{\"id\": 5248, \"name\": \"female friendship\"}, {\"...                en   \n",
       "1898                    [{\"id\": 65, \"name\": \"holiday\"}]                en   \n",
       "\n",
       "                                               overview production_companies  \\\n",
       "1011  A woman and her daughter (Nicole Muñoz) encoun...                   []   \n",
       "1360  Arising out of the horror of the Spanish Civil...                   []   \n",
       "1669  An orphaned girl, driven by poverty at such a ...                   []   \n",
       "1754  Four young women continue the journey toward a...                   []   \n",
       "1898  Five disparate kids snowed in at the airport o...                   []   \n",
       "\n",
       "                                   production_countries  runtime  \\\n",
       "1011                                                 []      0.0   \n",
       "1360                                                 []    112.0   \n",
       "1669  [{\"iso_3166_1\": \"CN\", \"name\": \"China\"}, {\"iso_...     98.0   \n",
       "1754  [{\"iso_3166_1\": \"US\", \"name\": \"United States o...    117.0   \n",
       "1898                                                 []     90.0   \n",
       "\n",
       "                                       spoken_languages    status  \\\n",
       "1011  [{\"iso_639_1\": \"en\", \"name\": \"English\"}, {\"iso...  Released   \n",
       "1360           [{\"iso_639_1\": \"en\", \"name\": \"English\"}]  Released   \n",
       "1669  [{\"iso_639_1\": \"en\", \"name\": \"English\"}, {\"iso...  Released   \n",
       "1754           [{\"iso_639_1\": \"en\", \"name\": \"English\"}]  Released   \n",
       "1898           [{\"iso_639_1\": \"en\", \"name\": \"English\"}]  Released   \n",
       "\n",
       "     release_date_dt  \n",
       "1011      2006-08-08  \n",
       "1360      2011-03-25  \n",
       "1669      2005-12-15  \n",
       "1754      2008-08-06  \n",
       "1898      2006-12-08  "
      ]
     },
     "execution_count": 30,
     "metadata": {},
     "output_type": "execute_result"
    }
   ],
   "source": [
    "no_company = movie_df[movie_df['production_companies'] == '[]']\n",
    "print(len(no_company))\n",
    "no_company.head()"
   ]
  },
  {
   "cell_type": "markdown",
   "metadata": {},
   "source": [
    "**Production Countries**"
   ]
  },
  {
   "cell_type": "code",
   "execution_count": 22,
   "metadata": {},
   "outputs": [
    {
     "name": "stdout",
     "output_type": "stream",
     "text": [
      "469\n",
      "count                                                  4799\n",
      "unique                                                  469\n",
      "top       [{\"iso_3166_1\": \"US\", \"name\": \"United States o...\n",
      "freq                                                   2977\n",
      "Name: production_countries, dtype: object\n",
      "[{\"iso_3166_1\": \"US\", \"name\": \"United States of America\"}] 2977\n"
     ]
    },
    {
     "data": {
      "text/plain": [
       "[{\"iso_3166_1\": \"US\", \"name\": \"United States of America\"}]                                                    2977\n",
       "[{\"iso_3166_1\": \"GB\", \"name\": \"United Kingdom\"}, {\"iso_3166_1\": \"US\", \"name\": \"United States of America\"}]     181\n",
       "[]                                                                                                             172\n",
       "[{\"iso_3166_1\": \"GB\", \"name\": \"United Kingdom\"}]                                                               130\n",
       "[{\"iso_3166_1\": \"DE\", \"name\": \"Germany\"}, {\"iso_3166_1\": \"US\", \"name\": \"United States of America\"}]            119\n",
       "Name: production_countries, dtype: int64"
      ]
     },
     "execution_count": 22,
     "metadata": {},
     "output_type": "execute_result"
    }
   ],
   "source": [
    "print(len(movie_df.production_countries.value_counts(ascending=False)))\n",
    "print(movie_df.production_countries.describe())\n",
    "most_common, num_most_common = Counter(movie_df.production_countries).most_common(1)[0]\n",
    "print(most_common, num_most_common)\n",
    "movie_df.production_countries.value_counts(ascending=False).nlargest()"
   ]
  },
  {
   "cell_type": "markdown",
   "metadata": {},
   "source": [
    "*This column appears to have nested information that needs to be extracted, cleaned, then added back to the movie_df dataset. In addition, the incidence of 'US' (on it's own) as the production country appears to be the most common, making up around 50% of the dataset (2977 out of 4799). In addition, there are 172 entries of '[]' that appear to hold no information.*"
   ]
  },
  {
   "cell_type": "markdown",
   "metadata": {},
   "source": [
    "**Runtime**"
   ]
  },
  {
   "cell_type": "code",
   "execution_count": 28,
   "metadata": {},
   "outputs": [
    {
     "name": "stdout",
     "output_type": "stream",
     "text": [
      "156\n",
      "count    4799.000000\n",
      "mean      106.903105\n",
      "std        22.561305\n",
      "min         0.000000\n",
      "25%        94.000000\n",
      "50%       103.000000\n",
      "75%       118.000000\n",
      "max       338.000000\n",
      "Name: runtime, dtype: float64\n"
     ]
    },
    {
     "data": {
      "text/plain": [
       "90.0     163\n",
       "100.0    149\n",
       "98.0     140\n",
       "97.0     133\n",
       "95.0     123\n",
       "Name: runtime, dtype: int64"
      ]
     },
     "execution_count": 28,
     "metadata": {},
     "output_type": "execute_result"
    }
   ],
   "source": [
    "print(len(movie_df.runtime.value_counts(ascending=False)))\n",
    "print(movie_df.runtime.describe())\n",
    "movie_df.runtime.value_counts(ascending=False).nlargest()"
   ]
  },
  {
   "cell_type": "markdown",
   "metadata": {},
   "source": [
    "*There appear to be movies with a '0.0' runtime, which doesn't make sense, since this would imply that the movie was 0 minutes long.*"
   ]
  },
  {
   "cell_type": "code",
   "execution_count": 29,
   "metadata": {},
   "outputs": [
    {
     "name": "stdout",
     "output_type": "stream",
     "text": [
      "34\n"
     ]
    },
    {
     "data": {
      "text/html": [
       "<div>\n",
       "<style scoped>\n",
       "    .dataframe tbody tr th:only-of-type {\n",
       "        vertical-align: middle;\n",
       "    }\n",
       "\n",
       "    .dataframe tbody tr th {\n",
       "        vertical-align: top;\n",
       "    }\n",
       "\n",
       "    .dataframe thead th {\n",
       "        text-align: right;\n",
       "    }\n",
       "</style>\n",
       "<table border=\"1\" class=\"dataframe\">\n",
       "  <thead>\n",
       "    <tr style=\"text-align: right;\">\n",
       "      <th></th>\n",
       "      <th>title</th>\n",
       "      <th>tagline</th>\n",
       "      <th>revenue</th>\n",
       "      <th>budget</th>\n",
       "      <th>genres</th>\n",
       "      <th>id</th>\n",
       "      <th>keywords</th>\n",
       "      <th>original_language</th>\n",
       "      <th>overview</th>\n",
       "      <th>production_companies</th>\n",
       "      <th>production_countries</th>\n",
       "      <th>runtime</th>\n",
       "      <th>spoken_languages</th>\n",
       "      <th>status</th>\n",
       "      <th>release_date_dt</th>\n",
       "    </tr>\n",
       "  </thead>\n",
       "  <tbody>\n",
       "    <tr>\n",
       "      <th>1011</th>\n",
       "      <td>The Tooth Fairy</td>\n",
       "      <td>NaN</td>\n",
       "      <td>0</td>\n",
       "      <td>0</td>\n",
       "      <td>[{\"id\": 27, \"name\": \"Horror\"}]</td>\n",
       "      <td>53953</td>\n",
       "      <td>[{\"id\": 10292, \"name\": \"gore\"}, {\"id\": 12339, ...</td>\n",
       "      <td>de</td>\n",
       "      <td>A woman and her daughter (Nicole Muñoz) encoun...</td>\n",
       "      <td>[]</td>\n",
       "      <td>[]</td>\n",
       "      <td>0.0</td>\n",
       "      <td>[{\"iso_639_1\": \"en\", \"name\": \"English\"}, {\"iso...</td>\n",
       "      <td>Released</td>\n",
       "      <td>2006-08-08</td>\n",
       "    </tr>\n",
       "    <tr>\n",
       "      <th>3112</th>\n",
       "      <td>Blood Done Sign My Name</td>\n",
       "      <td>No one changes the world alone.</td>\n",
       "      <td>0</td>\n",
       "      <td>0</td>\n",
       "      <td>[{\"id\": 18, \"name\": \"Drama\"}, {\"id\": 80, \"name...</td>\n",
       "      <td>41894</td>\n",
       "      <td>[]</td>\n",
       "      <td>en</td>\n",
       "      <td>A drama based on the true story in which a bla...</td>\n",
       "      <td>[]</td>\n",
       "      <td>[]</td>\n",
       "      <td>0.0</td>\n",
       "      <td>[]</td>\n",
       "      <td>Released</td>\n",
       "      <td>2010-02-01</td>\n",
       "    </tr>\n",
       "    <tr>\n",
       "      <th>3669</th>\n",
       "      <td>Should've Been Romeo</td>\n",
       "      <td>Even Shakespeare didn't see this one coming.</td>\n",
       "      <td>0</td>\n",
       "      <td>0</td>\n",
       "      <td>[{\"id\": 35, \"name\": \"Comedy\"}, {\"id\": 18, \"nam...</td>\n",
       "      <td>113406</td>\n",
       "      <td>[]</td>\n",
       "      <td>en</td>\n",
       "      <td>A self-centered, middle-aged pitchman for a po...</td>\n",
       "      <td>[{\"name\": \"Phillybrook Films\", \"id\": 65147}]</td>\n",
       "      <td>[{\"iso_3166_1\": \"US\", \"name\": \"United States o...</td>\n",
       "      <td>0.0</td>\n",
       "      <td>[{\"iso_639_1\": \"en\", \"name\": \"English\"}]</td>\n",
       "      <td>Released</td>\n",
       "      <td>2012-04-28</td>\n",
       "    </tr>\n",
       "    <tr>\n",
       "      <th>3809</th>\n",
       "      <td>How to Fall in Love</td>\n",
       "      <td>NaN</td>\n",
       "      <td>0</td>\n",
       "      <td>4000000</td>\n",
       "      <td>[{\"id\": 35, \"name\": \"Comedy\"}, {\"id\": 10749, \"...</td>\n",
       "      <td>158150</td>\n",
       "      <td>[]</td>\n",
       "      <td>en</td>\n",
       "      <td>An accountant, who never quite grew out of his...</td>\n",
       "      <td>[{\"name\": \"Annuit Coeptis Entertainment Inc.\",...</td>\n",
       "      <td>[{\"iso_3166_1\": \"US\", \"name\": \"United States o...</td>\n",
       "      <td>0.0</td>\n",
       "      <td>[{\"iso_639_1\": \"en\", \"name\": \"English\"}]</td>\n",
       "      <td>Released</td>\n",
       "      <td>2012-07-21</td>\n",
       "    </tr>\n",
       "    <tr>\n",
       "      <th>3953</th>\n",
       "      <td>Fort McCoy</td>\n",
       "      <td>NaN</td>\n",
       "      <td>0</td>\n",
       "      <td>0</td>\n",
       "      <td>[{\"id\": 10752, \"name\": \"War\"}, {\"id\": 18, \"nam...</td>\n",
       "      <td>281230</td>\n",
       "      <td>[{\"id\": 187056, \"name\": \"woman director\"}]</td>\n",
       "      <td>en</td>\n",
       "      <td>Unable to serve in World War II because of a h...</td>\n",
       "      <td>[]</td>\n",
       "      <td>[]</td>\n",
       "      <td>0.0</td>\n",
       "      <td>[]</td>\n",
       "      <td>Released</td>\n",
       "      <td>2014-01-01</td>\n",
       "    </tr>\n",
       "  </tbody>\n",
       "</table>\n",
       "</div>"
      ],
      "text/plain": [
       "                        title                                       tagline  \\\n",
       "1011          The Tooth Fairy                                           NaN   \n",
       "3112  Blood Done Sign My Name               No one changes the world alone.   \n",
       "3669     Should've Been Romeo  Even Shakespeare didn't see this one coming.   \n",
       "3809      How to Fall in Love                                           NaN   \n",
       "3953               Fort McCoy                                           NaN   \n",
       "\n",
       "      revenue   budget                                             genres  \\\n",
       "1011        0        0                     [{\"id\": 27, \"name\": \"Horror\"}]   \n",
       "3112        0        0  [{\"id\": 18, \"name\": \"Drama\"}, {\"id\": 80, \"name...   \n",
       "3669        0        0  [{\"id\": 35, \"name\": \"Comedy\"}, {\"id\": 18, \"nam...   \n",
       "3809        0  4000000  [{\"id\": 35, \"name\": \"Comedy\"}, {\"id\": 10749, \"...   \n",
       "3953        0        0  [{\"id\": 10752, \"name\": \"War\"}, {\"id\": 18, \"nam...   \n",
       "\n",
       "          id                                           keywords  \\\n",
       "1011   53953  [{\"id\": 10292, \"name\": \"gore\"}, {\"id\": 12339, ...   \n",
       "3112   41894                                                 []   \n",
       "3669  113406                                                 []   \n",
       "3809  158150                                                 []   \n",
       "3953  281230         [{\"id\": 187056, \"name\": \"woman director\"}]   \n",
       "\n",
       "     original_language                                           overview  \\\n",
       "1011                de  A woman and her daughter (Nicole Muñoz) encoun...   \n",
       "3112                en  A drama based on the true story in which a bla...   \n",
       "3669                en  A self-centered, middle-aged pitchman for a po...   \n",
       "3809                en  An accountant, who never quite grew out of his...   \n",
       "3953                en  Unable to serve in World War II because of a h...   \n",
       "\n",
       "                                   production_companies  \\\n",
       "1011                                                 []   \n",
       "3112                                                 []   \n",
       "3669       [{\"name\": \"Phillybrook Films\", \"id\": 65147}]   \n",
       "3809  [{\"name\": \"Annuit Coeptis Entertainment Inc.\",...   \n",
       "3953                                                 []   \n",
       "\n",
       "                                   production_countries  runtime  \\\n",
       "1011                                                 []      0.0   \n",
       "3112                                                 []      0.0   \n",
       "3669  [{\"iso_3166_1\": \"US\", \"name\": \"United States o...      0.0   \n",
       "3809  [{\"iso_3166_1\": \"US\", \"name\": \"United States o...      0.0   \n",
       "3953                                                 []      0.0   \n",
       "\n",
       "                                       spoken_languages    status  \\\n",
       "1011  [{\"iso_639_1\": \"en\", \"name\": \"English\"}, {\"iso...  Released   \n",
       "3112                                                 []  Released   \n",
       "3669           [{\"iso_639_1\": \"en\", \"name\": \"English\"}]  Released   \n",
       "3809           [{\"iso_639_1\": \"en\", \"name\": \"English\"}]  Released   \n",
       "3953                                                 []  Released   \n",
       "\n",
       "     release_date_dt  \n",
       "1011      2006-08-08  \n",
       "3112      2010-02-01  \n",
       "3669      2012-04-28  \n",
       "3809      2012-07-21  \n",
       "3953      2014-01-01  "
      ]
     },
     "execution_count": 29,
     "metadata": {},
     "output_type": "execute_result"
    }
   ],
   "source": [
    "no_runtime = movie_df[movie_df['runtime'] == 0.0]\n",
    "print(len(no_runtime))\n",
    "no_runtime.head()"
   ]
  },
  {
   "cell_type": "markdown",
   "metadata": {},
   "source": [
    "**Spoken Languages**"
   ]
  },
  {
   "cell_type": "code",
   "execution_count": 31,
   "metadata": {},
   "outputs": [
    {
     "name": "stdout",
     "output_type": "stream",
     "text": [
      "544\n",
      "count                                         4799\n",
      "unique                                         544\n",
      "top       [{\"iso_639_1\": \"en\", \"name\": \"English\"}]\n",
      "freq                                          3170\n",
      "Name: spoken_languages, dtype: object\n",
      "[{\"iso_639_1\": \"en\", \"name\": \"English\"}] 3170\n"
     ]
    },
    {
     "data": {
      "text/plain": [
       "[{\"iso_639_1\": \"en\", \"name\": \"English\"}]                                                  3170\n",
       "[{\"iso_639_1\": \"en\", \"name\": \"English\"}, {\"iso_639_1\": \"es\", \"name\": \"Espa\\u00f1ol\"}]      127\n",
       "[{\"iso_639_1\": \"en\", \"name\": \"English\"}, {\"iso_639_1\": \"fr\", \"name\": \"Fran\\u00e7ais\"}]     114\n",
       "[]                                                                                          84\n",
       "[{\"iso_639_1\": \"es\", \"name\": \"Espa\\u00f1ol\"}, {\"iso_639_1\": \"en\", \"name\": \"English\"}]       54\n",
       "Name: spoken_languages, dtype: int64"
      ]
     },
     "execution_count": 31,
     "metadata": {},
     "output_type": "execute_result"
    }
   ],
   "source": [
    "print(len(movie_df.spoken_languages.value_counts(ascending=False)))\n",
    "print(movie_df.spoken_languages.describe())\n",
    "most_common, num_most_common = Counter(movie_df.spoken_languages).most_common(1)[0]\n",
    "print(most_common, num_most_common)\n",
    "movie_df.spoken_languages.value_counts(ascending=False).nlargest()"
   ]
  },
  {
   "cell_type": "markdown",
   "metadata": {},
   "source": [
    "*This column appears to have nested information that needs to be extracted, cleaned, then added back to the movie_df dataset. In addition, the incidence of 'English' as the spoken language appears to be the most common, making up around 75% of the dataset (3170 out of 4799). There are also 84 entries with a '[]'.*"
   ]
  },
  {
   "cell_type": "code",
   "execution_count": 33,
   "metadata": {},
   "outputs": [
    {
     "name": "stdout",
     "output_type": "stream",
     "text": [
      "84\n"
     ]
    },
    {
     "data": {
      "text/html": [
       "<div>\n",
       "<style scoped>\n",
       "    .dataframe tbody tr th:only-of-type {\n",
       "        vertical-align: middle;\n",
       "    }\n",
       "\n",
       "    .dataframe tbody tr th {\n",
       "        vertical-align: top;\n",
       "    }\n",
       "\n",
       "    .dataframe thead th {\n",
       "        text-align: right;\n",
       "    }\n",
       "</style>\n",
       "<table border=\"1\" class=\"dataframe\">\n",
       "  <thead>\n",
       "    <tr style=\"text-align: right;\">\n",
       "      <th></th>\n",
       "      <th>title</th>\n",
       "      <th>tagline</th>\n",
       "      <th>revenue</th>\n",
       "      <th>budget</th>\n",
       "      <th>genres</th>\n",
       "      <th>id</th>\n",
       "      <th>keywords</th>\n",
       "      <th>original_language</th>\n",
       "      <th>overview</th>\n",
       "      <th>production_companies</th>\n",
       "      <th>production_countries</th>\n",
       "      <th>runtime</th>\n",
       "      <th>spoken_languages</th>\n",
       "      <th>status</th>\n",
       "      <th>release_date_dt</th>\n",
       "    </tr>\n",
       "  </thead>\n",
       "  <tbody>\n",
       "    <tr>\n",
       "      <th>492</th>\n",
       "      <td>Top Cat Begins</td>\n",
       "      <td>NaN</td>\n",
       "      <td>0</td>\n",
       "      <td>8000000</td>\n",
       "      <td>[{\"id\": 35, \"name\": \"Comedy\"}, {\"id\": 16, \"nam...</td>\n",
       "      <td>293644</td>\n",
       "      <td>[{\"id\": 209714, \"name\": \"3d\"}]</td>\n",
       "      <td>es</td>\n",
       "      <td>Top Cat has arrived to charm his way into your...</td>\n",
       "      <td>[{\"name\": \"Anima Estudios\", \"id\": 9965}, {\"nam...</td>\n",
       "      <td>[{\"iso_3166_1\": \"IN\", \"name\": \"India\"}, {\"iso_...</td>\n",
       "      <td>89.0</td>\n",
       "      <td>[]</td>\n",
       "      <td>Released</td>\n",
       "      <td>2015-10-30</td>\n",
       "    </tr>\n",
       "    <tr>\n",
       "      <th>1169</th>\n",
       "      <td>42</td>\n",
       "      <td>The True Story Of An American Legend</td>\n",
       "      <td>95020213</td>\n",
       "      <td>40000000</td>\n",
       "      <td>[{\"id\": 18, \"name\": \"Drama\"}]</td>\n",
       "      <td>109410</td>\n",
       "      <td>[{\"id\": 1480, \"name\": \"baseball\"}, {\"id\": 5565...</td>\n",
       "      <td>en</td>\n",
       "      <td>The powerful story of Jackie Robinson, the leg...</td>\n",
       "      <td>[{\"name\": \"Warner Bros.\", \"id\": 6194}]</td>\n",
       "      <td>[{\"iso_3166_1\": \"US\", \"name\": \"United States o...</td>\n",
       "      <td>128.0</td>\n",
       "      <td>[]</td>\n",
       "      <td>Released</td>\n",
       "      <td>2013-04-12</td>\n",
       "    </tr>\n",
       "    <tr>\n",
       "      <th>2590</th>\n",
       "      <td>VeggieTales: The Pirates Who Don't Do Anything</td>\n",
       "      <td>NaN</td>\n",
       "      <td>0</td>\n",
       "      <td>0</td>\n",
       "      <td>[{\"id\": 12, \"name\": \"Adventure\"}, {\"id\": 16, \"...</td>\n",
       "      <td>15511</td>\n",
       "      <td>[{\"id\": 380, \"name\": \"brother brother relation...</td>\n",
       "      <td>en</td>\n",
       "      <td>Set Sail For Adventure! A boatload of beloved ...</td>\n",
       "      <td>[{\"name\": \"Starz Animation\", \"id\": 2885}, {\"na...</td>\n",
       "      <td>[{\"iso_3166_1\": \"US\", \"name\": \"United States o...</td>\n",
       "      <td>85.0</td>\n",
       "      <td>[]</td>\n",
       "      <td>Released</td>\n",
       "      <td>2008-01-11</td>\n",
       "    </tr>\n",
       "    <tr>\n",
       "      <th>2614</th>\n",
       "      <td>The Love Letter</td>\n",
       "      <td>A letter from the past would change their futu...</td>\n",
       "      <td>0</td>\n",
       "      <td>0</td>\n",
       "      <td>[{\"id\": 35, \"name\": \"Comedy\"}, {\"id\": 18, \"nam...</td>\n",
       "      <td>57943</td>\n",
       "      <td>[]</td>\n",
       "      <td>en</td>\n",
       "      <td>20th century computer games designer Scott exc...</td>\n",
       "      <td>[]</td>\n",
       "      <td>[]</td>\n",
       "      <td>98.0</td>\n",
       "      <td>[]</td>\n",
       "      <td>Released</td>\n",
       "      <td>1998-02-01</td>\n",
       "    </tr>\n",
       "    <tr>\n",
       "      <th>2631</th>\n",
       "      <td>The Company</td>\n",
       "      <td>NaN</td>\n",
       "      <td>0</td>\n",
       "      <td>0</td>\n",
       "      <td>[{\"id\": 18, \"name\": \"Drama\"}]</td>\n",
       "      <td>112430</td>\n",
       "      <td>[{\"id\": 11162, \"name\": \"miniseries\"}]</td>\n",
       "      <td>en</td>\n",
       "      <td>Real-life figures from the Cold War era mix wi...</td>\n",
       "      <td>[]</td>\n",
       "      <td>[]</td>\n",
       "      <td>276.0</td>\n",
       "      <td>[]</td>\n",
       "      <td>Released</td>\n",
       "      <td>2007-08-05</td>\n",
       "    </tr>\n",
       "  </tbody>\n",
       "</table>\n",
       "</div>"
      ],
      "text/plain": [
       "                                               title  \\\n",
       "492                                   Top Cat Begins   \n",
       "1169                                              42   \n",
       "2590  VeggieTales: The Pirates Who Don't Do Anything   \n",
       "2614                                 The Love Letter   \n",
       "2631                                     The Company   \n",
       "\n",
       "                                                tagline   revenue    budget  \\\n",
       "492                                                 NaN         0   8000000   \n",
       "1169               The True Story Of An American Legend  95020213  40000000   \n",
       "2590                                                NaN         0         0   \n",
       "2614  A letter from the past would change their futu...         0         0   \n",
       "2631                                                NaN         0         0   \n",
       "\n",
       "                                                 genres      id  \\\n",
       "492   [{\"id\": 35, \"name\": \"Comedy\"}, {\"id\": 16, \"nam...  293644   \n",
       "1169                      [{\"id\": 18, \"name\": \"Drama\"}]  109410   \n",
       "2590  [{\"id\": 12, \"name\": \"Adventure\"}, {\"id\": 16, \"...   15511   \n",
       "2614  [{\"id\": 35, \"name\": \"Comedy\"}, {\"id\": 18, \"nam...   57943   \n",
       "2631                      [{\"id\": 18, \"name\": \"Drama\"}]  112430   \n",
       "\n",
       "                                               keywords original_language  \\\n",
       "492                      [{\"id\": 209714, \"name\": \"3d\"}]                es   \n",
       "1169  [{\"id\": 1480, \"name\": \"baseball\"}, {\"id\": 5565...                en   \n",
       "2590  [{\"id\": 380, \"name\": \"brother brother relation...                en   \n",
       "2614                                                 []                en   \n",
       "2631              [{\"id\": 11162, \"name\": \"miniseries\"}]                en   \n",
       "\n",
       "                                               overview  \\\n",
       "492   Top Cat has arrived to charm his way into your...   \n",
       "1169  The powerful story of Jackie Robinson, the leg...   \n",
       "2590  Set Sail For Adventure! A boatload of beloved ...   \n",
       "2614  20th century computer games designer Scott exc...   \n",
       "2631  Real-life figures from the Cold War era mix wi...   \n",
       "\n",
       "                                   production_companies  \\\n",
       "492   [{\"name\": \"Anima Estudios\", \"id\": 9965}, {\"nam...   \n",
       "1169             [{\"name\": \"Warner Bros.\", \"id\": 6194}]   \n",
       "2590  [{\"name\": \"Starz Animation\", \"id\": 2885}, {\"na...   \n",
       "2614                                                 []   \n",
       "2631                                                 []   \n",
       "\n",
       "                                   production_countries  runtime  \\\n",
       "492   [{\"iso_3166_1\": \"IN\", \"name\": \"India\"}, {\"iso_...     89.0   \n",
       "1169  [{\"iso_3166_1\": \"US\", \"name\": \"United States o...    128.0   \n",
       "2590  [{\"iso_3166_1\": \"US\", \"name\": \"United States o...     85.0   \n",
       "2614                                                 []     98.0   \n",
       "2631                                                 []    276.0   \n",
       "\n",
       "     spoken_languages    status release_date_dt  \n",
       "492                []  Released      2015-10-30  \n",
       "1169               []  Released      2013-04-12  \n",
       "2590               []  Released      2008-01-11  \n",
       "2614               []  Released      1998-02-01  \n",
       "2631               []  Released      2007-08-05  "
      ]
     },
     "execution_count": 33,
     "metadata": {},
     "output_type": "execute_result"
    }
   ],
   "source": [
    "no_language = movie_df[movie_df['spoken_languages'] == '[]']\n",
    "print(len(no_language))\n",
    "no_language.head()"
   ]
  },
  {
   "cell_type": "markdown",
   "metadata": {},
   "source": [
    "**Status**"
   ]
  },
  {
   "cell_type": "code",
   "execution_count": 24,
   "metadata": {},
   "outputs": [
    {
     "name": "stdout",
     "output_type": "stream",
     "text": [
      "3\n",
      "count         4799\n",
      "unique           3\n",
      "top       Released\n",
      "freq          4791\n",
      "Name: status, dtype: object\n",
      "Released           4791\n",
      "Rumored               5\n",
      "Post Production       3\n",
      "Name: status, dtype: int64\n"
     ]
    },
    {
     "data": {
      "text/plain": [
       "('Released', 4791)"
      ]
     },
     "execution_count": 24,
     "metadata": {},
     "output_type": "execute_result"
    }
   ],
   "source": [
    "print(len(movie_df.status.value_counts(ascending=False)))\n",
    "print(movie_df.status.describe())\n",
    "print(movie_df.status.value_counts(ascending=False))\n",
    "most_common, num_most_common = Counter(movie_df.status).most_common(1)[0]\n",
    "most_common, num_most_common"
   ]
  },
  {
   "cell_type": "markdown",
   "metadata": {},
   "source": [
    "**Release Date**"
   ]
  },
  {
   "cell_type": "code",
   "execution_count": 32,
   "metadata": {},
   "outputs": [
    {
     "name": "stdout",
     "output_type": "stream",
     "text": [
      "3278\n",
      "count                    4799\n",
      "unique                   3278\n",
      "top       2006-01-01 00:00:00\n",
      "freq                       10\n",
      "first     1969-01-01 00:00:00\n",
      "last      2068-12-21 00:00:00\n",
      "Name: release_date_dt, dtype: object\n",
      "2006-01-01 00:00:00 10 2012-05-03 00:00:00 1\n"
     ]
    },
    {
     "data": {
      "text/plain": [
       "2006-01-01    10\n",
       "2002-01-01     8\n",
       "2014-12-25     7\n",
       "2013-07-18     7\n",
       "1999-10-22     7\n",
       "Name: release_date_dt, dtype: int64"
      ]
     },
     "execution_count": 32,
     "metadata": {},
     "output_type": "execute_result"
    }
   ],
   "source": [
    "print(len(movie_df.release_date_dt.value_counts(ascending=False)))\n",
    "print(movie_df.release_date_dt.describe()) \n",
    "most_common, num_most_common = Counter(movie_df.release_date_dt).most_common(1)[0]\n",
    "least_common, num_least_common = Counter(movie_df.release_date_dt).most_common()[-1]\n",
    "print(most_common, num_most_common, least_common, num_least_common)\n",
    "movie_df.release_date_dt.value_counts(ascending=False).nlargest()"
   ]
  },
  {
   "cell_type": "markdown",
   "metadata": {},
   "source": [
    "*The column dates range from the years 1969 to the future year of 2068. This is interesting, since movie revenue cannot be recorded for future dates, but it can be predicted (as is the goal of this analysis). Before moving forward, the movies with dates greater than 2020 should be dropped.*"
   ]
  },
  {
   "cell_type": "code",
   "execution_count": 26,
   "metadata": {},
   "outputs": [
    {
     "name": "stdout",
     "output_type": "stream",
     "text": [
      "3147\n",
      "count                    4667\n",
      "unique                   3147\n",
      "top       2006-01-01 00:00:00\n",
      "freq                       10\n",
      "first     1969-01-01 00:00:00\n",
      "last      2017-02-03 00:00:00\n",
      "Name: release_date_dt, dtype: object\n"
     ]
    }
   ],
   "source": [
    "movie_df = movie_df.loc[movie_df.release_date_dt < '2020-01-01 00:00:00']\n",
    "print(len(movie_df.release_date_dt.value_counts(ascending=False)))\n",
    "print(movie_df.release_date_dt.describe())"
   ]
  },
  {
   "cell_type": "markdown",
   "metadata": {},
   "source": [
    "This looks much better. It appears data collection for this dataset must have stopped in early 2017, since no movies released in 2018 and 2019 are present in the dataset despite the maximum year elligibility being 2019."
   ]
  },
  {
   "cell_type": "markdown",
   "metadata": {},
   "source": [
    "### Drop row with the following 6 conditions:\n",
    "    1. movie.revenue == 0\n",
    "    2. movie.budget == 0\n",
    "    3. movie.keyword == []\n",
    "    4. movie.production_companies == []\n",
    "    5. movie_df.runtime == 0.0\n",
    "    6. movie.tagline.isnull() == True\n",
    "If all 6 of these conditions are met, then the resulting impact on a model built to predict a movie's revenue will be weakened; thus, these rows should be removed entirely."
   ]
  },
  {
   "cell_type": "code",
   "execution_count": 27,
   "metadata": {},
   "outputs": [
    {
     "data": {
      "text/plain": [
       "4651"
      ]
     },
     "execution_count": 27,
     "metadata": {},
     "output_type": "execute_result"
    }
   ],
   "source": [
    "# Drop rows with sub-optimal conditions\n",
    "movie_df = movie_df.drop(\n",
    "     movie_df[(movie_df.revenue == 0) & \n",
    "              (movie_df.budget == 0) & \n",
    "              (movie_df.keywords == \"[]\") & \n",
    "              (movie_df.production_companies == \"[]\") &\n",
    "              (movie_df.runtime == 0.0) &\n",
    "             (movie_df.tagline.isnull() == True)].index)\n",
    "\n",
    "# Drop rows where \n",
    "len(movie_df)"
   ]
  },
  {
   "cell_type": "code",
   "execution_count": 28,
   "metadata": {},
   "outputs": [
    {
     "name": "stdout",
     "output_type": "stream",
     "text": [
      "Stored 'movie_df' (DataFrame)\n"
     ]
    }
   ],
   "source": [
    "# Store dataframe globally\n",
    "%store movie_df"
   ]
  }
 ],
 "metadata": {
  "kernelspec": {
   "display_name": "Python 3",
   "language": "python",
   "name": "python3"
  },
  "language_info": {
   "codemirror_mode": {
    "name": "ipython",
    "version": 3
   },
   "file_extension": ".py",
   "mimetype": "text/x-python",
   "name": "python",
   "nbconvert_exporter": "python",
   "pygments_lexer": "ipython3",
   "version": "3.7.3"
  }
 },
 "nbformat": 4,
 "nbformat_minor": 2
}
